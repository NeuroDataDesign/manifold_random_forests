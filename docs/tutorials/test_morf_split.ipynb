{
 "cells": [
  {
   "cell_type": "markdown",
   "metadata": {},
   "source": [
    "# MORF API Working Demo\n",
    "\n",
    "Here, we want to validate visually that MORF API works as intended. First, we show the 2D contiguous convolutional splitter."
   ]
  },
  {
   "cell_type": "code",
   "execution_count": 1,
   "metadata": {},
   "outputs": [
    {
     "data": {
      "application/javascript": [
       "\n",
       "            setTimeout(function() {\n",
       "                var nbb_cell_id = 1;\n",
       "                var nbb_unformatted_code = \"%load_ext nb_black\\n%load_ext lab_black\\n%load_ext autoreload\\n%autoreload 2\";\n",
       "                var nbb_formatted_code = \"%load_ext nb_black\\n%load_ext lab_black\\n%load_ext autoreload\\n%autoreload 2\";\n",
       "                var nbb_cells = Jupyter.notebook.get_cells();\n",
       "                for (var i = 0; i < nbb_cells.length; ++i) {\n",
       "                    if (nbb_cells[i].input_prompt_number == nbb_cell_id) {\n",
       "                        if (nbb_cells[i].get_text() == nbb_unformatted_code) {\n",
       "                             nbb_cells[i].set_text(nbb_formatted_code);\n",
       "                        }\n",
       "                        break;\n",
       "                    }\n",
       "                }\n",
       "            }, 500);\n",
       "            "
      ],
      "text/plain": [
       "<IPython.core.display.Javascript object>"
      ]
     },
     "metadata": {},
     "output_type": "display_data"
    }
   ],
   "source": [
    "%load_ext nb_black\n",
    "%load_ext lab_black\n",
    "%load_ext autoreload\n",
    "%autoreload 2"
   ]
  },
  {
   "cell_type": "code",
   "execution_count": 2,
   "metadata": {},
   "outputs": [
    {
     "data": {
      "application/javascript": [
       "\n",
       "            setTimeout(function() {\n",
       "                var nbb_cell_id = 2;\n",
       "                var nbb_unformatted_code = \"import sys\\n\\nsys.path.append(\\\"../../\\\")\";\n",
       "                var nbb_formatted_code = \"import sys\\n\\nsys.path.append(\\\"../../\\\")\";\n",
       "                var nbb_cells = Jupyter.notebook.get_cells();\n",
       "                for (var i = 0; i < nbb_cells.length; ++i) {\n",
       "                    if (nbb_cells[i].input_prompt_number == nbb_cell_id) {\n",
       "                        if (nbb_cells[i].get_text() == nbb_unformatted_code) {\n",
       "                             nbb_cells[i].set_text(nbb_formatted_code);\n",
       "                        }\n",
       "                        break;\n",
       "                    }\n",
       "                }\n",
       "            }, 500);\n",
       "            "
      ],
      "text/plain": [
       "<IPython.core.display.Javascript object>"
      ]
     },
     "metadata": {},
     "output_type": "display_data"
    }
   ],
   "source": [
    "import sys\n",
    "\n",
    "sys.path.append(\"../../\")"
   ]
  },
  {
   "cell_type": "code",
   "execution_count": 3,
   "metadata": {},
   "outputs": [
    {
     "data": {
      "application/javascript": [
       "\n",
       "            setTimeout(function() {\n",
       "                var nbb_cell_id = 3;\n",
       "                var nbb_unformatted_code = \"import numpy as np\\nfrom oblique_forests.tree.morf_split import Conv2DSplitter\\n\\nimport matplotlib as mpl\\nimport matplotlib.pyplot as plt\\nimport seaborn as sns\";\n",
       "                var nbb_formatted_code = \"import numpy as np\\nfrom oblique_forests.tree.morf_split import Conv2DSplitter\\n\\nimport matplotlib as mpl\\nimport matplotlib.pyplot as plt\\nimport seaborn as sns\";\n",
       "                var nbb_cells = Jupyter.notebook.get_cells();\n",
       "                for (var i = 0; i < nbb_cells.length; ++i) {\n",
       "                    if (nbb_cells[i].input_prompt_number == nbb_cell_id) {\n",
       "                        if (nbb_cells[i].get_text() == nbb_unformatted_code) {\n",
       "                             nbb_cells[i].set_text(nbb_formatted_code);\n",
       "                        }\n",
       "                        break;\n",
       "                    }\n",
       "                }\n",
       "            }, 500);\n",
       "            "
      ],
      "text/plain": [
       "<IPython.core.display.Javascript object>"
      ]
     },
     "metadata": {},
     "output_type": "display_data"
    }
   ],
   "source": [
    "import numpy as np\n",
    "from oblique_forests.tree.morf_split import Conv2DSplitter\n",
    "\n",
    "import matplotlib as mpl\n",
    "import matplotlib.pyplot as plt\n",
    "import seaborn as sns"
   ]
  },
  {
   "cell_type": "markdown",
   "metadata": {},
   "source": [
    "# Splitters: Convolutional 2D Patches (Contiguous and Discontiguous)"
   ]
  },
  {
   "cell_type": "markdown",
   "metadata": {},
   "source": [
    "## Contiguous 2D Convolutional Patch"
   ]
  },
  {
   "cell_type": "code",
   "execution_count": 4,
   "metadata": {},
   "outputs": [
    {
     "data": {
      "application/javascript": [
       "\n",
       "            setTimeout(function() {\n",
       "                var nbb_cell_id = 4;\n",
       "                var nbb_unformatted_code = \"random_state = 123456\\n\\nn = 50\\nheight = 5\\nd = 4\\nX = np.ones((n, height * d))\\ny = np.ones((n,))\\ny[:25] = 0\";\n",
       "                var nbb_formatted_code = \"random_state = 123456\\n\\nn = 50\\nheight = 5\\nd = 4\\nX = np.ones((n, height * d))\\ny = np.ones((n,))\\ny[:25] = 0\";\n",
       "                var nbb_cells = Jupyter.notebook.get_cells();\n",
       "                for (var i = 0; i < nbb_cells.length; ++i) {\n",
       "                    if (nbb_cells[i].input_prompt_number == nbb_cell_id) {\n",
       "                        if (nbb_cells[i].get_text() == nbb_unformatted_code) {\n",
       "                             nbb_cells[i].set_text(nbb_formatted_code);\n",
       "                        }\n",
       "                        break;\n",
       "                    }\n",
       "                }\n",
       "            }, 500);\n",
       "            "
      ],
      "text/plain": [
       "<IPython.core.display.Javascript object>"
      ]
     },
     "metadata": {},
     "output_type": "display_data"
    }
   ],
   "source": [
    "random_state = 123456\n",
    "\n",
    "n = 50\n",
    "height = 5\n",
    "d = 4\n",
    "X = np.ones((n, height * d))\n",
    "y = np.ones((n,))\n",
    "y[:25] = 0"
   ]
  },
  {
   "cell_type": "code",
   "execution_count": 6,
   "metadata": {},
   "outputs": [
    {
     "data": {
      "application/javascript": [
       "\n",
       "            setTimeout(function() {\n",
       "                var nbb_cell_id = 6;\n",
       "                var nbb_unformatted_code = \"splitter = Conv2DSplitter(\\n    X,\\n    y,\\n    max_features=1,\\n    feature_combinations=1.5,\\n    random_state=random_state,\\n    image_height=height,\\n    image_width=d,\\n    patch_height_max=5,\\n    patch_height_min=1,\\n    patch_width_min=1,\\n    patch_width_max=2,\\n)\";\n",
       "                var nbb_formatted_code = \"splitter = Conv2DSplitter(\\n    X,\\n    y,\\n    max_features=1,\\n    feature_combinations=1.5,\\n    random_state=random_state,\\n    image_height=height,\\n    image_width=d,\\n    patch_height_max=5,\\n    patch_height_min=1,\\n    patch_width_min=1,\\n    patch_width_max=2,\\n)\";\n",
       "                var nbb_cells = Jupyter.notebook.get_cells();\n",
       "                for (var i = 0; i < nbb_cells.length; ++i) {\n",
       "                    if (nbb_cells[i].input_prompt_number == nbb_cell_id) {\n",
       "                        if (nbb_cells[i].get_text() == nbb_unformatted_code) {\n",
       "                             nbb_cells[i].set_text(nbb_formatted_code);\n",
       "                        }\n",
       "                        break;\n",
       "                    }\n",
       "                }\n",
       "            }, 500);\n",
       "            "
      ],
      "text/plain": [
       "<IPython.core.display.Javascript object>"
      ]
     },
     "metadata": {},
     "output_type": "display_data"
    }
   ],
   "source": [
    "splitter = Conv2DSplitter(\n",
    "    X,\n",
    "    y,\n",
    "    max_features=1,\n",
    "    feature_combinations=1.5,\n",
    "    random_state=random_state,\n",
    "    image_height=height,\n",
    "    image_width=d,\n",
    "    patch_height_max=5,\n",
    "    patch_height_min=1,\n",
    "    patch_width_min=1,\n",
    "    patch_width_max=2,\n",
    ")"
   ]
  },
  {
   "cell_type": "code",
   "execution_count": 8,
   "metadata": {
    "tags": []
   },
   "outputs": [
    {
     "name": "stdout",
     "output_type": "stream",
     "text": [
      "779 µs ± 41 µs per loop (mean ± std. dev. of 7 runs, 1000 loops each)\n"
     ]
    },
    {
     "data": {
      "application/javascript": [
       "\n",
       "            setTimeout(function() {\n",
       "                var nbb_cell_id = 8;\n",
       "                var nbb_unformatted_code = \"%%timeit\\nproj_X, proj_mat = splitter.sample_proj_mat(sample_inds=np.arange(n))\";\n",
       "                var nbb_formatted_code = \"%%timeit\\nproj_X, proj_mat = splitter.sample_proj_mat(sample_inds=np.arange(n))\";\n",
       "                var nbb_cells = Jupyter.notebook.get_cells();\n",
       "                for (var i = 0; i < nbb_cells.length; ++i) {\n",
       "                    if (nbb_cells[i].input_prompt_number == nbb_cell_id) {\n",
       "                        if (nbb_cells[i].get_text() == nbb_unformatted_code) {\n",
       "                             nbb_cells[i].set_text(nbb_formatted_code);\n",
       "                        }\n",
       "                        break;\n",
       "                    }\n",
       "                }\n",
       "            }, 500);\n",
       "            "
      ],
      "text/plain": [
       "<IPython.core.display.Javascript object>"
      ]
     },
     "metadata": {},
     "output_type": "display_data"
    }
   ],
   "source": [
    "%%timeit\n",
    "proj_X, proj_mat = splitter.sample_proj_mat(sample_inds=np.arange(n))"
   ]
  },
  {
   "cell_type": "code",
   "execution_count": 9,
   "metadata": {},
   "outputs": [
    {
     "data": {
      "application/javascript": [
       "\n",
       "            setTimeout(function() {\n",
       "                var nbb_cell_id = 9;\n",
       "                var nbb_unformatted_code = \"proj_X, proj_mat = splitter.sample_proj_mat(sample_inds=np.arange(n))\";\n",
       "                var nbb_formatted_code = \"proj_X, proj_mat = splitter.sample_proj_mat(sample_inds=np.arange(n))\";\n",
       "                var nbb_cells = Jupyter.notebook.get_cells();\n",
       "                for (var i = 0; i < nbb_cells.length; ++i) {\n",
       "                    if (nbb_cells[i].input_prompt_number == nbb_cell_id) {\n",
       "                        if (nbb_cells[i].get_text() == nbb_unformatted_code) {\n",
       "                             nbb_cells[i].set_text(nbb_formatted_code);\n",
       "                        }\n",
       "                        break;\n",
       "                    }\n",
       "                }\n",
       "            }, 500);\n",
       "            "
      ],
      "text/plain": [
       "<IPython.core.display.Javascript object>"
      ]
     },
     "metadata": {},
     "output_type": "display_data"
    }
   ],
   "source": [
    "proj_X, proj_mat = splitter.sample_proj_mat(sample_inds=np.arange(n))"
   ]
  },
  {
   "cell_type": "code",
   "execution_count": 10,
   "metadata": {},
   "outputs": [
    {
     "name": "stdout",
     "output_type": "stream",
     "text": [
      "(50, 20) (20, 20) (50, 20)\n"
     ]
    },
    {
     "data": {
      "application/javascript": [
       "\n",
       "            setTimeout(function() {\n",
       "                var nbb_cell_id = 10;\n",
       "                var nbb_unformatted_code = \"print(proj_X.shape, proj_mat.shape, X.shape)\";\n",
       "                var nbb_formatted_code = \"print(proj_X.shape, proj_mat.shape, X.shape)\";\n",
       "                var nbb_cells = Jupyter.notebook.get_cells();\n",
       "                for (var i = 0; i < nbb_cells.length; ++i) {\n",
       "                    if (nbb_cells[i].input_prompt_number == nbb_cell_id) {\n",
       "                        if (nbb_cells[i].get_text() == nbb_unformatted_code) {\n",
       "                             nbb_cells[i].set_text(nbb_formatted_code);\n",
       "                        }\n",
       "                        break;\n",
       "                    }\n",
       "                }\n",
       "            }, 500);\n",
       "            "
      ],
      "text/plain": [
       "<IPython.core.display.Javascript object>"
      ]
     },
     "metadata": {},
     "output_type": "display_data"
    }
   ],
   "source": [
    "print(proj_X.shape, proj_mat.shape, X.shape)"
   ]
  },
  {
   "cell_type": "code",
   "execution_count": 11,
   "metadata": {},
   "outputs": [
    {
     "data": {
      "text/plain": [
       "[Text(0.5, 1.0, 'Sampled Projection Matrix - 2D Convolutional MORF'),\n",
       " Text(0.5, 28.5, 'Sampled Patches'),\n",
       " Text(28.5, 0.5, 'Vectorized Projections')]"
      ]
     },
     "execution_count": 11,
     "metadata": {},
     "output_type": "execute_result"
    },
    {
     "data": {
      "image/png": "[encoded data removed]",
      "text/plain": [
       "<Figure size 504x504 with 2 Axes>"
      ]
     },
     "metadata": {
      "needs_background": "light"
     },
     "output_type": "display_data"
    },
    {
     "data": {
      "application/javascript": [
       "\n",
       "            setTimeout(function() {\n",
       "                var nbb_cell_id = 11;\n",
       "                var nbb_unformatted_code = \"sns.set_context('talk', \\n#                 font_scale=1.5\\n               )\\nfig, ax = plt.subplots(figsize=(7,7))\\nsns.heatmap(proj_mat, annot=True, ax=ax)\\nax.set(\\n    title='Sampled Projection Matrix - 2D Convolutional MORF',\\n    xlabel='Sampled Patches',\\n    ylabel='Vectorized Projections'\\n)\";\n",
       "                var nbb_formatted_code = \"sns.set_context(\\n    \\\"talk\\\",\\n    #                 font_scale=1.5\\n)\\nfig, ax = plt.subplots(figsize=(7, 7))\\nsns.heatmap(proj_mat, annot=True, ax=ax)\\nax.set(\\n    title=\\\"Sampled Projection Matrix - 2D Convolutional MORF\\\",\\n    xlabel=\\\"Sampled Patches\\\",\\n    ylabel=\\\"Vectorized Projections\\\",\\n)\";\n",
       "                var nbb_cells = Jupyter.notebook.get_cells();\n",
       "                for (var i = 0; i < nbb_cells.length; ++i) {\n",
       "                    if (nbb_cells[i].input_prompt_number == nbb_cell_id) {\n",
       "                        if (nbb_cells[i].get_text() == nbb_unformatted_code) {\n",
       "                             nbb_cells[i].set_text(nbb_formatted_code);\n",
       "                        }\n",
       "                        break;\n",
       "                    }\n",
       "                }\n",
       "            }, 500);\n",
       "            "
      ],
      "text/plain": [
       "<IPython.core.display.Javascript object>"
      ]
     },
     "metadata": {},
     "output_type": "display_data"
    }
   ],
   "source": [
    "sns.set_context(\n",
    "    \"talk\",\n",
    "    #                 font_scale=1.5\n",
    ")\n",
    "fig, ax = plt.subplots(figsize=(7, 7))\n",
    "sns.heatmap(proj_mat, annot=True, ax=ax)\n",
    "ax.set(\n",
    "    title=\"Sampled Projection Matrix - 2D Convolutional MORF\",\n",
    "    xlabel=\"Sampled Patches\",\n",
    "    ylabel=\"Vectorized Projections\",\n",
    ")"
   ]
  },
  {
   "cell_type": "code",
   "execution_count": 44,
   "metadata": {},
   "outputs": [
    {
     "name": "stderr",
     "output_type": "stream",
     "text": [
      "<ipython-input-44-92ced63bb350>:32: UserWarning: This figure includes Axes that are not compatible with tight_layout, so results might be incorrect.\n",
      "  fig.tight_layout(rect=[0, 0, .9, 1])\n"
     ]
    },
    {
     "data": {
      "image/png": "[encoded data removed]",
      "text/plain": [
       "<Figure size 504x504 with 21 Axes>"
      ]
     },
     "metadata": {
      "needs_background": "light"
     },
     "output_type": "display_data"
    },
    {
     "data": {
      "application/javascript": [
       "\n",
       "            setTimeout(function() {\n",
       "                var nbb_cell_id = 44;\n",
       "                var nbb_unformatted_code = \"empty_mat = np.zeros((height, d))\\n\\nfig, axs = plt.subplots(3, np.ceil(proj_mat.shape[1] / 3).astype(int), \\n                        sharex=True, sharey=True,\\n                        figsize=(7, 7))\\naxs = axs.flat\\ncbar_ax = fig.add_axes([.91, .3, .03, .4])\\n\\nfor idx in range(proj_mat.shape[1]):\\n    proj_vec = proj_mat[:, idx]\\n    \\n    vec_idx = np.argwhere(proj_vec == 1)\\n    patch_idx = np.unravel_index(vec_idx, shape=(height, d))\\n    mat = empty_mat.copy()\\n    mat[patch_idx] = 1.0\\n    \\n    sns.heatmap(mat, ax=axs[idx], \\n                xticklabels=np.arange(d),\\n                yticklabels=np.arange(height),\\n                cbar=idx == 0,\\n                square=True,\\n                vmin=0, vmax=1,\\n                cbar_ax=None if idx else cbar_ax)\\n\\n# remove unused axes\\nidx += 1\\nwhile idx < len(axs):\\n    fig.delaxes(axs[idx])\\n    idx += 1\\n    \\nfig.suptitle('MORF 2D Convolutional Patches Sampled')\\nfig.tight_layout(rect=[0, 0, .9, 1])\";\n",
       "                var nbb_formatted_code = \"empty_mat = np.zeros((height, d))\\n\\nfig, axs = plt.subplots(\\n    3,\\n    np.ceil(proj_mat.shape[1] / 3).astype(int),\\n    sharex=True,\\n    sharey=True,\\n    figsize=(7, 7),\\n)\\naxs = axs.flat\\ncbar_ax = fig.add_axes([0.91, 0.3, 0.03, 0.4])\\n\\nfor idx in range(proj_mat.shape[1]):\\n    proj_vec = proj_mat[:, idx]\\n\\n    vec_idx = np.argwhere(proj_vec == 1)\\n    patch_idx = np.unravel_index(vec_idx, shape=(height, d))\\n    mat = empty_mat.copy()\\n    mat[patch_idx] = 1.0\\n\\n    sns.heatmap(\\n        mat,\\n        ax=axs[idx],\\n        xticklabels=np.arange(d),\\n        yticklabels=np.arange(height),\\n        cbar=idx == 0,\\n        square=True,\\n        vmin=0,\\n        vmax=1,\\n        cbar_ax=None if idx else cbar_ax,\\n    )\\n\\n# remove unused axes\\nidx += 1\\nwhile idx < len(axs):\\n    fig.delaxes(axs[idx])\\n    idx += 1\\n\\nfig.suptitle(\\\"MORF 2D Convolutional Patches Sampled\\\")\\nfig.tight_layout(rect=[0, 0, 0.9, 1])\";\n",
       "                var nbb_cells = Jupyter.notebook.get_cells();\n",
       "                for (var i = 0; i < nbb_cells.length; ++i) {\n",
       "                    if (nbb_cells[i].input_prompt_number == nbb_cell_id) {\n",
       "                        if (nbb_cells[i].get_text() == nbb_unformatted_code) {\n",
       "                             nbb_cells[i].set_text(nbb_formatted_code);\n",
       "                        }\n",
       "                        break;\n",
       "                    }\n",
       "                }\n",
       "            }, 500);\n",
       "            "
      ],
      "text/plain": [
       "<IPython.core.display.Javascript object>"
      ]
     },
     "metadata": {},
     "output_type": "display_data"
    }
   ],
   "source": [
    "empty_mat = np.zeros((height, d))\n",
    "\n",
    "fig, axs = plt.subplots(3, np.ceil(proj_mat.shape[1] / 3).astype(int), \n",
    "                        sharex=True, sharey=True,\n",
    "                        figsize=(7, 7))\n",
    "axs = axs.flat\n",
    "cbar_ax = fig.add_axes([.91, .3, .03, .4])\n",
    "\n",
    "for idx in range(proj_mat.shape[1]):\n",
    "    proj_vec = proj_mat[:, idx]\n",
    "    \n",
    "    vec_idx = np.argwhere(proj_vec == 1)\n",
    "    patch_idx = np.unravel_index(vec_idx, shape=(height, d))\n",
    "    mat = empty_mat.copy()\n",
    "    mat[patch_idx] = 1.0\n",
    "    \n",
    "    sns.heatmap(mat, ax=axs[idx], \n",
    "                xticklabels=np.arange(d),\n",
    "                yticklabels=np.arange(height),\n",
    "                cbar=idx == 0,\n",
    "                square=True,\n",
    "                vmin=0, vmax=1,\n",
    "                cbar_ax=None if idx else cbar_ax)\n",
    "\n",
    "# remove unused axes\n",
    "idx += 1\n",
    "while idx < len(axs):\n",
    "    fig.delaxes(axs[idx])\n",
    "    idx += 1\n",
    "    \n",
    "fig.suptitle('MORF 2D Convolutional Patches Sampled')\n",
    "fig.tight_layout(rect=[0, 0, .9, 1])"
   ]
  },
  {
   "cell_type": "markdown",
   "metadata": {},
   "source": [
    "## Discontiguous Sample"
   ]
  },
  {
   "cell_type": "code",
   "execution_count": 60,
   "metadata": {},
   "outputs": [
    {
     "data": {
      "application/javascript": [
       "\n",
       "            setTimeout(function() {\n",
       "                var nbb_cell_id = 60;\n",
       "                var nbb_unformatted_code = \"random_state = 123456\\n\\nn = 50\\nheight = 5\\nd = 4\\nX = np.ones((n, height * d))\\ny = np.ones((n,))\\ny[:25] = 0\";\n",
       "                var nbb_formatted_code = \"random_state = 123456\\n\\nn = 50\\nheight = 5\\nd = 4\\nX = np.ones((n, height * d))\\ny = np.ones((n,))\\ny[:25] = 0\";\n",
       "                var nbb_cells = Jupyter.notebook.get_cells();\n",
       "                for (var i = 0; i < nbb_cells.length; ++i) {\n",
       "                    if (nbb_cells[i].input_prompt_number == nbb_cell_id) {\n",
       "                        if (nbb_cells[i].get_text() == nbb_unformatted_code) {\n",
       "                             nbb_cells[i].set_text(nbb_formatted_code);\n",
       "                        }\n",
       "                        break;\n",
       "                    }\n",
       "                }\n",
       "            }, 500);\n",
       "            "
      ],
      "text/plain": [
       "<IPython.core.display.Javascript object>"
      ]
     },
     "metadata": {},
     "output_type": "display_data"
    }
   ],
   "source": [
    "random_state = 123456\n",
    "\n",
    "n = 50\n",
    "height = 5\n",
    "d = 4\n",
    "X = np.ones((n, height * d))\n",
    "y = np.ones((n,))\n",
    "y[:25] = 0"
   ]
  },
  {
   "cell_type": "code",
   "execution_count": 71,
   "metadata": {},
   "outputs": [
    {
     "data": {
      "application/javascript": [
       "\n",
       "            setTimeout(function() {\n",
       "                var nbb_cell_id = 71;\n",
       "                var nbb_unformatted_code = \"splitter = Conv2DSplitter(\\n    X,\\n    y,\\n    max_features=1,\\n    feature_combinations=1.5,\\n    random_state=random_state,\\n    image_height=height,\\n    image_width=d,\\n    patch_height_max=5,\\n    patch_height_min=1,\\n    patch_width_min=1,\\n    patch_width_max=2,\\n    discontiguous_height=True,\\n    discontiguous_width=False,\\n)\";\n",
       "                var nbb_formatted_code = \"splitter = Conv2DSplitter(\\n    X,\\n    y,\\n    max_features=1,\\n    feature_combinations=1.5,\\n    random_state=random_state,\\n    image_height=height,\\n    image_width=d,\\n    patch_height_max=5,\\n    patch_height_min=1,\\n    patch_width_min=1,\\n    patch_width_max=2,\\n    discontiguous_height=True,\\n    discontiguous_width=False,\\n)\";\n",
       "                var nbb_cells = Jupyter.notebook.get_cells();\n",
       "                for (var i = 0; i < nbb_cells.length; ++i) {\n",
       "                    if (nbb_cells[i].input_prompt_number == nbb_cell_id) {\n",
       "                        if (nbb_cells[i].get_text() == nbb_unformatted_code) {\n",
       "                             nbb_cells[i].set_text(nbb_formatted_code);\n",
       "                        }\n",
       "                        break;\n",
       "                    }\n",
       "                }\n",
       "            }, 500);\n",
       "            "
      ],
      "text/plain": [
       "<IPython.core.display.Javascript object>"
      ]
     },
     "metadata": {},
     "output_type": "display_data"
    }
   ],
   "source": [
    "splitter = Conv2DSplitter(\n",
    "    X,\n",
    "    y,\n",
    "    max_features=1,\n",
    "    feature_combinations=1.5,\n",
    "    random_state=random_state,\n",
    "    image_height=height,\n",
    "    image_width=d,\n",
    "    patch_height_max=5,\n",
    "    patch_height_min=1,\n",
    "    patch_width_min=1,\n",
    "    patch_width_max=2,\n",
    "    discontiguous_height=True,\n",
    "    discontiguous_width=False,\n",
    ")"
   ]
  },
  {
   "cell_type": "code",
   "execution_count": 72,
   "metadata": {},
   "outputs": [
    {
     "data": {
      "application/javascript": [
       "\n",
       "            setTimeout(function() {\n",
       "                var nbb_cell_id = 72;\n",
       "                var nbb_unformatted_code = \"proj_X, proj_mat = splitter.sample_proj_mat(sample_inds=np.arange(n))\";\n",
       "                var nbb_formatted_code = \"proj_X, proj_mat = splitter.sample_proj_mat(sample_inds=np.arange(n))\";\n",
       "                var nbb_cells = Jupyter.notebook.get_cells();\n",
       "                for (var i = 0; i < nbb_cells.length; ++i) {\n",
       "                    if (nbb_cells[i].input_prompt_number == nbb_cell_id) {\n",
       "                        if (nbb_cells[i].get_text() == nbb_unformatted_code) {\n",
       "                             nbb_cells[i].set_text(nbb_formatted_code);\n",
       "                        }\n",
       "                        break;\n",
       "                    }\n",
       "                }\n",
       "            }, 500);\n",
       "            "
      ],
      "text/plain": [
       "<IPython.core.display.Javascript object>"
      ]
     },
     "metadata": {},
     "output_type": "display_data"
    }
   ],
   "source": [
    "proj_X, proj_mat = splitter.sample_proj_mat(sample_inds=np.arange(n))"
   ]
  },
  {
   "cell_type": "code",
   "execution_count": 73,
   "metadata": {},
   "outputs": [
    {
     "name": "stdout",
     "output_type": "stream",
     "text": [
      "(50, 20) (20, 20) (50, 20)\n"
     ]
    },
    {
     "data": {
      "application/javascript": [
       "\n",
       "            setTimeout(function() {\n",
       "                var nbb_cell_id = 73;\n",
       "                var nbb_unformatted_code = \"print(proj_X.shape, proj_mat.shape, X.shape)\";\n",
       "                var nbb_formatted_code = \"print(proj_X.shape, proj_mat.shape, X.shape)\";\n",
       "                var nbb_cells = Jupyter.notebook.get_cells();\n",
       "                for (var i = 0; i < nbb_cells.length; ++i) {\n",
       "                    if (nbb_cells[i].input_prompt_number == nbb_cell_id) {\n",
       "                        if (nbb_cells[i].get_text() == nbb_unformatted_code) {\n",
       "                             nbb_cells[i].set_text(nbb_formatted_code);\n",
       "                        }\n",
       "                        break;\n",
       "                    }\n",
       "                }\n",
       "            }, 500);\n",
       "            "
      ],
      "text/plain": [
       "<IPython.core.display.Javascript object>"
      ]
     },
     "metadata": {},
     "output_type": "display_data"
    }
   ],
   "source": [
    "print(proj_X.shape, proj_mat.shape, X.shape)"
   ]
  },
  {
   "cell_type": "code",
   "execution_count": 74,
   "metadata": {},
   "outputs": [
    {
     "data": {
      "text/plain": [
       "[Text(0.5, 1.0, 'Sampled Projection Matrix - 2D Convolutional MORF'),\n",
       " Text(0.5, 28.5, 'Sampled Patches'),\n",
       " Text(28.5, 0.5, 'Vectorized Projections')]"
      ]
     },
     "execution_count": 74,
     "metadata": {},
     "output_type": "execute_result"
    },
    {
     "data": {
      "image/png": "[encoded data removed]",
      "text/plain": [
       "<Figure size 504x504 with 2 Axes>"
      ]
     },
     "metadata": {
      "needs_background": "light"
     },
     "output_type": "display_data"
    },
    {
     "data": {
      "application/javascript": [
       "\n",
       "            setTimeout(function() {\n",
       "                var nbb_cell_id = 74;\n",
       "                var nbb_unformatted_code = \"sns.set_context('talk', \\n#                 font_scale=1.5\\n               )\\nfig, ax = plt.subplots(figsize=(7,7))\\nsns.heatmap(proj_mat, annot=True, ax=ax)\\nax.set(\\n    title='Sampled Projection Matrix - 2D Convolutional MORF',\\n    xlabel='Sampled Patches',\\n    ylabel='Vectorized Projections'\\n)\";\n",
       "                var nbb_formatted_code = \"sns.set_context(\\n    \\\"talk\\\",\\n    #                 font_scale=1.5\\n)\\nfig, ax = plt.subplots(figsize=(7, 7))\\nsns.heatmap(proj_mat, annot=True, ax=ax)\\nax.set(\\n    title=\\\"Sampled Projection Matrix - 2D Convolutional MORF\\\",\\n    xlabel=\\\"Sampled Patches\\\",\\n    ylabel=\\\"Vectorized Projections\\\",\\n)\";\n",
       "                var nbb_cells = Jupyter.notebook.get_cells();\n",
       "                for (var i = 0; i < nbb_cells.length; ++i) {\n",
       "                    if (nbb_cells[i].input_prompt_number == nbb_cell_id) {\n",
       "                        if (nbb_cells[i].get_text() == nbb_unformatted_code) {\n",
       "                             nbb_cells[i].set_text(nbb_formatted_code);\n",
       "                        }\n",
       "                        break;\n",
       "                    }\n",
       "                }\n",
       "            }, 500);\n",
       "            "
      ],
      "text/plain": [
       "<IPython.core.display.Javascript object>"
      ]
     },
     "metadata": {},
     "output_type": "display_data"
    }
   ],
   "source": [
    "sns.set_context(\n",
    "    \"talk\",\n",
    "    #                 font_scale=1.5\n",
    ")\n",
    "fig, ax = plt.subplots(figsize=(7, 7))\n",
    "sns.heatmap(proj_mat, annot=True, ax=ax)\n",
    "ax.set(\n",
    "    title=\"Sampled Projection Matrix - 2D Convolutional MORF\",\n",
    "    xlabel=\"Sampled Patches\",\n",
    "    ylabel=\"Vectorized Projections\",\n",
    ")"
   ]
  },
  {
   "cell_type": "code",
   "execution_count": 75,
   "metadata": {},
   "outputs": [
    {
     "name": "stderr",
     "output_type": "stream",
     "text": [
      "<ipython-input-75-a343e31dc33b>:33: UserWarning: This figure includes Axes that are not compatible with tight_layout, so results might be incorrect.\n",
      "  fig.tight_layout(rect=[0, 0, .9, 1])\n"
     ]
    },
    {
     "data": {
      "image/png": "[encoded data removed]",
      "text/plain": [
       "<Figure size 504x504 with 21 Axes>"
      ]
     },
     "metadata": {
      "needs_background": "light"
     },
     "output_type": "display_data"
    },
    {
     "data": {
      "application/javascript": [
       "\n",
       "            setTimeout(function() {\n",
       "                var nbb_cell_id = 75;\n",
       "                var nbb_unformatted_code = \"empty_mat = np.zeros((height, d))\\n\\nsns.set_context('paper')\\nfig, axs = plt.subplots(3, np.ceil(proj_mat.shape[1] / 3).astype(int), \\n                        sharex=True, sharey=True,\\n                        figsize=(7, 7))\\naxs = axs.flat\\ncbar_ax = fig.add_axes([.91, .3, .03, .4])\\n\\nfor idx in range(proj_mat.shape[1]):\\n    proj_vec = proj_mat[:, idx]\\n    \\n    vec_idx = np.argwhere(proj_vec == 1)\\n    patch_idx = np.unravel_index(vec_idx, shape=(height, d))\\n    mat = empty_mat.copy()\\n    mat[patch_idx] = 1.0\\n    \\n    sns.heatmap(mat, ax=axs[idx], \\n                xticklabels=np.arange(d),\\n                yticklabels=np.arange(height),\\n                cbar=idx == 0,\\n                square=True,\\n                vmin=0, vmax=1,\\n                cbar_ax=None if idx else cbar_ax)\\n\\n# remove unused axes\\nidx += 1\\nwhile idx < len(axs):\\n    fig.delaxes(axs[idx])\\n    idx += 1\\n    \\nfig.suptitle('MORF 2D Discontiguous Convolutional Patches Sampled')\\nfig.tight_layout(rect=[0, 0, .9, 1])\";\n",
       "                var nbb_formatted_code = \"empty_mat = np.zeros((height, d))\\n\\nsns.set_context(\\\"paper\\\")\\nfig, axs = plt.subplots(\\n    3,\\n    np.ceil(proj_mat.shape[1] / 3).astype(int),\\n    sharex=True,\\n    sharey=True,\\n    figsize=(7, 7),\\n)\\naxs = axs.flat\\ncbar_ax = fig.add_axes([0.91, 0.3, 0.03, 0.4])\\n\\nfor idx in range(proj_mat.shape[1]):\\n    proj_vec = proj_mat[:, idx]\\n\\n    vec_idx = np.argwhere(proj_vec == 1)\\n    patch_idx = np.unravel_index(vec_idx, shape=(height, d))\\n    mat = empty_mat.copy()\\n    mat[patch_idx] = 1.0\\n\\n    sns.heatmap(\\n        mat,\\n        ax=axs[idx],\\n        xticklabels=np.arange(d),\\n        yticklabels=np.arange(height),\\n        cbar=idx == 0,\\n        square=True,\\n        vmin=0,\\n        vmax=1,\\n        cbar_ax=None if idx else cbar_ax,\\n    )\\n\\n# remove unused axes\\nidx += 1\\nwhile idx < len(axs):\\n    fig.delaxes(axs[idx])\\n    idx += 1\\n\\nfig.suptitle(\\\"MORF 2D Discontiguous Convolutional Patches Sampled\\\")\\nfig.tight_layout(rect=[0, 0, 0.9, 1])\";\n",
       "                var nbb_cells = Jupyter.notebook.get_cells();\n",
       "                for (var i = 0; i < nbb_cells.length; ++i) {\n",
       "                    if (nbb_cells[i].input_prompt_number == nbb_cell_id) {\n",
       "                        if (nbb_cells[i].get_text() == nbb_unformatted_code) {\n",
       "                             nbb_cells[i].set_text(nbb_formatted_code);\n",
       "                        }\n",
       "                        break;\n",
       "                    }\n",
       "                }\n",
       "            }, 500);\n",
       "            "
      ],
      "text/plain": [
       "<IPython.core.display.Javascript object>"
      ]
     },
     "metadata": {},
     "output_type": "display_data"
    }
   ],
   "source": [
    "empty_mat = np.zeros((height, d))\n",
    "\n",
    "sns.set_context(\"paper\")\n",
    "fig, axs = plt.subplots(\n",
    "    3,\n",
    "    np.ceil(proj_mat.shape[1] / 3).astype(int),\n",
    "    sharex=True,\n",
    "    sharey=True,\n",
    "    figsize=(7, 7),\n",
    ")\n",
    "axs = axs.flat\n",
    "cbar_ax = fig.add_axes([0.91, 0.3, 0.03, 0.4])\n",
    "\n",
    "for idx in range(proj_mat.shape[1]):\n",
    "    proj_vec = proj_mat[:, idx]\n",
    "\n",
    "    vec_idx = np.argwhere(proj_vec == 1)\n",
    "    patch_idx = np.unravel_index(vec_idx, shape=(height, d))\n",
    "    mat = empty_mat.copy()\n",
    "    mat[patch_idx] = 1.0\n",
    "\n",
    "    sns.heatmap(\n",
    "        mat,\n",
    "        ax=axs[idx],\n",
    "        xticklabels=np.arange(d),\n",
    "        yticklabels=np.arange(height),\n",
    "        cbar=idx == 0,\n",
    "        square=True,\n",
    "        vmin=0,\n",
    "        vmax=1,\n",
    "        cbar_ax=None if idx else cbar_ax,\n",
    "    )\n",
    "\n",
    "# remove unused axes\n",
    "idx += 1\n",
    "while idx < len(axs):\n",
    "    fig.delaxes(axs[idx])\n",
    "    idx += 1\n",
    "\n",
    "fig.suptitle(\"MORF 2D Discontiguous Convolutional Patches Sampled\")\n",
    "fig.tight_layout(rect=[0, 0, 0.9, 1])"
   ]
  },
  {
   "cell_type": "markdown",
   "metadata": {},
   "source": [
    "## Profiling the Projection Matrix Sampling\n",
    "\n",
    "Let's increase the sample size and the height and the width of samples.\n",
    "\n",
    "Note that if ``height`` or ``d`` is increased too much... then it's pretty slow currently."
   ]
  },
  {
   "cell_type": "code",
   "execution_count": 44,
   "metadata": {},
   "outputs": [
    {
     "data": {
      "application/javascript": [
       "\n",
       "            setTimeout(function() {\n",
       "                var nbb_cell_id = 44;\n",
       "                var nbb_unformatted_code = \"n = 1000\\nheight = 100\\nd = 80\\nX = np.ones((n, height * d))\\ny = np.ones((n,))\\ny[:25] = 0\";\n",
       "                var nbb_formatted_code = \"n = 1000\\nheight = 100\\nd = 80\\nX = np.ones((n, height * d))\\ny = np.ones((n,))\\ny[:25] = 0\";\n",
       "                var nbb_cells = Jupyter.notebook.get_cells();\n",
       "                for (var i = 0; i < nbb_cells.length; ++i) {\n",
       "                    if (nbb_cells[i].input_prompt_number == nbb_cell_id) {\n",
       "                        if (nbb_cells[i].get_text() == nbb_unformatted_code) {\n",
       "                             nbb_cells[i].set_text(nbb_formatted_code);\n",
       "                        }\n",
       "                        break;\n",
       "                    }\n",
       "                }\n",
       "            }, 500);\n",
       "            "
      ],
      "text/plain": [
       "<IPython.core.display.Javascript object>"
      ]
     },
     "metadata": {},
     "output_type": "display_data"
    }
   ],
   "source": [
    "n = 1000\n",
    "height = 100\n",
    "d = 80\n",
    "X = np.ones((n, height * d))\n",
    "y = np.ones((n,))\n",
    "y[:25] = 0"
   ]
  },
  {
   "cell_type": "code",
   "execution_count": 45,
   "metadata": {},
   "outputs": [
    {
     "data": {
      "application/javascript": [
       "\n",
       "            setTimeout(function() {\n",
       "                var nbb_cell_id = 45;\n",
       "                var nbb_unformatted_code = \"splitter = Conv2DSplitter(X, y, max_features=1, feature_combinations=1.5,\\n        random_state=random_state, image_height=height, image_width=d, \\n        patch_height_max=5, patch_height_min=1, patch_width_min=1, patch_width_max=2)\";\n",
       "                var nbb_formatted_code = \"splitter = Conv2DSplitter(\\n    X,\\n    y,\\n    max_features=1,\\n    feature_combinations=1.5,\\n    random_state=random_state,\\n    image_height=height,\\n    image_width=d,\\n    patch_height_max=5,\\n    patch_height_min=1,\\n    patch_width_min=1,\\n    patch_width_max=2,\\n)\";\n",
       "                var nbb_cells = Jupyter.notebook.get_cells();\n",
       "                for (var i = 0; i < nbb_cells.length; ++i) {\n",
       "                    if (nbb_cells[i].input_prompt_number == nbb_cell_id) {\n",
       "                        if (nbb_cells[i].get_text() == nbb_unformatted_code) {\n",
       "                             nbb_cells[i].set_text(nbb_formatted_code);\n",
       "                        }\n",
       "                        break;\n",
       "                    }\n",
       "                }\n",
       "            }, 500);\n",
       "            "
      ],
      "text/plain": [
       "<IPython.core.display.Javascript object>"
      ]
     },
     "metadata": {},
     "output_type": "display_data"
    }
   ],
   "source": [
    "splitter = Conv2DSplitter(X, y, max_features=1, feature_combinations=1.5,\n",
    "        random_state=random_state, image_height=height, image_width=d, \n",
    "        patch_height_max=5, patch_height_min=1, patch_width_min=1, patch_width_max=2)"
   ]
  },
  {
   "cell_type": "code",
   "execution_count": 47,
   "metadata": {},
   "outputs": [
    {
     "name": "stdout",
     "output_type": "stream",
     "text": [
      "1.53 s ± 101 ms per loop (mean ± std. dev. of 7 runs, 1 loop each)\n"
     ]
    },
    {
     "data": {
      "application/javascript": [
       "\n",
       "            setTimeout(function() {\n",
       "                var nbb_cell_id = 47;\n",
       "                var nbb_unformatted_code = \"%%timeit\\nproj_X, proj_mat = splitter.sample_proj_mat(sample_inds=np.arange(n))\";\n",
       "                var nbb_formatted_code = \"%%timeit\\nproj_X, proj_mat = splitter.sample_proj_mat(sample_inds=np.arange(n))\";\n",
       "                var nbb_cells = Jupyter.notebook.get_cells();\n",
       "                for (var i = 0; i < nbb_cells.length; ++i) {\n",
       "                    if (nbb_cells[i].input_prompt_number == nbb_cell_id) {\n",
       "                        if (nbb_cells[i].get_text() == nbb_unformatted_code) {\n",
       "                             nbb_cells[i].set_text(nbb_formatted_code);\n",
       "                        }\n",
       "                        break;\n",
       "                    }\n",
       "                }\n",
       "            }, 500);\n",
       "            "
      ],
      "text/plain": [
       "<IPython.core.display.Javascript object>"
      ]
     },
     "metadata": {},
     "output_type": "display_data"
    }
   ],
   "source": [
    "%%timeit\n",
    "proj_X, proj_mat = splitter.sample_proj_mat(sample_inds=np.arange(n))"
   ]
  },
  {
   "cell_type": "code",
   "execution_count": 34,
   "metadata": {},
   "outputs": [
    {
     "name": "stdout",
     "output_type": "stream",
     "text": [
      "165 ms ± 7.77 ms per loop (mean ± std. dev. of 7 runs, 10 loops each)\n"
     ]
    },
    {
     "data": {
      "application/javascript": [
       "\n",
       "            setTimeout(function() {\n",
       "                var nbb_cell_id = 34;\n",
       "                var nbb_unformatted_code = \"%%timeit\\nproj_X, proj_mat = splitter.sample_proj_mat(sample_inds=np.arange(n))\";\n",
       "                var nbb_formatted_code = \"%%timeit\\nproj_X, proj_mat = splitter.sample_proj_mat(sample_inds=np.arange(n))\";\n",
       "                var nbb_cells = Jupyter.notebook.get_cells();\n",
       "                for (var i = 0; i < nbb_cells.length; ++i) {\n",
       "                    if (nbb_cells[i].input_prompt_number == nbb_cell_id) {\n",
       "                        if (nbb_cells[i].get_text() == nbb_unformatted_code) {\n",
       "                             nbb_cells[i].set_text(nbb_formatted_code);\n",
       "                        }\n",
       "                        break;\n",
       "                    }\n",
       "                }\n",
       "            }, 500);\n",
       "            "
      ],
      "text/plain": [
       "<IPython.core.display.Javascript object>"
      ]
     },
     "metadata": {},
     "output_type": "display_data"
    }
   ],
   "source": [
    "%%timeit\n",
    "proj_X, proj_mat = splitter.sample_proj_mat(sample_inds=np.arange(n))"
   ]
  },
  {
   "cell_type": "code",
   "execution_count": 48,
   "metadata": {
    "collapsed": true,
    "jupyter": {
     "outputs_hidden": true
    }
   },
   "outputs": [
    {
     "name": "stdout",
     "output_type": "stream",
     "text": [
      " "
     ]
    },
    {
     "data": {
      "application/javascript": [
       "\n",
       "            setTimeout(function() {\n",
       "                var nbb_cell_id = 48;\n",
       "                var nbb_unformatted_code = \"%%prun\\nproj_X, proj_mat = splitter.sample_proj_mat(sample_inds=np.arange(n))\";\n",
       "                var nbb_formatted_code = \"%%prun\\nproj_X, proj_mat = splitter.sample_proj_mat(sample_inds=np.arange(n))\";\n",
       "                var nbb_cells = Jupyter.notebook.get_cells();\n",
       "                for (var i = 0; i < nbb_cells.length; ++i) {\n",
       "                    if (nbb_cells[i].input_prompt_number == nbb_cell_id) {\n",
       "                        if (nbb_cells[i].get_text() == nbb_unformatted_code) {\n",
       "                             nbb_cells[i].set_text(nbb_formatted_code);\n",
       "                        }\n",
       "                        break;\n",
       "                    }\n",
       "                }\n",
       "            }, 500);\n",
       "            "
      ],
      "text/plain": [
       "<IPython.core.display.Javascript object>"
      ]
     },
     "metadata": {},
     "output_type": "display_data"
    },
    {
     "data": {
      "text/plain": [
       "         280026 function calls in 1.675 seconds\n",
       "\n",
       "   Ordered by: internal time\n",
       "\n",
       "   ncalls  tottime  percall  cumtime  percall filename:lineno(function)\n",
       "        1    1.268    1.268    1.609    1.609 morf.py:194(sample_proj_mat)\n",
       "     8000    0.092    0.000    0.340    0.000 morf.py:131(_get_rand_patch_idx)\n",
       "        1    0.067    0.067    1.675    1.675 <string>:1(<module>)\n",
       "    24002    0.058    0.000    0.144    0.000 {built-in method numpy.core._multiarray_umath.implement_array_function}\n",
       "     8002    0.044    0.000    0.044    0.000 {method 'randint' of 'numpy.random.mtrand.RandomState' objects}\n",
       "     8000    0.035    0.000    0.086    0.000 index_tricks.py:35(ix_)\n",
       "    16001    0.026    0.000    0.026    0.000 {built-in method numpy.arange}\n",
       "    32000    0.014    0.000    0.021    0.000 numerictypes.py:285(issubclass_)\n",
       "    16000    0.014    0.000    0.037    0.000 numerictypes.py:359(issubdtype)\n",
       "    16000    0.009    0.000    0.009    0.000 {method 'reshape' of 'numpy.ndarray' objects}\n",
       "    48000    0.008    0.000    0.008    0.000 {built-in method builtins.issubclass}\n",
       "     8000    0.007    0.000    0.040    0.000 morf.py:191(_compute_vectorized_index_in_data)\n",
       "     8000    0.006    0.000    0.033    0.000 <__array_function__ internals>:2(unravel_index)\n",
       "     8000    0.006    0.000    0.041    0.000 morf.py:186(_compute_index_in_vectorized_data)\n",
       "     8000    0.006    0.000    0.035    0.000 <__array_function__ internals>:2(ravel_multi_index)\n",
       "     8000    0.005    0.000    0.097    0.000 <__array_function__ internals>:2(ix_)\n",
       "    16000    0.002    0.000    0.002    0.000 {built-in method builtins.isinstance}\n",
       "    16000    0.002    0.000    0.002    0.000 {method 'append' of 'list' objects}\n",
       "     8000    0.002    0.000    0.002    0.000 multiarray.py:1001(unravel_index)\n",
       "     8000    0.001    0.000    0.001    0.000 {built-in method builtins.len}\n",
       "     8000    0.001    0.000    0.001    0.000 multiarray.py:940(ravel_multi_index)\n",
       "     8000    0.001    0.000    0.001    0.000 index_tricks.py:31(_ix__dispatcher)\n",
       "        1    0.000    0.000    1.675    1.675 {built-in method builtins.exec}\n",
       "        1    0.000    0.000    0.000    0.000 {built-in method numpy.zeros}\n",
       "        2    0.000    0.000    0.000    0.000 {method 'reduce' of 'numpy.ufunc' objects}\n",
       "        2    0.000    0.000    0.000    0.000 fromnumeric.py:70(_wrapreduction)\n",
       "        2    0.000    0.000    0.000    0.000 <__array_function__ internals>:2(prod)\n",
       "        2    0.000    0.000    0.000    0.000 fromnumeric.py:2912(prod)\n",
       "        2    0.000    0.000    0.000    0.000 {built-in method builtins.getattr}\n",
       "        2    0.000    0.000    0.000    0.000 fromnumeric.py:71(<dictcomp>)\n",
       "        1    0.000    0.000    0.000    0.000 {method 'disable' of '_lsprof.Profiler' objects}\n",
       "        2    0.000    0.000    0.000    0.000 {method 'items' of 'dict' objects}\n",
       "        2    0.000    0.000    0.000    0.000 fromnumeric.py:2907(_prod_dispatcher)"
      ]
     },
     "metadata": {},
     "output_type": "display_data"
    }
   ],
   "source": [
    "%%prun\n",
    "proj_X, proj_mat = splitter.sample_proj_mat(sample_inds=np.arange(n))"
   ]
  },
  {
   "cell_type": "code",
   "execution_count": 42,
   "metadata": {
    "collapsed": true,
    "jupyter": {
     "outputs_hidden": true
    }
   },
   "outputs": [
    {
     "name": "stdout",
     "output_type": "stream",
     "text": [
      " "
     ]
    },
    {
     "data": {
      "application/javascript": [
       "\n",
       "            setTimeout(function() {\n",
       "                var nbb_cell_id = 42;\n",
       "                var nbb_unformatted_code = \"%%prun\\nproj_X, proj_mat = splitter.sample_proj_mat(sample_inds=np.arange(n))\";\n",
       "                var nbb_formatted_code = \"%%prun\\nproj_X, proj_mat = splitter.sample_proj_mat(sample_inds=np.arange(n))\";\n",
       "                var nbb_cells = Jupyter.notebook.get_cells();\n",
       "                for (var i = 0; i < nbb_cells.length; ++i) {\n",
       "                    if (nbb_cells[i].input_prompt_number == nbb_cell_id) {\n",
       "                        if (nbb_cells[i].get_text() == nbb_unformatted_code) {\n",
       "                             nbb_cells[i].set_text(nbb_formatted_code);\n",
       "                        }\n",
       "                        break;\n",
       "                    }\n",
       "                }\n",
       "            }, 500);\n",
       "            "
      ],
      "text/plain": [
       "<IPython.core.display.Javascript object>"
      ]
     },
     "metadata": {},
     "output_type": "display_data"
    },
    {
     "data": {
      "text/plain": [
       "         288026 function calls in 1.677 seconds\n",
       "\n",
       "   Ordered by: internal time\n",
       "\n",
       "   ncalls  tottime  percall  cumtime  percall filename:lineno(function)\n",
       "        1    1.294    1.294    1.669    1.669 morf.py:192(sample_proj_mat)\n",
       "     8000    0.082    0.000    0.131    0.000 morf.py:131(_get_rand_patch_idx)\n",
       "    24002    0.065    0.000    0.159    0.000 {built-in method numpy.core._multiarray_umath.implement_array_function}\n",
       "     8002    0.050    0.000    0.050    0.000 {method 'randint' of 'numpy.random.mtrand.RandomState' objects}\n",
       "     8000    0.039    0.000    0.094    0.000 index_tricks.py:35(ix_)\n",
       "    16001    0.029    0.000    0.029    0.000 {built-in method numpy.arange}\n",
       "     8000    0.019    0.000    0.197    0.000 morf.py:160(_get_patch_idx)\n",
       "    16000    0.015    0.000    0.039    0.000 numerictypes.py:359(issubdtype)\n",
       "    32000    0.015    0.000    0.022    0.000 numerictypes.py:285(issubclass_)\n",
       "    16000    0.010    0.000    0.010    0.000 {method 'reshape' of 'numpy.ndarray' objects}\n",
       "    48000    0.009    0.000    0.009    0.000 {built-in method builtins.issubclass}\n",
       "     8000    0.008    0.000    0.044    0.000 morf.py:189(_compute_vectorized_index_in_data)\n",
       "        1    0.008    0.008    1.676    1.676 <string>:1(<module>)\n",
       "     8000    0.007    0.000    0.046    0.000 morf.py:184(_compute_index_in_vectorized_data)\n",
       "     8000    0.007    0.000    0.036    0.000 <__array_function__ internals>:2(unravel_index)\n",
       "     8000    0.006    0.000    0.039    0.000 <__array_function__ internals>:2(ravel_multi_index)\n",
       "     8000    0.005    0.000    0.106    0.000 <__array_function__ internals>:2(ix_)\n",
       "    16000    0.002    0.000    0.002    0.000 {built-in method builtins.isinstance}\n",
       "    16000    0.002    0.000    0.002    0.000 {method 'append' of 'list' objects}\n",
       "     8000    0.002    0.000    0.002    0.000 multiarray.py:1001(unravel_index)\n",
       "     8000    0.001    0.000    0.001    0.000 {built-in method builtins.len}\n",
       "     8000    0.001    0.000    0.001    0.000 multiarray.py:940(ravel_multi_index)\n",
       "     8000    0.001    0.000    0.001    0.000 index_tricks.py:31(_ix__dispatcher)\n",
       "        1    0.000    0.000    0.000    0.000 {built-in method numpy.zeros}\n",
       "        1    0.000    0.000    1.677    1.677 {built-in method builtins.exec}\n",
       "        2    0.000    0.000    0.000    0.000 {method 'reduce' of 'numpy.ufunc' objects}\n",
       "        2    0.000    0.000    0.000    0.000 fromnumeric.py:70(_wrapreduction)\n",
       "        2    0.000    0.000    0.000    0.000 <__array_function__ internals>:2(prod)\n",
       "        2    0.000    0.000    0.000    0.000 fromnumeric.py:2912(prod)\n",
       "        2    0.000    0.000    0.000    0.000 fromnumeric.py:71(<dictcomp>)\n",
       "        2    0.000    0.000    0.000    0.000 {built-in method builtins.getattr}\n",
       "        1    0.000    0.000    0.000    0.000 {method 'disable' of '_lsprof.Profiler' objects}\n",
       "        2    0.000    0.000    0.000    0.000 fromnumeric.py:2907(_prod_dispatcher)\n",
       "        2    0.000    0.000    0.000    0.000 {method 'items' of 'dict' objects}"
      ]
     },
     "metadata": {},
     "output_type": "display_data"
    }
   ],
   "source": [
    "%%prun\n",
    "proj_X, proj_mat = splitter.sample_proj_mat(sample_inds=np.arange(n))"
   ]
  },
  {
   "cell_type": "code",
   "execution_count": 35,
   "metadata": {
    "collapsed": true,
    "jupyter": {
     "outputs_hidden": true
    }
   },
   "outputs": [
    {
     "name": "stdout",
     "output_type": "stream",
     "text": [
      " "
     ]
    },
    {
     "data": {
      "application/javascript": [
       "\n",
       "            setTimeout(function() {\n",
       "                var nbb_cell_id = 35;\n",
       "                var nbb_unformatted_code = \"%%prun\\nproj_X, proj_mat = splitter.sample_proj_mat(sample_inds=np.arange(n))\";\n",
       "                var nbb_formatted_code = \"%%prun\\nproj_X, proj_mat = splitter.sample_proj_mat(sample_inds=np.arange(n))\";\n",
       "                var nbb_cells = Jupyter.notebook.get_cells();\n",
       "                for (var i = 0; i < nbb_cells.length; ++i) {\n",
       "                    if (nbb_cells[i].input_prompt_number == nbb_cell_id) {\n",
       "                        if (nbb_cells[i].get_text() == nbb_unformatted_code) {\n",
       "                             nbb_cells[i].set_text(nbb_formatted_code);\n",
       "                        }\n",
       "                        break;\n",
       "                    }\n",
       "                }\n",
       "            }, 500);\n",
       "            "
      ],
      "text/plain": [
       "<IPython.core.display.Javascript object>"
      ]
     },
     "metadata": {},
     "output_type": "display_data"
    },
    {
     "data": {
      "text/plain": [
       "         72026 function calls in 0.171 seconds\n",
       "\n",
       "   Ordered by: internal time\n",
       "\n",
       "   ncalls  tottime  percall  cumtime  percall filename:lineno(function)\n",
       "        1    0.084    0.084    0.167    0.167 morf.py:192(sample_proj_mat)\n",
       "     2000    0.017    0.000    0.027    0.000 morf.py:131(_get_rand_patch_idx)\n",
       "     6002    0.014    0.000    0.035    0.000 {built-in method numpy.core._multiarray_umath.implement_array_function}\n",
       "     2002    0.010    0.000    0.010    0.000 {method 'randint' of 'numpy.random.mtrand.RandomState' objects}\n",
       "     2000    0.008    0.000    0.021    0.000 index_tricks.py:35(ix_)\n",
       "     4001    0.006    0.000    0.006    0.000 {built-in method numpy.arange}\n",
       "     2000    0.004    0.000    0.043    0.000 morf.py:160(_get_patch_idx)\n",
       "        1    0.004    0.004    0.171    0.171 <string>:1(<module>)\n",
       "     8000    0.003    0.000    0.005    0.000 numerictypes.py:285(issubclass_)\n",
       "     4000    0.003    0.000    0.009    0.000 numerictypes.py:359(issubdtype)\n",
       "        1    0.003    0.003    0.003    0.003 {built-in method numpy.zeros}\n",
       "     4000    0.002    0.000    0.002    0.000 {method 'reshape' of 'numpy.ndarray' objects}\n",
       "    12000    0.002    0.000    0.002    0.000 {built-in method builtins.issubclass}\n",
       "     2000    0.002    0.000    0.009    0.000 morf.py:189(_compute_vectorized_index_in_data)\n",
       "     2000    0.002    0.000    0.010    0.000 morf.py:184(_compute_index_in_vectorized_data)\n",
       "     2000    0.001    0.000    0.008    0.000 <__array_function__ internals>:2(unravel_index)\n",
       "     2000    0.001    0.000    0.008    0.000 <__array_function__ internals>:2(ravel_multi_index)\n",
       "     2000    0.001    0.000    0.023    0.000 <__array_function__ internals>:2(ix_)\n",
       "     4000    0.001    0.000    0.001    0.000 {built-in method builtins.isinstance}\n",
       "     4000    0.000    0.000    0.000    0.000 {method 'append' of 'list' objects}\n",
       "     2000    0.000    0.000    0.000    0.000 multiarray.py:1001(unravel_index)\n",
       "     2000    0.000    0.000    0.000    0.000 {built-in method builtins.len}\n",
       "     2000    0.000    0.000    0.000    0.000 index_tricks.py:31(_ix__dispatcher)\n",
       "     2000    0.000    0.000    0.000    0.000 multiarray.py:940(ravel_multi_index)\n",
       "        1    0.000    0.000    0.171    0.171 {built-in method builtins.exec}\n",
       "        2    0.000    0.000    0.000    0.000 {method 'reduce' of 'numpy.ufunc' objects}\n",
       "        2    0.000    0.000    0.000    0.000 fromnumeric.py:70(_wrapreduction)\n",
       "        2    0.000    0.000    0.000    0.000 <__array_function__ internals>:2(prod)\n",
       "        2    0.000    0.000    0.000    0.000 fromnumeric.py:2912(prod)\n",
       "        2    0.000    0.000    0.000    0.000 fromnumeric.py:71(<dictcomp>)\n",
       "        2    0.000    0.000    0.000    0.000 {built-in method builtins.getattr}\n",
       "        2    0.000    0.000    0.000    0.000 fromnumeric.py:2907(_prod_dispatcher)\n",
       "        1    0.000    0.000    0.000    0.000 {method 'disable' of '_lsprof.Profiler' objects}\n",
       "        2    0.000    0.000    0.000    0.000 {method 'items' of 'dict' objects}"
      ]
     },
     "metadata": {},
     "output_type": "display_data"
    }
   ],
   "source": [
    "%%prun\n",
    "proj_X, proj_mat = splitter.sample_proj_mat(sample_inds=np.arange(n))"
   ]
  },
  {
   "cell_type": "code",
   "execution_count": 23,
   "metadata": {
    "collapsed": true,
    "jupyter": {
     "outputs_hidden": true
    }
   },
   "outputs": [
    {
     "name": "stdout",
     "output_type": "stream",
     "text": [
      " "
     ]
    },
    {
     "data": {
      "application/javascript": [
       "\n",
       "            setTimeout(function() {\n",
       "                var nbb_cell_id = 23;\n",
       "                var nbb_unformatted_code = \"%%prun\\nproj_X, proj_mat = splitter.sample_proj_mat(sample_inds=np.arange(n))\";\n",
       "                var nbb_formatted_code = \"%%prun\\nproj_X, proj_mat = splitter.sample_proj_mat(sample_inds=np.arange(n))\";\n",
       "                var nbb_cells = Jupyter.notebook.get_cells();\n",
       "                for (var i = 0; i < nbb_cells.length; ++i) {\n",
       "                    if (nbb_cells[i].input_prompt_number == nbb_cell_id) {\n",
       "                        if (nbb_cells[i].get_text() == nbb_unformatted_code) {\n",
       "                             nbb_cells[i].set_text(nbb_formatted_code);\n",
       "                        }\n",
       "                        break;\n",
       "                    }\n",
       "                }\n",
       "            }, 500);\n",
       "            "
      ],
      "text/plain": [
       "<IPython.core.display.Javascript object>"
      ]
     },
     "metadata": {},
     "output_type": "display_data"
    },
    {
     "data": {
      "text/plain": [
       "         76006 function calls in 0.170 seconds\n",
       "\n",
       "   Ordered by: internal time\n",
       "\n",
       "   ncalls  tottime  percall  cumtime  percall filename:lineno(function)\n",
       "        1    0.083    0.083    0.170    0.170 morf.py:201(sample_proj_mat)\n",
       "     6000    0.021    0.000    0.021    0.000 {method 'randint' of 'numpy.random.mtrand.RandomState' objects}\n",
       "     6000    0.015    0.000    0.036    0.000 {built-in method numpy.core._multiarray_umath.implement_array_function}\n",
       "     2000    0.009    0.000    0.030    0.000 morf.py:131(_get_rand_patch_idx)\n",
       "     2000    0.008    0.000    0.021    0.000 index_tricks.py:35(ix_)\n",
       "     4001    0.006    0.000    0.006    0.000 {built-in method numpy.arange}\n",
       "     2000    0.005    0.000    0.044    0.000 morf.py:169(_get_patch_idx)\n",
       "     4000    0.004    0.000    0.009    0.000 numerictypes.py:359(issubdtype)\n",
       "     8000    0.003    0.000    0.005    0.000 numerictypes.py:285(issubclass_)\n",
       "        1    0.003    0.003    0.003    0.003 {built-in method numpy.zeros}\n",
       "     4000    0.002    0.000    0.002    0.000 {method 'reshape' of 'numpy.ndarray' objects}\n",
       "    12000    0.002    0.000    0.002    0.000 {built-in method builtins.issubclass}\n",
       "     2000    0.002    0.000    0.011    0.000 morf.py:193(_compute_index_in_vectorized_data)\n",
       "     2000    0.002    0.000    0.009    0.000 morf.py:198(_compute_vectorized_index_in_data)\n",
       "     2000    0.001    0.000    0.008    0.000 <__array_function__ internals>:2(unravel_index)\n",
       "     2000    0.001    0.000    0.009    0.000 <__array_function__ internals>:2(ravel_multi_index)\n",
       "     2000    0.001    0.000    0.024    0.000 <__array_function__ internals>:2(ix_)\n",
       "     4000    0.001    0.000    0.001    0.000 {built-in method builtins.isinstance}\n",
       "     4000    0.000    0.000    0.000    0.000 {method 'append' of 'list' objects}\n",
       "     2000    0.000    0.000    0.000    0.000 multiarray.py:1001(unravel_index)\n",
       "     2000    0.000    0.000    0.000    0.000 {built-in method builtins.len}\n",
       "     2000    0.000    0.000    0.000    0.000 multiarray.py:940(ravel_multi_index)\n",
       "     2000    0.000    0.000    0.000    0.000 index_tricks.py:31(_ix__dispatcher)\n",
       "        1    0.000    0.000    0.170    0.170 {built-in method builtins.exec}\n",
       "        1    0.000    0.000    0.170    0.170 <string>:1(<module>)\n",
       "        1    0.000    0.000    0.000    0.000 {method 'disable' of '_lsprof.Profiler' objects}"
      ]
     },
     "metadata": {},
     "output_type": "display_data"
    }
   ],
   "source": [
    "%%prun\n",
    "proj_X, proj_mat = splitter.sample_proj_mat(sample_inds=np.arange(n))"
   ]
  },
  {
   "cell_type": "markdown",
   "metadata": {},
   "source": [
    "# Classification Tree - Convolutional Tree"
   ]
  },
  {
   "cell_type": "code",
   "execution_count": 52,
   "metadata": {},
   "outputs": [
    {
     "data": {
      "application/javascript": [
       "\n",
       "            setTimeout(function() {\n",
       "                var nbb_cell_id = 52;\n",
       "                var nbb_unformatted_code = \"from oblique_forests.tree.morf_tree import Conv2DObliqueTreeClassifier\";\n",
       "                var nbb_formatted_code = \"from oblique_forests.tree.morf_tree import Conv2DObliqueTreeClassifier\";\n",
       "                var nbb_cells = Jupyter.notebook.get_cells();\n",
       "                for (var i = 0; i < nbb_cells.length; ++i) {\n",
       "                    if (nbb_cells[i].input_prompt_number == nbb_cell_id) {\n",
       "                        if (nbb_cells[i].get_text() == nbb_unformatted_code) {\n",
       "                             nbb_cells[i].set_text(nbb_formatted_code);\n",
       "                        }\n",
       "                        break;\n",
       "                    }\n",
       "                }\n",
       "            }, 500);\n",
       "            "
      ],
      "text/plain": [
       "<IPython.core.display.Javascript object>"
      ]
     },
     "metadata": {},
     "output_type": "display_data"
    }
   ],
   "source": [
    "from oblique_forests.tree.morf_tree import Conv2DObliqueTreeClassifier"
   ]
  },
  {
   "cell_type": "code",
   "execution_count": 53,
   "metadata": {},
   "outputs": [
    {
     "ename": "TypeError",
     "evalue": "super(type, obj): obj must be an instance or subtype of type",
     "output_type": "error",
     "traceback": [
      "\u001b[0;31m---------------------------------------------------------------------------\u001b[0m",
      "\u001b[0;31mTypeError\u001b[0m                                 Traceback (most recent call last)",
      "\u001b[0;32m<ipython-input-53-0f1ca33662ec>\u001b[0m in \u001b[0;36m<module>\u001b[0;34m\u001b[0m\n\u001b[0;32m----> 1\u001b[0;31m clf = Conv2DObliqueTreeClassifier(\n\u001b[0m\u001b[1;32m      2\u001b[0m     \u001b[0mrandom_state\u001b[0m\u001b[0;34m=\u001b[0m\u001b[0mrandom_state\u001b[0m\u001b[0;34m,\u001b[0m\u001b[0;34m\u001b[0m\u001b[0;34m\u001b[0m\u001b[0m\n\u001b[1;32m      3\u001b[0m     \u001b[0mimage_height\u001b[0m\u001b[0;34m=\u001b[0m\u001b[0mheight\u001b[0m\u001b[0;34m,\u001b[0m\u001b[0;34m\u001b[0m\u001b[0;34m\u001b[0m\u001b[0m\n\u001b[1;32m      4\u001b[0m     \u001b[0mimage_width\u001b[0m\u001b[0;34m=\u001b[0m\u001b[0md\u001b[0m\u001b[0;34m,\u001b[0m\u001b[0;34m\u001b[0m\u001b[0;34m\u001b[0m\u001b[0m\n\u001b[1;32m      5\u001b[0m     \u001b[0mpatch_height_max\u001b[0m\u001b[0;34m=\u001b[0m\u001b[0;36m5\u001b[0m\u001b[0;34m,\u001b[0m\u001b[0;34m\u001b[0m\u001b[0;34m\u001b[0m\u001b[0m\n",
      "\u001b[0;32m~/Documents/manifold_random_forests/oblique_forests/tree/morf_tree.py\u001b[0m in \u001b[0;36m__init__\u001b[0;34m(self, max_depth, min_samples_split, min_samples_leaf, min_impurity_decrease, min_impurity_split, feature_combinations, max_features, image_height, image_width, patch_height_max, patch_height_min, patch_width_max, patch_width_min, discontiguous_height, discontiguous_width, bootstrap, random_state, warm_start, verbose)\u001b[0m\n\u001b[1;32m     94\u001b[0m         \u001b[0mverbose\u001b[0m\u001b[0;34m=\u001b[0m\u001b[0;36m0\u001b[0m\u001b[0;34m,\u001b[0m\u001b[0;34m\u001b[0m\u001b[0;34m\u001b[0m\u001b[0m\n\u001b[1;32m     95\u001b[0m     ):\n\u001b[0;32m---> 96\u001b[0;31m         super(Conv2DObliqueTreeClassifier, self).__init__(\n\u001b[0m\u001b[1;32m     97\u001b[0m             \u001b[0mmax_depth\u001b[0m\u001b[0;34m=\u001b[0m\u001b[0mmax_depth\u001b[0m\u001b[0;34m,\u001b[0m\u001b[0;34m\u001b[0m\u001b[0;34m\u001b[0m\u001b[0m\n\u001b[1;32m     98\u001b[0m             \u001b[0mmin_samples_split\u001b[0m\u001b[0;34m=\u001b[0m\u001b[0mmin_samples_split\u001b[0m\u001b[0;34m,\u001b[0m\u001b[0;34m\u001b[0m\u001b[0;34m\u001b[0m\u001b[0m\n",
      "\u001b[0;31mTypeError\u001b[0m: super(type, obj): obj must be an instance or subtype of type"
     ]
    },
    {
     "data": {
      "application/javascript": [
       "\n",
       "            setTimeout(function() {\n",
       "                var nbb_cell_id = 53;\n",
       "                var nbb_unformatted_code = \"clf = Conv2DObliqueTreeClassifier(\\n    random_state=random_state,\\n    image_height=height,\\n    image_width=d,\\n    patch_height_max=5,\\n    patch_height_min=1,\\n    patch_width_min=1,\\n    patch_width_max=2,\\n    discontiguous_height=True,\\n    discontiguous_width=False,\\n)\";\n",
       "                var nbb_formatted_code = \"clf = Conv2DObliqueTreeClassifier(\\n    random_state=random_state,\\n    image_height=height,\\n    image_width=d,\\n    patch_height_max=5,\\n    patch_height_min=1,\\n    patch_width_min=1,\\n    patch_width_max=2,\\n    discontiguous_height=True,\\n    discontiguous_width=False,\\n)\";\n",
       "                var nbb_cells = Jupyter.notebook.get_cells();\n",
       "                for (var i = 0; i < nbb_cells.length; ++i) {\n",
       "                    if (nbb_cells[i].input_prompt_number == nbb_cell_id) {\n",
       "                        if (nbb_cells[i].get_text() == nbb_unformatted_code) {\n",
       "                             nbb_cells[i].set_text(nbb_formatted_code);\n",
       "                        }\n",
       "                        break;\n",
       "                    }\n",
       "                }\n",
       "            }, 500);\n",
       "            "
      ],
      "text/plain": [
       "<IPython.core.display.Javascript object>"
      ]
     },
     "metadata": {},
     "output_type": "display_data"
    }
   ],
   "source": [
    "clf = Conv2DObliqueTreeClassifier(\n",
    "    random_state=random_state,\n",
    "    image_height=height,\n",
    "    image_width=d,\n",
    "    patch_height_max=5,\n",
    "    patch_height_min=1,\n",
    "    patch_width_min=1,\n",
    "    patch_width_max=2,\n",
    "    discontiguous_height=True,\n",
    "    discontiguous_width=False,\n",
    ")"
   ]
  },
  {
   "cell_type": "code",
   "execution_count": 6,
   "metadata": {},
   "outputs": [
    {
     "data": {
      "text/plain": [
       "Conv2DObliqueTreeClassifier(discontiguous_height=True, image_height=5,\n",
       "                            image_width=4, patch_height_max=5,\n",
       "                            patch_width_max=2, random_state=123456)"
      ]
     },
     "execution_count": 6,
     "metadata": {},
     "output_type": "execute_result"
    },
    {
     "data": {
      "application/javascript": [
       "\n",
       "            setTimeout(function() {\n",
       "                var nbb_cell_id = 6;\n",
       "                var nbb_unformatted_code = \"clf.fit(X, y)\";\n",
       "                var nbb_formatted_code = \"clf.fit(X, y)\";\n",
       "                var nbb_cells = Jupyter.notebook.get_cells();\n",
       "                for (var i = 0; i < nbb_cells.length; ++i) {\n",
       "                    if (nbb_cells[i].input_prompt_number == nbb_cell_id) {\n",
       "                        if (nbb_cells[i].get_text() == nbb_unformatted_code) {\n",
       "                             nbb_cells[i].set_text(nbb_formatted_code);\n",
       "                        }\n",
       "                        break;\n",
       "                    }\n",
       "                }\n",
       "            }, 500);\n",
       "            "
      ],
      "text/plain": [
       "<IPython.core.display.Javascript object>"
      ]
     },
     "metadata": {},
     "output_type": "display_data"
    }
   ],
   "source": [
    "clf.fit(X, y)"
   ]
  },
  {
   "cell_type": "markdown",
   "metadata": {},
   "source": [
    "# Classification Forest - Convolutional Forest"
   ]
  },
  {
   "cell_type": "code",
   "execution_count": 7,
   "metadata": {},
   "outputs": [
    {
     "data": {
      "application/javascript": [
       "\n",
       "            setTimeout(function() {\n",
       "                var nbb_cell_id = 7;\n",
       "                var nbb_unformatted_code = \"from proglearn.tree.morf import Conv2DObliqueForestClassifier\";\n",
       "                var nbb_formatted_code = \"from proglearn.tree.morf import Conv2DObliqueForestClassifier\";\n",
       "                var nbb_cells = Jupyter.notebook.get_cells();\n",
       "                for (var i = 0; i < nbb_cells.length; ++i) {\n",
       "                    if (nbb_cells[i].input_prompt_number == nbb_cell_id) {\n",
       "                        if (nbb_cells[i].get_text() == nbb_unformatted_code) {\n",
       "                             nbb_cells[i].set_text(nbb_formatted_code);\n",
       "                        }\n",
       "                        break;\n",
       "                    }\n",
       "                }\n",
       "            }, 500);\n",
       "            "
      ],
      "text/plain": [
       "<IPython.core.display.Javascript object>"
      ]
     },
     "metadata": {},
     "output_type": "display_data"
    }
   ],
   "source": [
    "from proglearn.tree.morf import Conv2DObliqueForestClassifier"
   ]
  },
  {
   "cell_type": "code",
   "execution_count": 11,
   "metadata": {},
   "outputs": [
    {
     "ename": "NameError",
     "evalue": "name 'Conv2DObliqueForestClassifier' is not defined",
     "output_type": "error",
     "traceback": [
      "\u001b[0;31m---------------------------------------------------------------------------\u001b[0m",
      "\u001b[0;31mNameError\u001b[0m                                 Traceback (most recent call last)",
      "\u001b[0;32m<ipython-input-11-4b1732319f3a>\u001b[0m in \u001b[0;36m<module>\u001b[0;34m\u001b[0m\n\u001b[0;32m----> 1\u001b[0;31m clf = Conv2DObliqueForestClassifier(\n\u001b[0m\u001b[1;32m      2\u001b[0m     \u001b[0mn_estimators\u001b[0m\u001b[0;34m=\u001b[0m\u001b[0;36m100\u001b[0m\u001b[0;34m,\u001b[0m\u001b[0;34m\u001b[0m\u001b[0;34m\u001b[0m\u001b[0m\n\u001b[1;32m      3\u001b[0m     \u001b[0mrandom_state\u001b[0m\u001b[0;34m=\u001b[0m\u001b[0mrandom_state\u001b[0m\u001b[0;34m,\u001b[0m\u001b[0;34m\u001b[0m\u001b[0;34m\u001b[0m\u001b[0m\n\u001b[1;32m      4\u001b[0m     \u001b[0mimage_height\u001b[0m\u001b[0;34m=\u001b[0m\u001b[0mheight\u001b[0m\u001b[0;34m,\u001b[0m\u001b[0;34m\u001b[0m\u001b[0;34m\u001b[0m\u001b[0m\n\u001b[1;32m      5\u001b[0m     \u001b[0mimage_width\u001b[0m\u001b[0;34m=\u001b[0m\u001b[0md\u001b[0m\u001b[0;34m,\u001b[0m\u001b[0;34m\u001b[0m\u001b[0;34m\u001b[0m\u001b[0m\n",
      "\u001b[0;31mNameError\u001b[0m: name 'Conv2DObliqueForestClassifier' is not defined"
     ]
    },
    {
     "data": {
      "application/javascript": [
       "\n",
       "            setTimeout(function() {\n",
       "                var nbb_cell_id = 11;\n",
       "                var nbb_unformatted_code = \"clf = Conv2DObliqueForestClassifier(\\n    n_estimators=100,\\n    random_state=random_state,\\n    image_height=height,\\n    image_width=d,\\n    patch_height_max=5,\\n    patch_height_min=1,\\n    patch_width_min=1,\\n    patch_width_max=2,\\n    discontiguous_height=True,\\n    discontiguous_width=False,\\n    n_jobs=-1,\\n)\";\n",
       "                var nbb_formatted_code = \"clf = Conv2DObliqueForestClassifier(\\n    n_estimators=100,\\n    random_state=random_state,\\n    image_height=height,\\n    image_width=d,\\n    patch_height_max=5,\\n    patch_height_min=1,\\n    patch_width_min=1,\\n    patch_width_max=2,\\n    discontiguous_height=True,\\n    discontiguous_width=False,\\n    n_jobs=-1,\\n)\";\n",
       "                var nbb_cells = Jupyter.notebook.get_cells();\n",
       "                for (var i = 0; i < nbb_cells.length; ++i) {\n",
       "                    if (nbb_cells[i].input_prompt_number == nbb_cell_id) {\n",
       "                        if (nbb_cells[i].get_text() == nbb_unformatted_code) {\n",
       "                             nbb_cells[i].set_text(nbb_formatted_code);\n",
       "                        }\n",
       "                        break;\n",
       "                    }\n",
       "                }\n",
       "            }, 500);\n",
       "            "
      ],
      "text/plain": [
       "<IPython.core.display.Javascript object>"
      ]
     },
     "metadata": {},
     "output_type": "display_data"
    }
   ],
   "source": [
    "clf = Conv2DObliqueForestClassifier(\n",
    "    n_estimators=100,\n",
    "    random_state=random_state,\n",
    "    image_height=height,\n",
    "    image_width=d,\n",
    "    patch_height_max=5,\n",
    "    patch_height_min=1,\n",
    "    patch_width_min=1,\n",
    "    patch_width_max=2,\n",
    "    discontiguous_height=True,\n",
    "    discontiguous_width=False,\n",
    "    n_jobs=-1,\n",
    ")"
   ]
  },
  {
   "cell_type": "code",
   "execution_count": 16,
   "metadata": {},
   "outputs": [
    {
     "data": {
      "text/plain": [
       "Conv2DObliqueForestClassifier(discontiguous_height=True, image_height=5,\n",
       "                              image_width=4, n_jobs=-1, patch_height_max=5,\n",
       "                              patch_width_max=2, random_state=123456)"
      ]
     },
     "execution_count": 16,
     "metadata": {},
     "output_type": "execute_result"
    },
    {
     "data": {
      "application/javascript": [
       "\n",
       "            setTimeout(function() {\n",
       "                var nbb_cell_id = 16;\n",
       "                var nbb_unformatted_code = \"clf.fit(X, y)\";\n",
       "                var nbb_formatted_code = \"clf.fit(X, y)\";\n",
       "                var nbb_cells = Jupyter.notebook.get_cells();\n",
       "                for (var i = 0; i < nbb_cells.length; ++i) {\n",
       "                    if (nbb_cells[i].input_prompt_number == nbb_cell_id) {\n",
       "                        if (nbb_cells[i].get_text() == nbb_unformatted_code) {\n",
       "                             nbb_cells[i].set_text(nbb_formatted_code);\n",
       "                        }\n",
       "                        break;\n",
       "                    }\n",
       "                }\n",
       "            }, 500);\n",
       "            "
      ],
      "text/plain": [
       "<IPython.core.display.Javascript object>"
      ]
     },
     "metadata": {},
     "output_type": "display_data"
    }
   ],
   "source": [
    "clf.fit(X, y)"
   ]
  },
  {
   "cell_type": "code",
   "execution_count": 17,
   "metadata": {},
   "outputs": [
    {
     "name": "stdout",
     "output_type": "stream",
     "text": [
      "6.38 s ± 196 ms per loop (mean ± std. dev. of 7 runs, 1 loop each)\n"
     ]
    },
    {
     "data": {
      "application/javascript": [
       "\n",
       "            setTimeout(function() {\n",
       "                var nbb_cell_id = 17;\n",
       "                var nbb_unformatted_code = \"%%timeit\\nclf.fit(X, y)\";\n",
       "                var nbb_formatted_code = \"%%timeit\\nclf.fit(X, y)\";\n",
       "                var nbb_cells = Jupyter.notebook.get_cells();\n",
       "                for (var i = 0; i < nbb_cells.length; ++i) {\n",
       "                    if (nbb_cells[i].input_prompt_number == nbb_cell_id) {\n",
       "                        if (nbb_cells[i].get_text() == nbb_unformatted_code) {\n",
       "                             nbb_cells[i].set_text(nbb_formatted_code);\n",
       "                        }\n",
       "                        break;\n",
       "                    }\n",
       "                }\n",
       "            }, 500);\n",
       "            "
      ],
      "text/plain": [
       "<IPython.core.display.Javascript object>"
      ]
     },
     "metadata": {},
     "output_type": "display_data"
    }
   ],
   "source": [
    "%%timeit\n",
    "clf.fit(X, y)"
   ]
  },
  {
   "cell_type": "code",
   "execution_count": 18,
   "metadata": {
    "collapsed": true,
    "jupyter": {
     "outputs_hidden": true
    }
   },
   "outputs": [
    {
     "name": "stdout",
     "output_type": "stream",
     "text": [
      " "
     ]
    },
    {
     "data": {
      "application/javascript": [
       "\n",
       "            setTimeout(function() {\n",
       "                var nbb_cell_id = 18;\n",
       "                var nbb_unformatted_code = \"%%prun\\nclf.fit(X, y)\";\n",
       "                var nbb_formatted_code = \"%%prun\\nclf.fit(X, y)\";\n",
       "                var nbb_cells = Jupyter.notebook.get_cells();\n",
       "                for (var i = 0; i < nbb_cells.length; ++i) {\n",
       "                    if (nbb_cells[i].input_prompt_number == nbb_cell_id) {\n",
       "                        if (nbb_cells[i].get_text() == nbb_unformatted_code) {\n",
       "                             nbb_cells[i].set_text(nbb_formatted_code);\n",
       "                        }\n",
       "                        break;\n",
       "                    }\n",
       "                }\n",
       "            }, 500);\n",
       "            "
      ],
      "text/plain": [
       "<IPython.core.display.Javascript object>"
      ]
     },
     "metadata": {},
     "output_type": "display_data"
    },
    {
     "data": {
      "text/plain": [
       "         199570 function calls (195767 primitive calls) in 6.434 seconds\n",
       "\n",
       "   Ordered by: internal time\n",
       "\n",
       "   ncalls  tottime  percall  cumtime  percall filename:lineno(function)\n",
       "      388    6.300    0.016    6.300    0.016 {method 'acquire' of '_thread.lock' objects}\n",
       "      500    0.017    0.000    0.066    0.000 inspect.py:2112(_signature_from_function)\n",
       "    10000    0.017    0.000    0.035    0.000 inspect.py:2477(__init__)\n",
       "    10000    0.014    0.000    0.015    0.000 enum.py:289(__call__)\n",
       " 2000/100    0.009    0.000    0.051    0.001 base.py:28(clone)\n",
       "      500    0.006    0.000    0.008    0.000 base.py:165(<listcomp>)\n",
       "      500    0.006    0.000    0.101    0.000 base.py:178(get_params)\n",
       "      500    0.005    0.000    0.009    0.000 inspect.py:2760(__init__)\n",
       "      500    0.005    0.000    0.093    0.000 base.py:151(_get_param_names)\n",
       "    29500    0.004    0.000    0.004    0.000 inspect.py:2527(name)\n",
       "      500    0.004    0.000    0.005    0.000 base.py:176(<listcomp>)\n",
       "    10500    0.003    0.000    0.005    0.000 inspect.py:2809(<genexpr>)\n",
       "      500    0.003    0.000    0.071    0.000 inspect.py:2206(_signature_from_callable)\n",
       "    23801    0.003    0.000    0.003    0.000 {method 'get' of 'dict' objects}\n",
       "    19000    0.002    0.000    0.002    0.000 inspect.py:2539(kind)\n",
       "     1900    0.002    0.000    0.003    0.000 copy.py:128(deepcopy)\n",
       " 2003/101    0.002    0.000    0.052    0.001 validation.py:59(inner_f)\n",
       "    10000    0.002    0.000    0.002    0.000 enum.py:586(__new__)\n",
       "    12151    0.002    0.000    0.002    0.000 {built-in method builtins.getattr}\n",
       "      100    0.002    0.000    0.053    0.001 _base.py:43(_set_random_states)\n",
       "      100    0.002    0.000    0.002    0.000 {method 'randint' of 'numpy.random.mtrand.RandomState' objects}\n",
       "    10000    0.002    0.000    0.002    0.000 {method 'isidentifier' of 'str' objects}\n",
       "    12355    0.002    0.000    0.002    0.000 {built-in method builtins.isinstance}\n",
       "      200    0.002    0.000    0.050    0.000 base.py:202(set_params)\n",
       "    10011    0.001    0.000    0.001    0.000 {method 'append' of 'list' objects}\n",
       "      600    0.001    0.000    0.001    0.000 {built-in method builtins.sorted}\n",
       "     8250    0.001    0.000    0.001    0.000 {built-in method builtins.hasattr}\n",
       "        1    0.001    0.001    6.302    6.302 parallel.py:918(retrieve)\n",
       "      500    0.001    0.000    0.001    0.000 inspect.py:493(unwrap)\n",
       "      100    0.001    0.000    0.125    0.001 _base.py:144(_make_estimator)\n",
       "        1    0.001    0.001    6.434    6.434 _forest.py:273(fit)\n",
       "      100    0.001    0.000    0.001    0.000 getlimits.py:514(__init__)\n",
       "     4294    0.001    0.000    0.001    0.000 {built-in method builtins.len}\n",
       "       88    0.001    0.000    6.301    0.072 threading.py:270(wait)\n",
       "     1800    0.000    0.000    0.000    0.000 {method 'endswith' of 'str' objects}\n",
       "     1000    0.000    0.000    0.001    0.000 inspect.py:158(isfunction)\n",
       "      111    0.000    0.000    6.301    0.057 threading.py:540(wait)\n",
       "      500    0.000    0.000    0.072    0.000 inspect.py:3091(signature)\n",
       "      100    0.000    0.000    0.001    0.000 morf_tree.py:77(__init__)\n",
       "      100    0.000    0.000    0.001    0.000 _base.py:151(<dictcomp>)\n",
       "      101    0.000    0.000    0.001    0.000 validation.py:869(check_random_state)\n",
       "     2402    0.000    0.000    0.000    0.000 {built-in method builtins.id}\n",
       "      500    0.000    0.000    0.000    0.000 {method 'values' of 'mappingproxy' objects}\n",
       "       30    0.000    0.000    0.000    0.000 threading.py:222(__init__)\n",
       "      500    0.000    0.000    0.072    0.000 inspect.py:2839(from_callable)\n",
       "        1    0.000    0.000    0.126    0.126 _forest.py:377(<listcomp>)\n",
       "     1460    0.000    0.000    0.000    0.000 {built-in method builtins.setattr}\n",
       "     1900    0.000    0.000    0.000    0.000 copy.py:182(_deepcopy_atomic)\n",
       "      100    0.000    0.000    6.301    0.063 pool.py:764(get)\n",
       "     1300    0.000    0.000    0.000    0.000 {method 'partition' of 'str' objects}\n",
       "       11    0.000    0.000    0.000    0.000 {built-in method _thread.start_new_thread}\n",
       "      500    0.000    0.000    0.000    0.000 inspect.py:513(_is_wrapper)\n",
       "      109    0.000    0.000    0.000    0.000 {built-in method _abc._abc_instancecheck}\n",
       "       11    0.000    0.000    0.001    0.000 threading.py:834(start)\n",
       "        3    0.000    0.000    0.000    0.000 arraysetops.py:310(_unique1d)\n",
       "      100    0.000    0.000    6.300    0.063 pool.py:761(wait)\n",
       "      500    0.000    0.000    0.000    0.000 {built-in method sys.getrecursionlimit}\n",
       "        1    0.000    0.000    0.000    0.000 {function SeedSequence.generate_state at 0x7fd4705d4160}\n",
       "      100    0.000    0.000    0.000    0.000 transformers.py:911(__init__)\n",
       "      116    0.000    0.000    0.000    0.000 {built-in method _thread.allocate_lock}\n",
       "      100    0.000    0.000    0.000    0.000 getlimits.py:538(max)\n",
       "       17    0.000    0.000    0.003    0.000 parallel.py:796(dispatch_one_batch)\n",
       "      100    0.000    0.000    0.000    0.000 pool.py:753(ready)\n",
       "       88    0.000    0.000    0.000    0.000 threading.py:258(_acquire_restore)\n",
       "      146    0.000    0.000    0.000    0.000 threading.py:246(__enter__)\n",
       "      146    0.000    0.000    0.000    0.000 threading.py:249(__exit__)\n",
       "      503    0.000    0.000    0.000    0.000 {method 'items' of 'dict' objects}\n",
       "        3    0.000    0.000    0.000    0.000 {method '__enter__' of '_multiprocessing.SemLock' objects}\n",
       "      500    0.000    0.000    0.000    0.000 inspect.py:2845(parameters)\n",
       "      500    0.000    0.000    0.000    0.000 {built-in method builtins.callable}\n",
       "       11    0.000    0.000    0.000    0.000 threading.py:761(__init__)\n",
       "       15    0.000    0.000    0.000    0.000 {built-in method numpy.array}\n",
       "      146    0.000    0.000    0.000    0.000 {method '__enter__' of '_thread.lock' objects}\n",
       "       32    0.000    0.000    0.000    0.000 functools.py:34(update_wrapper)\n",
       "       88    0.000    0.000    0.000    0.000 threading.py:255(_release_save)\n",
       "      120    0.000    0.000    0.000    0.000 threading.py:261(_is_owned)\n",
       "      109    0.000    0.000    0.000    0.000 abc.py:96(__instancecheck__)\n",
       "        1    0.000    0.000    0.001    0.001 _parallel_backends.py:239(terminate)\n",
       "        1    0.000    0.000    0.001    0.001 pool.py:311(_repopulate_pool_static)\n",
       "        1    0.000    0.000    6.306    6.306 parallel.py:958(__call__)\n",
       "      100    0.000    0.000    0.000    0.000 {method 'pop' of 'list' objects}\n",
       "       16    0.000    0.000    0.003    0.000 parallel.py:759(_dispatch)\n",
       "        8    0.000    0.000    0.000    0.000 pool.py:919(Process)\n",
       "        3    0.000    0.000    0.000    0.000 {method 'reduce' of 'numpy.ufunc' objects}\n",
       "       17    0.000    0.000    0.000    0.000 <frozen importlib._bootstrap>:389(parent)\n",
       "      101    0.000    0.000    0.000    0.000 {method 'extend' of 'list' objects}\n",
       "       27    0.000    0.000    0.000    0.000 threading.py:505(__init__)\n",
       "       16    0.000    0.000    0.000    0.000 pool.py:744(__init__)\n",
       "       11    0.000    0.000    0.000    0.000 {built-in method posix.write}\n",
       "        2    0.000    0.000    0.000    0.000 validation.py:404(check_array)\n",
       "        1    0.000    0.000    0.002    0.002 pool.py:183(__init__)\n",
       "        2    0.000    0.000    0.000    0.000 synchronize.py:50(__init__)\n",
       "        1    0.000    0.000    6.434    6.434 {built-in method builtins.exec}\n",
       "        2    0.000    0.000    0.000    0.000 validation.py:83(_assert_all_finite)\n",
       "      146    0.000    0.000    0.000    0.000 {method '__exit__' of '_thread.lock' objects}\n",
       "       19    0.000    0.000    0.000    0.000 queue.py:153(get)\n",
       "       16    0.000    0.000    0.000    0.000 pool.py:450(apply_async)\n",
       "      126    0.000    0.000    0.000    0.000 threading.py:513(is_set)\n",
       "        8    0.000    0.000    0.000    0.000 __init__.py:36(__init__)\n",
       "        4    0.000    0.000    0.000    0.000 resource_tracker.py:153(_send)\n",
       "        1    0.000    0.000    0.000    0.000 multiclass.py:186(type_of_target)\n",
       "        1    0.000    0.000    0.000    0.000 {built-in method builtins.eval}\n",
       "        4    0.000    0.000    0.000    0.000 validation.py:187(_num_samples)\n",
       "        1    0.000    0.000    0.000    0.000 _forest.py:558(_validate_y_class_weight)\n",
       "       16    0.000    0.000    0.000    0.000 queue.py:121(put)\n",
       "    11/10    0.000    0.000    0.000    0.000 {built-in method numpy.core._multiarray_umath.implement_array_function}\n",
       "        2    0.000    0.000    0.000    0.000 version.py:217(__init__)\n",
       "       32    0.000    0.000    0.000    0.000 threading.py:341(notify)\n",
       "        2    0.000    0.000    0.000    0.000 {built-in method posix.urandom}\n",
       "       16    0.000    0.000    0.000    0.000 _forest.py:388(<genexpr>)\n",
       "        4    0.000    0.000    0.000    0.000 {method 'format' of 'str' objects}\n",
       "       18    0.000    0.000    0.000    0.000 _parallel_backends.py:34(__init__)\n",
       "      104    0.000    0.000    0.000    0.000 {method 'append' of 'collections.deque' objects}\n",
       "        8    0.000    0.000    0.000    0.000 <frozen importlib._bootstrap>:1017(_handle_fromlist)\n",
       "       91    0.000    0.000    0.000    0.000 {method 'release' of '_thread.lock' objects}\n",
       "       16    0.000    0.000    0.003    0.000 _parallel_backends.py:250(apply_async)\n",
       "       16    0.000    0.000    0.000    0.000 fixes.py:205(delayed)\n",
       "        1    0.000    0.000    0.000    0.000 context.py:169(_cpu_count_user)\n",
       "        1    0.000    0.000    0.000    0.000 parallel.py:637(__init__)\n",
       "        1    0.000    0.000    0.000    0.000 queue.py:33(__init__)\n",
       "        2    0.000    0.000    0.000    0.000 weakref.py:159(__setitem__)\n",
       "       33    0.000    0.000    0.000    0.000 threading.py:1306(current_thread)\n",
       "        8    0.000    0.000    0.001    0.000 __init__.py:43(start)\n",
       "        1    0.000    0.000    0.001    0.001 pool.py:677(_terminate_pool)\n",
       "        2    0.000    0.000    0.000    0.000 synchronize.py:84(_cleanup)\n",
       "       14    0.000    0.000    0.000    0.000 threading.py:1095(daemon)\n",
       "       16    0.000    0.000    0.000    0.000 parallel.py:245(__init__)\n",
       "       16    0.000    0.000    0.000    0.000 fixes.py:215(__init__)\n",
       "        3    0.000    0.000    0.001    0.000 util.py:205(__call__)\n",
       "        3    0.000    0.000    0.000    0.000 queues.py:360(put)\n",
       "       16    0.000    0.000    0.000    0.000 _parallel_backends.py:124(get_nested_backend)\n",
       "        3    0.000    0.000    0.000    0.000 reduction.py:38(__init__)\n",
       "       11    0.000    0.000    0.000    0.000 _weakrefset.py:81(add)\n",
       "        3    0.000    0.000    0.000    0.000 reduction.py:48(dumps)\n",
       "        3    0.000    0.000    0.000    0.000 fromnumeric.py:70(_wrapreduction)\n",
       "        4    0.000    0.000    0.000    0.000 warnings.py:181(_add_filter)\n",
       "        3    0.000    0.000    0.000    0.000 connection.py:181(send_bytes)\n",
       "       16    0.000    0.000    0.000    0.000 random.py:250(_randbelow_with_getrandbits)\n",
       "       11    0.000    0.000    0.000    0.000 threading.py:734(_newname)\n",
       "        8    0.000    0.000    0.000    0.000 weakref.py:343(__init__)\n",
       "        4    0.000    0.000    0.000    0.000 warnings.py:458(__enter__)\n",
       "        2    0.000    0.000    0.000    0.000 __init__.py:8(_make_name)\n",
       "        1    0.000    0.000    0.000    0.000 contextlib.py:72(inner)\n",
       "       25    0.000    0.000    0.000    0.000 {method 'put' of '_queue.SimpleQueue' objects}\n",
       "        4    0.000    0.000    0.000    0.000 {built-in method numpy.empty}\n",
       "        2    0.000    0.000    0.000    0.000 _ufunc_config.py:32(seterr)\n",
       "        1    0.000    0.000    0.000    0.000 {method 'cumsum' of 'numpy.ndarray' objects}\n",
       "        2    0.000    0.000    0.000    0.000 {built-in method posix.close}\n",
       "        2    0.000    0.000    0.000    0.000 extmath.py:663(_safe_accumulator_op)\n",
       "       35    0.000    0.000    0.000    0.000 {method 'update' of 'dict' objects}\n",
       "        3    0.000    0.000    0.000    0.000 connection.py:390(_send_bytes)\n",
       "       16    0.000    0.000    0.000    0.000 random.py:285(choice)\n",
       "        9    0.000    0.000    0.000    0.000 _weakrefset.py:38(_remove)\n",
       "        2    0.000    0.000    0.000    0.000 version.py:378(_cmpkey)\n",
       "        3    0.000    0.000    0.000    0.000 arraysetops.py:138(unique)\n",
       "       11    0.000    0.000    0.000    0.000 threading.py:1177(_make_invoke_excepthook)\n",
       "        1    0.000    0.000    0.000    0.000 base.py:369(_validate_data)\n",
       "        2    0.000    0.000    0.000    0.000 {method 'search' of 're.Pattern' objects}\n",
       "        1    0.000    0.000    0.000    0.000 uuid.py:132(__init__)\n",
       "        3    0.000    0.000    0.000    0.000 util.py:186(__init__)\n",
       "        3    0.000    0.000    0.001    0.000 threading.py:979(join)\n",
       "       25    0.000    0.000    0.000    0.000 {built-in method builtins.next}\n",
       "        6    0.000    0.000    0.000    0.000 {built-in method _abc._abc_subclasscheck}\n",
       "       18    0.000    0.000    0.000    0.000 _config.py:14(get_config)\n",
       "        1    0.000    0.000    0.000    0.000 parallel.py:76(get_active_backend)\n",
       "        3    0.000    0.000    0.000    0.000 {method 'dump' of '_pickle.Pickler' objects}\n",
       "        1    0.000    0.000    0.000    0.000 pool.py:940(_help_stuff_finish)\n",
       "       16    0.000    0.000    0.000    0.000 fixes.py:207(delayed_function)\n",
       "        1    0.000    0.000    0.000    0.000 {built-in method posix.stat}\n",
       "        4    0.000    0.000    0.000    0.000 resource_tracker.py:70(ensure_running)\n",
       "        1    0.000    0.000    0.000    0.000 random.py:721(getrandbits)\n",
       "        3    0.000    0.000    0.000    0.000 threading.py:944(_stop)\n",
       "        2    0.000    0.000    0.000    0.000 fromnumeric.py:2111(sum)\n",
       "        3    0.000    0.000    0.000    0.000 {method 'flatten' of 'numpy.ndarray' objects}\n",
       "        2    0.000    0.000    0.000    0.000 {built-in method _multiprocessing.sem_unlink}\n",
       "        2    0.000    0.000    0.000    0.000 context.py:65(Lock)\n",
       "       16    0.000    0.000    0.000    0.000 functools.py:64(wraps)\n",
       "       16    0.000    0.000    0.000    0.000 queue.py:212(_put)\n",
       "        3    0.000    0.000    0.000    0.000 {method '__exit__' of '_multiprocessing.SemLock' objects}\n",
       "        1    0.000    0.000    0.000    0.000 context.py:110(SimpleQueue)\n",
       "        4    0.000    0.000    0.001    0.000 threading.py:1017(_wait_for_tstate_lock)\n",
       "        1    0.000    0.000    0.000    0.000 multiclass.py:113(is_multilabel)\n",
       "       17    0.000    0.000    0.000    0.000 {method 'rpartition' of 'str' objects}\n",
       "        1    0.000    0.000    0.000    0.000 validation.py:707(check_X_y)\n",
       "        2    0.000    0.000    0.000    0.000 {method 'sort' of 'numpy.ndarray' objects}\n",
       "        1    0.000    0.000    0.000    0.000 {method 'argsort' of 'numpy.ndarray' objects}\n",
       "       11    0.000    0.000    0.000    0.000 threading.py:1110(daemon)\n",
       "       16    0.000    0.000    0.000    0.000 queue.py:216(_get)\n",
       "        4    0.000    0.000    0.000    0.000 {method 'remove' of 'list' objects}\n",
       "       21    0.000    0.000    0.000    0.000 {method 'copy' of 'dict' objects}\n",
       "        1    0.000    0.000    0.000    0.000 {built-in method posix.pipe}\n",
       "        2    0.000    0.000    0.000    0.000 _ufunc_config.py:132(geterr)\n",
       "        2    0.000    0.000    0.000    0.000 tempfile.py:144(__next__)\n",
       "        2    0.000    0.000    0.000    0.000 <__array_function__ internals>:2(sum)\n",
       "       48    0.000    0.000    0.000    0.000 parallel.py:275(__len__)\n",
       "        1    0.000    0.000    0.000    0.000 fixes.py:63(_joblib_parallel_args)\n",
       "       19    0.000    0.000    0.000    0.000 queue.py:208(_qsize)\n",
       "        1    0.000    0.000    0.000    0.000 pool.py:644(close)\n",
       "       16    0.000    0.000    0.002    0.000 _parallel_backends.py:400(_get_pool)\n",
       "        4    0.000    0.000    0.000    0.000 warnings.py:437(__init__)\n",
       "        4    0.000    0.000    0.000    0.000 warnings.py:165(simplefilter)\n",
       "       17    0.000    0.000    0.000    0.000 util.py:48(debug)\n",
       "        4    0.000    0.000    0.000    0.000 warnings.py:477(__exit__)\n",
       "        3    0.000    0.000    0.000    0.000 <__array_function__ internals>:2(unique)\n",
       "        2    0.000    0.000    0.000    0.000 numerictypes.py:359(issubdtype)\n",
       "       16    0.000    0.000    0.000    0.000 parallel.py:345(__init__)\n",
       "        1    0.000    0.000    0.000    0.000 {built-in method posix.cpu_count}\n",
       "        1    0.000    0.000    0.000    0.000 logger.py:39(short_format_time)\n",
       "        2    0.000    0.000    0.000    0.000 fromnumeric.py:52(_wrapfunc)\n",
       "       20    0.000    0.000    0.000    0.000 {method 'group' of 're.Match' objects}\n",
       "        1    0.000    0.000    0.000    0.000 disk.py:42(memstr_to_bytes)\n",
       "        1    0.000    0.000    0.001    0.001 pool.py:651(terminate)\n",
       "        1    0.000    0.000    0.000    0.000 queues.py:334(__init__)\n",
       "        4    0.000    0.000    0.000    0.000 numerictypes.py:285(issubclass_)\n",
       "        4    0.000    0.000    0.000    0.000 resource_tracker.py:134(_check_alive)\n",
       "        1    0.000    0.000    0.000    0.000 logger.py:23(_squeeze_time)\n",
       "       33    0.000    0.000    0.000    0.000 {built-in method _thread.get_ident}\n",
       "        2    0.000    0.000    0.000    0.000 tempfile.py:147(<listcomp>)\n",
       "        8    0.000    0.000    0.000    0.000 weakref.py:395(__setitem__)\n",
       "       18    0.000    0.000    0.000    0.000 {built-in method time.time}\n",
       "        9    0.000    0.000    0.000    0.000 _asarray.py:110(asanyarray)\n",
       "        3    0.000    0.000    0.000    0.000 synchronize.py:97(__exit__)\n",
       "        2    0.000    0.000    0.000    0.000 weakref.py:103(remove)\n",
       "        6    0.000    0.000    0.000    0.000 weakref.py:345(remove)\n",
       "        2    0.000    0.000    0.000    0.000 __init__.py:126(parse_version)\n",
       "        1    0.000    0.000    0.000    0.000 _parallel_backends.py:280(__init__)\n",
       "        1    0.000    0.000    0.000    0.000 _base.py:123(_validate_estimator)\n",
       "       16    0.000    0.000    0.000    0.000 _parallel_backends.py:590(__init__)\n",
       "       20    0.000    0.000    0.000    0.000 {method 'insert' of 'list' objects}\n",
       "        3    0.000    0.000    0.000    0.000 synchronize.py:94(__enter__)\n",
       "        8    0.000    0.000    0.000    0.000 threading.py:1042(name)\n",
       "        1    0.000    0.000    0.000    0.000 parallel.py:730(_initialize_backend)\n",
       "        2    0.000    0.000    0.000    0.000 <string>:1(__new__)\n",
       "        1    0.000    0.000    0.000    0.000 {method 'astype' of 'numpy.ndarray' objects}\n",
       "       16    0.000    0.000    0.000    0.000 pool.py:348(_check_running)\n",
       "        1    0.000    0.000    0.000    0.000 shape_base.py:24(atleast_1d)\n",
       "        1    0.000    0.000    0.000    0.000 validation.py:248(check_consistent_length)\n",
       "        1    0.000    0.000    0.000    0.000 uuid.py:780(uuid4)\n",
       "        1    0.000    0.000    0.000    0.000 connection.py:516(Pipe)\n",
       "        7    0.000    0.000    0.000    0.000 version.py:226(<genexpr>)\n",
       "        4    0.000    0.000    0.000    0.000 base.py:1192(isspmatrix)\n",
       "        3    0.000    0.000    0.000    0.000 connection.py:365(_send)\n",
       "        3    0.000    0.000    0.000    0.000 fromnumeric.py:71(<dictcomp>)\n",
       "        2    0.000    0.000    0.000    0.000 connection.py:360(_close)\n",
       "        2    0.000    0.000    0.000    0.000 util.py:171(register_after_fork)\n",
       "        1    0.000    0.000    0.000    0.000 {method 'reshape' of 'numpy.ndarray' objects}\n",
       "        1    0.000    0.000    0.000    0.000 {built-in method numpy.zeros}\n",
       "        6    0.000    0.000    0.000    0.000 abc.py:100(__subclasscheck__)\n",
       "        4    0.000    0.000    0.000    0.000 _asarray.py:23(asarray)\n",
       "       11    0.000    0.000    0.000    0.000 {method 'add' of 'set' objects}\n",
       "        1    0.000    0.000    0.000    0.000 genericpath.py:16(exists)\n",
       "        1    0.000    0.000    0.000    0.000 pool.py:927(_setup_queues)\n",
       "       23    0.000    0.000    0.000    0.000 {method 'getrandbits' of '_random.Random' objects}\n",
       "        1    0.000    0.000    0.000    0.000 context.py:110(cpu_count)\n",
       "        1    0.000    0.000    0.000    0.000 <__array_function__ internals>:2(any)\n",
       "        1    0.000    0.000    0.000    0.000 _ufunc_config.py:433(__enter__)\n",
       "        1    0.000    0.000    0.000    0.000 <__array_function__ internals>:2(concatenate)\n",
       "        1    0.000    0.000    0.000    0.000 _ufunc_config.py:438(__exit__)\n",
       "        3    0.000    0.000    0.000    0.000 arraysetops.py:125(_unpack_tuple)\n",
       "        1    0.000    0.000    0.000    0.000 threading.py:1071(is_alive)\n",
       "        1    0.000    0.000    0.000    0.000 <__array_function__ internals>:2(atleast_1d)\n",
       "        1    0.000    0.000    0.000    0.000 fromnumeric.py:2256(any)\n",
       "        1    0.000    0.000    0.000    0.000 os.py:670(__getitem__)\n",
       "        1    0.000    0.000    0.000    0.000 os.py:748(encode)\n",
       "        5    0.000    0.000    0.000    0.000 {method 'encode' of 'str' objects}\n",
       "        2    0.000    0.000    0.000    0.000 connection.py:130(__del__)\n",
       "        6    0.000    0.000    0.000    0.000 {built-in method builtins.issubclass}\n",
       "        1    0.000    0.000    0.000    0.000 <__array_function__ internals>:2(copy)\n",
       "        2    0.000    0.000    0.000    0.000 resource_tracker.py:149(unregister)\n",
       "        2    0.000    0.000    0.000    0.000 validation.py:397(_ensure_no_complex_data)\n",
       "        8    0.000    0.000    0.000    0.000 {method 'replace' of 'str' objects}\n",
       "        2    0.000    0.000    0.000    0.000 tempfile.py:133(rng)\n",
       "       17    0.000    0.000    0.000    0.000 _parallel_backends.py:89(compute_batch_size)\n",
       "       10    0.000    0.000    0.000    0.000 {built-in method posix.getpid}\n",
       "        5    0.000    0.000    0.000    0.000 {built-in method builtins.max}\n",
       "        1    0.000    0.000    0.000    0.000 <__array_function__ internals>:2(cumsum)\n",
       "        2    0.000    0.000    0.000    0.000 {built-in method numpy.seterrobj}\n",
       "        1    0.000    0.000    0.000    0.000 contextlib.py:82(__init__)\n",
       "        2    0.000    0.000    0.000    0.000 connection.py:117(__init__)\n",
       "       16    0.000    0.000    0.000    0.000 {method 'popleft' of 'collections.deque' objects}\n",
       "        1    0.000    0.000    0.000    0.000 _parallel_backends.py:227(effective_n_jobs)\n",
       "        1    0.000    0.000    0.000    0.000 _collections_abc.py:657(get)\n",
       "        2    0.000    0.000    0.000    0.000 synchronize.py:161(__init__)\n",
       "        1    0.000    0.000    0.000    0.000 fromnumeric.py:199(reshape)\n",
       "        1    0.000    0.000    0.000    0.000 contextlib.py:117(__exit__)\n",
       "       12    0.000    0.000    0.000    0.000 {built-in method _warnings._filters_mutated}\n",
       "        9    0.000    0.000    0.000    0.000 {method 'discard' of 'set' objects}\n",
       "        4    0.000    0.000    0.000    0.000 {built-in method numpy.geterrobj}\n",
       "       16    0.000    0.000    0.000    0.000 {method 'bit_length' of 'int' objects}\n",
       "        1    0.000    0.000    0.000    0.000 context.py:41(cpu_count)\n",
       "        1    0.000    0.000    0.000    0.000 fromnumeric.py:2446(cumsum)\n",
       "        1    0.000    0.000    0.001    0.001 pool.py:302(_repopulate_pool)\n",
       "        3    0.000    0.000    0.000    0.000 {built-in method _struct.pack}\n",
       "        8    0.000    0.000    0.000    0.000 threading.py:1031(name)\n",
       "        2    0.000    0.000    0.000    0.000 {built-in method from_bytes}\n",
       "        1    0.000    0.000    0.001    0.001 parallel.py:755(_terminate_backend)\n",
       "        4    0.000    0.000    0.000    0.000 {built-in method __new__ of type object at 0x10369c6e8}\n",
       "        2    0.000    0.000    0.000    0.000 resource_tracker.py:145(register)\n",
       "        1    0.000    0.000    0.000    0.000 <__array_function__ internals>:2(reshape)\n",
       "        1    0.000    0.000    0.000    0.000 contextlib.py:238(helper)\n",
       "        1    0.000    0.000    0.000    0.000 version.py:61(_compare)\n",
       "        2    0.000    0.000    0.000    0.000 weakref.py:328(__init__)\n",
       "        1    0.000    0.000    0.000    0.000 validation.py:259(<listcomp>)\n",
       "        1    0.000    0.000    0.000    0.000 multiclass.py:169(check_classification_targets)\n",
       "        2    0.000    0.000    0.000    0.000 weakref.py:323(__new__)\n",
       "        1    0.000    0.000    0.002    0.002 pool.py:924(__init__)\n",
       "        1    0.000    0.000    0.000    0.000 uuid.py:327(hex)\n",
       "        1    0.000    0.000    0.000    0.000 threading.py:81(RLock)\n",
       "        1    0.000    0.000    0.000    0.000 _parallel_backends.py:389(configure)\n",
       "        2    0.000    0.000    0.000    0.000 synchronize.py:90(_make_methods)\n",
       "        2    0.000    0.000    0.000    0.000 {built-in method _weakref._remove_dead_weakref}\n",
       "        2    0.000    0.000    0.000    0.000 context.py:233(get_context)\n",
       "        1    0.000    0.000    0.000    0.000 function_base.py:715(copy)\n",
       "        1    0.000    0.000    0.000    0.000 pool.py:157(__init__)\n",
       "        3    0.000    0.000    0.000    0.000 {method 'getbuffer' of '_io.BytesIO' objects}\n",
       "        1    0.000    0.000    0.000    0.000 base.py:335(_check_n_features)\n",
       "        1    0.000    0.000    0.000    0.000 version.py:52(__ge__)\n",
       "        6    0.000    0.000    0.000    0.000 version.py:333(_parse_letter_version)\n",
       "        1    0.000    0.000    0.000    0.000 {method 'get' of '_queue.SimpleQueue' objects}\n",
       "        1    0.000    0.000    0.000    0.000 {method 'startswith' of 'str' objects}\n",
       "        3    0.000    0.000    0.000    0.000 connection.py:134(_check_closed)\n",
       "        2    0.000    0.000    0.000    0.000 {method 'split' of 'str' objects}\n",
       "        1    0.000    0.000    0.000    0.000 contextlib.py:108(__enter__)\n",
       "        2    0.000    0.000    0.000    0.000 parallel.py:862(_print)\n",
       "        1    0.000    0.000    0.000    0.000 queue.py:205(_init)\n",
       "        2    0.000    0.000    0.000    0.000 {method 'join' of 'str' objects}\n",
       "        3    0.000    0.000    0.000    0.000 arraysetops.py:133(_unique_dispatcher)\n",
       "        1    0.000    0.000    0.000    0.000 _asarray.py:183(ascontiguousarray)\n",
       "        2    0.000    0.000    0.000    0.000 {built-in method builtins.min}\n",
       "        3    0.000    0.000    0.000    0.000 connection.py:142(_check_writable)\n",
       "        3    0.000    0.000    0.000    0.000 util.py:44(sub_debug)\n",
       "        2    0.000    0.000    0.000    0.000 fromnumeric.py:2106(_sum_dispatcher)\n",
       "        2    0.000    0.000    0.000    0.000 _parallel_backends.py:137(retrieval_context)\n",
       "        3    0.000    0.000    0.000    0.000 context.py:187(get_context)\n",
       "        2    0.000    0.000    0.000    0.000 context.py:197(get_start_method)\n",
       "        4    0.000    0.000    0.000    0.000 _structures.py:32(__neg__)\n",
       "        1    0.000    0.000    0.000    0.000 pool.py:933(_get_sentinels)\n",
       "        1    0.000    0.000    0.000    0.000 pool.py:263(__del__)\n",
       "        2    0.000    0.000    0.000    0.000 version.py:367(_parse_local_version)\n",
       "        1    0.000    0.000    0.000    0.000 fromnumeric.py:2442(_cumsum_dispatcher)\n",
       "        1    0.000    0.000    0.000    0.000 {method 'disable' of '_lsprof.Profiler' objects}\n",
       "        1    0.000    0.000    0.000    0.000 {method 'count' of 'list' objects}\n",
       "        3    0.000    0.000    0.000    0.000 {method 'locked' of '_thread.lock' objects}\n",
       "        1    0.000    0.000    0.000    0.000 _forest.py:78(_get_n_samples_bootstrap)\n",
       "        1    0.000    0.000    0.000    0.000 fromnumeric.py:2251(_any_dispatcher)\n",
       "        1    0.000    0.000    0.000    0.000 function_base.py:711(_copy_dispatcher)\n",
       "        1    0.000    0.000    0.000    0.000 shape_base.py:20(_atleast_1d_dispatcher)\n",
       "        1    0.000    0.000    0.000    0.000 version.py:53(<lambda>)\n",
       "        1    0.000    0.000    0.000    0.000 fromnumeric.py:194(_reshape_dispatcher)\n",
       "        1    0.000    0.000    0.000    0.000 _parallel_backends.py:83(stop_call)\n",
       "        2    0.000    0.000    0.000    0.000 version.py:385(<lambda>)\n",
       "        1    0.000    0.000    0.000    0.000 <string>:1(<module>)\n",
       "        1    0.000    0.000    0.000    0.000 _parallel_backends.py:80(start_call)\n",
       "        1    0.000    0.000    0.000    0.000 multiarray.py:143(concatenate)\n",
       "        1    0.000    0.000    0.000    0.000 contextlib.py:59(_recreate_cm)\n",
       "        1    0.000    0.000    0.000    0.000 {built-in method builtins.iter}"
      ]
     },
     "metadata": {},
     "output_type": "display_data"
    }
   ],
   "source": [
    "%%prun\n",
    "clf.fit(X, y)"
   ]
  },
  {
   "cell_type": "markdown",
   "metadata": {},
   "source": [
    "# Plan\n",
    "\n",
    "- cythonize splitter in adherence to sklearn's `_splitter.pyx` pattern\n",
    "- incorporate sklearn's `_criterion.pyx` code\n",
    "- develop feature importances in Python\n",
    "- develop graph sampling\n",
    "- develop generalized convolutional filter bank: gabor, FT, wavelets\n",
    "    - to patch or not to patch?\n",
    "    - allowing Python lambda functions to be passed arbitrarily into the Cython tree builder?\n",
    "    \n",
    "    \n",
    "Gabor filter:\n",
    "1. When we sample a filter, it is KxK, and if we convolve this filter on an image, HxW, then we might sum up the response to represent as one number?\n",
    "2. imaginary vs real filter response: (symmetric vs anti-symmetric), or taking the l2 norm of the signal response (square root of sum of squared real and imaginary components)\n",
    "3. how to do patch-selection?"
   ]
  },
  {
   "cell_type": "code",
   "execution_count": 5,
   "metadata": {},
   "outputs": [
    {
     "data": {
      "application/javascript": [
       "\n",
       "            setTimeout(function() {\n",
       "                var nbb_cell_id = 5;\n",
       "                var nbb_unformatted_code = \"from skimage.filters import gabor_kernel\\nfrom scipy import ndimage as ndi\\nfrom scipy.signal import convolve2d, convolve, fftconvolve\\nimport scipy\";\n",
       "                var nbb_formatted_code = \"from skimage.filters import gabor_kernel\\nfrom scipy import ndimage as ndi\\nfrom scipy.signal import convolve2d, convolve, fftconvolve\\nimport scipy\";\n",
       "                var nbb_cells = Jupyter.notebook.get_cells();\n",
       "                for (var i = 0; i < nbb_cells.length; ++i) {\n",
       "                    if (nbb_cells[i].input_prompt_number == nbb_cell_id) {\n",
       "                        if (nbb_cells[i].get_text() == nbb_unformatted_code) {\n",
       "                             nbb_cells[i].set_text(nbb_formatted_code);\n",
       "                        }\n",
       "                        break;\n",
       "                    }\n",
       "                }\n",
       "            }, 500);\n",
       "            "
      ],
      "text/plain": [
       "<IPython.core.display.Javascript object>"
      ]
     },
     "metadata": {},
     "output_type": "display_data"
    }
   ],
   "source": [
    "from skimage.filters import gabor_kernel\n",
    "from scipy import ndimage as ndi\n",
    "from scipy.signal import convolve2d, convolve, fftconvolve\n",
    "import scipy"
   ]
  },
  {
   "cell_type": "code",
   "execution_count": 6,
   "metadata": {},
   "outputs": [
    {
     "name": "stdout",
     "output_type": "stream",
     "text": [
      "6.0\n",
      "(13, 13) (13, 13)\n"
     ]
    },
    {
     "data": {
      "text/plain": [
       "(13, 13)"
      ]
     },
     "execution_count": 6,
     "metadata": {},
     "output_type": "execute_result"
    },
    {
     "data": {
      "application/javascript": [
       "\n",
       "            setTimeout(function() {\n",
       "                var nbb_cell_id = 6;\n",
       "                var nbb_unformatted_code = \"def output_shape(n_stds, sigma_x, sigma_y, theta):\\n    y0 = np.ceil(\\n        max(\\n            np.abs(n_stds * sigma_y * np.cos(theta)),\\n            np.abs(n_stds * sigma_x * np.sin(theta)),\\n            1,\\n        )\\n    )\\n\\n    x0 = np.ceil(\\n        max(\\n            np.abs(n_stds * sigma_x * np.cos(theta)),\\n            np.abs(n_stds * sigma_y * np.sin(theta)),\\n            1,\\n        )\\n    )\\n\\n    print(y0)\\n    y, x = np.mgrid[-y0 : y0 + 1, -x0 : x0 + 1]\\n    print(y.shape, x.shape)\\n    #     print(y)\\n    #     print(x)\\n    return y.shape\\n\\n\\nbandwidth = 1\\nfrequency = 0.5\\ntheta = 0\\nsigma_x = bandwidth / frequency\\nsigma_y = bandwidth / frequency\\n\\noutput_shape(3, sigma_x, sigma_y, theta)\";\n",
       "                var nbb_formatted_code = \"def output_shape(n_stds, sigma_x, sigma_y, theta):\\n    y0 = np.ceil(\\n        max(\\n            np.abs(n_stds * sigma_y * np.cos(theta)),\\n            np.abs(n_stds * sigma_x * np.sin(theta)),\\n            1,\\n        )\\n    )\\n\\n    x0 = np.ceil(\\n        max(\\n            np.abs(n_stds * sigma_x * np.cos(theta)),\\n            np.abs(n_stds * sigma_y * np.sin(theta)),\\n            1,\\n        )\\n    )\\n\\n    print(y0)\\n    y, x = np.mgrid[-y0 : y0 + 1, -x0 : x0 + 1]\\n    print(y.shape, x.shape)\\n    #     print(y)\\n    #     print(x)\\n    return y.shape\\n\\n\\nbandwidth = 1\\nfrequency = 0.5\\ntheta = 0\\nsigma_x = bandwidth / frequency\\nsigma_y = bandwidth / frequency\\n\\noutput_shape(3, sigma_x, sigma_y, theta)\";\n",
       "                var nbb_cells = Jupyter.notebook.get_cells();\n",
       "                for (var i = 0; i < nbb_cells.length; ++i) {\n",
       "                    if (nbb_cells[i].input_prompt_number == nbb_cell_id) {\n",
       "                        if (nbb_cells[i].get_text() == nbb_unformatted_code) {\n",
       "                             nbb_cells[i].set_text(nbb_formatted_code);\n",
       "                        }\n",
       "                        break;\n",
       "                    }\n",
       "                }\n",
       "            }, 500);\n",
       "            "
      ],
      "text/plain": [
       "<IPython.core.display.Javascript object>"
      ]
     },
     "metadata": {},
     "output_type": "display_data"
    }
   ],
   "source": [
    "def output_shape(n_stds, sigma_x, sigma_y, theta):\n",
    "    y0 = np.ceil(\n",
    "        max(\n",
    "            np.abs(n_stds * sigma_y * np.cos(theta)),\n",
    "            np.abs(n_stds * sigma_x * np.sin(theta)),\n",
    "            1,\n",
    "        )\n",
    "    )\n",
    "\n",
    "    x0 = np.ceil(\n",
    "        max(\n",
    "            np.abs(n_stds * sigma_x * np.cos(theta)),\n",
    "            np.abs(n_stds * sigma_y * np.sin(theta)),\n",
    "            1,\n",
    "        )\n",
    "    )\n",
    "\n",
    "    print(y0)\n",
    "    y, x = np.mgrid[-y0 : y0 + 1, -x0 : x0 + 1]\n",
    "    print(y.shape, x.shape)\n",
    "    #     print(y)\n",
    "    #     print(x)\n",
    "    return y.shape\n",
    "\n",
    "\n",
    "bandwidth = 1\n",
    "frequency = 0.5\n",
    "theta = 0\n",
    "sigma_x = bandwidth / frequency\n",
    "sigma_y = bandwidth / frequency\n",
    "\n",
    "output_shape(3, sigma_x, sigma_y, theta)"
   ]
  },
  {
   "cell_type": "code",
   "execution_count": 22,
   "metadata": {},
   "outputs": [
    {
     "name": "stdout",
     "output_type": "stream",
     "text": [
      "(50, 20)\n",
      "(50, 5, 4)\n"
     ]
    },
    {
     "data": {
      "application/javascript": [
       "\n",
       "            setTimeout(function() {\n",
       "                var nbb_cell_id = 22;\n",
       "                var nbb_unformatted_code = \"X = np.random.normal(size=(n, height * d))\\ny = np.ones((n,))\\nprint(X.shape)\\n\\nsample_X = X.reshape(50, height, d)\\nprint(sample_X.shape)\";\n",
       "                var nbb_formatted_code = \"X = np.random.normal(size=(n, height * d))\\ny = np.ones((n,))\\nprint(X.shape)\\n\\nsample_X = X.reshape(50, height, d)\\nprint(sample_X.shape)\";\n",
       "                var nbb_cells = Jupyter.notebook.get_cells();\n",
       "                for (var i = 0; i < nbb_cells.length; ++i) {\n",
       "                    if (nbb_cells[i].input_prompt_number == nbb_cell_id) {\n",
       "                        if (nbb_cells[i].get_text() == nbb_unformatted_code) {\n",
       "                             nbb_cells[i].set_text(nbb_formatted_code);\n",
       "                        }\n",
       "                        break;\n",
       "                    }\n",
       "                }\n",
       "            }, 500);\n",
       "            "
      ],
      "text/plain": [
       "<IPython.core.display.Javascript object>"
      ]
     },
     "metadata": {},
     "output_type": "display_data"
    }
   ],
   "source": [
    "X = np.random.normal(size=(n, height * d))\n",
    "y = np.ones((n,))\n",
    "print(X.shape)\n",
    "\n",
    "sample_X = X.reshape(50, height, d)\n",
    "print(sample_X.shape)"
   ]
  },
  {
   "cell_type": "code",
   "execution_count": 25,
   "metadata": {},
   "outputs": [
    {
     "name": "stdout",
     "output_type": "stream",
     "text": [
      "(19, 19)\n"
     ]
    },
    {
     "data": {
      "application/javascript": [
       "\n",
       "            setTimeout(function() {\n",
       "                var nbb_cell_id = 25;\n",
       "                var nbb_unformatted_code = \"frequency = 0.2\\nkernel = gabor_kernel(frequency=frequency, n_stds=3, bandwidth=1)\\nprint(kernel.shape)\";\n",
       "                var nbb_formatted_code = \"frequency = 0.2\\nkernel = gabor_kernel(frequency=frequency, n_stds=3, bandwidth=1)\\nprint(kernel.shape)\";\n",
       "                var nbb_cells = Jupyter.notebook.get_cells();\n",
       "                for (var i = 0; i < nbb_cells.length; ++i) {\n",
       "                    if (nbb_cells[i].input_prompt_number == nbb_cell_id) {\n",
       "                        if (nbb_cells[i].get_text() == nbb_unformatted_code) {\n",
       "                             nbb_cells[i].set_text(nbb_formatted_code);\n",
       "                        }\n",
       "                        break;\n",
       "                    }\n",
       "                }\n",
       "            }, 500);\n",
       "            "
      ],
      "text/plain": [
       "<IPython.core.display.Javascript object>"
      ]
     },
     "metadata": {},
     "output_type": "display_data"
    }
   ],
   "source": [
    "frequency = 0.2\n",
    "kernel = gabor_kernel(frequency=frequency, n_stds=3, bandwidth=1)\n",
    "print(kernel.shape)"
   ]
  },
  {
   "cell_type": "code",
   "execution_count": 32,
   "metadata": {},
   "outputs": [
    {
     "name": "stderr",
     "output_type": "stream",
     "text": [
      "<ipython-input-32-46a57baa3b09>:3: UserWarning: To copy construct from a tensor, it is recommended to use sourceTensor.clone().detach() or sourceTensor.clone().detach().requires_grad_(True), rather than torch.tensor(sourceTensor).\n",
      "  sample_X = torch.tensor(sample_X.reshape(50, 1, height, d))\n"
     ]
    },
    {
     "name": "stdout",
     "output_type": "stream",
     "text": [
      "(2, 1, 19, 19)\n",
      "torch.Size([50, 2, 5, 4])\n",
      "torch.Size([2, 1, 19, 19])\n",
      "torch.Size([50, 1, 5, 4])\n"
     ]
    },
    {
     "data": {
      "application/javascript": [
       "\n",
       "            setTimeout(function() {\n",
       "                var nbb_cell_id = 32;\n",
       "                var nbb_unformatted_code = \"pad_size = list(map(int, ((kernel.shape[0] - 1) / 2, (kernel.shape[1] - 1) / 2)))\\n\\nsample_X = torch.tensor(sample_X.reshape(50, 1, height, d))\\ntensor_kernel = kernel.reshape(1, 1, kernel.shape[0], kernel.shape[1])\\nreal_kernel = tensor_kernel.real\\nimag_kernel = tensor_kernel.imag\\n\\ntensor_kernel = np.concatenate((real_kernel, imag_kernel), axis=0)\\nprint(tensor_kernel.shape)\\ntensor_kernel = torch.tensor(tensor_kernel)\\n\\n\\noutput = torch.conv2d(sample_X, tensor_kernel, padding=pad_size)\\n\\nprint(output.shape)\\nprint(tensor_kernel.shape)\\nprint(sample_X.shape)\";\n",
       "                var nbb_formatted_code = \"pad_size = list(map(int, ((kernel.shape[0] - 1) / 2, (kernel.shape[1] - 1) / 2)))\\n\\nsample_X = torch.tensor(sample_X.reshape(50, 1, height, d))\\ntensor_kernel = kernel.reshape(1, 1, kernel.shape[0], kernel.shape[1])\\nreal_kernel = tensor_kernel.real\\nimag_kernel = tensor_kernel.imag\\n\\ntensor_kernel = np.concatenate((real_kernel, imag_kernel), axis=0)\\nprint(tensor_kernel.shape)\\ntensor_kernel = torch.tensor(tensor_kernel)\\n\\n\\noutput = torch.conv2d(sample_X, tensor_kernel, padding=pad_size)\\n\\nprint(output.shape)\\nprint(tensor_kernel.shape)\\nprint(sample_X.shape)\";\n",
       "                var nbb_cells = Jupyter.notebook.get_cells();\n",
       "                for (var i = 0; i < nbb_cells.length; ++i) {\n",
       "                    if (nbb_cells[i].input_prompt_number == nbb_cell_id) {\n",
       "                        if (nbb_cells[i].get_text() == nbb_unformatted_code) {\n",
       "                             nbb_cells[i].set_text(nbb_formatted_code);\n",
       "                        }\n",
       "                        break;\n",
       "                    }\n",
       "                }\n",
       "            }, 500);\n",
       "            "
      ],
      "text/plain": [
       "<IPython.core.display.Javascript object>"
      ]
     },
     "metadata": {},
     "output_type": "display_data"
    }
   ],
   "source": [
    "pad_size = list(map(int, ((kernel.shape[0] - 1) / 2, (kernel.shape[1] - 1) / 2)))\n",
    "\n",
    "sample_X = torch.tensor(sample_X.reshape(50, 1, height, d))\n",
    "tensor_kernel = kernel.reshape(1, 1, kernel.shape[0], kernel.shape[1])\n",
    "real_kernel = tensor_kernel.real\n",
    "imag_kernel = tensor_kernel.imag\n",
    "\n",
    "tensor_kernel = np.concatenate((real_kernel, imag_kernel), axis=0)\n",
    "print(tensor_kernel.shape)\n",
    "tensor_kernel = torch.tensor(tensor_kernel)\n",
    "\n",
    "\n",
    "output = torch.conv2d(sample_X, tensor_kernel, padding=pad_size)\n",
    "\n",
    "print(output.shape)\n",
    "print(tensor_kernel.shape)\n",
    "print(sample_X.shape)"
   ]
  },
  {
   "cell_type": "code",
   "execution_count": 31,
   "metadata": {},
   "outputs": [
    {
     "name": "stdout",
     "output_type": "stream",
     "text": [
      "(5, 4)\n"
     ]
    },
    {
     "data": {
      "text/plain": [
       "<AxesSubplot:>"
      ]
     },
     "execution_count": 31,
     "metadata": {},
     "output_type": "execute_result"
    },
    {
     "data": {
      "image/png": "[encoded data removed]",
      "text/plain": [
       "<Figure size 432x288 with 2 Axes>"
      ]
     },
     "metadata": {
      "needs_background": "light"
     },
     "output_type": "display_data"
    },
    {
     "data": {
      "application/javascript": [
       "\n",
       "            setTimeout(function() {\n",
       "                var nbb_cell_id = 31;\n",
       "                var nbb_unformatted_code = \"test = convolve(sample_X[0, ...], kernel, mode='same')\\nprint(test.shape)\\nsns.heatmap(test.real)\";\n",
       "                var nbb_formatted_code = \"test = convolve(sample_X[0, ...], kernel, mode=\\\"same\\\")\\nprint(test.shape)\\nsns.heatmap(test.real)\";\n",
       "                var nbb_cells = Jupyter.notebook.get_cells();\n",
       "                for (var i = 0; i < nbb_cells.length; ++i) {\n",
       "                    if (nbb_cells[i].input_prompt_number == nbb_cell_id) {\n",
       "                        if (nbb_cells[i].get_text() == nbb_unformatted_code) {\n",
       "                             nbb_cells[i].set_text(nbb_formatted_code);\n",
       "                        }\n",
       "                        break;\n",
       "                    }\n",
       "                }\n",
       "            }, 500);\n",
       "            "
      ],
      "text/plain": [
       "<IPython.core.display.Javascript object>"
      ]
     },
     "metadata": {},
     "output_type": "display_data"
    }
   ],
   "source": [
    "test = convolve(sample_X[0, ...], kernel, mode=\"same\")\n",
    "print(test.shape)\n",
    "sns.heatmap(test.real)"
   ]
  },
  {
   "cell_type": "code",
   "execution_count": 34,
   "metadata": {
    "collapsed": true,
    "jupyter": {
     "outputs_hidden": true
    }
   },
   "outputs": [
    {
     "data": {
      "image/png": "[encoded data removed]",
      "text/plain": [
       "<Figure size 432x288 with 2 Axes>"
      ]
     },
     "metadata": {
      "needs_background": "light"
     },
     "output_type": "display_data"
    },
    {
     "data": {
      "image/png": "[encoded data removed]",
      "text/plain": [
       "<Figure size 432x288 with 2 Axes>"
      ]
     },
     "metadata": {
      "needs_background": "light"
     },
     "output_type": "display_data"
    },
    {
     "data": {
      "image/png": "[encoded data removed]",
      "text/plain": [
       "<Figure size 432x288 with 2 Axes>"
      ]
     },
     "metadata": {
      "needs_background": "light"
     },
     "output_type": "display_data"
    },
    {
     "data": {
      "image/png": "[encoded data removed]",
      "text/plain": [
       "<Figure size 432x288 with 2 Axes>"
      ]
     },
     "metadata": {
      "needs_background": "light"
     },
     "output_type": "display_data"
    },
    {
     "data": {
      "image/png": "[encoded data removed]",
      "text/plain": [
       "<Figure size 432x288 with 2 Axes>"
      ]
     },
     "metadata": {
      "needs_background": "light"
     },
     "output_type": "display_data"
    },
    {
     "data": {
      "image/png": "[encoded data removed]",
      "text/plain": [
       "<Figure size 432x288 with 2 Axes>"
      ]
     },
     "metadata": {
      "needs_background": "light"
     },
     "output_type": "display_data"
    },
    {
     "data": {
      "image/png": "[encoded data removed]",
      "text/plain": [
       "<Figure size 432x288 with 2 Axes>"
      ]
     },
     "metadata": {
      "needs_background": "light"
     },
     "output_type": "display_data"
    },
    {
     "data": {
      "image/png": "[encoded data removed]",
      "text/plain": [
       "<Figure size 432x288 with 2 Axes>"
      ]
     },
     "metadata": {
      "needs_background": "light"
     },
     "output_type": "display_data"
    },
    {
     "data": {
      "image/png": "[encoded data removed]",
      "text/plain": [
       "<Figure size 432x288 with 2 Axes>"
      ]
     },
     "metadata": {
      "needs_background": "light"
     },
     "output_type": "display_data"
    },
    {
     "data": {
      "image/png": "[encoded data removed]",
      "text/plain": [
       "<Figure size 432x288 with 2 Axes>"
      ]
     },
     "metadata": {
      "needs_background": "light"
     },
     "output_type": "display_data"
    },
    {
     "data": {
      "application/javascript": [
       "\n",
       "            setTimeout(function() {\n",
       "                var nbb_cell_id = 34;\n",
       "                var nbb_unformatted_code = \"frequency = 0.2\\n\\nfor frequency in np.linspace(0.01, 1.0, 10):\\n\\n    kernel = gabor_kernel(\\n        frequency=frequency,\\n        n_stds=3,\\n        bandwidth=1.5\\n        #                       sigma_x=1, sigma_y=1\\n    )\\n    test = convolve(sample_X[0, ...], kernel, mode=\\\"same\\\")\\n    plt.figure()\\n    sns.heatmap(test.real)\\n    plt.title(test.real.sum())\\n\\n    # plt.figure()\\n    # sns.heatmap(kernel.imag)\";\n",
       "                var nbb_formatted_code = \"frequency = 0.2\\n\\nfor frequency in np.linspace(0.01, 1.0, 10):\\n\\n    kernel = gabor_kernel(\\n        frequency=frequency,\\n        n_stds=3,\\n        bandwidth=1.5\\n        #                       sigma_x=1, sigma_y=1\\n    )\\n    test = convolve(sample_X[0, ...], kernel, mode=\\\"same\\\")\\n    plt.figure()\\n    sns.heatmap(test.real)\\n    plt.title(test.real.sum())\\n\\n    # plt.figure()\\n    # sns.heatmap(kernel.imag)\";\n",
       "                var nbb_cells = Jupyter.notebook.get_cells();\n",
       "                for (var i = 0; i < nbb_cells.length; ++i) {\n",
       "                    if (nbb_cells[i].input_prompt_number == nbb_cell_id) {\n",
       "                        if (nbb_cells[i].get_text() == nbb_unformatted_code) {\n",
       "                             nbb_cells[i].set_text(nbb_formatted_code);\n",
       "                        }\n",
       "                        break;\n",
       "                    }\n",
       "                }\n",
       "            }, 500);\n",
       "            "
      ],
      "text/plain": [
       "<IPython.core.display.Javascript object>"
      ]
     },
     "metadata": {},
     "output_type": "display_data"
    }
   ],
   "source": [
    "frequency = 0.2\n",
    "\n",
    "for frequency in np.linspace(0.01, 1.0, 10):\n",
    "\n",
    "    kernel = gabor_kernel(\n",
    "        frequency=frequency,\n",
    "        n_stds=3,\n",
    "        bandwidth=1.5\n",
    "        #                       sigma_x=1, sigma_y=1\n",
    "    )\n",
    "    test = convolve(sample_X[0, ...], kernel, mode=\"same\")\n",
    "    plt.figure()\n",
    "    sns.heatmap(test.real)\n",
    "    plt.title(test.real.sum())\n",
    "\n",
    "    # plt.figure()\n",
    "    # sns.heatmap(kernel.imag)"
   ]
  },
  {
   "cell_type": "code",
   "execution_count": 25,
   "metadata": {},
   "outputs": [
    {
     "name": "stdout",
     "output_type": "stream",
     "text": [
      "(19, 19)\n"
     ]
    },
    {
     "data": {
      "application/javascript": [
       "\n",
       "            setTimeout(function() {\n",
       "                var nbb_cell_id = 25;\n",
       "                var nbb_unformatted_code = \"frequency = 0.2\\nkernel = gabor_kernel(frequency=frequency, n_stds=3, bandwidth=1)\\nprint(kernel.shape)\";\n",
       "                var nbb_formatted_code = \"frequency = 0.2\\nkernel = gabor_kernel(frequency=frequency, n_stds=3, bandwidth=1)\\nprint(kernel.shape)\";\n",
       "                var nbb_cells = Jupyter.notebook.get_cells();\n",
       "                for (var i = 0; i < nbb_cells.length; ++i) {\n",
       "                    if (nbb_cells[i].input_prompt_number == nbb_cell_id) {\n",
       "                        if (nbb_cells[i].get_text() == nbb_unformatted_code) {\n",
       "                             nbb_cells[i].set_text(nbb_formatted_code);\n",
       "                        }\n",
       "                        break;\n",
       "                    }\n",
       "                }\n",
       "            }, 500);\n",
       "            "
      ],
      "text/plain": [
       "<IPython.core.display.Javascript object>"
      ]
     },
     "metadata": {},
     "output_type": "display_data"
    }
   ],
   "source": [
    "frequency = 0.2\n",
    "kernel = gabor_kernel(frequency=frequency, n_stds=3, bandwidth=1)\n",
    "print(kernel.shape)"
   ]
  },
  {
   "cell_type": "code",
   "execution_count": 86,
   "metadata": {},
   "outputs": [
    {
     "name": "stdout",
     "output_type": "stream",
     "text": [
      "Image shape:  3 4\n",
      "Initial kernel shape:  (19, 19)\n",
      "The final output size (21, 22) of the vectorized convolution kernel\n",
      "(21, 22)\n"
     ]
    },
    {
     "data": {
      "application/javascript": [
       "\n",
       "            setTimeout(function() {\n",
       "                var nbb_cell_id = 86;\n",
       "                var nbb_unformatted_code = \"image_height = height\\nimage_width = d\\nimage_height = 2 + 1\\nimage_width = 3 + 1\\n\\n# reference: https://stackoverflow.com/questions/16798888/2-d-convolution-as-a-matrix-matrix-multiplication\\noutput_size = (image_height + kernel.shape[0] - 1, image_width + kernel.shape[1] - 1)\\n\\n# zero-pad filter matrix\\npad_width = [\\n    (output_size[0] - kernel.shape[0], 0),\\n    (0, output_size[1] - kernel.shape[1]),\\n]\\nkernel_padded = np.pad(kernel, pad_width=pad_width)\\n\\nprint(f\\\"Image shape: \\\", image_height, image_width)\\nprint(f\\\"Initial kernel shape: \\\", kernel.shape)\\nprint(f\\\"The final output size {output_size} of the vectorized convolution kernel\\\")\\nprint(kernel_padded.shape)\";\n",
       "                var nbb_formatted_code = \"image_height = height\\nimage_width = d\\nimage_height = 2 + 1\\nimage_width = 3 + 1\\n\\n# reference: https://stackoverflow.com/questions/16798888/2-d-convolution-as-a-matrix-matrix-multiplication\\noutput_size = (image_height + kernel.shape[0] - 1, image_width + kernel.shape[1] - 1)\\n\\n# zero-pad filter matrix\\npad_width = [\\n    (output_size[0] - kernel.shape[0], 0),\\n    (0, output_size[1] - kernel.shape[1]),\\n]\\nkernel_padded = np.pad(kernel, pad_width=pad_width)\\n\\nprint(f\\\"Image shape: \\\", image_height, image_width)\\nprint(f\\\"Initial kernel shape: \\\", kernel.shape)\\nprint(f\\\"The final output size {output_size} of the vectorized convolution kernel\\\")\\nprint(kernel_padded.shape)\";\n",
       "                var nbb_cells = Jupyter.notebook.get_cells();\n",
       "                for (var i = 0; i < nbb_cells.length; ++i) {\n",
       "                    if (nbb_cells[i].input_prompt_number == nbb_cell_id) {\n",
       "                        if (nbb_cells[i].get_text() == nbb_unformatted_code) {\n",
       "                             nbb_cells[i].set_text(nbb_formatted_code);\n",
       "                        }\n",
       "                        break;\n",
       "                    }\n",
       "                }\n",
       "            }, 500);\n",
       "            "
      ],
      "text/plain": [
       "<IPython.core.display.Javascript object>"
      ]
     },
     "metadata": {},
     "output_type": "display_data"
    }
   ],
   "source": [
    "image_height = height\n",
    "image_width = d\n",
    "image_height = 2 + 1\n",
    "image_width = 3 + 1\n",
    "\n",
    "# reference: https://stackoverflow.com/questions/16798888/2-d-convolution-as-a-matrix-matrix-multiplication\n",
    "output_size = (image_height + kernel.shape[0] - 1, image_width + kernel.shape[1] - 1)\n",
    "\n",
    "# zero-pad filter matrix\n",
    "pad_width = [\n",
    "    (output_size[0] - kernel.shape[0], 0),\n",
    "    (0, output_size[1] - kernel.shape[1]),\n",
    "]\n",
    "kernel_padded = np.pad(kernel, pad_width=pad_width)\n",
    "\n",
    "print(f\"Image shape: \", image_height, image_width)\n",
    "print(f\"Initial kernel shape: \", kernel.shape)\n",
    "print(f\"The final output size {output_size} of the vectorized convolution kernel\")\n",
    "print(kernel_padded.shape)"
   ]
  },
  {
   "cell_type": "code",
   "execution_count": 87,
   "metadata": {},
   "outputs": [
    {
     "name": "stdout",
     "output_type": "stream",
     "text": [
      "(22, 6)\n",
      "21\n",
      "12 (462, 12)\n"
     ]
    },
    {
     "data": {
      "application/javascript": [
       "\n",
       "            setTimeout(function() {\n",
       "                var nbb_cell_id = 87;\n",
       "                var nbb_unformatted_code = \"# create the toeplitz matrix for each row of the filter\\ntoeplitz_list = []\\nfor i in range(kernel_padded.shape[0]):\\n    c = kernel_padded[\\n        i, :\\n    ]  # i th row of the F to define first column of toeplitz matrix\\n\\n    # first row for the toeplitz fuction should be defined otherwise\\n    # the result is wrong\\n    r = np.hstack([c[0], np.zeros(int(image_width * image_height / 2) - 1)])\\n\\n    # create the toeplitz matrix\\n    toeplitz_m = scipy.linalg.toeplitz(c, r)\\n\\n    assert toeplitz_m.shape == (kernel_padded.shape[1], len(r))\\n\\n    #     print(toeplitz_m.shape)\\n    toeplitz_list.append(toeplitz_m)\\n\\n# create block matrix\\nzero_block = np.zeros(toeplitz_m.shape)\\nblock_seq = []\\nfor idx, block in enumerate(toeplitz_list):\\n    if idx == 0:\\n        block_seq.append([block, zero_block])\\n    else:\\n        block_seq.append([block, toeplitz_list[idx - 1]])\\ndoubly_block_mat = np.block(block_seq)\\n\\nprint(toeplitz_m.shape)\\nprint(len(toeplitz_list))\\nprint(image_height * image_width, doubly_block_mat.shape)\\n# print(doubly_indices.shape)\\n\\nassert image_height * image_width == doubly_block_mat.shape[1]\";\n",
       "                var nbb_formatted_code = \"# create the toeplitz matrix for each row of the filter\\ntoeplitz_list = []\\nfor i in range(kernel_padded.shape[0]):\\n    c = kernel_padded[\\n        i, :\\n    ]  # i th row of the F to define first column of toeplitz matrix\\n\\n    # first row for the toeplitz fuction should be defined otherwise\\n    # the result is wrong\\n    r = np.hstack([c[0], np.zeros(int(image_width * image_height / 2) - 1)])\\n\\n    # create the toeplitz matrix\\n    toeplitz_m = scipy.linalg.toeplitz(c, r)\\n\\n    assert toeplitz_m.shape == (kernel_padded.shape[1], len(r))\\n\\n    #     print(toeplitz_m.shape)\\n    toeplitz_list.append(toeplitz_m)\\n\\n# create block matrix\\nzero_block = np.zeros(toeplitz_m.shape)\\nblock_seq = []\\nfor idx, block in enumerate(toeplitz_list):\\n    if idx == 0:\\n        block_seq.append([block, zero_block])\\n    else:\\n        block_seq.append([block, toeplitz_list[idx - 1]])\\ndoubly_block_mat = np.block(block_seq)\\n\\nprint(toeplitz_m.shape)\\nprint(len(toeplitz_list))\\nprint(image_height * image_width, doubly_block_mat.shape)\\n# print(doubly_indices.shape)\\n\\nassert image_height * image_width == doubly_block_mat.shape[1]\";\n",
       "                var nbb_cells = Jupyter.notebook.get_cells();\n",
       "                for (var i = 0; i < nbb_cells.length; ++i) {\n",
       "                    if (nbb_cells[i].input_prompt_number == nbb_cell_id) {\n",
       "                        if (nbb_cells[i].get_text() == nbb_unformatted_code) {\n",
       "                             nbb_cells[i].set_text(nbb_formatted_code);\n",
       "                        }\n",
       "                        break;\n",
       "                    }\n",
       "                }\n",
       "            }, 500);\n",
       "            "
      ],
      "text/plain": [
       "<IPython.core.display.Javascript object>"
      ]
     },
     "metadata": {},
     "output_type": "display_data"
    }
   ],
   "source": [
    "# create the toeplitz matrix for each row of the filter\n",
    "toeplitz_list = []\n",
    "for i in range(kernel_padded.shape[0]):\n",
    "    c = kernel_padded[\n",
    "        i, :\n",
    "    ]  # i th row of the F to define first column of toeplitz matrix\n",
    "\n",
    "    # first row for the toeplitz fuction should be defined otherwise\n",
    "    # the result is wrong\n",
    "    r = np.hstack([c[0], np.zeros(int(image_width * image_height / 2) - 1)])\n",
    "\n",
    "    # create the toeplitz matrix\n",
    "    toeplitz_m = scipy.linalg.toeplitz(c, r)\n",
    "\n",
    "    assert toeplitz_m.shape == (kernel_padded.shape[1], len(r))\n",
    "\n",
    "    #     print(toeplitz_m.shape)\n",
    "    toeplitz_list.append(toeplitz_m)\n",
    "\n",
    "# create block matrix\n",
    "zero_block = np.zeros(toeplitz_m.shape)\n",
    "block_seq = []\n",
    "for idx, block in enumerate(toeplitz_list):\n",
    "    if idx == 0:\n",
    "        block_seq.append([block, zero_block])\n",
    "    else:\n",
    "        block_seq.append([block, toeplitz_list[idx - 1]])\n",
    "doubly_block_mat = np.block(block_seq)\n",
    "\n",
    "print(toeplitz_m.shape)\n",
    "print(len(toeplitz_list))\n",
    "print(image_height * image_width, doubly_block_mat.shape)\n",
    "# print(doubly_indices.shape)\n",
    "\n",
    "assert image_height * image_width == doubly_block_mat.shape[1]"
   ]
  },
  {
   "cell_type": "code",
   "execution_count": 25,
   "metadata": {},
   "outputs": [
    {
     "data": {
      "application/javascript": [
       "\n",
       "            setTimeout(function() {\n",
       "                var nbb_cell_id = 25;\n",
       "                var nbb_unformatted_code = \"test = convolve(sample_X[0, ...], kernel, mode=\\\"same\\\")\";\n",
       "                var nbb_formatted_code = \"test = convolve(sample_X[0, ...], kernel, mode=\\\"same\\\")\";\n",
       "                var nbb_cells = Jupyter.notebook.get_cells();\n",
       "                for (var i = 0; i < nbb_cells.length; ++i) {\n",
       "                    if (nbb_cells[i].input_prompt_number == nbb_cell_id) {\n",
       "                        if (nbb_cells[i].get_text() == nbb_unformatted_code) {\n",
       "                             nbb_cells[i].set_text(nbb_formatted_code);\n",
       "                        }\n",
       "                        break;\n",
       "                    }\n",
       "                }\n",
       "            }, 500);\n",
       "            "
      ],
      "text/plain": [
       "<IPython.core.display.Javascript object>"
      ]
     },
     "metadata": {},
     "output_type": "display_data"
    }
   ],
   "source": [
    "test = convolve(sample_X[0, ...], kernel, mode=\"same\")"
   ]
  },
  {
   "cell_type": "code",
   "execution_count": 15,
   "metadata": {},
   "outputs": [
    {
     "data": {
      "application/javascript": [
       "\n",
       "            setTimeout(function() {\n",
       "                var nbb_cell_id = 15;\n",
       "                var nbb_unformatted_code = \"from scipy import linalg\\n\\n\\ndef toeplitz_1_ch(kernel, input_size):\\n    # shapes\\n    k_h, k_w = kernel.shape\\n    i_h, i_w = input_size\\n    # o_h, o_w = i_h-k_h+1, i_w-k_w+1\\n    o_h, o_w = i_h, i_w\\n    # construct 1d conv toeplitz matrices for the kernel, with \\\"same\\\" padding\\n    n = i_h\\n\\n    K1 = np.zeros((n,))\\n    K1[:2] = (kernel[1, 1], kernel[1, 2])\\n    K2 = np.zeros((n,))\\n    K2[:2] = (kernel[1, 1], kernel[1, 0])\\n\\n    K = linalg.toeplitz(c=K2, r=K1)\\n    KK = np.identity(n)\\n\\n    L1 = np.zeros((n,))\\n    L1[:2] = (kernel[2, 1], kernel[2, 2])\\n    L2 = np.zeros((n,))\\n    L2[:2] = (kernel[2, 1], kernel[2, 0])\\n\\n    t = np.zeros(n)\\n    s = np.zeros(n)\\n    s[1] = 1\\n    L = linalg.toeplitz(c=L2, r=L1)\\n    LL = linalg.toeplitz(r=s, c=t)\\n\\n    A = np.kron(LL, L) + np.kron(KK, K)\\n\\n    L1 = np.zeros((n,))\\n    L1[:2] = (kernel[0, 1], kernel[0, 2])\\n    L2 = np.zeros((n,))\\n    L2[:2] = (kernel[0, 1], kernel[0, 0])\\n\\n    L = linalg.toeplitz(c=L2, r=L1)\\n    LL = linalg.toeplitz(c=s, r=t)\\n    A = A + np.kron(LL, L)\\n    return A\\n\\n\\ndef toeplitz_mult_ch(kernel, output_size):\\n    \\\"\\\"\\\"Compute toeplitz matrix for 2d conv with multiple in and out channels.\\n    Args:\\n        kernel: shape=(n_out, n_in, H_k, W_k)\\n        input_size: (n_in, H_i, W_i)\\\"\\\"\\\"\\n    # reference: https://stackoverflow.com/questions/60643786/2d-convolution-with-padding-same-via-toeplitz-matrix-multiplication\\n    kernel_size = kernel.shape\\n    input_size = output_size\\n    # same padding should result in the shape as\\n    # input image\\n    #     output_size = (image_height, image_width)\\n    #     T = np.zeros(\\n    #         (\\n    #             output_size[0],\\n    #             int(np.prod(output_size[1:])),\\n    #             input_size[0],\\n    #             int(np.prod(input_size[1:])),\\n    #         )\\n    #     )\\n\\n    for i, ks in enumerate(kernel):  # loop over output channel\\n        for j, k in enumerate(ks):  # loop over input channel\\n            T_k = toeplitz_1_ch(k, input_size[1:])\\n            T[i, :, j, :] = T_k\\n    T.shape = (np.prod(output_size), np.prod(input_size))\\n\\n    return T\";\n",
       "                var nbb_formatted_code = \"from scipy import linalg\\n\\n\\ndef toeplitz_1_ch(kernel, input_size):\\n    # shapes\\n    k_h, k_w = kernel.shape\\n    i_h, i_w = input_size\\n    # o_h, o_w = i_h-k_h+1, i_w-k_w+1\\n    o_h, o_w = i_h, i_w\\n    # construct 1d conv toeplitz matrices for the kernel, with \\\"same\\\" padding\\n    n = i_h\\n\\n    K1 = np.zeros((n,))\\n    K1[:2] = (kernel[1, 1], kernel[1, 2])\\n    K2 = np.zeros((n,))\\n    K2[:2] = (kernel[1, 1], kernel[1, 0])\\n\\n    K = linalg.toeplitz(c=K2, r=K1)\\n    KK = np.identity(n)\\n\\n    L1 = np.zeros((n,))\\n    L1[:2] = (kernel[2, 1], kernel[2, 2])\\n    L2 = np.zeros((n,))\\n    L2[:2] = (kernel[2, 1], kernel[2, 0])\\n\\n    t = np.zeros(n)\\n    s = np.zeros(n)\\n    s[1] = 1\\n    L = linalg.toeplitz(c=L2, r=L1)\\n    LL = linalg.toeplitz(r=s, c=t)\\n\\n    A = np.kron(LL, L) + np.kron(KK, K)\\n\\n    L1 = np.zeros((n,))\\n    L1[:2] = (kernel[0, 1], kernel[0, 2])\\n    L2 = np.zeros((n,))\\n    L2[:2] = (kernel[0, 1], kernel[0, 0])\\n\\n    L = linalg.toeplitz(c=L2, r=L1)\\n    LL = linalg.toeplitz(c=s, r=t)\\n    A = A + np.kron(LL, L)\\n    return A\\n\\n\\ndef toeplitz_mult_ch(kernel, output_size):\\n    \\\"\\\"\\\"Compute toeplitz matrix for 2d conv with multiple in and out channels.\\n    Args:\\n        kernel: shape=(n_out, n_in, H_k, W_k)\\n        input_size: (n_in, H_i, W_i)\\\"\\\"\\\"\\n    # reference: https://stackoverflow.com/questions/60643786/2d-convolution-with-padding-same-via-toeplitz-matrix-multiplication\\n    kernel_size = kernel.shape\\n    input_size = output_size\\n    # same padding should result in the shape as\\n    # input image\\n    #     output_size = (image_height, image_width)\\n    #     T = np.zeros(\\n    #         (\\n    #             output_size[0],\\n    #             int(np.prod(output_size[1:])),\\n    #             input_size[0],\\n    #             int(np.prod(input_size[1:])),\\n    #         )\\n    #     )\\n\\n    for i, ks in enumerate(kernel):  # loop over output channel\\n        for j, k in enumerate(ks):  # loop over input channel\\n            T_k = toeplitz_1_ch(k, input_size[1:])\\n            T[i, :, j, :] = T_k\\n    T.shape = (np.prod(output_size), np.prod(input_size))\\n\\n    return T\";\n",
       "                var nbb_cells = Jupyter.notebook.get_cells();\n",
       "                for (var i = 0; i < nbb_cells.length; ++i) {\n",
       "                    if (nbb_cells[i].input_prompt_number == nbb_cell_id) {\n",
       "                        if (nbb_cells[i].get_text() == nbb_unformatted_code) {\n",
       "                             nbb_cells[i].set_text(nbb_formatted_code);\n",
       "                        }\n",
       "                        break;\n",
       "                    }\n",
       "                }\n",
       "            }, 500);\n",
       "            "
      ],
      "text/plain": [
       "<IPython.core.display.Javascript object>"
      ]
     },
     "metadata": {},
     "output_type": "display_data"
    }
   ],
   "source": [
    "from scipy import linalg\n",
    "\n",
    "\n",
    "def toeplitz_1_ch(kernel, input_size):\n",
    "    # shapes\n",
    "    k_h, k_w = kernel.shape\n",
    "    i_h, i_w = input_size\n",
    "    # o_h, o_w = i_h-k_h+1, i_w-k_w+1\n",
    "    o_h, o_w = i_h, i_w\n",
    "    # construct 1d conv toeplitz matrices for the kernel, with \"same\" padding\n",
    "    n = i_h\n",
    "\n",
    "    K1 = np.zeros((n,))\n",
    "    K1[:2] = (kernel[1, 1], kernel[1, 2])\n",
    "    K2 = np.zeros((n,))\n",
    "    K2[:2] = (kernel[1, 1], kernel[1, 0])\n",
    "\n",
    "    K = linalg.toeplitz(c=K2, r=K1)\n",
    "    KK = np.identity(n)\n",
    "\n",
    "    L1 = np.zeros((n,))\n",
    "    L1[:2] = (kernel[2, 1], kernel[2, 2])\n",
    "    L2 = np.zeros((n,))\n",
    "    L2[:2] = (kernel[2, 1], kernel[2, 0])\n",
    "\n",
    "    t = np.zeros(n)\n",
    "    s = np.zeros(n)\n",
    "    s[1] = 1\n",
    "    L = linalg.toeplitz(c=L2, r=L1)\n",
    "    LL = linalg.toeplitz(r=s, c=t)\n",
    "\n",
    "    A = np.kron(LL, L) + np.kron(KK, K)\n",
    "\n",
    "    L1 = np.zeros((n,))\n",
    "    L1[:2] = (kernel[0, 1], kernel[0, 2])\n",
    "    L2 = np.zeros((n,))\n",
    "    L2[:2] = (kernel[0, 1], kernel[0, 0])\n",
    "\n",
    "    L = linalg.toeplitz(c=L2, r=L1)\n",
    "    LL = linalg.toeplitz(c=s, r=t)\n",
    "    A = A + np.kron(LL, L)\n",
    "    return A\n",
    "\n",
    "\n",
    "def toeplitz_mult_ch(kernel, output_size):\n",
    "    \"\"\"Compute toeplitz matrix for 2d conv with multiple in and out channels.\n",
    "    Args:\n",
    "        kernel: shape=(n_out, n_in, H_k, W_k)\n",
    "        input_size: (n_in, H_i, W_i)\"\"\"\n",
    "    # reference: https://stackoverflow.com/questions/60643786/2d-convolution-with-padding-same-via-toeplitz-matrix-multiplication\n",
    "    kernel_size = kernel.shape\n",
    "    input_size = output_size\n",
    "    # same padding should result in the shape as\n",
    "    # input image\n",
    "    #     output_size = (image_height, image_width)\n",
    "    #     T = np.zeros(\n",
    "    #         (\n",
    "    #             output_size[0],\n",
    "    #             int(np.prod(output_size[1:])),\n",
    "    #             input_size[0],\n",
    "    #             int(np.prod(input_size[1:])),\n",
    "    #         )\n",
    "    #     )\n",
    "\n",
    "#     for i, ks in enumerate(kernel):  # loop over output channel\n",
    "#         for j, k in enumerate(ks):  # loop over input channel\n",
    "        T_k = toeplitz_1_ch(k, input_size[1:])\n",
    "        T[i, :, j, :] = T_k\n",
    "    T.shape = (np.prod(output_size), np.prod(input_size))\n",
    "\n",
    "    return T"
   ]
  },
  {
   "cell_type": "code",
   "execution_count": 18,
   "metadata": {},
   "outputs": [
    {
     "ename": "IndexError",
     "evalue": "index 2 is out of bounds for axis 1 with size 2",
     "output_type": "error",
     "traceback": [
      "\u001b[0;31m---------------------------------------------------------------------------\u001b[0m",
      "\u001b[0;31mIndexError\u001b[0m                                Traceback (most recent call last)",
      "\u001b[0;32m<ipython-input-18-cee8a9b3c523>\u001b[0m in \u001b[0;36m<module>\u001b[0;34m\u001b[0m\n\u001b[0;32m----> 1\u001b[0;31m \u001b[0mT\u001b[0m \u001b[0;34m=\u001b[0m \u001b[0mtoeplitz_1_ch\u001b[0m\u001b[0;34m(\u001b[0m\u001b[0mk\u001b[0m\u001b[0;34m,\u001b[0m \u001b[0mi\u001b[0m\u001b[0;34m.\u001b[0m\u001b[0mshape\u001b[0m\u001b[0;34m)\u001b[0m\u001b[0;34m\u001b[0m\u001b[0;34m\u001b[0m\u001b[0m\n\u001b[0m\u001b[1;32m      2\u001b[0m \u001b[0mkernel\u001b[0m \u001b[0;34m=\u001b[0m \u001b[0mk\u001b[0m\u001b[0;34m\u001b[0m\u001b[0;34m\u001b[0m\u001b[0m\n\u001b[1;32m      3\u001b[0m \u001b[0minput_size\u001b[0m \u001b[0;34m=\u001b[0m \u001b[0mi\u001b[0m\u001b[0;34m.\u001b[0m\u001b[0mshape\u001b[0m\u001b[0;34m\u001b[0m\u001b[0;34m\u001b[0m\u001b[0m\n\u001b[1;32m      4\u001b[0m \u001b[0;34m\u001b[0m\u001b[0m\n\u001b[1;32m      5\u001b[0m \u001b[0;31m# shapes\u001b[0m\u001b[0;34m\u001b[0m\u001b[0;34m\u001b[0m\u001b[0;34m\u001b[0m\u001b[0m\n",
      "\u001b[0;32m<ipython-input-15-cc9703501b6a>\u001b[0m in \u001b[0;36mtoeplitz_1_ch\u001b[0;34m(kernel, input_size)\u001b[0m\n\u001b[1;32m     12\u001b[0m \u001b[0;34m\u001b[0m\u001b[0m\n\u001b[1;32m     13\u001b[0m     \u001b[0mK1\u001b[0m \u001b[0;34m=\u001b[0m \u001b[0mnp\u001b[0m\u001b[0;34m.\u001b[0m\u001b[0mzeros\u001b[0m\u001b[0;34m(\u001b[0m\u001b[0;34m(\u001b[0m\u001b[0mn\u001b[0m\u001b[0;34m,\u001b[0m\u001b[0;34m)\u001b[0m\u001b[0;34m)\u001b[0m\u001b[0;34m\u001b[0m\u001b[0;34m\u001b[0m\u001b[0m\n\u001b[0;32m---> 14\u001b[0;31m     \u001b[0mK1\u001b[0m\u001b[0;34m[\u001b[0m\u001b[0;34m:\u001b[0m\u001b[0;36m2\u001b[0m\u001b[0;34m]\u001b[0m \u001b[0;34m=\u001b[0m \u001b[0;34m(\u001b[0m\u001b[0mkernel\u001b[0m\u001b[0;34m[\u001b[0m\u001b[0;36m1\u001b[0m\u001b[0;34m,\u001b[0m \u001b[0;36m1\u001b[0m\u001b[0;34m]\u001b[0m\u001b[0;34m,\u001b[0m \u001b[0mkernel\u001b[0m\u001b[0;34m[\u001b[0m\u001b[0;36m1\u001b[0m\u001b[0;34m,\u001b[0m \u001b[0;36m2\u001b[0m\u001b[0;34m]\u001b[0m\u001b[0;34m)\u001b[0m\u001b[0;34m\u001b[0m\u001b[0;34m\u001b[0m\u001b[0m\n\u001b[0m\u001b[1;32m     15\u001b[0m     \u001b[0mK2\u001b[0m \u001b[0;34m=\u001b[0m \u001b[0mnp\u001b[0m\u001b[0;34m.\u001b[0m\u001b[0mzeros\u001b[0m\u001b[0;34m(\u001b[0m\u001b[0;34m(\u001b[0m\u001b[0mn\u001b[0m\u001b[0;34m,\u001b[0m\u001b[0;34m)\u001b[0m\u001b[0;34m)\u001b[0m\u001b[0;34m\u001b[0m\u001b[0;34m\u001b[0m\u001b[0m\n\u001b[1;32m     16\u001b[0m     \u001b[0mK2\u001b[0m\u001b[0;34m[\u001b[0m\u001b[0;34m:\u001b[0m\u001b[0;36m2\u001b[0m\u001b[0;34m]\u001b[0m \u001b[0;34m=\u001b[0m \u001b[0;34m(\u001b[0m\u001b[0mkernel\u001b[0m\u001b[0;34m[\u001b[0m\u001b[0;36m1\u001b[0m\u001b[0;34m,\u001b[0m \u001b[0;36m1\u001b[0m\u001b[0;34m]\u001b[0m\u001b[0;34m,\u001b[0m \u001b[0mkernel\u001b[0m\u001b[0;34m[\u001b[0m\u001b[0;36m1\u001b[0m\u001b[0;34m,\u001b[0m \u001b[0;36m0\u001b[0m\u001b[0;34m]\u001b[0m\u001b[0;34m)\u001b[0m\u001b[0;34m\u001b[0m\u001b[0;34m\u001b[0m\u001b[0m\n",
      "\u001b[0;31mIndexError\u001b[0m: index 2 is out of bounds for axis 1 with size 2"
     ]
    },
    {
     "data": {
      "application/javascript": [
       "\n",
       "            setTimeout(function() {\n",
       "                var nbb_cell_id = 18;\n",
       "                var nbb_unformatted_code = \"T = toeplitz_1_ch(k, i.shape)\\nkernel = k\\ninput_size = i.shape\\n\\n# shapes\\nk_h, k_w = kernel.shape\\ni_h, i_w = input_size\\n# o_h, o_w = i_h-k_h+1, i_w-k_w+1\\no_h, o_w = i_h, i_w\\n# construct 1d conv toeplitz matrices for the kernel, with \\\"same\\\" padding\\nn = i_h\\n\\nK1 = np.zeros((n,))\\nK1[:2] = (kernel[1, 1], kernel[1, 2])\\n\\nprint(K1)\\nK2 = np.zeros((n,))\\nK2[:2] = (kernel[1, 1], kernel[1, 0])\\n\\nK = linalg.toeplitz(c=K2, r=K1)\\nKK = np.identity(n)\\n\\nL1 = np.zeros((n,))\\nL1[:2] = (kernel[2, 1], kernel[2, 2])\\nL2 = np.zeros((n,))\\nL2[:2] = (kernel[2, 1], kernel[2, 0])\\n\\nt = np.zeros(n)\\ns = np.zeros(n)\\ns[1] = 1\\nL = linalg.toeplitz(c=L2, r=L1)\\nLL = linalg.toeplitz(r=s, c=t)\\n\\nA = np.kron(LL, L) + np.kron(KK, K)\\n\\nL1 = np.zeros((n,))\\nL1[:2] = (kernel[0, 1], kernel[0, 2])\\nL2 = np.zeros((n,))\\nL2[:2] = (kernel[0, 1], kernel[0, 0])\\n\\nL = linalg.toeplitz(c=L2, r=L1)\\nLL = linalg.toeplitz(c=s, r=t)\\nA = A + np.kron(LL, L)\\n\\nprint(T)\";\n",
       "                var nbb_formatted_code = \"T = toeplitz_1_ch(k, i.shape)\\nkernel = k\\ninput_size = i.shape\\n\\n# shapes\\nk_h, k_w = kernel.shape\\ni_h, i_w = input_size\\n# o_h, o_w = i_h-k_h+1, i_w-k_w+1\\no_h, o_w = i_h, i_w\\n# construct 1d conv toeplitz matrices for the kernel, with \\\"same\\\" padding\\nn = i_h\\n\\nK1 = np.zeros((n,))\\nK1[:2] = (kernel[1, 1], kernel[1, 2])\\n\\nprint(K1)\\nK2 = np.zeros((n,))\\nK2[:2] = (kernel[1, 1], kernel[1, 0])\\n\\nK = linalg.toeplitz(c=K2, r=K1)\\nKK = np.identity(n)\\n\\nL1 = np.zeros((n,))\\nL1[:2] = (kernel[2, 1], kernel[2, 2])\\nL2 = np.zeros((n,))\\nL2[:2] = (kernel[2, 1], kernel[2, 0])\\n\\nt = np.zeros(n)\\ns = np.zeros(n)\\ns[1] = 1\\nL = linalg.toeplitz(c=L2, r=L1)\\nLL = linalg.toeplitz(r=s, c=t)\\n\\nA = np.kron(LL, L) + np.kron(KK, K)\\n\\nL1 = np.zeros((n,))\\nL1[:2] = (kernel[0, 1], kernel[0, 2])\\nL2 = np.zeros((n,))\\nL2[:2] = (kernel[0, 1], kernel[0, 0])\\n\\nL = linalg.toeplitz(c=L2, r=L1)\\nLL = linalg.toeplitz(c=s, r=t)\\nA = A + np.kron(LL, L)\\n\\nprint(T)\";\n",
       "                var nbb_cells = Jupyter.notebook.get_cells();\n",
       "                for (var i = 0; i < nbb_cells.length; ++i) {\n",
       "                    if (nbb_cells[i].input_prompt_number == nbb_cell_id) {\n",
       "                        if (nbb_cells[i].get_text() == nbb_unformatted_code) {\n",
       "                             nbb_cells[i].set_text(nbb_formatted_code);\n",
       "                        }\n",
       "                        break;\n",
       "                    }\n",
       "                }\n",
       "            }, 500);\n",
       "            "
      ],
      "text/plain": [
       "<IPython.core.display.Javascript object>"
      ]
     },
     "metadata": {},
     "output_type": "display_data"
    }
   ],
   "source": [
    "T = toeplitz_1_ch(k, i.shape)\n",
    "kernel = k\n",
    "input_size = i.shape\n",
    "\n",
    "# shapes\n",
    "k_h, k_w = kernel.shape\n",
    "i_h, i_w = input_size\n",
    "# o_h, o_w = i_h-k_h+1, i_w-k_w+1\n",
    "o_h, o_w = i_h, i_w\n",
    "# construct 1d conv toeplitz matrices for the kernel, with \"same\" padding\n",
    "n = i_h\n",
    "\n",
    "K1 = np.zeros((n,))\n",
    "K1[:2] = (kernel[1, 1], kernel[1, 2])\n",
    "K2 = np.zeros((n,))\n",
    "K2[:2] = (kernel[1, 1], kernel[1, 0])\n",
    "\n",
    "K = linalg.toeplitz(c=K2, r=K1)\n",
    "KK = np.identity(n)\n",
    "\n",
    "L1 = np.zeros((n,))\n",
    "L1[:2] = (kernel[2, 1], kernel[2, 2])\n",
    "L2 = np.zeros((n,))\n",
    "L2[:2] = (kernel[2, 1], kernel[2, 0])\n",
    "\n",
    "t = np.zeros(n)\n",
    "s = np.zeros(n)\n",
    "s[1] = 1\n",
    "L = linalg.toeplitz(c=L2, r=L1)\n",
    "LL = linalg.toeplitz(r=s, c=t)\n",
    "\n",
    "A = np.kron(LL, L) + np.kron(KK, K)\n",
    "\n",
    "L1 = np.zeros((n,))\n",
    "L1[:2] = (kernel[0, 1], kernel[0, 2])\n",
    "L2 = np.zeros((n,))\n",
    "L2[:2] = (kernel[0, 1], kernel[0, 0])\n",
    "\n",
    "L = linalg.toeplitz(c=L2, r=L1)\n",
    "LL = linalg.toeplitz(c=s, r=t)\n",
    "A = A + np.kron(LL, L)\n",
    "\n",
    "print(T)"
   ]
  },
  {
   "cell_type": "code",
   "execution_count": 16,
   "metadata": {},
   "outputs": [
    {
     "name": "stdout",
     "output_type": "stream",
     "text": [
      "(5, 4) (2, 2)\n"
     ]
    },
    {
     "ename": "ValueError",
     "evalue": "not enough values to unpack (expected 2, got 0)",
     "output_type": "error",
     "traceback": [
      "\u001b[0;31m---------------------------------------------------------------------------\u001b[0m",
      "\u001b[0;31mValueError\u001b[0m                                Traceback (most recent call last)",
      "\u001b[0;32m<ipython-input-16-5fc416e638d9>\u001b[0m in \u001b[0;36m<module>\u001b[0;34m\u001b[0m\n\u001b[1;32m      3\u001b[0m \u001b[0;34m\u001b[0m\u001b[0m\n\u001b[1;32m      4\u001b[0m \u001b[0mprint\u001b[0m\u001b[0;34m(\u001b[0m\u001b[0mi\u001b[0m\u001b[0;34m.\u001b[0m\u001b[0mshape\u001b[0m\u001b[0;34m,\u001b[0m \u001b[0mk\u001b[0m\u001b[0;34m.\u001b[0m\u001b[0mshape\u001b[0m\u001b[0;34m)\u001b[0m\u001b[0;34m\u001b[0m\u001b[0;34m\u001b[0m\u001b[0m\n\u001b[0;32m----> 5\u001b[0;31m \u001b[0mT\u001b[0m \u001b[0;34m=\u001b[0m \u001b[0mtoeplitz_mult_ch\u001b[0m\u001b[0;34m(\u001b[0m\u001b[0mk\u001b[0m\u001b[0;34m,\u001b[0m \u001b[0mi\u001b[0m\u001b[0;34m.\u001b[0m\u001b[0mshape\u001b[0m\u001b[0;34m)\u001b[0m\u001b[0;34m\u001b[0m\u001b[0;34m\u001b[0m\u001b[0m\n\u001b[0m\u001b[1;32m      6\u001b[0m \u001b[0mout\u001b[0m \u001b[0;34m=\u001b[0m \u001b[0mT\u001b[0m\u001b[0;34m.\u001b[0m\u001b[0mdot\u001b[0m\u001b[0;34m(\u001b[0m\u001b[0mi\u001b[0m\u001b[0;34m.\u001b[0m\u001b[0mflatten\u001b[0m\u001b[0;34m(\u001b[0m\u001b[0;34m)\u001b[0m\u001b[0;34m)\u001b[0m\u001b[0;34m.\u001b[0m\u001b[0mreshape\u001b[0m\u001b[0;34m(\u001b[0m\u001b[0;34m(\u001b[0m\u001b[0;36m1\u001b[0m\u001b[0;34m,\u001b[0m \u001b[0;36m4\u001b[0m\u001b[0;34m,\u001b[0m \u001b[0;36m9\u001b[0m\u001b[0;34m,\u001b[0m \u001b[0;36m9\u001b[0m\u001b[0;34m)\u001b[0m\u001b[0;34m)\u001b[0m\u001b[0;34m\u001b[0m\u001b[0;34m\u001b[0m\u001b[0m\n",
      "\u001b[0;32m<ipython-input-15-cc9703501b6a>\u001b[0m in \u001b[0;36mtoeplitz_mult_ch\u001b[0;34m(kernel, output_size)\u001b[0m\n\u001b[1;32m     65\u001b[0m     \u001b[0;32mfor\u001b[0m \u001b[0mi\u001b[0m\u001b[0;34m,\u001b[0m \u001b[0mks\u001b[0m \u001b[0;32min\u001b[0m \u001b[0menumerate\u001b[0m\u001b[0;34m(\u001b[0m\u001b[0mkernel\u001b[0m\u001b[0;34m)\u001b[0m\u001b[0;34m:\u001b[0m  \u001b[0;31m# loop over output channel\u001b[0m\u001b[0;34m\u001b[0m\u001b[0;34m\u001b[0m\u001b[0m\n\u001b[1;32m     66\u001b[0m         \u001b[0;32mfor\u001b[0m \u001b[0mj\u001b[0m\u001b[0;34m,\u001b[0m \u001b[0mk\u001b[0m \u001b[0;32min\u001b[0m \u001b[0menumerate\u001b[0m\u001b[0;34m(\u001b[0m\u001b[0mks\u001b[0m\u001b[0;34m)\u001b[0m\u001b[0;34m:\u001b[0m  \u001b[0;31m# loop over input channel\u001b[0m\u001b[0;34m\u001b[0m\u001b[0;34m\u001b[0m\u001b[0m\n\u001b[0;32m---> 67\u001b[0;31m             \u001b[0mT_k\u001b[0m \u001b[0;34m=\u001b[0m \u001b[0mtoeplitz_1_ch\u001b[0m\u001b[0;34m(\u001b[0m\u001b[0mk\u001b[0m\u001b[0;34m,\u001b[0m \u001b[0minput_size\u001b[0m\u001b[0;34m[\u001b[0m\u001b[0;36m1\u001b[0m\u001b[0;34m:\u001b[0m\u001b[0;34m]\u001b[0m\u001b[0;34m)\u001b[0m\u001b[0;34m\u001b[0m\u001b[0;34m\u001b[0m\u001b[0m\n\u001b[0m\u001b[1;32m     68\u001b[0m             \u001b[0mT\u001b[0m\u001b[0;34m[\u001b[0m\u001b[0mi\u001b[0m\u001b[0;34m,\u001b[0m \u001b[0;34m:\u001b[0m\u001b[0;34m,\u001b[0m \u001b[0mj\u001b[0m\u001b[0;34m,\u001b[0m \u001b[0;34m:\u001b[0m\u001b[0;34m]\u001b[0m \u001b[0;34m=\u001b[0m \u001b[0mT_k\u001b[0m\u001b[0;34m\u001b[0m\u001b[0;34m\u001b[0m\u001b[0m\n\u001b[1;32m     69\u001b[0m     \u001b[0mT\u001b[0m\u001b[0;34m.\u001b[0m\u001b[0mshape\u001b[0m \u001b[0;34m=\u001b[0m \u001b[0;34m(\u001b[0m\u001b[0mnp\u001b[0m\u001b[0;34m.\u001b[0m\u001b[0mprod\u001b[0m\u001b[0;34m(\u001b[0m\u001b[0moutput_size\u001b[0m\u001b[0;34m)\u001b[0m\u001b[0;34m,\u001b[0m \u001b[0mnp\u001b[0m\u001b[0;34m.\u001b[0m\u001b[0mprod\u001b[0m\u001b[0;34m(\u001b[0m\u001b[0minput_size\u001b[0m\u001b[0;34m)\u001b[0m\u001b[0;34m)\u001b[0m\u001b[0;34m\u001b[0m\u001b[0;34m\u001b[0m\u001b[0m\n",
      "\u001b[0;32m<ipython-input-15-cc9703501b6a>\u001b[0m in \u001b[0;36mtoeplitz_1_ch\u001b[0;34m(kernel, input_size)\u001b[0m\n\u001b[1;32m      4\u001b[0m \u001b[0;32mdef\u001b[0m \u001b[0mtoeplitz_1_ch\u001b[0m\u001b[0;34m(\u001b[0m\u001b[0mkernel\u001b[0m\u001b[0;34m,\u001b[0m \u001b[0minput_size\u001b[0m\u001b[0;34m)\u001b[0m\u001b[0;34m:\u001b[0m\u001b[0;34m\u001b[0m\u001b[0;34m\u001b[0m\u001b[0m\n\u001b[1;32m      5\u001b[0m     \u001b[0;31m# shapes\u001b[0m\u001b[0;34m\u001b[0m\u001b[0;34m\u001b[0m\u001b[0;34m\u001b[0m\u001b[0m\n\u001b[0;32m----> 6\u001b[0;31m     \u001b[0mk_h\u001b[0m\u001b[0;34m,\u001b[0m \u001b[0mk_w\u001b[0m \u001b[0;34m=\u001b[0m \u001b[0mkernel\u001b[0m\u001b[0;34m.\u001b[0m\u001b[0mshape\u001b[0m\u001b[0;34m\u001b[0m\u001b[0;34m\u001b[0m\u001b[0m\n\u001b[0m\u001b[1;32m      7\u001b[0m     \u001b[0mi_h\u001b[0m\u001b[0;34m,\u001b[0m \u001b[0mi_w\u001b[0m \u001b[0;34m=\u001b[0m \u001b[0minput_size\u001b[0m\u001b[0;34m\u001b[0m\u001b[0;34m\u001b[0m\u001b[0m\n\u001b[1;32m      8\u001b[0m     \u001b[0;31m# o_h, o_w = i_h-k_h+1, i_w-k_w+1\u001b[0m\u001b[0;34m\u001b[0m\u001b[0;34m\u001b[0m\u001b[0;34m\u001b[0m\u001b[0m\n",
      "\u001b[0;31mValueError\u001b[0m: not enough values to unpack (expected 2, got 0)"
     ]
    },
    {
     "data": {
      "application/javascript": [
       "\n",
       "            setTimeout(function() {\n",
       "                var nbb_cell_id = 16;\n",
       "                var nbb_unformatted_code = \"k = np.random.normal(size=(2, 2))\\ni = np.random.randn(5, 4)\\n\\nprint(i.shape, k.shape)\\nT = toeplitz_mult_ch(k, i.shape)\\nout = T.dot(i.flatten()).reshape((1, 4, 9, 9))\";\n",
       "                var nbb_formatted_code = \"k = np.random.normal(size=(2, 2))\\ni = np.random.randn(5, 4)\\n\\nprint(i.shape, k.shape)\\nT = toeplitz_mult_ch(k, i.shape)\\nout = T.dot(i.flatten()).reshape((1, 4, 9, 9))\";\n",
       "                var nbb_cells = Jupyter.notebook.get_cells();\n",
       "                for (var i = 0; i < nbb_cells.length; ++i) {\n",
       "                    if (nbb_cells[i].input_prompt_number == nbb_cell_id) {\n",
       "                        if (nbb_cells[i].get_text() == nbb_unformatted_code) {\n",
       "                             nbb_cells[i].set_text(nbb_formatted_code);\n",
       "                        }\n",
       "                        break;\n",
       "                    }\n",
       "                }\n",
       "            }, 500);\n",
       "            "
      ],
      "text/plain": [
       "<IPython.core.display.Javascript object>"
      ]
     },
     "metadata": {},
     "output_type": "display_data"
    }
   ],
   "source": [
    "k = np.random.normal(size=(2, 2))\n",
    "i = np.random.randn(5, 4)\n",
    "\n",
    "print(i.shape, k.shape)\n",
    "T = toeplitz_mult_ch(k, i.shape)\n",
    "out = T.dot(i.flatten()).reshape((1, 4, 9, 9))"
   ]
  },
  {
   "cell_type": "code",
   "execution_count": 94,
   "metadata": {},
   "outputs": [
    {
     "name": "stdout",
     "output_type": "stream",
     "text": [
      "(4, 3, 3, 3) (3, 9, 9)\n",
      "(324, 243)\n",
      "(1, 4, 9, 9)\n"
     ]
    },
    {
     "data": {
      "application/javascript": [
       "\n",
       "            setTimeout(function() {\n",
       "                var nbb_cell_id = 94;\n",
       "                var nbb_unformatted_code = \"print(k.shape, i.shape)\\nprint(T.shape)\\nprint(out.shape)\";\n",
       "                var nbb_formatted_code = \"print(k.shape, i.shape)\\nprint(T.shape)\\nprint(out.shape)\";\n",
       "                var nbb_cells = Jupyter.notebook.get_cells();\n",
       "                for (var i = 0; i < nbb_cells.length; ++i) {\n",
       "                    if (nbb_cells[i].input_prompt_number == nbb_cell_id) {\n",
       "                        if (nbb_cells[i].get_text() == nbb_unformatted_code) {\n",
       "                             nbb_cells[i].set_text(nbb_formatted_code);\n",
       "                        }\n",
       "                        break;\n",
       "                    }\n",
       "                }\n",
       "            }, 500);\n",
       "            "
      ],
      "text/plain": [
       "<IPython.core.display.Javascript object>"
      ]
     },
     "metadata": {},
     "output_type": "display_data"
    }
   ],
   "source": [
    "print(k.shape, i.shape)\n",
    "print(T.shape)\n",
    "print(out.shape)"
   ]
  },
  {
   "cell_type": "code",
   "execution_count": 115,
   "metadata": {},
   "outputs": [
    {
     "data": {
      "application/javascript": [
       "\n",
       "            setTimeout(function() {\n",
       "                var nbb_cell_id = 115;\n",
       "                var nbb_unformatted_code = \"def _convolutional_kernel_matrix(kernel, image_height, image_width, mode=\\\"same\\\"):\\n    # reference: https://stackoverflow.com/questions/16798888/2-d-convolution-as-a-matrix-matrix-multiplication\\n    if mode == \\\"same\\\":\\n        pad_size = ((kernel.shape[0] - 1) / 2, (kernel.shape[1] - 1) / 2)\\n        image_height = int(image_height + pad_size[0])\\n        image_width = int(image_width + pad_size[1])\\n\\n    # get output size of the data\\n    output_size = (\\n        image_height + kernel.shape[0] - 1,\\n        image_width + kernel.shape[1] - 1,\\n    )\\n\\n    # zero-pad filter matrix\\n    pad_width = [\\n        (output_size[0] - kernel.shape[0], 0),\\n        (0, output_size[1] - kernel.shape[1]),\\n    ]\\n    kernel_padded = np.pad(kernel, pad_width=pad_width)\\n\\n    # create the toeplitz matrix for each row of the filter\\n    toeplitz_list = []\\n    for i in range(kernel_padded.shape[0]):\\n        c = kernel_padded[\\n            i, :\\n        ]  # i th row of the F to define first column of toeplitz matrix\\n\\n        # first row for the toeplitz fuction should be defined otherwise\\n        # the result is wrong\\n        r = np.hstack([c[0], np.zeros(int(image_width * image_height / 2) - 1)])\\n\\n        # create the toeplitz matrix\\n        toeplitz_m = scipy.linalg.toeplitz(c, r)\\n\\n        assert toeplitz_m.shape == (kernel_padded.shape[1], len(r))\\n\\n        #     print(toeplitz_m.shape)\\n        toeplitz_list.append(toeplitz_m)\\n\\n    # create block matrix\\n    zero_block = np.zeros(toeplitz_m.shape)\\n    block_seq = []\\n    for idx, block in enumerate(toeplitz_list):\\n        if idx == 0:\\n            block_seq.append([block, zero_block])\\n        else:\\n            block_seq.append([block, toeplitz_list[idx - 1]])\\n    doubly_block_mat = np.block(block_seq)\\n    return doubly_block_mat\";\n",
       "                var nbb_formatted_code = \"def _convolutional_kernel_matrix(kernel, image_height, image_width, mode=\\\"same\\\"):\\n    # reference: https://stackoverflow.com/questions/16798888/2-d-convolution-as-a-matrix-matrix-multiplication\\n    if mode == \\\"same\\\":\\n        pad_size = ((kernel.shape[0] - 1) / 2, (kernel.shape[1] - 1) / 2)\\n        image_height = int(image_height + pad_size[0])\\n        image_width = int(image_width + pad_size[1])\\n\\n    # get output size of the data\\n    output_size = (\\n        image_height + kernel.shape[0] - 1,\\n        image_width + kernel.shape[1] - 1,\\n    )\\n\\n    # zero-pad filter matrix\\n    pad_width = [\\n        (output_size[0] - kernel.shape[0], 0),\\n        (0, output_size[1] - kernel.shape[1]),\\n    ]\\n    kernel_padded = np.pad(kernel, pad_width=pad_width)\\n\\n    # create the toeplitz matrix for each row of the filter\\n    toeplitz_list = []\\n    for i in range(kernel_padded.shape[0]):\\n        c = kernel_padded[\\n            i, :\\n        ]  # i th row of the F to define first column of toeplitz matrix\\n\\n        # first row for the toeplitz fuction should be defined otherwise\\n        # the result is wrong\\n        r = np.hstack([c[0], np.zeros(int(image_width * image_height / 2) - 1)])\\n\\n        # create the toeplitz matrix\\n        toeplitz_m = scipy.linalg.toeplitz(c, r)\\n\\n        assert toeplitz_m.shape == (kernel_padded.shape[1], len(r))\\n\\n        #     print(toeplitz_m.shape)\\n        toeplitz_list.append(toeplitz_m)\\n\\n    # create block matrix\\n    zero_block = np.zeros(toeplitz_m.shape)\\n    block_seq = []\\n    for idx, block in enumerate(toeplitz_list):\\n        if idx == 0:\\n            block_seq.append([block, zero_block])\\n        else:\\n            block_seq.append([block, toeplitz_list[idx - 1]])\\n    doubly_block_mat = np.block(block_seq)\\n    return doubly_block_mat\";\n",
       "                var nbb_cells = Jupyter.notebook.get_cells();\n",
       "                for (var i = 0; i < nbb_cells.length; ++i) {\n",
       "                    if (nbb_cells[i].input_prompt_number == nbb_cell_id) {\n",
       "                        if (nbb_cells[i].get_text() == nbb_unformatted_code) {\n",
       "                             nbb_cells[i].set_text(nbb_formatted_code);\n",
       "                        }\n",
       "                        break;\n",
       "                    }\n",
       "                }\n",
       "            }, 500);\n",
       "            "
      ],
      "text/plain": [
       "<IPython.core.display.Javascript object>"
      ]
     },
     "metadata": {},
     "output_type": "display_data"
    }
   ],
   "source": [
    "def _convolutional_kernel_matrix(kernel, image_height, image_width, mode=\"same\"):\n",
    "    # reference: https://stackoverflow.com/questions/16798888/2-d-convolution-as-a-matrix-matrix-multiplication\n",
    "    if mode == \"same\":\n",
    "        pad_size = ((kernel.shape[0] - 1) / 2, (kernel.shape[1] - 1) / 2)\n",
    "        image_height = int(image_height + pad_size[0])\n",
    "        image_width = int(image_width + pad_size[1])\n",
    "\n",
    "    # get output size of the data\n",
    "    output_size = (\n",
    "        image_height + kernel.shape[0] - 1,\n",
    "        image_width + kernel.shape[1] - 1,\n",
    "    )\n",
    "\n",
    "    # zero-pad filter matrix\n",
    "    pad_width = [\n",
    "        (output_size[0] - kernel.shape[0], 0),\n",
    "        (0, output_size[1] - kernel.shape[1]),\n",
    "    ]\n",
    "    kernel_padded = np.pad(kernel, pad_width=pad_width)\n",
    "\n",
    "    # create the toeplitz matrix for each row of the filter\n",
    "    toeplitz_list = []\n",
    "    for i in range(kernel_padded.shape[0]):\n",
    "        c = kernel_padded[\n",
    "            i, :\n",
    "        ]  # i th row of the F to define first column of toeplitz matrix\n",
    "\n",
    "        # first row for the toeplitz fuction should be defined otherwise\n",
    "        # the result is wrong\n",
    "        r = np.hstack([c[0], np.zeros(int(image_width * image_height / 2) - 1)])\n",
    "\n",
    "        # create the toeplitz matrix\n",
    "        toeplitz_m = scipy.linalg.toeplitz(c, r)\n",
    "\n",
    "        assert toeplitz_m.shape == (kernel_padded.shape[1], len(r))\n",
    "\n",
    "        #     print(toeplitz_m.shape)\n",
    "        toeplitz_list.append(toeplitz_m)\n",
    "\n",
    "    # create block matrix\n",
    "    zero_block = np.zeros(toeplitz_m.shape)\n",
    "    block_seq = []\n",
    "    for idx, block in enumerate(toeplitz_list):\n",
    "        if idx == 0:\n",
    "            block_seq.append([block, zero_block])\n",
    "        else:\n",
    "            block_seq.append([block, toeplitz_list[idx - 1]])\n",
    "    doubly_block_mat = np.block(block_seq)\n",
    "    return doubly_block_mat"
   ]
  },
  {
   "cell_type": "code",
   "execution_count": 136,
   "metadata": {},
   "outputs": [
    {
     "data": {
      "application/javascript": [
       "\n",
       "            setTimeout(function() {\n",
       "                var nbb_cell_id = 136;\n",
       "                var nbb_unformatted_code = \"\\ndef toeplitz_1d(k, x_size):\\n    k_size = k.size\\n    r = *k[(k_size // 2):], *np.zeros(x_size - k_size), *k[:(k_size // 2)]\\n    c = *np.flip(k)[(k_size // 2):], *np.zeros(x_size - k_size), *np.flip(k)[:(k_size // 2)]\\n    t = linalg.toeplitz(c=c, r=r)\\n    return t\\n\\ndef toeplitz_2d(k, x_size):\\n    k_h, k_w = k.shape\\n    i_h, i_w = x_size\\n\\n    ks = np.zeros((i_w, i_h * i_w))\\n    for i in range(k_h):\\n        ks[:, i * i_w : (i + 1) * i_w] = toeplitz_1d(k[i], i_w)\\n    ks = np.roll(ks, -i_w, 1)\\n\\n    t = np.zeros((i_h * i_w, i_h * i_w))\\n    for i in range(i_h):\\n        t[i * i_h : (i + 1) * i_h, :] = ks\\n        ks = np.roll(ks, i_w, 1)\\n    return t\";\n",
       "                var nbb_formatted_code = \"def toeplitz_1d(k, x_size):\\n    k_size = k.size\\n    r = *k[(k_size // 2) :], *np.zeros(x_size - k_size), *k[: (k_size // 2)]\\n    c = (\\n        *np.flip(k)[(k_size // 2) :],\\n        *np.zeros(x_size - k_size),\\n        *np.flip(k)[: (k_size // 2)],\\n    )\\n    t = linalg.toeplitz(c=c, r=r)\\n    return t\\n\\n\\ndef toeplitz_2d(k, x_size):\\n    k_h, k_w = k.shape\\n    i_h, i_w = x_size\\n\\n    ks = np.zeros((i_w, i_h * i_w))\\n    for i in range(k_h):\\n        ks[:, i * i_w : (i + 1) * i_w] = toeplitz_1d(k[i], i_w)\\n    ks = np.roll(ks, -i_w, 1)\\n\\n    t = np.zeros((i_h * i_w, i_h * i_w))\\n    for i in range(i_h):\\n        t[i * i_h : (i + 1) * i_h, :] = ks\\n        ks = np.roll(ks, i_w, 1)\\n    return t\";\n",
       "                var nbb_cells = Jupyter.notebook.get_cells();\n",
       "                for (var i = 0; i < nbb_cells.length; ++i) {\n",
       "                    if (nbb_cells[i].input_prompt_number == nbb_cell_id) {\n",
       "                        if (nbb_cells[i].get_text() == nbb_unformatted_code) {\n",
       "                             nbb_cells[i].set_text(nbb_formatted_code);\n",
       "                        }\n",
       "                        break;\n",
       "                    }\n",
       "                }\n",
       "            }, 500);\n",
       "            "
      ],
      "text/plain": [
       "<IPython.core.display.Javascript object>"
      ]
     },
     "metadata": {},
     "output_type": "display_data"
    }
   ],
   "source": [
    "def toeplitz_1d(k, x_size):\n",
    "    k_size = k.size\n",
    "    r = *k[(k_size // 2) :], *np.zeros(x_size - k_size), *k[: (k_size // 2)]\n",
    "    c = (\n",
    "        *np.flip(k)[(k_size // 2) :],\n",
    "        *np.zeros(x_size - k_size),\n",
    "        *np.flip(k)[: (k_size // 2)],\n",
    "    )\n",
    "    t = linalg.toeplitz(c=c, r=r)\n",
    "    return t\n",
    "\n",
    "\n",
    "def toeplitz_2d(k, x_size):\n",
    "    k_h, k_w = k.shape\n",
    "    i_h, i_w = x_size\n",
    "\n",
    "    ks = np.zeros((i_w, i_h * i_w))\n",
    "    for i in range(k_h):\n",
    "        ks[:, i * i_w : (i + 1) * i_w] = toeplitz_1d(k[i], i_w)\n",
    "    ks = np.roll(ks, -i_w, 1)\n",
    "\n",
    "    t = np.zeros((i_h * i_w, i_h * i_w))\n",
    "    for i in range(i_h):\n",
    "        t[i * i_h : (i + 1) * i_h, :] = ks\n",
    "        ks = np.roll(ks, i_w, 1)\n",
    "    return t"
   ]
  },
  {
   "cell_type": "code",
   "execution_count": 142,
   "metadata": {},
   "outputs": [
    {
     "data": {
      "application/javascript": [
       "\n",
       "            setTimeout(function() {\n",
       "                var nbb_cell_id = 142;\n",
       "                var nbb_unformatted_code = \"def toeplitz_1_ch(kernel, input_size):\\n    # shapes\\n    k_h, k_w = kernel.shape\\n    i_h, i_w = input_size\\n    o_h, o_w = i_h - k_h + 1, i_w - k_w + 1\\n\\n    # construct 1d conv toeplitz matrices for each row of the kernel\\n    toeplitz = []\\n    for r in range(k_h):\\n        toeplitz.append(\\n            linalg.toeplitz(\\n                c=(kernel[r, 0], *np.zeros(i_w - k_w)),\\n                r=(*kernel[r], *np.zeros(i_w - k_w)),\\n            )\\n        )\\n\\n    # construct toeplitz matrix of toeplitz matrices (just for padding=0)\\n    h_blocks, w_blocks = o_h, i_h\\n    h_block, w_block = toeplitz[0].shape\\n\\n    W_conv = np.zeros((h_blocks, h_block, w_blocks, w_block))\\n\\n    for i, B in enumerate(toeplitz):\\n        for j in range(o_h):\\n            W_conv[j, :, i + j, :] = B\\n\\n    W_conv.shape = (h_blocks * h_block, w_blocks * w_block)\\n\\n    return W_conv\";\n",
       "                var nbb_formatted_code = \"def toeplitz_1_ch(kernel, input_size):\\n    # shapes\\n    k_h, k_w = kernel.shape\\n    i_h, i_w = input_size\\n    o_h, o_w = i_h - k_h + 1, i_w - k_w + 1\\n\\n    # construct 1d conv toeplitz matrices for each row of the kernel\\n    toeplitz = []\\n    for r in range(k_h):\\n        toeplitz.append(\\n            linalg.toeplitz(\\n                c=(kernel[r, 0], *np.zeros(i_w - k_w)),\\n                r=(*kernel[r], *np.zeros(i_w - k_w)),\\n            )\\n        )\\n\\n    # construct toeplitz matrix of toeplitz matrices (just for padding=0)\\n    h_blocks, w_blocks = o_h, i_h\\n    h_block, w_block = toeplitz[0].shape\\n\\n    W_conv = np.zeros((h_blocks, h_block, w_blocks, w_block))\\n\\n    for i, B in enumerate(toeplitz):\\n        for j in range(o_h):\\n            W_conv[j, :, i + j, :] = B\\n\\n    W_conv.shape = (h_blocks * h_block, w_blocks * w_block)\\n\\n    return W_conv\";\n",
       "                var nbb_cells = Jupyter.notebook.get_cells();\n",
       "                for (var i = 0; i < nbb_cells.length; ++i) {\n",
       "                    if (nbb_cells[i].input_prompt_number == nbb_cell_id) {\n",
       "                        if (nbb_cells[i].get_text() == nbb_unformatted_code) {\n",
       "                             nbb_cells[i].set_text(nbb_formatted_code);\n",
       "                        }\n",
       "                        break;\n",
       "                    }\n",
       "                }\n",
       "            }, 500);\n",
       "            "
      ],
      "text/plain": [
       "<IPython.core.display.Javascript object>"
      ]
     },
     "metadata": {},
     "output_type": "display_data"
    }
   ],
   "source": [
    "def toeplitz_1_ch(kernel, input_size):\n",
    "    # shapes\n",
    "    k_h, k_w = kernel.shape\n",
    "    i_h, i_w = input_size\n",
    "    o_h, o_w = i_h - k_h + 1, i_w - k_w + 1\n",
    "\n",
    "    # construct 1d conv toeplitz matrices for each row of the kernel\n",
    "    toeplitz = []\n",
    "    for r in range(k_h):\n",
    "        toeplitz.append(\n",
    "            linalg.toeplitz(\n",
    "                c=(kernel[r, 0], *np.zeros(i_w - k_w)),\n",
    "                r=(*kernel[r], *np.zeros(i_w - k_w)),\n",
    "            )\n",
    "        )\n",
    "\n",
    "    # construct toeplitz matrix of toeplitz matrices (just for padding=0)\n",
    "    h_blocks, w_blocks = o_h, i_h\n",
    "    h_block, w_block = toeplitz[0].shape\n",
    "\n",
    "    W_conv = np.zeros((h_blocks, h_block, w_blocks, w_block))\n",
    "\n",
    "    for i, B in enumerate(toeplitz):\n",
    "        for j in range(o_h):\n",
    "            W_conv[j, :, i + j, :] = B\n",
    "\n",
    "    W_conv.shape = (h_blocks * h_block, w_blocks * w_block)\n",
    "\n",
    "    return W_conv"
   ]
  },
  {
   "cell_type": "code",
   "execution_count": 147,
   "metadata": {},
   "outputs": [
    {
     "name": "stdout",
     "output_type": "stream",
     "text": [
      "(24, 80)\n",
      "(5, 5)\n"
     ]
    },
    {
     "name": "stderr",
     "output_type": "stream",
     "text": [
      "<ipython-input-142-386b4a8d9168>:25: ComplexWarning: Casting complex values to real discards the imaginary part\n",
      "  W_conv[j, :, i + j, :] = B\n"
     ]
    },
    {
     "data": {
      "application/javascript": [
       "\n",
       "            setTimeout(function() {\n",
       "                var nbb_cell_id = 147;\n",
       "                var nbb_unformatted_code = \"T = toeplitz_1_ch(kernel, (10, 8))\\nprint(T.shape)\\nprint(kernel.shape)\";\n",
       "                var nbb_formatted_code = \"T = toeplitz_1_ch(kernel, (10, 8))\\nprint(T.shape)\\nprint(kernel.shape)\";\n",
       "                var nbb_cells = Jupyter.notebook.get_cells();\n",
       "                for (var i = 0; i < nbb_cells.length; ++i) {\n",
       "                    if (nbb_cells[i].input_prompt_number == nbb_cell_id) {\n",
       "                        if (nbb_cells[i].get_text() == nbb_unformatted_code) {\n",
       "                             nbb_cells[i].set_text(nbb_formatted_code);\n",
       "                        }\n",
       "                        break;\n",
       "                    }\n",
       "                }\n",
       "            }, 500);\n",
       "            "
      ],
      "text/plain": [
       "<IPython.core.display.Javascript object>"
      ]
     },
     "metadata": {},
     "output_type": "display_data"
    }
   ],
   "source": [
    "T = toeplitz_1_ch(kernel, (10, 8))\n",
    "print(T.shape)\n",
    "print(kernel.shape)"
   ]
  },
  {
   "cell_type": "code",
   "execution_count": 140,
   "metadata": {},
   "outputs": [
    {
     "name": "stderr",
     "output_type": "stream",
     "text": [
      "<ipython-input-136-1f472b939e6a>:14: ComplexWarning: Casting complex values to real discards the imaginary part\n",
      "  ks[:, i * i_w : (i + 1) * i_w] = toeplitz_1d(k[i], i_w)\n"
     ]
    },
    {
     "ename": "ValueError",
     "evalue": "could not broadcast input array from shape (7,70) into shape (10,70)",
     "output_type": "error",
     "traceback": [
      "\u001b[0;31m---------------------------------------------------------------------------\u001b[0m",
      "\u001b[0;31mValueError\u001b[0m                                Traceback (most recent call last)",
      "\u001b[0;32m<ipython-input-140-a81246626f2b>\u001b[0m in \u001b[0;36m<module>\u001b[0;34m\u001b[0m\n\u001b[0;32m----> 1\u001b[0;31m \u001b[0mT\u001b[0m \u001b[0;34m=\u001b[0m \u001b[0mtoeplitz_2d\u001b[0m\u001b[0;34m(\u001b[0m\u001b[0mkernel\u001b[0m\u001b[0;34m,\u001b[0m \u001b[0;34m(\u001b[0m\u001b[0;36m10\u001b[0m\u001b[0;34m,\u001b[0m \u001b[0;36m7\u001b[0m\u001b[0;34m)\u001b[0m\u001b[0;34m)\u001b[0m\u001b[0;34m\u001b[0m\u001b[0;34m\u001b[0m\u001b[0m\n\u001b[0m\u001b[1;32m      2\u001b[0m \u001b[0mprint\u001b[0m\u001b[0;34m(\u001b[0m\u001b[0mT\u001b[0m\u001b[0;34m.\u001b[0m\u001b[0mshape\u001b[0m\u001b[0;34m)\u001b[0m\u001b[0;34m\u001b[0m\u001b[0;34m\u001b[0m\u001b[0m\n",
      "\u001b[0;32m<ipython-input-136-1f472b939e6a>\u001b[0m in \u001b[0;36mtoeplitz_2d\u001b[0;34m(k, x_size)\u001b[0m\n\u001b[1;32m     17\u001b[0m     \u001b[0mt\u001b[0m \u001b[0;34m=\u001b[0m \u001b[0mnp\u001b[0m\u001b[0;34m.\u001b[0m\u001b[0mzeros\u001b[0m\u001b[0;34m(\u001b[0m\u001b[0;34m(\u001b[0m\u001b[0mi_h\u001b[0m \u001b[0;34m*\u001b[0m \u001b[0mi_w\u001b[0m\u001b[0;34m,\u001b[0m \u001b[0mi_h\u001b[0m \u001b[0;34m*\u001b[0m \u001b[0mi_w\u001b[0m\u001b[0;34m)\u001b[0m\u001b[0;34m)\u001b[0m\u001b[0;34m\u001b[0m\u001b[0;34m\u001b[0m\u001b[0m\n\u001b[1;32m     18\u001b[0m     \u001b[0;32mfor\u001b[0m \u001b[0mi\u001b[0m \u001b[0;32min\u001b[0m \u001b[0mrange\u001b[0m\u001b[0;34m(\u001b[0m\u001b[0mi_h\u001b[0m\u001b[0;34m)\u001b[0m\u001b[0;34m:\u001b[0m\u001b[0;34m\u001b[0m\u001b[0;34m\u001b[0m\u001b[0m\n\u001b[0;32m---> 19\u001b[0;31m         \u001b[0mt\u001b[0m\u001b[0;34m[\u001b[0m\u001b[0mi\u001b[0m \u001b[0;34m*\u001b[0m \u001b[0mi_h\u001b[0m \u001b[0;34m:\u001b[0m \u001b[0;34m(\u001b[0m\u001b[0mi\u001b[0m \u001b[0;34m+\u001b[0m \u001b[0;36m1\u001b[0m\u001b[0;34m)\u001b[0m \u001b[0;34m*\u001b[0m \u001b[0mi_h\u001b[0m\u001b[0;34m,\u001b[0m \u001b[0;34m:\u001b[0m\u001b[0;34m]\u001b[0m \u001b[0;34m=\u001b[0m \u001b[0mks\u001b[0m\u001b[0;34m\u001b[0m\u001b[0;34m\u001b[0m\u001b[0m\n\u001b[0m\u001b[1;32m     20\u001b[0m         \u001b[0mks\u001b[0m \u001b[0;34m=\u001b[0m \u001b[0mnp\u001b[0m\u001b[0;34m.\u001b[0m\u001b[0mroll\u001b[0m\u001b[0;34m(\u001b[0m\u001b[0mks\u001b[0m\u001b[0;34m,\u001b[0m \u001b[0mi_w\u001b[0m\u001b[0;34m,\u001b[0m \u001b[0;36m1\u001b[0m\u001b[0;34m)\u001b[0m\u001b[0;34m\u001b[0m\u001b[0;34m\u001b[0m\u001b[0m\n\u001b[1;32m     21\u001b[0m     \u001b[0;32mreturn\u001b[0m \u001b[0mt\u001b[0m\u001b[0;34m\u001b[0m\u001b[0;34m\u001b[0m\u001b[0m\n",
      "\u001b[0;31mValueError\u001b[0m: could not broadcast input array from shape (7,70) into shape (10,70)"
     ]
    },
    {
     "data": {
      "application/javascript": [
       "\n",
       "            setTimeout(function() {\n",
       "                var nbb_cell_id = 140;\n",
       "                var nbb_unformatted_code = \"T = toeplitz_2d(kernel, (10, 7))\\nprint(T.shape)\";\n",
       "                var nbb_formatted_code = \"T = toeplitz_2d(kernel, (10, 7))\\nprint(T.shape)\";\n",
       "                var nbb_cells = Jupyter.notebook.get_cells();\n",
       "                for (var i = 0; i < nbb_cells.length; ++i) {\n",
       "                    if (nbb_cells[i].input_prompt_number == nbb_cell_id) {\n",
       "                        if (nbb_cells[i].get_text() == nbb_unformatted_code) {\n",
       "                             nbb_cells[i].set_text(nbb_formatted_code);\n",
       "                        }\n",
       "                        break;\n",
       "                    }\n",
       "                }\n",
       "            }, 500);\n",
       "            "
      ],
      "text/plain": [
       "<IPython.core.display.Javascript object>"
      ]
     },
     "metadata": {},
     "output_type": "display_data"
    }
   ],
   "source": [
    "T = toeplitz_2d(kernel, (10, 7))\n",
    "print(T.shape)"
   ]
  },
  {
   "cell_type": "code",
   "execution_count": 112,
   "metadata": {},
   "outputs": [
    {
     "name": "stdout",
     "output_type": "stream",
     "text": [
      "(50, 20)\n",
      "(50, 5, 4)\n"
     ]
    },
    {
     "data": {
      "application/javascript": [
       "\n",
       "            setTimeout(function() {\n",
       "                var nbb_cell_id = 112;\n",
       "                var nbb_unformatted_code = \"X = np.random.normal(size=(n, height * d))\\ny = np.ones((n,))\\nprint(X.shape)\\n\\nsample_X = X.reshape(50, height, d)\\nprint(sample_X.shape)\";\n",
       "                var nbb_formatted_code = \"X = np.random.normal(size=(n, height * d))\\ny = np.ones((n,))\\nprint(X.shape)\\n\\nsample_X = X.reshape(50, height, d)\\nprint(sample_X.shape)\";\n",
       "                var nbb_cells = Jupyter.notebook.get_cells();\n",
       "                for (var i = 0; i < nbb_cells.length; ++i) {\n",
       "                    if (nbb_cells[i].input_prompt_number == nbb_cell_id) {\n",
       "                        if (nbb_cells[i].get_text() == nbb_unformatted_code) {\n",
       "                             nbb_cells[i].set_text(nbb_formatted_code);\n",
       "                        }\n",
       "                        break;\n",
       "                    }\n",
       "                }\n",
       "            }, 500);\n",
       "            "
      ],
      "text/plain": [
       "<IPython.core.display.Javascript object>"
      ]
     },
     "metadata": {},
     "output_type": "display_data"
    }
   ],
   "source": [
    "X = np.random.normal(size=(n, height * d))\n",
    "y = np.ones((n,))\n",
    "print(X.shape)\n",
    "\n",
    "sample_X = X.reshape(50, height, d)\n",
    "print(sample_X.shape)"
   ]
  },
  {
   "cell_type": "code",
   "execution_count": 138,
   "metadata": {},
   "outputs": [
    {
     "name": "stdout",
     "output_type": "stream",
     "text": [
      "(5, 5)\n"
     ]
    },
    {
     "data": {
      "application/javascript": [
       "\n",
       "            setTimeout(function() {\n",
       "                var nbb_cell_id = 138;\n",
       "                var nbb_unformatted_code = \"frequency = 1\\nkernel = gabor_kernel(frequency=frequency, n_stds=3, bandwidth=1)\\nprint(kernel.shape)\";\n",
       "                var nbb_formatted_code = \"frequency = 1\\nkernel = gabor_kernel(frequency=frequency, n_stds=3, bandwidth=1)\\nprint(kernel.shape)\";\n",
       "                var nbb_cells = Jupyter.notebook.get_cells();\n",
       "                for (var i = 0; i < nbb_cells.length; ++i) {\n",
       "                    if (nbb_cells[i].input_prompt_number == nbb_cell_id) {\n",
       "                        if (nbb_cells[i].get_text() == nbb_unformatted_code) {\n",
       "                             nbb_cells[i].set_text(nbb_formatted_code);\n",
       "                        }\n",
       "                        break;\n",
       "                    }\n",
       "                }\n",
       "            }, 500);\n",
       "            "
      ],
      "text/plain": [
       "<IPython.core.display.Javascript object>"
      ]
     },
     "metadata": {},
     "output_type": "display_data"
    }
   ],
   "source": [
    "frequency = 1\n",
    "kernel = gabor_kernel(frequency=frequency, n_stds=3, bandwidth=1)\n",
    "print(kernel.shape)"
   ]
  },
  {
   "cell_type": "code",
   "execution_count": 117,
   "metadata": {},
   "outputs": [
    {
     "name": "stdout",
     "output_type": "stream",
     "text": [
      "5 4\n",
      "(992, 182)\n"
     ]
    },
    {
     "data": {
      "application/javascript": [
       "\n",
       "            setTimeout(function() {\n",
       "                var nbb_cell_id = 117;\n",
       "                var nbb_unformatted_code = \"image_height = height\\nimage_width = d\\n\\nprint(image_height, image_width)\\n\\nconv_kern_mat = _convolutional_kernel_matrix(\\n    kernel, image_height, image_width, mode=\\\"same\\\"\\n)\\nprint(conv_kern_mat.shape)\";\n",
       "                var nbb_formatted_code = \"image_height = height\\nimage_width = d\\n\\nprint(image_height, image_width)\\n\\nconv_kern_mat = _convolutional_kernel_matrix(\\n    kernel, image_height, image_width, mode=\\\"same\\\"\\n)\\nprint(conv_kern_mat.shape)\";\n",
       "                var nbb_cells = Jupyter.notebook.get_cells();\n",
       "                for (var i = 0; i < nbb_cells.length; ++i) {\n",
       "                    if (nbb_cells[i].input_prompt_number == nbb_cell_id) {\n",
       "                        if (nbb_cells[i].get_text() == nbb_unformatted_code) {\n",
       "                             nbb_cells[i].set_text(nbb_formatted_code);\n",
       "                        }\n",
       "                        break;\n",
       "                    }\n",
       "                }\n",
       "            }, 500);\n",
       "            "
      ],
      "text/plain": [
       "<IPython.core.display.Javascript object>"
      ]
     },
     "metadata": {},
     "output_type": "display_data"
    }
   ],
   "source": [
    "image_height = height\n",
    "image_width = d\n",
    "\n",
    "print(image_height, image_width)\n",
    "\n",
    "conv_kern_mat = _convolutional_kernel_matrix(\n",
    "    kernel, image_height, image_width, mode=\"same\"\n",
    ")\n",
    "print(conv_kern_mat.shape)"
   ]
  },
  {
   "cell_type": "code",
   "execution_count": 123,
   "metadata": {},
   "outputs": [
    {
     "name": "stdout",
     "output_type": "stream",
     "text": [
      "[9, 9]\n"
     ]
    },
    {
     "data": {
      "application/javascript": [
       "\n",
       "            setTimeout(function() {\n",
       "                var nbb_cell_id = 123;\n",
       "                var nbb_unformatted_code = \"pad_size = list(map(int, ((kernel.shape[0] - 1) / 2, (kernel.shape[1] - 1) / 2)))\\nimage_height = image_height + pad_size[0]\\nimage_width = image_width + pad_size[1]\\n\\nprint(pad_size)\";\n",
       "                var nbb_formatted_code = \"pad_size = list(map(int, ((kernel.shape[0] - 1) / 2, (kernel.shape[1] - 1) / 2)))\\nimage_height = image_height + pad_size[0]\\nimage_width = image_width + pad_size[1]\\n\\nprint(pad_size)\";\n",
       "                var nbb_cells = Jupyter.notebook.get_cells();\n",
       "                for (var i = 0; i < nbb_cells.length; ++i) {\n",
       "                    if (nbb_cells[i].input_prompt_number == nbb_cell_id) {\n",
       "                        if (nbb_cells[i].get_text() == nbb_unformatted_code) {\n",
       "                             nbb_cells[i].set_text(nbb_formatted_code);\n",
       "                        }\n",
       "                        break;\n",
       "                    }\n",
       "                }\n",
       "            }, 500);\n",
       "            "
      ],
      "text/plain": [
       "<IPython.core.display.Javascript object>"
      ]
     },
     "metadata": {},
     "output_type": "display_data"
    }
   ],
   "source": [
    "pad_size = list(map(int, ((kernel.shape[0] - 1) / 2, (kernel.shape[1] - 1) / 2)))\n",
    "image_height = image_height + pad_size[0]\n",
    "image_width = image_width + pad_size[1]\n",
    "\n",
    "print(pad_size)"
   ]
  },
  {
   "cell_type": "code",
   "execution_count": 132,
   "metadata": {},
   "outputs": [
    {
     "name": "stdout",
     "output_type": "stream",
     "text": [
      "(50, 5, 4)\n",
      "(50, 14, 13)\n"
     ]
    },
    {
     "data": {
      "application/javascript": [
       "\n",
       "            setTimeout(function() {\n",
       "                var nbb_cell_id = 132;\n",
       "                var nbb_unformatted_code = \"pad_width = [\\n    (0, 0),\\n    (pad_size[0], 0),\\n    (0, pad_size[1]),\\n]\\nX = X.reshape(-1, height, d)\\nprint(X.shape)\\nX_padded = np.pad(X, pad_width=pad_width)\\nprint(X_padded.shape)\";\n",
       "                var nbb_formatted_code = \"pad_width = [\\n    (0, 0),\\n    (pad_size[0], 0),\\n    (0, pad_size[1]),\\n]\\nX = X.reshape(-1, height, d)\\nprint(X.shape)\\nX_padded = np.pad(X, pad_width=pad_width)\\nprint(X_padded.shape)\";\n",
       "                var nbb_cells = Jupyter.notebook.get_cells();\n",
       "                for (var i = 0; i < nbb_cells.length; ++i) {\n",
       "                    if (nbb_cells[i].input_prompt_number == nbb_cell_id) {\n",
       "                        if (nbb_cells[i].get_text() == nbb_unformatted_code) {\n",
       "                             nbb_cells[i].set_text(nbb_formatted_code);\n",
       "                        }\n",
       "                        break;\n",
       "                    }\n",
       "                }\n",
       "            }, 500);\n",
       "            "
      ],
      "text/plain": [
       "<IPython.core.display.Javascript object>"
      ]
     },
     "metadata": {},
     "output_type": "display_data"
    }
   ],
   "source": [
    "pad_width = [\n",
    "    (0, 0),\n",
    "    (pad_size[0], 0),\n",
    "    (0, pad_size[1]),\n",
    "]\n",
    "X = X.reshape(-1, height, d)\n",
    "print(X.shape)\n",
    "X_padded = np.pad(X, pad_width=pad_width)\n",
    "print(X_padded.shape)"
   ]
  },
  {
   "cell_type": "code",
   "execution_count": 133,
   "metadata": {},
   "outputs": [
    {
     "name": "stdout",
     "output_type": "stream",
     "text": [
      "182\n"
     ]
    },
    {
     "data": {
      "application/javascript": [
       "\n",
       "            setTimeout(function() {\n",
       "                var nbb_cell_id = 133;\n",
       "                var nbb_unformatted_code = \"print(14 * 13)\";\n",
       "                var nbb_formatted_code = \"print(14 * 13)\";\n",
       "                var nbb_cells = Jupyter.notebook.get_cells();\n",
       "                for (var i = 0; i < nbb_cells.length; ++i) {\n",
       "                    if (nbb_cells[i].input_prompt_number == nbb_cell_id) {\n",
       "                        if (nbb_cells[i].get_text() == nbb_unformatted_code) {\n",
       "                             nbb_cells[i].set_text(nbb_formatted_code);\n",
       "                        }\n",
       "                        break;\n",
       "                    }\n",
       "                }\n",
       "            }, 500);\n",
       "            "
      ],
      "text/plain": [
       "<IPython.core.display.Javascript object>"
      ]
     },
     "metadata": {},
     "output_type": "display_data"
    }
   ],
   "source": [
    "print(14 * 13)"
   ]
  },
  {
   "cell_type": "code",
   "execution_count": 21,
   "metadata": {},
   "outputs": [
    {
     "name": "stdout",
     "output_type": "stream",
     "text": [
      "Matrices shape:  (3, 2, 3, 3) (2, 5, 5) (75, 50)\n",
      "0.0\n"
     ]
    },
    {
     "data": {
      "application/javascript": [
       "\n",
       "            setTimeout(function() {\n",
       "                var nbb_cell_id = 21;\n",
       "                var nbb_unformatted_code = \"import numpy as np\\nimport scipy.linalg as linalg\\n\\n\\ndef toeplitz_1d(k, x_size):\\n    k_size = k.size\\n    r = *k[(k_size // 2) :], *np.zeros(x_size - k_size), *k[: (k_size // 2)]\\n    c = (\\n        *np.flip(k)[(k_size // 2) :],\\n        *np.zeros(x_size - k_size),\\n        *np.flip(k)[: (k_size // 2)],\\n    )\\n    t = linalg.toeplitz(c=c, r=r)\\n    return t\\n\\n\\ndef toeplitz_2d(k, x_size):\\n    k_h, k_w = k.shape\\n    i_h, i_w = x_size\\n\\n    ks = np.zeros((i_w, i_h * i_w))\\n    for i in range(k_h):\\n        ks[:, i * i_w : (i + 1) * i_w] = toeplitz_1d(k[i], i_w)\\n    ks = np.roll(ks, -i_w, 1)\\n\\n    t = np.zeros((i_h * i_w, i_h * i_w))\\n    for i in range(i_h):\\n        t[i * i_h : (i + 1) * i_h, :] = ks\\n        ks = np.roll(ks, i_w, 1)\\n    return t\\n\\n\\ndef toeplitz_3d(k, x_size):\\n    k_oc, k_ic, k_h, k_w = k.shape\\n    i_c, i_h, i_w = x_size\\n\\n    t = np.zeros((k_oc * i_h * i_w, i_c * i_h * i_w))\\n\\n    for o in range(k_oc):\\n        for i in range(k_ic):\\n            t[\\n                (o * (i_h * i_w)) : ((o + 1) * (i_h * i_w)),\\n                (i * (i_h * i_w)) : ((i + 1) * (i_h * i_w)),\\n            ] = toeplitz_2d(k[o, i], (i_h, i_w))\\n\\n    return t\\n\\n\\nif __name__ == \\\"__main__\\\":\\n    import torch\\n\\n    # generate random kernel, and input x data\\n    k = np.random.randint(50, size=(3, 2, 3, 3))\\n    x = np.random.randint(50, size=(2, 5, 5))\\n\\n    # generate the 3D toeplitz convolution\\n    t = toeplitz_3d(k, x.shape)\\n\\n    print('Matrices shape: ', k.shape, x.shape, t.shape)\\n    \\n    y = t.dot(x.flatten()).reshape(3, 5, 5)\\n    xx = torch.nn.functional.pad(\\n        torch.from_numpy(x.reshape(1, 2, 5, 5)), pad=(1, 1, 1, 1), mode=\\\"circular\\\"\\n    )\\n    yy = torch.conv2d(xx, torch.from_numpy(k))\\n    err = ((y - yy.numpy()) ** 2).sum()\\n    print(err)\";\n",
       "                var nbb_formatted_code = \"import numpy as np\\nimport scipy.linalg as linalg\\n\\n\\ndef toeplitz_1d(k, x_size):\\n    k_size = k.size\\n    r = *k[(k_size // 2) :], *np.zeros(x_size - k_size), *k[: (k_size // 2)]\\n    c = (\\n        *np.flip(k)[(k_size // 2) :],\\n        *np.zeros(x_size - k_size),\\n        *np.flip(k)[: (k_size // 2)],\\n    )\\n    t = linalg.toeplitz(c=c, r=r)\\n    return t\\n\\n\\ndef toeplitz_2d(k, x_size):\\n    k_h, k_w = k.shape\\n    i_h, i_w = x_size\\n\\n    ks = np.zeros((i_w, i_h * i_w))\\n    for i in range(k_h):\\n        ks[:, i * i_w : (i + 1) * i_w] = toeplitz_1d(k[i], i_w)\\n    ks = np.roll(ks, -i_w, 1)\\n\\n    t = np.zeros((i_h * i_w, i_h * i_w))\\n    for i in range(i_h):\\n        t[i * i_h : (i + 1) * i_h, :] = ks\\n        ks = np.roll(ks, i_w, 1)\\n    return t\\n\\n\\ndef toeplitz_3d(k, x_size):\\n    k_oc, k_ic, k_h, k_w = k.shape\\n    i_c, i_h, i_w = x_size\\n\\n    t = np.zeros((k_oc * i_h * i_w, i_c * i_h * i_w))\\n\\n    for o in range(k_oc):\\n        for i in range(k_ic):\\n            t[\\n                (o * (i_h * i_w)) : ((o + 1) * (i_h * i_w)),\\n                (i * (i_h * i_w)) : ((i + 1) * (i_h * i_w)),\\n            ] = toeplitz_2d(k[o, i], (i_h, i_w))\\n\\n    return t\\n\\n\\nif __name__ == \\\"__main__\\\":\\n    import torch\\n\\n    # generate random kernel, and input x data\\n    k = np.random.randint(50, size=(3, 2, 3, 3))\\n    x = np.random.randint(50, size=(2, 5, 5))\\n\\n    # generate the 3D toeplitz convolution\\n    t = toeplitz_3d(k, x.shape)\\n\\n    print(\\\"Matrices shape: \\\", k.shape, x.shape, t.shape)\\n\\n    y = t.dot(x.flatten()).reshape(3, 5, 5)\\n    xx = torch.nn.functional.pad(\\n        torch.from_numpy(x.reshape(1, 2, 5, 5)), pad=(1, 1, 1, 1), mode=\\\"circular\\\"\\n    )\\n    yy = torch.conv2d(xx, torch.from_numpy(k))\\n    err = ((y - yy.numpy()) ** 2).sum()\\n    print(err)\";\n",
       "                var nbb_cells = Jupyter.notebook.get_cells();\n",
       "                for (var i = 0; i < nbb_cells.length; ++i) {\n",
       "                    if (nbb_cells[i].input_prompt_number == nbb_cell_id) {\n",
       "                        if (nbb_cells[i].get_text() == nbb_unformatted_code) {\n",
       "                             nbb_cells[i].set_text(nbb_formatted_code);\n",
       "                        }\n",
       "                        break;\n",
       "                    }\n",
       "                }\n",
       "            }, 500);\n",
       "            "
      ],
      "text/plain": [
       "<IPython.core.display.Javascript object>"
      ]
     },
     "metadata": {},
     "output_type": "display_data"
    }
   ],
   "source": [
    "import numpy as np\n",
    "import scipy.linalg as linalg\n",
    "\n",
    "\n",
    "def toeplitz_1d(k, x_size):\n",
    "    k_size = k.size\n",
    "    r = *k[(k_size // 2) :], *np.zeros(x_size - k_size), *k[: (k_size // 2)]\n",
    "    c = (\n",
    "        *np.flip(k)[(k_size // 2) :],\n",
    "        *np.zeros(x_size - k_size),\n",
    "        *np.flip(k)[: (k_size // 2)],\n",
    "    )\n",
    "    t = linalg.toeplitz(c=c, r=r)\n",
    "    return t\n",
    "\n",
    "\n",
    "def toeplitz_2d(k, x_size):\n",
    "    k_h, k_w = k.shape\n",
    "    i_h, i_w = x_size\n",
    "\n",
    "    ks = np.zeros((i_w, i_h * i_w))\n",
    "    for i in range(k_h):\n",
    "        ks[:, i * i_w : (i + 1) * i_w] = toeplitz_1d(k[i], i_w)\n",
    "    ks = np.roll(ks, -i_w, 1)\n",
    "\n",
    "    t = np.zeros((i_h * i_w, i_h * i_w))\n",
    "    for i in range(i_h):\n",
    "        t[i * i_h : (i + 1) * i_h, :] = ks\n",
    "        ks = np.roll(ks, i_w, 1)\n",
    "    return t\n",
    "\n",
    "\n",
    "def toeplitz_3d(k, x_size):\n",
    "    k_oc, k_ic, k_h, k_w = k.shape\n",
    "    i_c, i_h, i_w = x_size\n",
    "\n",
    "    t = np.zeros((k_oc * i_h * i_w, i_c * i_h * i_w))\n",
    "\n",
    "    for o in range(k_oc):\n",
    "        for i in range(k_ic):\n",
    "            t[\n",
    "                (o * (i_h * i_w)) : ((o + 1) * (i_h * i_w)),\n",
    "                (i * (i_h * i_w)) : ((i + 1) * (i_h * i_w)),\n",
    "            ] = toeplitz_2d(k[o, i], (i_h, i_w))\n",
    "\n",
    "    return t\n",
    "\n",
    "\n",
    "if __name__ == \"__main__\":\n",
    "    import torch\n",
    "\n",
    "    # generate random kernel, and input x data\n",
    "    k = np.random.randint(50, size=(3, 2, 3, 3))\n",
    "    x = np.random.randint(50, size=(2, 5, 5))\n",
    "\n",
    "    # generate the 3D toeplitz convolution\n",
    "    t = toeplitz_3d(k, x.shape)\n",
    "\n",
    "    print(\"Matrices shape: \", k.shape, x.shape, t.shape)\n",
    "\n",
    "    y = t.dot(x.flatten()).reshape(3, 5, 5)\n",
    "    xx = torch.nn.functional.pad(\n",
    "        torch.from_numpy(x.reshape(1, 2, 5, 5)), pad=(1, 1, 1, 1), mode=\"circular\"\n",
    "    )\n",
    "    yy = torch.conv2d(xx, torch.from_numpy(k))\n",
    "    err = ((y - yy.numpy()) ** 2).sum()\n",
    "    print(err)"
   ]
  },
  {
   "cell_type": "code",
   "execution_count": null,
   "metadata": {},
   "outputs": [],
   "source": []
  }
 ],
 "metadata": {
  "kernelspec": {
   "display_name": "sklearn",
   "language": "python",
   "name": "sklearn"
  },
  "language_info": {
   "codemirror_mode": {
    "name": "ipython",
    "version": 3
   },
   "file_extension": ".py",
   "mimetype": "text/x-python",
   "name": "python",
   "nbconvert_exporter": "python",
   "pygments_lexer": "ipython3",
   "version": "3.9.2"
  }
 },
 "nbformat": 4,
 "nbformat_minor": 4
}
