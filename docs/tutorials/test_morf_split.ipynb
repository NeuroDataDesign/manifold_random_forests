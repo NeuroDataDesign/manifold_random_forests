{
 "cells": [
  {
   "cell_type": "markdown",
   "metadata": {},
   "source": [
    "# MORF API Working Demo\n",
    "\n",
    "Here, we want to validate visually that MORF API works as intended. First, we show the 2D contiguous convolutional splitter."
   ]
  },
  {
   "cell_type": "code",
   "execution_count": 1,
   "metadata": {},
   "outputs": [
    {
     "data": {
      "application/javascript": [
       "\n",
       "            setTimeout(function() {\n",
       "                var nbb_cell_id = 1;\n",
       "                var nbb_unformatted_code = \"%load_ext nb_black\\n%load_ext lab_black\\n%load_ext autoreload\\n%autoreload 2\";\n",
       "                var nbb_formatted_code = \"%load_ext nb_black\\n%load_ext lab_black\\n%load_ext autoreload\\n%autoreload 2\";\n",
       "                var nbb_cells = Jupyter.notebook.get_cells();\n",
       "                for (var i = 0; i < nbb_cells.length; ++i) {\n",
       "                    if (nbb_cells[i].input_prompt_number == nbb_cell_id) {\n",
       "                        if (nbb_cells[i].get_text() == nbb_unformatted_code) {\n",
       "                             nbb_cells[i].set_text(nbb_formatted_code);\n",
       "                        }\n",
       "                        break;\n",
       "                    }\n",
       "                }\n",
       "            }, 500);\n",
       "            "
      ],
      "text/plain": [
       "<IPython.core.display.Javascript object>"
      ]
     },
     "metadata": {},
     "output_type": "display_data"
    }
   ],
   "source": [
    "%load_ext nb_black\n",
    "%load_ext lab_black\n",
    "%load_ext autoreload\n",
    "%autoreload 2"
   ]
  },
  {
   "cell_type": "code",
   "execution_count": 2,
   "metadata": {},
   "outputs": [
    {
     "data": {
      "application/javascript": [
       "\n",
       "            setTimeout(function() {\n",
       "                var nbb_cell_id = 2;\n",
       "                var nbb_unformatted_code = \"import sys\\n\\nsys.path.append(\\\"../../\\\")\";\n",
       "                var nbb_formatted_code = \"import sys\\n\\nsys.path.append(\\\"../../\\\")\";\n",
       "                var nbb_cells = Jupyter.notebook.get_cells();\n",
       "                for (var i = 0; i < nbb_cells.length; ++i) {\n",
       "                    if (nbb_cells[i].input_prompt_number == nbb_cell_id) {\n",
       "                        if (nbb_cells[i].get_text() == nbb_unformatted_code) {\n",
       "                             nbb_cells[i].set_text(nbb_formatted_code);\n",
       "                        }\n",
       "                        break;\n",
       "                    }\n",
       "                }\n",
       "            }, 500);\n",
       "            "
      ],
      "text/plain": [
       "<IPython.core.display.Javascript object>"
      ]
     },
     "metadata": {},
     "output_type": "display_data"
    }
   ],
   "source": [
    "import sys\n",
    "\n",
    "sys.path.append(\"../../\")"
   ]
  },
  {
   "cell_type": "code",
   "execution_count": 4,
   "metadata": {},
   "outputs": [
    {
     "data": {
      "application/javascript": [
       "\n",
       "            setTimeout(function() {\n",
       "                var nbb_cell_id = 4;\n",
       "                var nbb_unformatted_code = \"import numpy as np\\nfrom oblique_forests.tree.morf_split import Conv2DSplitter\\n\\nimport matplotlib as mpl\\nimport matplotlib.pyplot as plt\\nimport seaborn as sns\";\n",
       "                var nbb_formatted_code = \"import numpy as np\\nfrom oblique_forests.tree.morf_split import Conv2DSplitter\\n\\nimport matplotlib as mpl\\nimport matplotlib.pyplot as plt\\nimport seaborn as sns\";\n",
       "                var nbb_cells = Jupyter.notebook.get_cells();\n",
       "                for (var i = 0; i < nbb_cells.length; ++i) {\n",
       "                    if (nbb_cells[i].input_prompt_number == nbb_cell_id) {\n",
       "                        if (nbb_cells[i].get_text() == nbb_unformatted_code) {\n",
       "                             nbb_cells[i].set_text(nbb_formatted_code);\n",
       "                        }\n",
       "                        break;\n",
       "                    }\n",
       "                }\n",
       "            }, 500);\n",
       "            "
      ],
      "text/plain": [
       "<IPython.core.display.Javascript object>"
      ]
     },
     "metadata": {},
     "output_type": "display_data"
    }
   ],
   "source": [
    "import numpy as np\n",
    "from oblique_forests.tree.morf_split import Conv2DSplitter\n",
    "\n",
    "import matplotlib as mpl\n",
    "import matplotlib.pyplot as plt\n",
    "import seaborn as sns"
   ]
  },
  {
   "cell_type": "markdown",
   "metadata": {},
   "source": [
    "# Splitters: Convolutional 2D Patches (Contiguous and Discontiguous)"
   ]
  },
  {
   "cell_type": "markdown",
   "metadata": {},
   "source": [
    "## Contiguous 2D Convolutional Patch"
   ]
  },
  {
   "cell_type": "code",
   "execution_count": 5,
   "metadata": {},
   "outputs": [
    {
     "data": {
      "application/javascript": [
       "\n",
       "            setTimeout(function() {\n",
       "                var nbb_cell_id = 5;\n",
       "                var nbb_unformatted_code = \"random_state = 123456\\n\\nn = 50\\nheight = 5\\nd = 4\\nX = np.ones((n, height * d))\\ny = np.ones((n,))\\ny[:25] = 0\";\n",
       "                var nbb_formatted_code = \"random_state = 123456\\n\\nn = 50\\nheight = 5\\nd = 4\\nX = np.ones((n, height * d))\\ny = np.ones((n,))\\ny[:25] = 0\";\n",
       "                var nbb_cells = Jupyter.notebook.get_cells();\n",
       "                for (var i = 0; i < nbb_cells.length; ++i) {\n",
       "                    if (nbb_cells[i].input_prompt_number == nbb_cell_id) {\n",
       "                        if (nbb_cells[i].get_text() == nbb_unformatted_code) {\n",
       "                             nbb_cells[i].set_text(nbb_formatted_code);\n",
       "                        }\n",
       "                        break;\n",
       "                    }\n",
       "                }\n",
       "            }, 500);\n",
       "            "
      ],
      "text/plain": [
       "<IPython.core.display.Javascript object>"
      ]
     },
     "metadata": {},
     "output_type": "display_data"
    }
   ],
   "source": [
    "random_state = 123456\n",
    "\n",
    "n = 50\n",
    "height = 5\n",
    "d = 4\n",
    "X = np.ones((n, height * d))\n",
    "y = np.ones((n,))\n",
    "y[:25] = 0"
   ]
  },
  {
   "cell_type": "code",
   "execution_count": 6,
   "metadata": {},
   "outputs": [
    {
     "data": {
      "application/javascript": [
       "\n",
       "            setTimeout(function() {\n",
       "                var nbb_cell_id = 6;\n",
       "                var nbb_unformatted_code = \"splitter = Conv2DSplitter(\\n    X,\\n    y,\\n    max_features=1,\\n    feature_combinations=1.5,\\n    random_state=random_state,\\n    image_height=height,\\n    image_width=d,\\n    patch_height_max=5,\\n    patch_height_min=1,\\n    patch_width_min=1,\\n    patch_width_max=2,\\n)\";\n",
       "                var nbb_formatted_code = \"splitter = Conv2DSplitter(\\n    X,\\n    y,\\n    max_features=1,\\n    feature_combinations=1.5,\\n    random_state=random_state,\\n    image_height=height,\\n    image_width=d,\\n    patch_height_max=5,\\n    patch_height_min=1,\\n    patch_width_min=1,\\n    patch_width_max=2,\\n)\";\n",
       "                var nbb_cells = Jupyter.notebook.get_cells();\n",
       "                for (var i = 0; i < nbb_cells.length; ++i) {\n",
       "                    if (nbb_cells[i].input_prompt_number == nbb_cell_id) {\n",
       "                        if (nbb_cells[i].get_text() == nbb_unformatted_code) {\n",
       "                             nbb_cells[i].set_text(nbb_formatted_code);\n",
       "                        }\n",
       "                        break;\n",
       "                    }\n",
       "                }\n",
       "            }, 500);\n",
       "            "
      ],
      "text/plain": [
       "<IPython.core.display.Javascript object>"
      ]
     },
     "metadata": {},
     "output_type": "display_data"
    }
   ],
   "source": [
    "splitter = Conv2DSplitter(\n",
    "    X,\n",
    "    y,\n",
    "    max_features=1,\n",
    "    feature_combinations=1.5,\n",
    "    random_state=random_state,\n",
    "    image_height=height,\n",
    "    image_width=d,\n",
    "    patch_height_max=5,\n",
    "    patch_height_min=1,\n",
    "    patch_width_min=1,\n",
    "    patch_width_max=2,\n",
    ")"
   ]
  },
  {
   "cell_type": "code",
   "execution_count": 8,
   "metadata": {
    "tags": []
   },
   "outputs": [
    {
     "name": "stdout",
     "output_type": "stream",
     "text": [
      "779 µs ± 41 µs per loop (mean ± std. dev. of 7 runs, 1000 loops each)\n"
     ]
    },
    {
     "data": {
      "application/javascript": [
       "\n",
       "            setTimeout(function() {\n",
       "                var nbb_cell_id = 8;\n",
       "                var nbb_unformatted_code = \"%%timeit\\nproj_X, proj_mat = splitter.sample_proj_mat(sample_inds=np.arange(n))\";\n",
       "                var nbb_formatted_code = \"%%timeit\\nproj_X, proj_mat = splitter.sample_proj_mat(sample_inds=np.arange(n))\";\n",
       "                var nbb_cells = Jupyter.notebook.get_cells();\n",
       "                for (var i = 0; i < nbb_cells.length; ++i) {\n",
       "                    if (nbb_cells[i].input_prompt_number == nbb_cell_id) {\n",
       "                        if (nbb_cells[i].get_text() == nbb_unformatted_code) {\n",
       "                             nbb_cells[i].set_text(nbb_formatted_code);\n",
       "                        }\n",
       "                        break;\n",
       "                    }\n",
       "                }\n",
       "            }, 500);\n",
       "            "
      ],
      "text/plain": [
       "<IPython.core.display.Javascript object>"
      ]
     },
     "metadata": {},
     "output_type": "display_data"
    }
   ],
   "source": [
    "%%timeit\n",
    "proj_X, proj_mat = splitter.sample_proj_mat(sample_inds=np.arange(n))"
   ]
  },
  {
   "cell_type": "code",
   "execution_count": 9,
   "metadata": {},
   "outputs": [
    {
     "data": {
      "application/javascript": [
       "\n",
       "            setTimeout(function() {\n",
       "                var nbb_cell_id = 9;\n",
       "                var nbb_unformatted_code = \"proj_X, proj_mat = splitter.sample_proj_mat(sample_inds=np.arange(n))\";\n",
       "                var nbb_formatted_code = \"proj_X, proj_mat = splitter.sample_proj_mat(sample_inds=np.arange(n))\";\n",
       "                var nbb_cells = Jupyter.notebook.get_cells();\n",
       "                for (var i = 0; i < nbb_cells.length; ++i) {\n",
       "                    if (nbb_cells[i].input_prompt_number == nbb_cell_id) {\n",
       "                        if (nbb_cells[i].get_text() == nbb_unformatted_code) {\n",
       "                             nbb_cells[i].set_text(nbb_formatted_code);\n",
       "                        }\n",
       "                        break;\n",
       "                    }\n",
       "                }\n",
       "            }, 500);\n",
       "            "
      ],
      "text/plain": [
       "<IPython.core.display.Javascript object>"
      ]
     },
     "metadata": {},
     "output_type": "display_data"
    }
   ],
   "source": [
    "proj_X, proj_mat = splitter.sample_proj_mat(sample_inds=np.arange(n))"
   ]
  },
  {
   "cell_type": "code",
   "execution_count": 10,
   "metadata": {},
   "outputs": [
    {
     "name": "stdout",
     "output_type": "stream",
     "text": [
      "(50, 20) (20, 20) (50, 20)\n"
     ]
    },
    {
     "data": {
      "application/javascript": [
       "\n",
       "            setTimeout(function() {\n",
       "                var nbb_cell_id = 10;\n",
       "                var nbb_unformatted_code = \"print(proj_X.shape, proj_mat.shape, X.shape)\";\n",
       "                var nbb_formatted_code = \"print(proj_X.shape, proj_mat.shape, X.shape)\";\n",
       "                var nbb_cells = Jupyter.notebook.get_cells();\n",
       "                for (var i = 0; i < nbb_cells.length; ++i) {\n",
       "                    if (nbb_cells[i].input_prompt_number == nbb_cell_id) {\n",
       "                        if (nbb_cells[i].get_text() == nbb_unformatted_code) {\n",
       "                             nbb_cells[i].set_text(nbb_formatted_code);\n",
       "                        }\n",
       "                        break;\n",
       "                    }\n",
       "                }\n",
       "            }, 500);\n",
       "            "
      ],
      "text/plain": [
       "<IPython.core.display.Javascript object>"
      ]
     },
     "metadata": {},
     "output_type": "display_data"
    }
   ],
   "source": [
    "print(proj_X.shape, proj_mat.shape, X.shape)"
   ]
  },
  {
   "cell_type": "code",
   "execution_count": 11,
   "metadata": {},
   "outputs": [
    {
     "data": {
      "text/plain": [
       "[Text(0.5, 1.0, 'Sampled Projection Matrix - 2D Convolutional MORF'),\n",
       " Text(0.5, 28.5, 'Sampled Patches'),\n",
       " Text(28.5, 0.5, 'Vectorized Projections')]"
      ]
     },
     "execution_count": 11,
     "metadata": {},
     "output_type": "execute_result"
    },
    {
     "data": {
      "image/png": "[encoded data removed]",
      "text/plain": [
       "<Figure size 504x504 with 2 Axes>"
      ]
     },
     "metadata": {
      "needs_background": "light"
     },
     "output_type": "display_data"
    },
    {
     "data": {
      "application/javascript": [
       "\n",
       "            setTimeout(function() {\n",
       "                var nbb_cell_id = 11;\n",
       "                var nbb_unformatted_code = \"sns.set_context('talk', \\n#                 font_scale=1.5\\n               )\\nfig, ax = plt.subplots(figsize=(7,7))\\nsns.heatmap(proj_mat, annot=True, ax=ax)\\nax.set(\\n    title='Sampled Projection Matrix - 2D Convolutional MORF',\\n    xlabel='Sampled Patches',\\n    ylabel='Vectorized Projections'\\n)\";\n",
       "                var nbb_formatted_code = \"sns.set_context(\\n    \\\"talk\\\",\\n    #                 font_scale=1.5\\n)\\nfig, ax = plt.subplots(figsize=(7, 7))\\nsns.heatmap(proj_mat, annot=True, ax=ax)\\nax.set(\\n    title=\\\"Sampled Projection Matrix - 2D Convolutional MORF\\\",\\n    xlabel=\\\"Sampled Patches\\\",\\n    ylabel=\\\"Vectorized Projections\\\",\\n)\";\n",
       "                var nbb_cells = Jupyter.notebook.get_cells();\n",
       "                for (var i = 0; i < nbb_cells.length; ++i) {\n",
       "                    if (nbb_cells[i].input_prompt_number == nbb_cell_id) {\n",
       "                        if (nbb_cells[i].get_text() == nbb_unformatted_code) {\n",
       "                             nbb_cells[i].set_text(nbb_formatted_code);\n",
       "                        }\n",
       "                        break;\n",
       "                    }\n",
       "                }\n",
       "            }, 500);\n",
       "            "
      ],
      "text/plain": [
       "<IPython.core.display.Javascript object>"
      ]
     },
     "metadata": {},
     "output_type": "display_data"
    }
   ],
   "source": [
    "sns.set_context(\n",
    "    \"talk\",\n",
    "    #                 font_scale=1.5\n",
    ")\n",
    "fig, ax = plt.subplots(figsize=(7, 7))\n",
    "sns.heatmap(proj_mat, annot=True, ax=ax)\n",
    "ax.set(\n",
    "    title=\"Sampled Projection Matrix - 2D Convolutional MORF\",\n",
    "    xlabel=\"Sampled Patches\",\n",
    "    ylabel=\"Vectorized Projections\",\n",
    ")"
   ]
  },
  {
   "cell_type": "code",
   "execution_count": 44,
   "metadata": {},
   "outputs": [
    {
     "name": "stderr",
     "output_type": "stream",
     "text": [
      "<ipython-input-44-92ced63bb350>:32: UserWarning: This figure includes Axes that are not compatible with tight_layout, so results might be incorrect.\n",
      "  fig.tight_layout(rect=[0, 0, .9, 1])\n"
     ]
    },
    {
     "data": {
      "image/png": "[encoded data removed]",
      "text/plain": [
       "<Figure size 504x504 with 21 Axes>"
      ]
     },
     "metadata": {
      "needs_background": "light"
     },
     "output_type": "display_data"
    },
    {
     "data": {
      "application/javascript": [
       "\n",
       "            setTimeout(function() {\n",
       "                var nbb_cell_id = 44;\n",
       "                var nbb_unformatted_code = \"empty_mat = np.zeros((height, d))\\n\\nfig, axs = plt.subplots(3, np.ceil(proj_mat.shape[1] / 3).astype(int), \\n                        sharex=True, sharey=True,\\n                        figsize=(7, 7))\\naxs = axs.flat\\ncbar_ax = fig.add_axes([.91, .3, .03, .4])\\n\\nfor idx in range(proj_mat.shape[1]):\\n    proj_vec = proj_mat[:, idx]\\n    \\n    vec_idx = np.argwhere(proj_vec == 1)\\n    patch_idx = np.unravel_index(vec_idx, shape=(height, d))\\n    mat = empty_mat.copy()\\n    mat[patch_idx] = 1.0\\n    \\n    sns.heatmap(mat, ax=axs[idx], \\n                xticklabels=np.arange(d),\\n                yticklabels=np.arange(height),\\n                cbar=idx == 0,\\n                square=True,\\n                vmin=0, vmax=1,\\n                cbar_ax=None if idx else cbar_ax)\\n\\n# remove unused axes\\nidx += 1\\nwhile idx < len(axs):\\n    fig.delaxes(axs[idx])\\n    idx += 1\\n    \\nfig.suptitle('MORF 2D Convolutional Patches Sampled')\\nfig.tight_layout(rect=[0, 0, .9, 1])\";\n",
       "                var nbb_formatted_code = \"empty_mat = np.zeros((height, d))\\n\\nfig, axs = plt.subplots(\\n    3,\\n    np.ceil(proj_mat.shape[1] / 3).astype(int),\\n    sharex=True,\\n    sharey=True,\\n    figsize=(7, 7),\\n)\\naxs = axs.flat\\ncbar_ax = fig.add_axes([0.91, 0.3, 0.03, 0.4])\\n\\nfor idx in range(proj_mat.shape[1]):\\n    proj_vec = proj_mat[:, idx]\\n\\n    vec_idx = np.argwhere(proj_vec == 1)\\n    patch_idx = np.unravel_index(vec_idx, shape=(height, d))\\n    mat = empty_mat.copy()\\n    mat[patch_idx] = 1.0\\n\\n    sns.heatmap(\\n        mat,\\n        ax=axs[idx],\\n        xticklabels=np.arange(d),\\n        yticklabels=np.arange(height),\\n        cbar=idx == 0,\\n        square=True,\\n        vmin=0,\\n        vmax=1,\\n        cbar_ax=None if idx else cbar_ax,\\n    )\\n\\n# remove unused axes\\nidx += 1\\nwhile idx < len(axs):\\n    fig.delaxes(axs[idx])\\n    idx += 1\\n\\nfig.suptitle(\\\"MORF 2D Convolutional Patches Sampled\\\")\\nfig.tight_layout(rect=[0, 0, 0.9, 1])\";\n",
       "                var nbb_cells = Jupyter.notebook.get_cells();\n",
       "                for (var i = 0; i < nbb_cells.length; ++i) {\n",
       "                    if (nbb_cells[i].input_prompt_number == nbb_cell_id) {\n",
       "                        if (nbb_cells[i].get_text() == nbb_unformatted_code) {\n",
       "                             nbb_cells[i].set_text(nbb_formatted_code);\n",
       "                        }\n",
       "                        break;\n",
       "                    }\n",
       "                }\n",
       "            }, 500);\n",
       "            "
      ],
      "text/plain": [
       "<IPython.core.display.Javascript object>"
      ]
     },
     "metadata": {},
     "output_type": "display_data"
    }
   ],
   "source": [
    "empty_mat = np.zeros((height, d))\n",
    "\n",
    "fig, axs = plt.subplots(3, np.ceil(proj_mat.shape[1] / 3).astype(int), \n",
    "                        sharex=True, sharey=True,\n",
    "                        figsize=(7, 7))\n",
    "axs = axs.flat\n",
    "cbar_ax = fig.add_axes([.91, .3, .03, .4])\n",
    "\n",
    "for idx in range(proj_mat.shape[1]):\n",
    "    proj_vec = proj_mat[:, idx]\n",
    "    \n",
    "    vec_idx = np.argwhere(proj_vec == 1)\n",
    "    patch_idx = np.unravel_index(vec_idx, shape=(height, d))\n",
    "    mat = empty_mat.copy()\n",
    "    mat[patch_idx] = 1.0\n",
    "    \n",
    "    sns.heatmap(mat, ax=axs[idx], \n",
    "                xticklabels=np.arange(d),\n",
    "                yticklabels=np.arange(height),\n",
    "                cbar=idx == 0,\n",
    "                square=True,\n",
    "                vmin=0, vmax=1,\n",
    "                cbar_ax=None if idx else cbar_ax)\n",
    "\n",
    "# remove unused axes\n",
    "idx += 1\n",
    "while idx < len(axs):\n",
    "    fig.delaxes(axs[idx])\n",
    "    idx += 1\n",
    "    \n",
    "fig.suptitle('MORF 2D Convolutional Patches Sampled')\n",
    "fig.tight_layout(rect=[0, 0, .9, 1])"
   ]
  },
  {
   "cell_type": "markdown",
   "metadata": {},
   "source": [
    "## Discontiguous Sample"
   ]
  },
  {
   "cell_type": "code",
   "execution_count": 60,
   "metadata": {},
   "outputs": [
    {
     "data": {
      "application/javascript": [
       "\n",
       "            setTimeout(function() {\n",
       "                var nbb_cell_id = 60;\n",
       "                var nbb_unformatted_code = \"random_state = 123456\\n\\nn = 50\\nheight = 5\\nd = 4\\nX = np.ones((n, height * d))\\ny = np.ones((n,))\\ny[:25] = 0\";\n",
       "                var nbb_formatted_code = \"random_state = 123456\\n\\nn = 50\\nheight = 5\\nd = 4\\nX = np.ones((n, height * d))\\ny = np.ones((n,))\\ny[:25] = 0\";\n",
       "                var nbb_cells = Jupyter.notebook.get_cells();\n",
       "                for (var i = 0; i < nbb_cells.length; ++i) {\n",
       "                    if (nbb_cells[i].input_prompt_number == nbb_cell_id) {\n",
       "                        if (nbb_cells[i].get_text() == nbb_unformatted_code) {\n",
       "                             nbb_cells[i].set_text(nbb_formatted_code);\n",
       "                        }\n",
       "                        break;\n",
       "                    }\n",
       "                }\n",
       "            }, 500);\n",
       "            "
      ],
      "text/plain": [
       "<IPython.core.display.Javascript object>"
      ]
     },
     "metadata": {},
     "output_type": "display_data"
    }
   ],
   "source": [
    "random_state = 123456\n",
    "\n",
    "n = 50\n",
    "height = 5\n",
    "d = 4\n",
    "X = np.ones((n, height * d))\n",
    "y = np.ones((n,))\n",
    "y[:25] = 0"
   ]
  },
  {
   "cell_type": "code",
   "execution_count": 71,
   "metadata": {},
   "outputs": [
    {
     "data": {
      "application/javascript": [
       "\n",
       "            setTimeout(function() {\n",
       "                var nbb_cell_id = 71;\n",
       "                var nbb_unformatted_code = \"splitter = Conv2DSplitter(\\n    X,\\n    y,\\n    max_features=1,\\n    feature_combinations=1.5,\\n    random_state=random_state,\\n    image_height=height,\\n    image_width=d,\\n    patch_height_max=5,\\n    patch_height_min=1,\\n    patch_width_min=1,\\n    patch_width_max=2,\\n    discontiguous_height=True,\\n    discontiguous_width=False,\\n)\";\n",
       "                var nbb_formatted_code = \"splitter = Conv2DSplitter(\\n    X,\\n    y,\\n    max_features=1,\\n    feature_combinations=1.5,\\n    random_state=random_state,\\n    image_height=height,\\n    image_width=d,\\n    patch_height_max=5,\\n    patch_height_min=1,\\n    patch_width_min=1,\\n    patch_width_max=2,\\n    discontiguous_height=True,\\n    discontiguous_width=False,\\n)\";\n",
       "                var nbb_cells = Jupyter.notebook.get_cells();\n",
       "                for (var i = 0; i < nbb_cells.length; ++i) {\n",
       "                    if (nbb_cells[i].input_prompt_number == nbb_cell_id) {\n",
       "                        if (nbb_cells[i].get_text() == nbb_unformatted_code) {\n",
       "                             nbb_cells[i].set_text(nbb_formatted_code);\n",
       "                        }\n",
       "                        break;\n",
       "                    }\n",
       "                }\n",
       "            }, 500);\n",
       "            "
      ],
      "text/plain": [
       "<IPython.core.display.Javascript object>"
      ]
     },
     "metadata": {},
     "output_type": "display_data"
    }
   ],
   "source": [
    "splitter = Conv2DSplitter(\n",
    "    X,\n",
    "    y,\n",
    "    max_features=1,\n",
    "    feature_combinations=1.5,\n",
    "    random_state=random_state,\n",
    "    image_height=height,\n",
    "    image_width=d,\n",
    "    patch_height_max=5,\n",
    "    patch_height_min=1,\n",
    "    patch_width_min=1,\n",
    "    patch_width_max=2,\n",
    "    discontiguous_height=True,\n",
    "    discontiguous_width=False,\n",
    ")"
   ]
  },
  {
   "cell_type": "code",
   "execution_count": 72,
   "metadata": {},
   "outputs": [
    {
     "data": {
      "application/javascript": [
       "\n",
       "            setTimeout(function() {\n",
       "                var nbb_cell_id = 72;\n",
       "                var nbb_unformatted_code = \"proj_X, proj_mat = splitter.sample_proj_mat(sample_inds=np.arange(n))\";\n",
       "                var nbb_formatted_code = \"proj_X, proj_mat = splitter.sample_proj_mat(sample_inds=np.arange(n))\";\n",
       "                var nbb_cells = Jupyter.notebook.get_cells();\n",
       "                for (var i = 0; i < nbb_cells.length; ++i) {\n",
       "                    if (nbb_cells[i].input_prompt_number == nbb_cell_id) {\n",
       "                        if (nbb_cells[i].get_text() == nbb_unformatted_code) {\n",
       "                             nbb_cells[i].set_text(nbb_formatted_code);\n",
       "                        }\n",
       "                        break;\n",
       "                    }\n",
       "                }\n",
       "            }, 500);\n",
       "            "
      ],
      "text/plain": [
       "<IPython.core.display.Javascript object>"
      ]
     },
     "metadata": {},
     "output_type": "display_data"
    }
   ],
   "source": [
    "proj_X, proj_mat = splitter.sample_proj_mat(sample_inds=np.arange(n))"
   ]
  },
  {
   "cell_type": "code",
   "execution_count": 73,
   "metadata": {},
   "outputs": [
    {
     "name": "stdout",
     "output_type": "stream",
     "text": [
      "(50, 20) (20, 20) (50, 20)\n"
     ]
    },
    {
     "data": {
      "application/javascript": [
       "\n",
       "            setTimeout(function() {\n",
       "                var nbb_cell_id = 73;\n",
       "                var nbb_unformatted_code = \"print(proj_X.shape, proj_mat.shape, X.shape)\";\n",
       "                var nbb_formatted_code = \"print(proj_X.shape, proj_mat.shape, X.shape)\";\n",
       "                var nbb_cells = Jupyter.notebook.get_cells();\n",
       "                for (var i = 0; i < nbb_cells.length; ++i) {\n",
       "                    if (nbb_cells[i].input_prompt_number == nbb_cell_id) {\n",
       "                        if (nbb_cells[i].get_text() == nbb_unformatted_code) {\n",
       "                             nbb_cells[i].set_text(nbb_formatted_code);\n",
       "                        }\n",
       "                        break;\n",
       "                    }\n",
       "                }\n",
       "            }, 500);\n",
       "            "
      ],
      "text/plain": [
       "<IPython.core.display.Javascript object>"
      ]
     },
     "metadata": {},
     "output_type": "display_data"
    }
   ],
   "source": [
    "print(proj_X.shape, proj_mat.shape, X.shape)"
   ]
  },
  {
   "cell_type": "code",
   "execution_count": 74,
   "metadata": {},
   "outputs": [
    {
     "data": {
      "text/plain": [
       "[Text(0.5, 1.0, 'Sampled Projection Matrix - 2D Convolutional MORF'),\n",
       " Text(0.5, 28.5, 'Sampled Patches'),\n",
       " Text(28.5, 0.5, 'Vectorized Projections')]"
      ]
     },
     "execution_count": 74,
     "metadata": {},
     "output_type": "execute_result"
    },
    {
     "data": {
      "image/png": "[encoded data removed]",
      "text/plain": [
       "<Figure size 504x504 with 2 Axes>"
      ]
     },
     "metadata": {
      "needs_background": "light"
     },
     "output_type": "display_data"
    },
    {
     "data": {
      "application/javascript": [
       "\n",
       "            setTimeout(function() {\n",
       "                var nbb_cell_id = 74;\n",
       "                var nbb_unformatted_code = \"sns.set_context('talk', \\n#                 font_scale=1.5\\n               )\\nfig, ax = plt.subplots(figsize=(7,7))\\nsns.heatmap(proj_mat, annot=True, ax=ax)\\nax.set(\\n    title='Sampled Projection Matrix - 2D Convolutional MORF',\\n    xlabel='Sampled Patches',\\n    ylabel='Vectorized Projections'\\n)\";\n",
       "                var nbb_formatted_code = \"sns.set_context(\\n    \\\"talk\\\",\\n    #                 font_scale=1.5\\n)\\nfig, ax = plt.subplots(figsize=(7, 7))\\nsns.heatmap(proj_mat, annot=True, ax=ax)\\nax.set(\\n    title=\\\"Sampled Projection Matrix - 2D Convolutional MORF\\\",\\n    xlabel=\\\"Sampled Patches\\\",\\n    ylabel=\\\"Vectorized Projections\\\",\\n)\";\n",
       "                var nbb_cells = Jupyter.notebook.get_cells();\n",
       "                for (var i = 0; i < nbb_cells.length; ++i) {\n",
       "                    if (nbb_cells[i].input_prompt_number == nbb_cell_id) {\n",
       "                        if (nbb_cells[i].get_text() == nbb_unformatted_code) {\n",
       "                             nbb_cells[i].set_text(nbb_formatted_code);\n",
       "                        }\n",
       "                        break;\n",
       "                    }\n",
       "                }\n",
       "            }, 500);\n",
       "            "
      ],
      "text/plain": [
       "<IPython.core.display.Javascript object>"
      ]
     },
     "metadata": {},
     "output_type": "display_data"
    }
   ],
   "source": [
    "sns.set_context(\n",
    "    \"talk\",\n",
    "    #                 font_scale=1.5\n",
    ")\n",
    "fig, ax = plt.subplots(figsize=(7, 7))\n",
    "sns.heatmap(proj_mat, annot=True, ax=ax)\n",
    "ax.set(\n",
    "    title=\"Sampled Projection Matrix - 2D Convolutional MORF\",\n",
    "    xlabel=\"Sampled Patches\",\n",
    "    ylabel=\"Vectorized Projections\",\n",
    ")"
   ]
  },
  {
   "cell_type": "code",
   "execution_count": 75,
   "metadata": {},
   "outputs": [
    {
     "name": "stderr",
     "output_type": "stream",
     "text": [
      "<ipython-input-75-a343e31dc33b>:33: UserWarning: This figure includes Axes that are not compatible with tight_layout, so results might be incorrect.\n",
      "  fig.tight_layout(rect=[0, 0, .9, 1])\n"
     ]
    },
    {
     "data": {
      "image/png": "[encoded data removed]",
      "text/plain": [
       "<Figure size 504x504 with 21 Axes>"
      ]
     },
     "metadata": {
      "needs_background": "light"
     },
     "output_type": "display_data"
    },
    {
     "data": {
      "application/javascript": [
       "\n",
       "            setTimeout(function() {\n",
       "                var nbb_cell_id = 75;\n",
       "                var nbb_unformatted_code = \"empty_mat = np.zeros((height, d))\\n\\nsns.set_context('paper')\\nfig, axs = plt.subplots(3, np.ceil(proj_mat.shape[1] / 3).astype(int), \\n                        sharex=True, sharey=True,\\n                        figsize=(7, 7))\\naxs = axs.flat\\ncbar_ax = fig.add_axes([.91, .3, .03, .4])\\n\\nfor idx in range(proj_mat.shape[1]):\\n    proj_vec = proj_mat[:, idx]\\n    \\n    vec_idx = np.argwhere(proj_vec == 1)\\n    patch_idx = np.unravel_index(vec_idx, shape=(height, d))\\n    mat = empty_mat.copy()\\n    mat[patch_idx] = 1.0\\n    \\n    sns.heatmap(mat, ax=axs[idx], \\n                xticklabels=np.arange(d),\\n                yticklabels=np.arange(height),\\n                cbar=idx == 0,\\n                square=True,\\n                vmin=0, vmax=1,\\n                cbar_ax=None if idx else cbar_ax)\\n\\n# remove unused axes\\nidx += 1\\nwhile idx < len(axs):\\n    fig.delaxes(axs[idx])\\n    idx += 1\\n    \\nfig.suptitle('MORF 2D Discontiguous Convolutional Patches Sampled')\\nfig.tight_layout(rect=[0, 0, .9, 1])\";\n",
       "                var nbb_formatted_code = \"empty_mat = np.zeros((height, d))\\n\\nsns.set_context(\\\"paper\\\")\\nfig, axs = plt.subplots(\\n    3,\\n    np.ceil(proj_mat.shape[1] / 3).astype(int),\\n    sharex=True,\\n    sharey=True,\\n    figsize=(7, 7),\\n)\\naxs = axs.flat\\ncbar_ax = fig.add_axes([0.91, 0.3, 0.03, 0.4])\\n\\nfor idx in range(proj_mat.shape[1]):\\n    proj_vec = proj_mat[:, idx]\\n\\n    vec_idx = np.argwhere(proj_vec == 1)\\n    patch_idx = np.unravel_index(vec_idx, shape=(height, d))\\n    mat = empty_mat.copy()\\n    mat[patch_idx] = 1.0\\n\\n    sns.heatmap(\\n        mat,\\n        ax=axs[idx],\\n        xticklabels=np.arange(d),\\n        yticklabels=np.arange(height),\\n        cbar=idx == 0,\\n        square=True,\\n        vmin=0,\\n        vmax=1,\\n        cbar_ax=None if idx else cbar_ax,\\n    )\\n\\n# remove unused axes\\nidx += 1\\nwhile idx < len(axs):\\n    fig.delaxes(axs[idx])\\n    idx += 1\\n\\nfig.suptitle(\\\"MORF 2D Discontiguous Convolutional Patches Sampled\\\")\\nfig.tight_layout(rect=[0, 0, 0.9, 1])\";\n",
       "                var nbb_cells = Jupyter.notebook.get_cells();\n",
       "                for (var i = 0; i < nbb_cells.length; ++i) {\n",
       "                    if (nbb_cells[i].input_prompt_number == nbb_cell_id) {\n",
       "                        if (nbb_cells[i].get_text() == nbb_unformatted_code) {\n",
       "                             nbb_cells[i].set_text(nbb_formatted_code);\n",
       "                        }\n",
       "                        break;\n",
       "                    }\n",
       "                }\n",
       "            }, 500);\n",
       "            "
      ],
      "text/plain": [
       "<IPython.core.display.Javascript object>"
      ]
     },
     "metadata": {},
     "output_type": "display_data"
    }
   ],
   "source": [
    "empty_mat = np.zeros((height, d))\n",
    "\n",
    "sns.set_context(\"paper\")\n",
    "fig, axs = plt.subplots(\n",
    "    3,\n",
    "    np.ceil(proj_mat.shape[1] / 3).astype(int),\n",
    "    sharex=True,\n",
    "    sharey=True,\n",
    "    figsize=(7, 7),\n",
    ")\n",
    "axs = axs.flat\n",
    "cbar_ax = fig.add_axes([0.91, 0.3, 0.03, 0.4])\n",
    "\n",
    "for idx in range(proj_mat.shape[1]):\n",
    "    proj_vec = proj_mat[:, idx]\n",
    "\n",
    "    vec_idx = np.argwhere(proj_vec == 1)\n",
    "    patch_idx = np.unravel_index(vec_idx, shape=(height, d))\n",
    "    mat = empty_mat.copy()\n",
    "    mat[patch_idx] = 1.0\n",
    "\n",
    "    sns.heatmap(\n",
    "        mat,\n",
    "        ax=axs[idx],\n",
    "        xticklabels=np.arange(d),\n",
    "        yticklabels=np.arange(height),\n",
    "        cbar=idx == 0,\n",
    "        square=True,\n",
    "        vmin=0,\n",
    "        vmax=1,\n",
    "        cbar_ax=None if idx else cbar_ax,\n",
    "    )\n",
    "\n",
    "# remove unused axes\n",
    "idx += 1\n",
    "while idx < len(axs):\n",
    "    fig.delaxes(axs[idx])\n",
    "    idx += 1\n",
    "\n",
    "fig.suptitle(\"MORF 2D Discontiguous Convolutional Patches Sampled\")\n",
    "fig.tight_layout(rect=[0, 0, 0.9, 1])"
   ]
  },
  {
   "cell_type": "markdown",
   "metadata": {},
   "source": [
    "## Profiling the Projection Matrix Sampling\n",
    "\n",
    "Let's increase the sample size and the height and the width of samples.\n",
    "\n",
    "Note that if ``height`` or ``d`` is increased too much... then it's pretty slow currently."
   ]
  },
  {
   "cell_type": "code",
   "execution_count": 44,
   "metadata": {},
   "outputs": [
    {
     "data": {
      "application/javascript": [
       "\n",
       "            setTimeout(function() {\n",
       "                var nbb_cell_id = 44;\n",
       "                var nbb_unformatted_code = \"n = 1000\\nheight = 100\\nd = 80\\nX = np.ones((n, height * d))\\ny = np.ones((n,))\\ny[:25] = 0\";\n",
       "                var nbb_formatted_code = \"n = 1000\\nheight = 100\\nd = 80\\nX = np.ones((n, height * d))\\ny = np.ones((n,))\\ny[:25] = 0\";\n",
       "                var nbb_cells = Jupyter.notebook.get_cells();\n",
       "                for (var i = 0; i < nbb_cells.length; ++i) {\n",
       "                    if (nbb_cells[i].input_prompt_number == nbb_cell_id) {\n",
       "                        if (nbb_cells[i].get_text() == nbb_unformatted_code) {\n",
       "                             nbb_cells[i].set_text(nbb_formatted_code);\n",
       "                        }\n",
       "                        break;\n",
       "                    }\n",
       "                }\n",
       "            }, 500);\n",
       "            "
      ],
      "text/plain": [
       "<IPython.core.display.Javascript object>"
      ]
     },
     "metadata": {},
     "output_type": "display_data"
    }
   ],
   "source": [
    "n = 1000\n",
    "height = 100\n",
    "d = 80\n",
    "X = np.ones((n, height * d))\n",
    "y = np.ones((n,))\n",
    "y[:25] = 0"
   ]
  },
  {
   "cell_type": "code",
   "execution_count": 45,
   "metadata": {},
   "outputs": [
    {
     "data": {
      "application/javascript": [
       "\n",
       "            setTimeout(function() {\n",
       "                var nbb_cell_id = 45;\n",
       "                var nbb_unformatted_code = \"splitter = Conv2DSplitter(X, y, max_features=1, feature_combinations=1.5,\\n        random_state=random_state, image_height=height, image_width=d, \\n        patch_height_max=5, patch_height_min=1, patch_width_min=1, patch_width_max=2)\";\n",
       "                var nbb_formatted_code = \"splitter = Conv2DSplitter(\\n    X,\\n    y,\\n    max_features=1,\\n    feature_combinations=1.5,\\n    random_state=random_state,\\n    image_height=height,\\n    image_width=d,\\n    patch_height_max=5,\\n    patch_height_min=1,\\n    patch_width_min=1,\\n    patch_width_max=2,\\n)\";\n",
       "                var nbb_cells = Jupyter.notebook.get_cells();\n",
       "                for (var i = 0; i < nbb_cells.length; ++i) {\n",
       "                    if (nbb_cells[i].input_prompt_number == nbb_cell_id) {\n",
       "                        if (nbb_cells[i].get_text() == nbb_unformatted_code) {\n",
       "                             nbb_cells[i].set_text(nbb_formatted_code);\n",
       "                        }\n",
       "                        break;\n",
       "                    }\n",
       "                }\n",
       "            }, 500);\n",
       "            "
      ],
      "text/plain": [
       "<IPython.core.display.Javascript object>"
      ]
     },
     "metadata": {},
     "output_type": "display_data"
    }
   ],
   "source": [
    "splitter = Conv2DSplitter(X, y, max_features=1, feature_combinations=1.5,\n",
    "        random_state=random_state, image_height=height, image_width=d, \n",
    "        patch_height_max=5, patch_height_min=1, patch_width_min=1, patch_width_max=2)"
   ]
  },
  {
   "cell_type": "code",
   "execution_count": 47,
   "metadata": {},
   "outputs": [
    {
     "name": "stdout",
     "output_type": "stream",
     "text": [
      "1.53 s ± 101 ms per loop (mean ± std. dev. of 7 runs, 1 loop each)\n"
     ]
    },
    {
     "data": {
      "application/javascript": [
       "\n",
       "            setTimeout(function() {\n",
       "                var nbb_cell_id = 47;\n",
       "                var nbb_unformatted_code = \"%%timeit\\nproj_X, proj_mat = splitter.sample_proj_mat(sample_inds=np.arange(n))\";\n",
       "                var nbb_formatted_code = \"%%timeit\\nproj_X, proj_mat = splitter.sample_proj_mat(sample_inds=np.arange(n))\";\n",
       "                var nbb_cells = Jupyter.notebook.get_cells();\n",
       "                for (var i = 0; i < nbb_cells.length; ++i) {\n",
       "                    if (nbb_cells[i].input_prompt_number == nbb_cell_id) {\n",
       "                        if (nbb_cells[i].get_text() == nbb_unformatted_code) {\n",
       "                             nbb_cells[i].set_text(nbb_formatted_code);\n",
       "                        }\n",
       "                        break;\n",
       "                    }\n",
       "                }\n",
       "            }, 500);\n",
       "            "
      ],
      "text/plain": [
       "<IPython.core.display.Javascript object>"
      ]
     },
     "metadata": {},
     "output_type": "display_data"
    }
   ],
   "source": [
    "%%timeit\n",
    "proj_X, proj_mat = splitter.sample_proj_mat(sample_inds=np.arange(n))"
   ]
  },
  {
   "cell_type": "code",
   "execution_count": 34,
   "metadata": {},
   "outputs": [
    {
     "name": "stdout",
     "output_type": "stream",
     "text": [
      "165 ms ± 7.77 ms per loop (mean ± std. dev. of 7 runs, 10 loops each)\n"
     ]
    },
    {
     "data": {
      "application/javascript": [
       "\n",
       "            setTimeout(function() {\n",
       "                var nbb_cell_id = 34;\n",
       "                var nbb_unformatted_code = \"%%timeit\\nproj_X, proj_mat = splitter.sample_proj_mat(sample_inds=np.arange(n))\";\n",
       "                var nbb_formatted_code = \"%%timeit\\nproj_X, proj_mat = splitter.sample_proj_mat(sample_inds=np.arange(n))\";\n",
       "                var nbb_cells = Jupyter.notebook.get_cells();\n",
       "                for (var i = 0; i < nbb_cells.length; ++i) {\n",
       "                    if (nbb_cells[i].input_prompt_number == nbb_cell_id) {\n",
       "                        if (nbb_cells[i].get_text() == nbb_unformatted_code) {\n",
       "                             nbb_cells[i].set_text(nbb_formatted_code);\n",
       "                        }\n",
       "                        break;\n",
       "                    }\n",
       "                }\n",
       "            }, 500);\n",
       "            "
      ],
      "text/plain": [
       "<IPython.core.display.Javascript object>"
      ]
     },
     "metadata": {},
     "output_type": "display_data"
    }
   ],
   "source": [
    "%%timeit\n",
    "proj_X, proj_mat = splitter.sample_proj_mat(sample_inds=np.arange(n))"
   ]
  },
  {
   "cell_type": "code",
   "execution_count": 48,
   "metadata": {
    "collapsed": true,
    "jupyter": {
     "outputs_hidden": true
    }
   },
   "outputs": [
    {
     "name": "stdout",
     "output_type": "stream",
     "text": [
      " "
     ]
    },
    {
     "data": {
      "application/javascript": [
       "\n",
       "            setTimeout(function() {\n",
       "                var nbb_cell_id = 48;\n",
       "                var nbb_unformatted_code = \"%%prun\\nproj_X, proj_mat = splitter.sample_proj_mat(sample_inds=np.arange(n))\";\n",
       "                var nbb_formatted_code = \"%%prun\\nproj_X, proj_mat = splitter.sample_proj_mat(sample_inds=np.arange(n))\";\n",
       "                var nbb_cells = Jupyter.notebook.get_cells();\n",
       "                for (var i = 0; i < nbb_cells.length; ++i) {\n",
       "                    if (nbb_cells[i].input_prompt_number == nbb_cell_id) {\n",
       "                        if (nbb_cells[i].get_text() == nbb_unformatted_code) {\n",
       "                             nbb_cells[i].set_text(nbb_formatted_code);\n",
       "                        }\n",
       "                        break;\n",
       "                    }\n",
       "                }\n",
       "            }, 500);\n",
       "            "
      ],
      "text/plain": [
       "<IPython.core.display.Javascript object>"
      ]
     },
     "metadata": {},
     "output_type": "display_data"
    },
    {
     "data": {
      "text/plain": [
       "         280026 function calls in 1.675 seconds\n",
       "\n",
       "   Ordered by: internal time\n",
       "\n",
       "   ncalls  tottime  percall  cumtime  percall filename:lineno(function)\n",
       "        1    1.268    1.268    1.609    1.609 morf.py:194(sample_proj_mat)\n",
       "     8000    0.092    0.000    0.340    0.000 morf.py:131(_get_rand_patch_idx)\n",
       "        1    0.067    0.067    1.675    1.675 <string>:1(<module>)\n",
       "    24002    0.058    0.000    0.144    0.000 {built-in method numpy.core._multiarray_umath.implement_array_function}\n",
       "     8002    0.044    0.000    0.044    0.000 {method 'randint' of 'numpy.random.mtrand.RandomState' objects}\n",
       "     8000    0.035    0.000    0.086    0.000 index_tricks.py:35(ix_)\n",
       "    16001    0.026    0.000    0.026    0.000 {built-in method numpy.arange}\n",
       "    32000    0.014    0.000    0.021    0.000 numerictypes.py:285(issubclass_)\n",
       "    16000    0.014    0.000    0.037    0.000 numerictypes.py:359(issubdtype)\n",
       "    16000    0.009    0.000    0.009    0.000 {method 'reshape' of 'numpy.ndarray' objects}\n",
       "    48000    0.008    0.000    0.008    0.000 {built-in method builtins.issubclass}\n",
       "     8000    0.007    0.000    0.040    0.000 morf.py:191(_compute_vectorized_index_in_data)\n",
       "     8000    0.006    0.000    0.033    0.000 <__array_function__ internals>:2(unravel_index)\n",
       "     8000    0.006    0.000    0.041    0.000 morf.py:186(_compute_index_in_vectorized_data)\n",
       "     8000    0.006    0.000    0.035    0.000 <__array_function__ internals>:2(ravel_multi_index)\n",
       "     8000    0.005    0.000    0.097    0.000 <__array_function__ internals>:2(ix_)\n",
       "    16000    0.002    0.000    0.002    0.000 {built-in method builtins.isinstance}\n",
       "    16000    0.002    0.000    0.002    0.000 {method 'append' of 'list' objects}\n",
       "     8000    0.002    0.000    0.002    0.000 multiarray.py:1001(unravel_index)\n",
       "     8000    0.001    0.000    0.001    0.000 {built-in method builtins.len}\n",
       "     8000    0.001    0.000    0.001    0.000 multiarray.py:940(ravel_multi_index)\n",
       "     8000    0.001    0.000    0.001    0.000 index_tricks.py:31(_ix__dispatcher)\n",
       "        1    0.000    0.000    1.675    1.675 {built-in method builtins.exec}\n",
       "        1    0.000    0.000    0.000    0.000 {built-in method numpy.zeros}\n",
       "        2    0.000    0.000    0.000    0.000 {method 'reduce' of 'numpy.ufunc' objects}\n",
       "        2    0.000    0.000    0.000    0.000 fromnumeric.py:70(_wrapreduction)\n",
       "        2    0.000    0.000    0.000    0.000 <__array_function__ internals>:2(prod)\n",
       "        2    0.000    0.000    0.000    0.000 fromnumeric.py:2912(prod)\n",
       "        2    0.000    0.000    0.000    0.000 {built-in method builtins.getattr}\n",
       "        2    0.000    0.000    0.000    0.000 fromnumeric.py:71(<dictcomp>)\n",
       "        1    0.000    0.000    0.000    0.000 {method 'disable' of '_lsprof.Profiler' objects}\n",
       "        2    0.000    0.000    0.000    0.000 {method 'items' of 'dict' objects}\n",
       "        2    0.000    0.000    0.000    0.000 fromnumeric.py:2907(_prod_dispatcher)"
      ]
     },
     "metadata": {},
     "output_type": "display_data"
    }
   ],
   "source": [
    "%%prun\n",
    "proj_X, proj_mat = splitter.sample_proj_mat(sample_inds=np.arange(n))"
   ]
  },
  {
   "cell_type": "code",
   "execution_count": 42,
   "metadata": {
    "collapsed": true,
    "jupyter": {
     "outputs_hidden": true
    }
   },
   "outputs": [
    {
     "name": "stdout",
     "output_type": "stream",
     "text": [
      " "
     ]
    },
    {
     "data": {
      "application/javascript": [
       "\n",
       "            setTimeout(function() {\n",
       "                var nbb_cell_id = 42;\n",
       "                var nbb_unformatted_code = \"%%prun\\nproj_X, proj_mat = splitter.sample_proj_mat(sample_inds=np.arange(n))\";\n",
       "                var nbb_formatted_code = \"%%prun\\nproj_X, proj_mat = splitter.sample_proj_mat(sample_inds=np.arange(n))\";\n",
       "                var nbb_cells = Jupyter.notebook.get_cells();\n",
       "                for (var i = 0; i < nbb_cells.length; ++i) {\n",
       "                    if (nbb_cells[i].input_prompt_number == nbb_cell_id) {\n",
       "                        if (nbb_cells[i].get_text() == nbb_unformatted_code) {\n",
       "                             nbb_cells[i].set_text(nbb_formatted_code);\n",
       "                        }\n",
       "                        break;\n",
       "                    }\n",
       "                }\n",
       "            }, 500);\n",
       "            "
      ],
      "text/plain": [
       "<IPython.core.display.Javascript object>"
      ]
     },
     "metadata": {},
     "output_type": "display_data"
    },
    {
     "data": {
      "text/plain": [
       "         288026 function calls in 1.677 seconds\n",
       "\n",
       "   Ordered by: internal time\n",
       "\n",
       "   ncalls  tottime  percall  cumtime  percall filename:lineno(function)\n",
       "        1    1.294    1.294    1.669    1.669 morf.py:192(sample_proj_mat)\n",
       "     8000    0.082    0.000    0.131    0.000 morf.py:131(_get_rand_patch_idx)\n",
       "    24002    0.065    0.000    0.159    0.000 {built-in method numpy.core._multiarray_umath.implement_array_function}\n",
       "     8002    0.050    0.000    0.050    0.000 {method 'randint' of 'numpy.random.mtrand.RandomState' objects}\n",
       "     8000    0.039    0.000    0.094    0.000 index_tricks.py:35(ix_)\n",
       "    16001    0.029    0.000    0.029    0.000 {built-in method numpy.arange}\n",
       "     8000    0.019    0.000    0.197    0.000 morf.py:160(_get_patch_idx)\n",
       "    16000    0.015    0.000    0.039    0.000 numerictypes.py:359(issubdtype)\n",
       "    32000    0.015    0.000    0.022    0.000 numerictypes.py:285(issubclass_)\n",
       "    16000    0.010    0.000    0.010    0.000 {method 'reshape' of 'numpy.ndarray' objects}\n",
       "    48000    0.009    0.000    0.009    0.000 {built-in method builtins.issubclass}\n",
       "     8000    0.008    0.000    0.044    0.000 morf.py:189(_compute_vectorized_index_in_data)\n",
       "        1    0.008    0.008    1.676    1.676 <string>:1(<module>)\n",
       "     8000    0.007    0.000    0.046    0.000 morf.py:184(_compute_index_in_vectorized_data)\n",
       "     8000    0.007    0.000    0.036    0.000 <__array_function__ internals>:2(unravel_index)\n",
       "     8000    0.006    0.000    0.039    0.000 <__array_function__ internals>:2(ravel_multi_index)\n",
       "     8000    0.005    0.000    0.106    0.000 <__array_function__ internals>:2(ix_)\n",
       "    16000    0.002    0.000    0.002    0.000 {built-in method builtins.isinstance}\n",
       "    16000    0.002    0.000    0.002    0.000 {method 'append' of 'list' objects}\n",
       "     8000    0.002    0.000    0.002    0.000 multiarray.py:1001(unravel_index)\n",
       "     8000    0.001    0.000    0.001    0.000 {built-in method builtins.len}\n",
       "     8000    0.001    0.000    0.001    0.000 multiarray.py:940(ravel_multi_index)\n",
       "     8000    0.001    0.000    0.001    0.000 index_tricks.py:31(_ix__dispatcher)\n",
       "        1    0.000    0.000    0.000    0.000 {built-in method numpy.zeros}\n",
       "        1    0.000    0.000    1.677    1.677 {built-in method builtins.exec}\n",
       "        2    0.000    0.000    0.000    0.000 {method 'reduce' of 'numpy.ufunc' objects}\n",
       "        2    0.000    0.000    0.000    0.000 fromnumeric.py:70(_wrapreduction)\n",
       "        2    0.000    0.000    0.000    0.000 <__array_function__ internals>:2(prod)\n",
       "        2    0.000    0.000    0.000    0.000 fromnumeric.py:2912(prod)\n",
       "        2    0.000    0.000    0.000    0.000 fromnumeric.py:71(<dictcomp>)\n",
       "        2    0.000    0.000    0.000    0.000 {built-in method builtins.getattr}\n",
       "        1    0.000    0.000    0.000    0.000 {method 'disable' of '_lsprof.Profiler' objects}\n",
       "        2    0.000    0.000    0.000    0.000 fromnumeric.py:2907(_prod_dispatcher)\n",
       "        2    0.000    0.000    0.000    0.000 {method 'items' of 'dict' objects}"
      ]
     },
     "metadata": {},
     "output_type": "display_data"
    }
   ],
   "source": [
    "%%prun\n",
    "proj_X, proj_mat = splitter.sample_proj_mat(sample_inds=np.arange(n))"
   ]
  },
  {
   "cell_type": "code",
   "execution_count": 35,
   "metadata": {
    "collapsed": true,
    "jupyter": {
     "outputs_hidden": true
    }
   },
   "outputs": [
    {
     "name": "stdout",
     "output_type": "stream",
     "text": [
      " "
     ]
    },
    {
     "data": {
      "application/javascript": [
       "\n",
       "            setTimeout(function() {\n",
       "                var nbb_cell_id = 35;\n",
       "                var nbb_unformatted_code = \"%%prun\\nproj_X, proj_mat = splitter.sample_proj_mat(sample_inds=np.arange(n))\";\n",
       "                var nbb_formatted_code = \"%%prun\\nproj_X, proj_mat = splitter.sample_proj_mat(sample_inds=np.arange(n))\";\n",
       "                var nbb_cells = Jupyter.notebook.get_cells();\n",
       "                for (var i = 0; i < nbb_cells.length; ++i) {\n",
       "                    if (nbb_cells[i].input_prompt_number == nbb_cell_id) {\n",
       "                        if (nbb_cells[i].get_text() == nbb_unformatted_code) {\n",
       "                             nbb_cells[i].set_text(nbb_formatted_code);\n",
       "                        }\n",
       "                        break;\n",
       "                    }\n",
       "                }\n",
       "            }, 500);\n",
       "            "
      ],
      "text/plain": [
       "<IPython.core.display.Javascript object>"
      ]
     },
     "metadata": {},
     "output_type": "display_data"
    },
    {
     "data": {
      "text/plain": [
       "         72026 function calls in 0.171 seconds\n",
       "\n",
       "   Ordered by: internal time\n",
       "\n",
       "   ncalls  tottime  percall  cumtime  percall filename:lineno(function)\n",
       "        1    0.084    0.084    0.167    0.167 morf.py:192(sample_proj_mat)\n",
       "     2000    0.017    0.000    0.027    0.000 morf.py:131(_get_rand_patch_idx)\n",
       "     6002    0.014    0.000    0.035    0.000 {built-in method numpy.core._multiarray_umath.implement_array_function}\n",
       "     2002    0.010    0.000    0.010    0.000 {method 'randint' of 'numpy.random.mtrand.RandomState' objects}\n",
       "     2000    0.008    0.000    0.021    0.000 index_tricks.py:35(ix_)\n",
       "     4001    0.006    0.000    0.006    0.000 {built-in method numpy.arange}\n",
       "     2000    0.004    0.000    0.043    0.000 morf.py:160(_get_patch_idx)\n",
       "        1    0.004    0.004    0.171    0.171 <string>:1(<module>)\n",
       "     8000    0.003    0.000    0.005    0.000 numerictypes.py:285(issubclass_)\n",
       "     4000    0.003    0.000    0.009    0.000 numerictypes.py:359(issubdtype)\n",
       "        1    0.003    0.003    0.003    0.003 {built-in method numpy.zeros}\n",
       "     4000    0.002    0.000    0.002    0.000 {method 'reshape' of 'numpy.ndarray' objects}\n",
       "    12000    0.002    0.000    0.002    0.000 {built-in method builtins.issubclass}\n",
       "     2000    0.002    0.000    0.009    0.000 morf.py:189(_compute_vectorized_index_in_data)\n",
       "     2000    0.002    0.000    0.010    0.000 morf.py:184(_compute_index_in_vectorized_data)\n",
       "     2000    0.001    0.000    0.008    0.000 <__array_function__ internals>:2(unravel_index)\n",
       "     2000    0.001    0.000    0.008    0.000 <__array_function__ internals>:2(ravel_multi_index)\n",
       "     2000    0.001    0.000    0.023    0.000 <__array_function__ internals>:2(ix_)\n",
       "     4000    0.001    0.000    0.001    0.000 {built-in method builtins.isinstance}\n",
       "     4000    0.000    0.000    0.000    0.000 {method 'append' of 'list' objects}\n",
       "     2000    0.000    0.000    0.000    0.000 multiarray.py:1001(unravel_index)\n",
       "     2000    0.000    0.000    0.000    0.000 {built-in method builtins.len}\n",
       "     2000    0.000    0.000    0.000    0.000 index_tricks.py:31(_ix__dispatcher)\n",
       "     2000    0.000    0.000    0.000    0.000 multiarray.py:940(ravel_multi_index)\n",
       "        1    0.000    0.000    0.171    0.171 {built-in method builtins.exec}\n",
       "        2    0.000    0.000    0.000    0.000 {method 'reduce' of 'numpy.ufunc' objects}\n",
       "        2    0.000    0.000    0.000    0.000 fromnumeric.py:70(_wrapreduction)\n",
       "        2    0.000    0.000    0.000    0.000 <__array_function__ internals>:2(prod)\n",
       "        2    0.000    0.000    0.000    0.000 fromnumeric.py:2912(prod)\n",
       "        2    0.000    0.000    0.000    0.000 fromnumeric.py:71(<dictcomp>)\n",
       "        2    0.000    0.000    0.000    0.000 {built-in method builtins.getattr}\n",
       "        2    0.000    0.000    0.000    0.000 fromnumeric.py:2907(_prod_dispatcher)\n",
       "        1    0.000    0.000    0.000    0.000 {method 'disable' of '_lsprof.Profiler' objects}\n",
       "        2    0.000    0.000    0.000    0.000 {method 'items' of 'dict' objects}"
      ]
     },
     "metadata": {},
     "output_type": "display_data"
    }
   ],
   "source": [
    "%%prun\n",
    "proj_X, proj_mat = splitter.sample_proj_mat(sample_inds=np.arange(n))"
   ]
  },
  {
   "cell_type": "code",
   "execution_count": 23,
   "metadata": {
    "collapsed": true,
    "jupyter": {
     "outputs_hidden": true
    }
   },
   "outputs": [
    {
     "name": "stdout",
     "output_type": "stream",
     "text": [
      " "
     ]
    },
    {
     "data": {
      "application/javascript": [
       "\n",
       "            setTimeout(function() {\n",
       "                var nbb_cell_id = 23;\n",
       "                var nbb_unformatted_code = \"%%prun\\nproj_X, proj_mat = splitter.sample_proj_mat(sample_inds=np.arange(n))\";\n",
       "                var nbb_formatted_code = \"%%prun\\nproj_X, proj_mat = splitter.sample_proj_mat(sample_inds=np.arange(n))\";\n",
       "                var nbb_cells = Jupyter.notebook.get_cells();\n",
       "                for (var i = 0; i < nbb_cells.length; ++i) {\n",
       "                    if (nbb_cells[i].input_prompt_number == nbb_cell_id) {\n",
       "                        if (nbb_cells[i].get_text() == nbb_unformatted_code) {\n",
       "                             nbb_cells[i].set_text(nbb_formatted_code);\n",
       "                        }\n",
       "                        break;\n",
       "                    }\n",
       "                }\n",
       "            }, 500);\n",
       "            "
      ],
      "text/plain": [
       "<IPython.core.display.Javascript object>"
      ]
     },
     "metadata": {},
     "output_type": "display_data"
    },
    {
     "data": {
      "text/plain": [
       "         76006 function calls in 0.170 seconds\n",
       "\n",
       "   Ordered by: internal time\n",
       "\n",
       "   ncalls  tottime  percall  cumtime  percall filename:lineno(function)\n",
       "        1    0.083    0.083    0.170    0.170 morf.py:201(sample_proj_mat)\n",
       "     6000    0.021    0.000    0.021    0.000 {method 'randint' of 'numpy.random.mtrand.RandomState' objects}\n",
       "     6000    0.015    0.000    0.036    0.000 {built-in method numpy.core._multiarray_umath.implement_array_function}\n",
       "     2000    0.009    0.000    0.030    0.000 morf.py:131(_get_rand_patch_idx)\n",
       "     2000    0.008    0.000    0.021    0.000 index_tricks.py:35(ix_)\n",
       "     4001    0.006    0.000    0.006    0.000 {built-in method numpy.arange}\n",
       "     2000    0.005    0.000    0.044    0.000 morf.py:169(_get_patch_idx)\n",
       "     4000    0.004    0.000    0.009    0.000 numerictypes.py:359(issubdtype)\n",
       "     8000    0.003    0.000    0.005    0.000 numerictypes.py:285(issubclass_)\n",
       "        1    0.003    0.003    0.003    0.003 {built-in method numpy.zeros}\n",
       "     4000    0.002    0.000    0.002    0.000 {method 'reshape' of 'numpy.ndarray' objects}\n",
       "    12000    0.002    0.000    0.002    0.000 {built-in method builtins.issubclass}\n",
       "     2000    0.002    0.000    0.011    0.000 morf.py:193(_compute_index_in_vectorized_data)\n",
       "     2000    0.002    0.000    0.009    0.000 morf.py:198(_compute_vectorized_index_in_data)\n",
       "     2000    0.001    0.000    0.008    0.000 <__array_function__ internals>:2(unravel_index)\n",
       "     2000    0.001    0.000    0.009    0.000 <__array_function__ internals>:2(ravel_multi_index)\n",
       "     2000    0.001    0.000    0.024    0.000 <__array_function__ internals>:2(ix_)\n",
       "     4000    0.001    0.000    0.001    0.000 {built-in method builtins.isinstance}\n",
       "     4000    0.000    0.000    0.000    0.000 {method 'append' of 'list' objects}\n",
       "     2000    0.000    0.000    0.000    0.000 multiarray.py:1001(unravel_index)\n",
       "     2000    0.000    0.000    0.000    0.000 {built-in method builtins.len}\n",
       "     2000    0.000    0.000    0.000    0.000 multiarray.py:940(ravel_multi_index)\n",
       "     2000    0.000    0.000    0.000    0.000 index_tricks.py:31(_ix__dispatcher)\n",
       "        1    0.000    0.000    0.170    0.170 {built-in method builtins.exec}\n",
       "        1    0.000    0.000    0.170    0.170 <string>:1(<module>)\n",
       "        1    0.000    0.000    0.000    0.000 {method 'disable' of '_lsprof.Profiler' objects}"
      ]
     },
     "metadata": {},
     "output_type": "display_data"
    }
   ],
   "source": [
    "%%prun\n",
    "proj_X, proj_mat = splitter.sample_proj_mat(sample_inds=np.arange(n))"
   ]
  },
  {
   "cell_type": "markdown",
   "metadata": {},
   "source": [
    "# Classification Tree - Convolutional Tree"
   ]
  },
  {
   "cell_type": "code",
   "execution_count": 4,
   "metadata": {},
   "outputs": [
    {
     "data": {
      "application/javascript": [
       "\n",
       "            setTimeout(function() {\n",
       "                var nbb_cell_id = 4;\n",
       "                var nbb_unformatted_code = \"from proglearn.tree.morf_tree import Conv2DObliqueTreeClassifier\";\n",
       "                var nbb_formatted_code = \"from proglearn.tree.morf_tree import Conv2DObliqueTreeClassifier\";\n",
       "                var nbb_cells = Jupyter.notebook.get_cells();\n",
       "                for (var i = 0; i < nbb_cells.length; ++i) {\n",
       "                    if (nbb_cells[i].input_prompt_number == nbb_cell_id) {\n",
       "                        if (nbb_cells[i].get_text() == nbb_unformatted_code) {\n",
       "                             nbb_cells[i].set_text(nbb_formatted_code);\n",
       "                        }\n",
       "                        break;\n",
       "                    }\n",
       "                }\n",
       "            }, 500);\n",
       "            "
      ],
      "text/plain": [
       "<IPython.core.display.Javascript object>"
      ]
     },
     "metadata": {},
     "output_type": "display_data"
    }
   ],
   "source": [
    "from proglearn.tree.morf_tree import Conv2DObliqueTreeClassifier"
   ]
  },
  {
   "cell_type": "code",
   "execution_count": 5,
   "metadata": {},
   "outputs": [
    {
     "data": {
      "application/javascript": [
       "\n",
       "            setTimeout(function() {\n",
       "                var nbb_cell_id = 5;\n",
       "                var nbb_unformatted_code = \"clf = Conv2DObliqueTreeClassifier(\\n    random_state=random_state,\\n    image_height=height,\\n    image_width=d,\\n    patch_height_max=5,\\n    patch_height_min=1,\\n    patch_width_min=1,\\n    patch_width_max=2,\\n    discontiguous_height=True,\\n    discontiguous_width=False,\\n)\";\n",
       "                var nbb_formatted_code = \"clf = Conv2DObliqueTreeClassifier(\\n    random_state=random_state,\\n    image_height=height,\\n    image_width=d,\\n    patch_height_max=5,\\n    patch_height_min=1,\\n    patch_width_min=1,\\n    patch_width_max=2,\\n    discontiguous_height=True,\\n    discontiguous_width=False,\\n)\";\n",
       "                var nbb_cells = Jupyter.notebook.get_cells();\n",
       "                for (var i = 0; i < nbb_cells.length; ++i) {\n",
       "                    if (nbb_cells[i].input_prompt_number == nbb_cell_id) {\n",
       "                        if (nbb_cells[i].get_text() == nbb_unformatted_code) {\n",
       "                             nbb_cells[i].set_text(nbb_formatted_code);\n",
       "                        }\n",
       "                        break;\n",
       "                    }\n",
       "                }\n",
       "            }, 500);\n",
       "            "
      ],
      "text/plain": [
       "<IPython.core.display.Javascript object>"
      ]
     },
     "metadata": {},
     "output_type": "display_data"
    }
   ],
   "source": [
    "clf = Conv2DObliqueTreeClassifier(\n",
    "    random_state=random_state,\n",
    "    image_height=height,\n",
    "    image_width=d,\n",
    "    patch_height_max=5,\n",
    "    patch_height_min=1,\n",
    "    patch_width_min=1,\n",
    "    patch_width_max=2,\n",
    "    discontiguous_height=True,\n",
    "    discontiguous_width=False,\n",
    ")"
   ]
  },
  {
   "cell_type": "code",
   "execution_count": 6,
   "metadata": {},
   "outputs": [
    {
     "data": {
      "text/plain": [
       "Conv2DObliqueTreeClassifier(discontiguous_height=True, image_height=5,\n",
       "                            image_width=4, patch_height_max=5,\n",
       "                            patch_width_max=2, random_state=123456)"
      ]
     },
     "execution_count": 6,
     "metadata": {},
     "output_type": "execute_result"
    },
    {
     "data": {
      "application/javascript": [
       "\n",
       "            setTimeout(function() {\n",
       "                var nbb_cell_id = 6;\n",
       "                var nbb_unformatted_code = \"clf.fit(X, y)\";\n",
       "                var nbb_formatted_code = \"clf.fit(X, y)\";\n",
       "                var nbb_cells = Jupyter.notebook.get_cells();\n",
       "                for (var i = 0; i < nbb_cells.length; ++i) {\n",
       "                    if (nbb_cells[i].input_prompt_number == nbb_cell_id) {\n",
       "                        if (nbb_cells[i].get_text() == nbb_unformatted_code) {\n",
       "                             nbb_cells[i].set_text(nbb_formatted_code);\n",
       "                        }\n",
       "                        break;\n",
       "                    }\n",
       "                }\n",
       "            }, 500);\n",
       "            "
      ],
      "text/plain": [
       "<IPython.core.display.Javascript object>"
      ]
     },
     "metadata": {},
     "output_type": "display_data"
    }
   ],
   "source": [
    "clf.fit(X, y)"
   ]
  },
  {
   "cell_type": "markdown",
   "metadata": {},
   "source": [
    "# Classification Forest - Convolutional Forest"
   ]
  },
  {
   "cell_type": "code",
   "execution_count": 7,
   "metadata": {},
   "outputs": [
    {
     "data": {
      "application/javascript": [
       "\n",
       "            setTimeout(function() {\n",
       "                var nbb_cell_id = 7;\n",
       "                var nbb_unformatted_code = \"from proglearn.tree.morf import Conv2DObliqueForestClassifier\";\n",
       "                var nbb_formatted_code = \"from proglearn.tree.morf import Conv2DObliqueForestClassifier\";\n",
       "                var nbb_cells = Jupyter.notebook.get_cells();\n",
       "                for (var i = 0; i < nbb_cells.length; ++i) {\n",
       "                    if (nbb_cells[i].input_prompt_number == nbb_cell_id) {\n",
       "                        if (nbb_cells[i].get_text() == nbb_unformatted_code) {\n",
       "                             nbb_cells[i].set_text(nbb_formatted_code);\n",
       "                        }\n",
       "                        break;\n",
       "                    }\n",
       "                }\n",
       "            }, 500);\n",
       "            "
      ],
      "text/plain": [
       "<IPython.core.display.Javascript object>"
      ]
     },
     "metadata": {},
     "output_type": "display_data"
    }
   ],
   "source": [
    "from proglearn.tree.morf import Conv2DObliqueForestClassifier"
   ]
  },
  {
   "cell_type": "code",
   "execution_count": 15,
   "metadata": {},
   "outputs": [
    {
     "data": {
      "application/javascript": [
       "\n",
       "            setTimeout(function() {\n",
       "                var nbb_cell_id = 15;\n",
       "                var nbb_unformatted_code = \"clf = Conv2DObliqueForestClassifier(\\n    n_estimators=100,\\n    random_state=random_state,\\n    image_height=height,\\n    image_width=d,\\n    patch_height_max=5,\\n    patch_height_min=1,\\n    patch_width_min=1,\\n    patch_width_max=2,\\n    discontiguous_height=True,\\n    discontiguous_width=False,\\n    n_jobs=-1,\\n)\";\n",
       "                var nbb_formatted_code = \"clf = Conv2DObliqueForestClassifier(\\n    n_estimators=100,\\n    random_state=random_state,\\n    image_height=height,\\n    image_width=d,\\n    patch_height_max=5,\\n    patch_height_min=1,\\n    patch_width_min=1,\\n    patch_width_max=2,\\n    discontiguous_height=True,\\n    discontiguous_width=False,\\n    n_jobs=-1,\\n)\";\n",
       "                var nbb_cells = Jupyter.notebook.get_cells();\n",
       "                for (var i = 0; i < nbb_cells.length; ++i) {\n",
       "                    if (nbb_cells[i].input_prompt_number == nbb_cell_id) {\n",
       "                        if (nbb_cells[i].get_text() == nbb_unformatted_code) {\n",
       "                             nbb_cells[i].set_text(nbb_formatted_code);\n",
       "                        }\n",
       "                        break;\n",
       "                    }\n",
       "                }\n",
       "            }, 500);\n",
       "            "
      ],
      "text/plain": [
       "<IPython.core.display.Javascript object>"
      ]
     },
     "metadata": {},
     "output_type": "display_data"
    }
   ],
   "source": [
    "clf = Conv2DObliqueForestClassifier(\n",
    "    n_estimators=100,\n",
    "    random_state=random_state,\n",
    "    image_height=height,\n",
    "    image_width=d,\n",
    "    patch_height_max=5,\n",
    "    patch_height_min=1,\n",
    "    patch_width_min=1,\n",
    "    patch_width_max=2,\n",
    "    discontiguous_height=True,\n",
    "    discontiguous_width=False,\n",
    "    n_jobs=-1,\n",
    ")"
   ]
  },
  {
   "cell_type": "code",
   "execution_count": 16,
   "metadata": {},
   "outputs": [
    {
     "data": {
      "text/plain": [
       "Conv2DObliqueForestClassifier(discontiguous_height=True, image_height=5,\n",
       "                              image_width=4, n_jobs=-1, patch_height_max=5,\n",
       "                              patch_width_max=2, random_state=123456)"
      ]
     },
     "execution_count": 16,
     "metadata": {},
     "output_type": "execute_result"
    },
    {
     "data": {
      "application/javascript": [
       "\n",
       "            setTimeout(function() {\n",
       "                var nbb_cell_id = 16;\n",
       "                var nbb_unformatted_code = \"clf.fit(X, y)\";\n",
       "                var nbb_formatted_code = \"clf.fit(X, y)\";\n",
       "                var nbb_cells = Jupyter.notebook.get_cells();\n",
       "                for (var i = 0; i < nbb_cells.length; ++i) {\n",
       "                    if (nbb_cells[i].input_prompt_number == nbb_cell_id) {\n",
       "                        if (nbb_cells[i].get_text() == nbb_unformatted_code) {\n",
       "                             nbb_cells[i].set_text(nbb_formatted_code);\n",
       "                        }\n",
       "                        break;\n",
       "                    }\n",
       "                }\n",
       "            }, 500);\n",
       "            "
      ],
      "text/plain": [
       "<IPython.core.display.Javascript object>"
      ]
     },
     "metadata": {},
     "output_type": "display_data"
    }
   ],
   "source": [
    "clf.fit(X, y)"
   ]
  },
  {
   "cell_type": "code",
   "execution_count": 17,
   "metadata": {},
   "outputs": [
    {
     "name": "stdout",
     "output_type": "stream",
     "text": [
      "6.38 s ± 196 ms per loop (mean ± std. dev. of 7 runs, 1 loop each)\n"
     ]
    },
    {
     "data": {
      "application/javascript": [
       "\n",
       "            setTimeout(function() {\n",
       "                var nbb_cell_id = 17;\n",
       "                var nbb_unformatted_code = \"%%timeit\\nclf.fit(X, y)\";\n",
       "                var nbb_formatted_code = \"%%timeit\\nclf.fit(X, y)\";\n",
       "                var nbb_cells = Jupyter.notebook.get_cells();\n",
       "                for (var i = 0; i < nbb_cells.length; ++i) {\n",
       "                    if (nbb_cells[i].input_prompt_number == nbb_cell_id) {\n",
       "                        if (nbb_cells[i].get_text() == nbb_unformatted_code) {\n",
       "                             nbb_cells[i].set_text(nbb_formatted_code);\n",
       "                        }\n",
       "                        break;\n",
       "                    }\n",
       "                }\n",
       "            }, 500);\n",
       "            "
      ],
      "text/plain": [
       "<IPython.core.display.Javascript object>"
      ]
     },
     "metadata": {},
     "output_type": "display_data"
    }
   ],
   "source": [
    "%%timeit\n",
    "clf.fit(X, y)"
   ]
  },
  {
   "cell_type": "code",
   "execution_count": 18,
   "metadata": {
    "collapsed": true,
    "jupyter": {
     "outputs_hidden": true
    }
   },
   "outputs": [
    {
     "name": "stdout",
     "output_type": "stream",
     "text": [
      " "
     ]
    },
    {
     "data": {
      "application/javascript": [
       "\n",
       "            setTimeout(function() {\n",
       "                var nbb_cell_id = 18;\n",
       "                var nbb_unformatted_code = \"%%prun\\nclf.fit(X, y)\";\n",
       "                var nbb_formatted_code = \"%%prun\\nclf.fit(X, y)\";\n",
       "                var nbb_cells = Jupyter.notebook.get_cells();\n",
       "                for (var i = 0; i < nbb_cells.length; ++i) {\n",
       "                    if (nbb_cells[i].input_prompt_number == nbb_cell_id) {\n",
       "                        if (nbb_cells[i].get_text() == nbb_unformatted_code) {\n",
       "                             nbb_cells[i].set_text(nbb_formatted_code);\n",
       "                        }\n",
       "                        break;\n",
       "                    }\n",
       "                }\n",
       "            }, 500);\n",
       "            "
      ],
      "text/plain": [
       "<IPython.core.display.Javascript object>"
      ]
     },
     "metadata": {},
     "output_type": "display_data"
    },
    {
     "data": {
      "text/plain": [
       "         199570 function calls (195767 primitive calls) in 6.434 seconds\n",
       "\n",
       "   Ordered by: internal time\n",
       "\n",
       "   ncalls  tottime  percall  cumtime  percall filename:lineno(function)\n",
       "      388    6.300    0.016    6.300    0.016 {method 'acquire' of '_thread.lock' objects}\n",
       "      500    0.017    0.000    0.066    0.000 inspect.py:2112(_signature_from_function)\n",
       "    10000    0.017    0.000    0.035    0.000 inspect.py:2477(__init__)\n",
       "    10000    0.014    0.000    0.015    0.000 enum.py:289(__call__)\n",
       " 2000/100    0.009    0.000    0.051    0.001 base.py:28(clone)\n",
       "      500    0.006    0.000    0.008    0.000 base.py:165(<listcomp>)\n",
       "      500    0.006    0.000    0.101    0.000 base.py:178(get_params)\n",
       "      500    0.005    0.000    0.009    0.000 inspect.py:2760(__init__)\n",
       "      500    0.005    0.000    0.093    0.000 base.py:151(_get_param_names)\n",
       "    29500    0.004    0.000    0.004    0.000 inspect.py:2527(name)\n",
       "      500    0.004    0.000    0.005    0.000 base.py:176(<listcomp>)\n",
       "    10500    0.003    0.000    0.005    0.000 inspect.py:2809(<genexpr>)\n",
       "      500    0.003    0.000    0.071    0.000 inspect.py:2206(_signature_from_callable)\n",
       "    23801    0.003    0.000    0.003    0.000 {method 'get' of 'dict' objects}\n",
       "    19000    0.002    0.000    0.002    0.000 inspect.py:2539(kind)\n",
       "     1900    0.002    0.000    0.003    0.000 copy.py:128(deepcopy)\n",
       " 2003/101    0.002    0.000    0.052    0.001 validation.py:59(inner_f)\n",
       "    10000    0.002    0.000    0.002    0.000 enum.py:586(__new__)\n",
       "    12151    0.002    0.000    0.002    0.000 {built-in method builtins.getattr}\n",
       "      100    0.002    0.000    0.053    0.001 _base.py:43(_set_random_states)\n",
       "      100    0.002    0.000    0.002    0.000 {method 'randint' of 'numpy.random.mtrand.RandomState' objects}\n",
       "    10000    0.002    0.000    0.002    0.000 {method 'isidentifier' of 'str' objects}\n",
       "    12355    0.002    0.000    0.002    0.000 {built-in method builtins.isinstance}\n",
       "      200    0.002    0.000    0.050    0.000 base.py:202(set_params)\n",
       "    10011    0.001    0.000    0.001    0.000 {method 'append' of 'list' objects}\n",
       "      600    0.001    0.000    0.001    0.000 {built-in method builtins.sorted}\n",
       "     8250    0.001    0.000    0.001    0.000 {built-in method builtins.hasattr}\n",
       "        1    0.001    0.001    6.302    6.302 parallel.py:918(retrieve)\n",
       "      500    0.001    0.000    0.001    0.000 inspect.py:493(unwrap)\n",
       "      100    0.001    0.000    0.125    0.001 _base.py:144(_make_estimator)\n",
       "        1    0.001    0.001    6.434    6.434 _forest.py:273(fit)\n",
       "      100    0.001    0.000    0.001    0.000 getlimits.py:514(__init__)\n",
       "     4294    0.001    0.000    0.001    0.000 {built-in method builtins.len}\n",
       "       88    0.001    0.000    6.301    0.072 threading.py:270(wait)\n",
       "     1800    0.000    0.000    0.000    0.000 {method 'endswith' of 'str' objects}\n",
       "     1000    0.000    0.000    0.001    0.000 inspect.py:158(isfunction)\n",
       "      111    0.000    0.000    6.301    0.057 threading.py:540(wait)\n",
       "      500    0.000    0.000    0.072    0.000 inspect.py:3091(signature)\n",
       "      100    0.000    0.000    0.001    0.000 morf_tree.py:77(__init__)\n",
       "      100    0.000    0.000    0.001    0.000 _base.py:151(<dictcomp>)\n",
       "      101    0.000    0.000    0.001    0.000 validation.py:869(check_random_state)\n",
       "     2402    0.000    0.000    0.000    0.000 {built-in method builtins.id}\n",
       "      500    0.000    0.000    0.000    0.000 {method 'values' of 'mappingproxy' objects}\n",
       "       30    0.000    0.000    0.000    0.000 threading.py:222(__init__)\n",
       "      500    0.000    0.000    0.072    0.000 inspect.py:2839(from_callable)\n",
       "        1    0.000    0.000    0.126    0.126 _forest.py:377(<listcomp>)\n",
       "     1460    0.000    0.000    0.000    0.000 {built-in method builtins.setattr}\n",
       "     1900    0.000    0.000    0.000    0.000 copy.py:182(_deepcopy_atomic)\n",
       "      100    0.000    0.000    6.301    0.063 pool.py:764(get)\n",
       "     1300    0.000    0.000    0.000    0.000 {method 'partition' of 'str' objects}\n",
       "       11    0.000    0.000    0.000    0.000 {built-in method _thread.start_new_thread}\n",
       "      500    0.000    0.000    0.000    0.000 inspect.py:513(_is_wrapper)\n",
       "      109    0.000    0.000    0.000    0.000 {built-in method _abc._abc_instancecheck}\n",
       "       11    0.000    0.000    0.001    0.000 threading.py:834(start)\n",
       "        3    0.000    0.000    0.000    0.000 arraysetops.py:310(_unique1d)\n",
       "      100    0.000    0.000    6.300    0.063 pool.py:761(wait)\n",
       "      500    0.000    0.000    0.000    0.000 {built-in method sys.getrecursionlimit}\n",
       "        1    0.000    0.000    0.000    0.000 {function SeedSequence.generate_state at 0x7fd4705d4160}\n",
       "      100    0.000    0.000    0.000    0.000 transformers.py:911(__init__)\n",
       "      116    0.000    0.000    0.000    0.000 {built-in method _thread.allocate_lock}\n",
       "      100    0.000    0.000    0.000    0.000 getlimits.py:538(max)\n",
       "       17    0.000    0.000    0.003    0.000 parallel.py:796(dispatch_one_batch)\n",
       "      100    0.000    0.000    0.000    0.000 pool.py:753(ready)\n",
       "       88    0.000    0.000    0.000    0.000 threading.py:258(_acquire_restore)\n",
       "      146    0.000    0.000    0.000    0.000 threading.py:246(__enter__)\n",
       "      146    0.000    0.000    0.000    0.000 threading.py:249(__exit__)\n",
       "      503    0.000    0.000    0.000    0.000 {method 'items' of 'dict' objects}\n",
       "        3    0.000    0.000    0.000    0.000 {method '__enter__' of '_multiprocessing.SemLock' objects}\n",
       "      500    0.000    0.000    0.000    0.000 inspect.py:2845(parameters)\n",
       "      500    0.000    0.000    0.000    0.000 {built-in method builtins.callable}\n",
       "       11    0.000    0.000    0.000    0.000 threading.py:761(__init__)\n",
       "       15    0.000    0.000    0.000    0.000 {built-in method numpy.array}\n",
       "      146    0.000    0.000    0.000    0.000 {method '__enter__' of '_thread.lock' objects}\n",
       "       32    0.000    0.000    0.000    0.000 functools.py:34(update_wrapper)\n",
       "       88    0.000    0.000    0.000    0.000 threading.py:255(_release_save)\n",
       "      120    0.000    0.000    0.000    0.000 threading.py:261(_is_owned)\n",
       "      109    0.000    0.000    0.000    0.000 abc.py:96(__instancecheck__)\n",
       "        1    0.000    0.000    0.001    0.001 _parallel_backends.py:239(terminate)\n",
       "        1    0.000    0.000    0.001    0.001 pool.py:311(_repopulate_pool_static)\n",
       "        1    0.000    0.000    6.306    6.306 parallel.py:958(__call__)\n",
       "      100    0.000    0.000    0.000    0.000 {method 'pop' of 'list' objects}\n",
       "       16    0.000    0.000    0.003    0.000 parallel.py:759(_dispatch)\n",
       "        8    0.000    0.000    0.000    0.000 pool.py:919(Process)\n",
       "        3    0.000    0.000    0.000    0.000 {method 'reduce' of 'numpy.ufunc' objects}\n",
       "       17    0.000    0.000    0.000    0.000 <frozen importlib._bootstrap>:389(parent)\n",
       "      101    0.000    0.000    0.000    0.000 {method 'extend' of 'list' objects}\n",
       "       27    0.000    0.000    0.000    0.000 threading.py:505(__init__)\n",
       "       16    0.000    0.000    0.000    0.000 pool.py:744(__init__)\n",
       "       11    0.000    0.000    0.000    0.000 {built-in method posix.write}\n",
       "        2    0.000    0.000    0.000    0.000 validation.py:404(check_array)\n",
       "        1    0.000    0.000    0.002    0.002 pool.py:183(__init__)\n",
       "        2    0.000    0.000    0.000    0.000 synchronize.py:50(__init__)\n",
       "        1    0.000    0.000    6.434    6.434 {built-in method builtins.exec}\n",
       "        2    0.000    0.000    0.000    0.000 validation.py:83(_assert_all_finite)\n",
       "      146    0.000    0.000    0.000    0.000 {method '__exit__' of '_thread.lock' objects}\n",
       "       19    0.000    0.000    0.000    0.000 queue.py:153(get)\n",
       "       16    0.000    0.000    0.000    0.000 pool.py:450(apply_async)\n",
       "      126    0.000    0.000    0.000    0.000 threading.py:513(is_set)\n",
       "        8    0.000    0.000    0.000    0.000 __init__.py:36(__init__)\n",
       "        4    0.000    0.000    0.000    0.000 resource_tracker.py:153(_send)\n",
       "        1    0.000    0.000    0.000    0.000 multiclass.py:186(type_of_target)\n",
       "        1    0.000    0.000    0.000    0.000 {built-in method builtins.eval}\n",
       "        4    0.000    0.000    0.000    0.000 validation.py:187(_num_samples)\n",
       "        1    0.000    0.000    0.000    0.000 _forest.py:558(_validate_y_class_weight)\n",
       "       16    0.000    0.000    0.000    0.000 queue.py:121(put)\n",
       "    11/10    0.000    0.000    0.000    0.000 {built-in method numpy.core._multiarray_umath.implement_array_function}\n",
       "        2    0.000    0.000    0.000    0.000 version.py:217(__init__)\n",
       "       32    0.000    0.000    0.000    0.000 threading.py:341(notify)\n",
       "        2    0.000    0.000    0.000    0.000 {built-in method posix.urandom}\n",
       "       16    0.000    0.000    0.000    0.000 _forest.py:388(<genexpr>)\n",
       "        4    0.000    0.000    0.000    0.000 {method 'format' of 'str' objects}\n",
       "       18    0.000    0.000    0.000    0.000 _parallel_backends.py:34(__init__)\n",
       "      104    0.000    0.000    0.000    0.000 {method 'append' of 'collections.deque' objects}\n",
       "        8    0.000    0.000    0.000    0.000 <frozen importlib._bootstrap>:1017(_handle_fromlist)\n",
       "       91    0.000    0.000    0.000    0.000 {method 'release' of '_thread.lock' objects}\n",
       "       16    0.000    0.000    0.003    0.000 _parallel_backends.py:250(apply_async)\n",
       "       16    0.000    0.000    0.000    0.000 fixes.py:205(delayed)\n",
       "        1    0.000    0.000    0.000    0.000 context.py:169(_cpu_count_user)\n",
       "        1    0.000    0.000    0.000    0.000 parallel.py:637(__init__)\n",
       "        1    0.000    0.000    0.000    0.000 queue.py:33(__init__)\n",
       "        2    0.000    0.000    0.000    0.000 weakref.py:159(__setitem__)\n",
       "       33    0.000    0.000    0.000    0.000 threading.py:1306(current_thread)\n",
       "        8    0.000    0.000    0.001    0.000 __init__.py:43(start)\n",
       "        1    0.000    0.000    0.001    0.001 pool.py:677(_terminate_pool)\n",
       "        2    0.000    0.000    0.000    0.000 synchronize.py:84(_cleanup)\n",
       "       14    0.000    0.000    0.000    0.000 threading.py:1095(daemon)\n",
       "       16    0.000    0.000    0.000    0.000 parallel.py:245(__init__)\n",
       "       16    0.000    0.000    0.000    0.000 fixes.py:215(__init__)\n",
       "        3    0.000    0.000    0.001    0.000 util.py:205(__call__)\n",
       "        3    0.000    0.000    0.000    0.000 queues.py:360(put)\n",
       "       16    0.000    0.000    0.000    0.000 _parallel_backends.py:124(get_nested_backend)\n",
       "        3    0.000    0.000    0.000    0.000 reduction.py:38(__init__)\n",
       "       11    0.000    0.000    0.000    0.000 _weakrefset.py:81(add)\n",
       "        3    0.000    0.000    0.000    0.000 reduction.py:48(dumps)\n",
       "        3    0.000    0.000    0.000    0.000 fromnumeric.py:70(_wrapreduction)\n",
       "        4    0.000    0.000    0.000    0.000 warnings.py:181(_add_filter)\n",
       "        3    0.000    0.000    0.000    0.000 connection.py:181(send_bytes)\n",
       "       16    0.000    0.000    0.000    0.000 random.py:250(_randbelow_with_getrandbits)\n",
       "       11    0.000    0.000    0.000    0.000 threading.py:734(_newname)\n",
       "        8    0.000    0.000    0.000    0.000 weakref.py:343(__init__)\n",
       "        4    0.000    0.000    0.000    0.000 warnings.py:458(__enter__)\n",
       "        2    0.000    0.000    0.000    0.000 __init__.py:8(_make_name)\n",
       "        1    0.000    0.000    0.000    0.000 contextlib.py:72(inner)\n",
       "       25    0.000    0.000    0.000    0.000 {method 'put' of '_queue.SimpleQueue' objects}\n",
       "        4    0.000    0.000    0.000    0.000 {built-in method numpy.empty}\n",
       "        2    0.000    0.000    0.000    0.000 _ufunc_config.py:32(seterr)\n",
       "        1    0.000    0.000    0.000    0.000 {method 'cumsum' of 'numpy.ndarray' objects}\n",
       "        2    0.000    0.000    0.000    0.000 {built-in method posix.close}\n",
       "        2    0.000    0.000    0.000    0.000 extmath.py:663(_safe_accumulator_op)\n",
       "       35    0.000    0.000    0.000    0.000 {method 'update' of 'dict' objects}\n",
       "        3    0.000    0.000    0.000    0.000 connection.py:390(_send_bytes)\n",
       "       16    0.000    0.000    0.000    0.000 random.py:285(choice)\n",
       "        9    0.000    0.000    0.000    0.000 _weakrefset.py:38(_remove)\n",
       "        2    0.000    0.000    0.000    0.000 version.py:378(_cmpkey)\n",
       "        3    0.000    0.000    0.000    0.000 arraysetops.py:138(unique)\n",
       "       11    0.000    0.000    0.000    0.000 threading.py:1177(_make_invoke_excepthook)\n",
       "        1    0.000    0.000    0.000    0.000 base.py:369(_validate_data)\n",
       "        2    0.000    0.000    0.000    0.000 {method 'search' of 're.Pattern' objects}\n",
       "        1    0.000    0.000    0.000    0.000 uuid.py:132(__init__)\n",
       "        3    0.000    0.000    0.000    0.000 util.py:186(__init__)\n",
       "        3    0.000    0.000    0.001    0.000 threading.py:979(join)\n",
       "       25    0.000    0.000    0.000    0.000 {built-in method builtins.next}\n",
       "        6    0.000    0.000    0.000    0.000 {built-in method _abc._abc_subclasscheck}\n",
       "       18    0.000    0.000    0.000    0.000 _config.py:14(get_config)\n",
       "        1    0.000    0.000    0.000    0.000 parallel.py:76(get_active_backend)\n",
       "        3    0.000    0.000    0.000    0.000 {method 'dump' of '_pickle.Pickler' objects}\n",
       "        1    0.000    0.000    0.000    0.000 pool.py:940(_help_stuff_finish)\n",
       "       16    0.000    0.000    0.000    0.000 fixes.py:207(delayed_function)\n",
       "        1    0.000    0.000    0.000    0.000 {built-in method posix.stat}\n",
       "        4    0.000    0.000    0.000    0.000 resource_tracker.py:70(ensure_running)\n",
       "        1    0.000    0.000    0.000    0.000 random.py:721(getrandbits)\n",
       "        3    0.000    0.000    0.000    0.000 threading.py:944(_stop)\n",
       "        2    0.000    0.000    0.000    0.000 fromnumeric.py:2111(sum)\n",
       "        3    0.000    0.000    0.000    0.000 {method 'flatten' of 'numpy.ndarray' objects}\n",
       "        2    0.000    0.000    0.000    0.000 {built-in method _multiprocessing.sem_unlink}\n",
       "        2    0.000    0.000    0.000    0.000 context.py:65(Lock)\n",
       "       16    0.000    0.000    0.000    0.000 functools.py:64(wraps)\n",
       "       16    0.000    0.000    0.000    0.000 queue.py:212(_put)\n",
       "        3    0.000    0.000    0.000    0.000 {method '__exit__' of '_multiprocessing.SemLock' objects}\n",
       "        1    0.000    0.000    0.000    0.000 context.py:110(SimpleQueue)\n",
       "        4    0.000    0.000    0.001    0.000 threading.py:1017(_wait_for_tstate_lock)\n",
       "        1    0.000    0.000    0.000    0.000 multiclass.py:113(is_multilabel)\n",
       "       17    0.000    0.000    0.000    0.000 {method 'rpartition' of 'str' objects}\n",
       "        1    0.000    0.000    0.000    0.000 validation.py:707(check_X_y)\n",
       "        2    0.000    0.000    0.000    0.000 {method 'sort' of 'numpy.ndarray' objects}\n",
       "        1    0.000    0.000    0.000    0.000 {method 'argsort' of 'numpy.ndarray' objects}\n",
       "       11    0.000    0.000    0.000    0.000 threading.py:1110(daemon)\n",
       "       16    0.000    0.000    0.000    0.000 queue.py:216(_get)\n",
       "        4    0.000    0.000    0.000    0.000 {method 'remove' of 'list' objects}\n",
       "       21    0.000    0.000    0.000    0.000 {method 'copy' of 'dict' objects}\n",
       "        1    0.000    0.000    0.000    0.000 {built-in method posix.pipe}\n",
       "        2    0.000    0.000    0.000    0.000 _ufunc_config.py:132(geterr)\n",
       "        2    0.000    0.000    0.000    0.000 tempfile.py:144(__next__)\n",
       "        2    0.000    0.000    0.000    0.000 <__array_function__ internals>:2(sum)\n",
       "       48    0.000    0.000    0.000    0.000 parallel.py:275(__len__)\n",
       "        1    0.000    0.000    0.000    0.000 fixes.py:63(_joblib_parallel_args)\n",
       "       19    0.000    0.000    0.000    0.000 queue.py:208(_qsize)\n",
       "        1    0.000    0.000    0.000    0.000 pool.py:644(close)\n",
       "       16    0.000    0.000    0.002    0.000 _parallel_backends.py:400(_get_pool)\n",
       "        4    0.000    0.000    0.000    0.000 warnings.py:437(__init__)\n",
       "        4    0.000    0.000    0.000    0.000 warnings.py:165(simplefilter)\n",
       "       17    0.000    0.000    0.000    0.000 util.py:48(debug)\n",
       "        4    0.000    0.000    0.000    0.000 warnings.py:477(__exit__)\n",
       "        3    0.000    0.000    0.000    0.000 <__array_function__ internals>:2(unique)\n",
       "        2    0.000    0.000    0.000    0.000 numerictypes.py:359(issubdtype)\n",
       "       16    0.000    0.000    0.000    0.000 parallel.py:345(__init__)\n",
       "        1    0.000    0.000    0.000    0.000 {built-in method posix.cpu_count}\n",
       "        1    0.000    0.000    0.000    0.000 logger.py:39(short_format_time)\n",
       "        2    0.000    0.000    0.000    0.000 fromnumeric.py:52(_wrapfunc)\n",
       "       20    0.000    0.000    0.000    0.000 {method 'group' of 're.Match' objects}\n",
       "        1    0.000    0.000    0.000    0.000 disk.py:42(memstr_to_bytes)\n",
       "        1    0.000    0.000    0.001    0.001 pool.py:651(terminate)\n",
       "        1    0.000    0.000    0.000    0.000 queues.py:334(__init__)\n",
       "        4    0.000    0.000    0.000    0.000 numerictypes.py:285(issubclass_)\n",
       "        4    0.000    0.000    0.000    0.000 resource_tracker.py:134(_check_alive)\n",
       "        1    0.000    0.000    0.000    0.000 logger.py:23(_squeeze_time)\n",
       "       33    0.000    0.000    0.000    0.000 {built-in method _thread.get_ident}\n",
       "        2    0.000    0.000    0.000    0.000 tempfile.py:147(<listcomp>)\n",
       "        8    0.000    0.000    0.000    0.000 weakref.py:395(__setitem__)\n",
       "       18    0.000    0.000    0.000    0.000 {built-in method time.time}\n",
       "        9    0.000    0.000    0.000    0.000 _asarray.py:110(asanyarray)\n",
       "        3    0.000    0.000    0.000    0.000 synchronize.py:97(__exit__)\n",
       "        2    0.000    0.000    0.000    0.000 weakref.py:103(remove)\n",
       "        6    0.000    0.000    0.000    0.000 weakref.py:345(remove)\n",
       "        2    0.000    0.000    0.000    0.000 __init__.py:126(parse_version)\n",
       "        1    0.000    0.000    0.000    0.000 _parallel_backends.py:280(__init__)\n",
       "        1    0.000    0.000    0.000    0.000 _base.py:123(_validate_estimator)\n",
       "       16    0.000    0.000    0.000    0.000 _parallel_backends.py:590(__init__)\n",
       "       20    0.000    0.000    0.000    0.000 {method 'insert' of 'list' objects}\n",
       "        3    0.000    0.000    0.000    0.000 synchronize.py:94(__enter__)\n",
       "        8    0.000    0.000    0.000    0.000 threading.py:1042(name)\n",
       "        1    0.000    0.000    0.000    0.000 parallel.py:730(_initialize_backend)\n",
       "        2    0.000    0.000    0.000    0.000 <string>:1(__new__)\n",
       "        1    0.000    0.000    0.000    0.000 {method 'astype' of 'numpy.ndarray' objects}\n",
       "       16    0.000    0.000    0.000    0.000 pool.py:348(_check_running)\n",
       "        1    0.000    0.000    0.000    0.000 shape_base.py:24(atleast_1d)\n",
       "        1    0.000    0.000    0.000    0.000 validation.py:248(check_consistent_length)\n",
       "        1    0.000    0.000    0.000    0.000 uuid.py:780(uuid4)\n",
       "        1    0.000    0.000    0.000    0.000 connection.py:516(Pipe)\n",
       "        7    0.000    0.000    0.000    0.000 version.py:226(<genexpr>)\n",
       "        4    0.000    0.000    0.000    0.000 base.py:1192(isspmatrix)\n",
       "        3    0.000    0.000    0.000    0.000 connection.py:365(_send)\n",
       "        3    0.000    0.000    0.000    0.000 fromnumeric.py:71(<dictcomp>)\n",
       "        2    0.000    0.000    0.000    0.000 connection.py:360(_close)\n",
       "        2    0.000    0.000    0.000    0.000 util.py:171(register_after_fork)\n",
       "        1    0.000    0.000    0.000    0.000 {method 'reshape' of 'numpy.ndarray' objects}\n",
       "        1    0.000    0.000    0.000    0.000 {built-in method numpy.zeros}\n",
       "        6    0.000    0.000    0.000    0.000 abc.py:100(__subclasscheck__)\n",
       "        4    0.000    0.000    0.000    0.000 _asarray.py:23(asarray)\n",
       "       11    0.000    0.000    0.000    0.000 {method 'add' of 'set' objects}\n",
       "        1    0.000    0.000    0.000    0.000 genericpath.py:16(exists)\n",
       "        1    0.000    0.000    0.000    0.000 pool.py:927(_setup_queues)\n",
       "       23    0.000    0.000    0.000    0.000 {method 'getrandbits' of '_random.Random' objects}\n",
       "        1    0.000    0.000    0.000    0.000 context.py:110(cpu_count)\n",
       "        1    0.000    0.000    0.000    0.000 <__array_function__ internals>:2(any)\n",
       "        1    0.000    0.000    0.000    0.000 _ufunc_config.py:433(__enter__)\n",
       "        1    0.000    0.000    0.000    0.000 <__array_function__ internals>:2(concatenate)\n",
       "        1    0.000    0.000    0.000    0.000 _ufunc_config.py:438(__exit__)\n",
       "        3    0.000    0.000    0.000    0.000 arraysetops.py:125(_unpack_tuple)\n",
       "        1    0.000    0.000    0.000    0.000 threading.py:1071(is_alive)\n",
       "        1    0.000    0.000    0.000    0.000 <__array_function__ internals>:2(atleast_1d)\n",
       "        1    0.000    0.000    0.000    0.000 fromnumeric.py:2256(any)\n",
       "        1    0.000    0.000    0.000    0.000 os.py:670(__getitem__)\n",
       "        1    0.000    0.000    0.000    0.000 os.py:748(encode)\n",
       "        5    0.000    0.000    0.000    0.000 {method 'encode' of 'str' objects}\n",
       "        2    0.000    0.000    0.000    0.000 connection.py:130(__del__)\n",
       "        6    0.000    0.000    0.000    0.000 {built-in method builtins.issubclass}\n",
       "        1    0.000    0.000    0.000    0.000 <__array_function__ internals>:2(copy)\n",
       "        2    0.000    0.000    0.000    0.000 resource_tracker.py:149(unregister)\n",
       "        2    0.000    0.000    0.000    0.000 validation.py:397(_ensure_no_complex_data)\n",
       "        8    0.000    0.000    0.000    0.000 {method 'replace' of 'str' objects}\n",
       "        2    0.000    0.000    0.000    0.000 tempfile.py:133(rng)\n",
       "       17    0.000    0.000    0.000    0.000 _parallel_backends.py:89(compute_batch_size)\n",
       "       10    0.000    0.000    0.000    0.000 {built-in method posix.getpid}\n",
       "        5    0.000    0.000    0.000    0.000 {built-in method builtins.max}\n",
       "        1    0.000    0.000    0.000    0.000 <__array_function__ internals>:2(cumsum)\n",
       "        2    0.000    0.000    0.000    0.000 {built-in method numpy.seterrobj}\n",
       "        1    0.000    0.000    0.000    0.000 contextlib.py:82(__init__)\n",
       "        2    0.000    0.000    0.000    0.000 connection.py:117(__init__)\n",
       "       16    0.000    0.000    0.000    0.000 {method 'popleft' of 'collections.deque' objects}\n",
       "        1    0.000    0.000    0.000    0.000 _parallel_backends.py:227(effective_n_jobs)\n",
       "        1    0.000    0.000    0.000    0.000 _collections_abc.py:657(get)\n",
       "        2    0.000    0.000    0.000    0.000 synchronize.py:161(__init__)\n",
       "        1    0.000    0.000    0.000    0.000 fromnumeric.py:199(reshape)\n",
       "        1    0.000    0.000    0.000    0.000 contextlib.py:117(__exit__)\n",
       "       12    0.000    0.000    0.000    0.000 {built-in method _warnings._filters_mutated}\n",
       "        9    0.000    0.000    0.000    0.000 {method 'discard' of 'set' objects}\n",
       "        4    0.000    0.000    0.000    0.000 {built-in method numpy.geterrobj}\n",
       "       16    0.000    0.000    0.000    0.000 {method 'bit_length' of 'int' objects}\n",
       "        1    0.000    0.000    0.000    0.000 context.py:41(cpu_count)\n",
       "        1    0.000    0.000    0.000    0.000 fromnumeric.py:2446(cumsum)\n",
       "        1    0.000    0.000    0.001    0.001 pool.py:302(_repopulate_pool)\n",
       "        3    0.000    0.000    0.000    0.000 {built-in method _struct.pack}\n",
       "        8    0.000    0.000    0.000    0.000 threading.py:1031(name)\n",
       "        2    0.000    0.000    0.000    0.000 {built-in method from_bytes}\n",
       "        1    0.000    0.000    0.001    0.001 parallel.py:755(_terminate_backend)\n",
       "        4    0.000    0.000    0.000    0.000 {built-in method __new__ of type object at 0x10369c6e8}\n",
       "        2    0.000    0.000    0.000    0.000 resource_tracker.py:145(register)\n",
       "        1    0.000    0.000    0.000    0.000 <__array_function__ internals>:2(reshape)\n",
       "        1    0.000    0.000    0.000    0.000 contextlib.py:238(helper)\n",
       "        1    0.000    0.000    0.000    0.000 version.py:61(_compare)\n",
       "        2    0.000    0.000    0.000    0.000 weakref.py:328(__init__)\n",
       "        1    0.000    0.000    0.000    0.000 validation.py:259(<listcomp>)\n",
       "        1    0.000    0.000    0.000    0.000 multiclass.py:169(check_classification_targets)\n",
       "        2    0.000    0.000    0.000    0.000 weakref.py:323(__new__)\n",
       "        1    0.000    0.000    0.002    0.002 pool.py:924(__init__)\n",
       "        1    0.000    0.000    0.000    0.000 uuid.py:327(hex)\n",
       "        1    0.000    0.000    0.000    0.000 threading.py:81(RLock)\n",
       "        1    0.000    0.000    0.000    0.000 _parallel_backends.py:389(configure)\n",
       "        2    0.000    0.000    0.000    0.000 synchronize.py:90(_make_methods)\n",
       "        2    0.000    0.000    0.000    0.000 {built-in method _weakref._remove_dead_weakref}\n",
       "        2    0.000    0.000    0.000    0.000 context.py:233(get_context)\n",
       "        1    0.000    0.000    0.000    0.000 function_base.py:715(copy)\n",
       "        1    0.000    0.000    0.000    0.000 pool.py:157(__init__)\n",
       "        3    0.000    0.000    0.000    0.000 {method 'getbuffer' of '_io.BytesIO' objects}\n",
       "        1    0.000    0.000    0.000    0.000 base.py:335(_check_n_features)\n",
       "        1    0.000    0.000    0.000    0.000 version.py:52(__ge__)\n",
       "        6    0.000    0.000    0.000    0.000 version.py:333(_parse_letter_version)\n",
       "        1    0.000    0.000    0.000    0.000 {method 'get' of '_queue.SimpleQueue' objects}\n",
       "        1    0.000    0.000    0.000    0.000 {method 'startswith' of 'str' objects}\n",
       "        3    0.000    0.000    0.000    0.000 connection.py:134(_check_closed)\n",
       "        2    0.000    0.000    0.000    0.000 {method 'split' of 'str' objects}\n",
       "        1    0.000    0.000    0.000    0.000 contextlib.py:108(__enter__)\n",
       "        2    0.000    0.000    0.000    0.000 parallel.py:862(_print)\n",
       "        1    0.000    0.000    0.000    0.000 queue.py:205(_init)\n",
       "        2    0.000    0.000    0.000    0.000 {method 'join' of 'str' objects}\n",
       "        3    0.000    0.000    0.000    0.000 arraysetops.py:133(_unique_dispatcher)\n",
       "        1    0.000    0.000    0.000    0.000 _asarray.py:183(ascontiguousarray)\n",
       "        2    0.000    0.000    0.000    0.000 {built-in method builtins.min}\n",
       "        3    0.000    0.000    0.000    0.000 connection.py:142(_check_writable)\n",
       "        3    0.000    0.000    0.000    0.000 util.py:44(sub_debug)\n",
       "        2    0.000    0.000    0.000    0.000 fromnumeric.py:2106(_sum_dispatcher)\n",
       "        2    0.000    0.000    0.000    0.000 _parallel_backends.py:137(retrieval_context)\n",
       "        3    0.000    0.000    0.000    0.000 context.py:187(get_context)\n",
       "        2    0.000    0.000    0.000    0.000 context.py:197(get_start_method)\n",
       "        4    0.000    0.000    0.000    0.000 _structures.py:32(__neg__)\n",
       "        1    0.000    0.000    0.000    0.000 pool.py:933(_get_sentinels)\n",
       "        1    0.000    0.000    0.000    0.000 pool.py:263(__del__)\n",
       "        2    0.000    0.000    0.000    0.000 version.py:367(_parse_local_version)\n",
       "        1    0.000    0.000    0.000    0.000 fromnumeric.py:2442(_cumsum_dispatcher)\n",
       "        1    0.000    0.000    0.000    0.000 {method 'disable' of '_lsprof.Profiler' objects}\n",
       "        1    0.000    0.000    0.000    0.000 {method 'count' of 'list' objects}\n",
       "        3    0.000    0.000    0.000    0.000 {method 'locked' of '_thread.lock' objects}\n",
       "        1    0.000    0.000    0.000    0.000 _forest.py:78(_get_n_samples_bootstrap)\n",
       "        1    0.000    0.000    0.000    0.000 fromnumeric.py:2251(_any_dispatcher)\n",
       "        1    0.000    0.000    0.000    0.000 function_base.py:711(_copy_dispatcher)\n",
       "        1    0.000    0.000    0.000    0.000 shape_base.py:20(_atleast_1d_dispatcher)\n",
       "        1    0.000    0.000    0.000    0.000 version.py:53(<lambda>)\n",
       "        1    0.000    0.000    0.000    0.000 fromnumeric.py:194(_reshape_dispatcher)\n",
       "        1    0.000    0.000    0.000    0.000 _parallel_backends.py:83(stop_call)\n",
       "        2    0.000    0.000    0.000    0.000 version.py:385(<lambda>)\n",
       "        1    0.000    0.000    0.000    0.000 <string>:1(<module>)\n",
       "        1    0.000    0.000    0.000    0.000 _parallel_backends.py:80(start_call)\n",
       "        1    0.000    0.000    0.000    0.000 multiarray.py:143(concatenate)\n",
       "        1    0.000    0.000    0.000    0.000 contextlib.py:59(_recreate_cm)\n",
       "        1    0.000    0.000    0.000    0.000 {built-in method builtins.iter}"
      ]
     },
     "metadata": {},
     "output_type": "display_data"
    }
   ],
   "source": [
    "%%prun\n",
    "clf.fit(X, y)"
   ]
  },
  {
   "cell_type": "markdown",
   "metadata": {},
   "source": [
    "# Plan\n",
    "\n",
    "- cythonize splitter in adherence to sklearn's `_splitter.pyx` pattern\n",
    "- incorporate sklearn's `_criterion.pyx` code\n",
    "- develop feature importances in Python\n",
    "- develop graph sampling\n",
    "- develop generalized convolutional filter bank: gabor, FT, wavelets\n",
    "    - to patch or not to patch?\n",
    "    - allowing Python lambda functions to be passed arbitrarily into the Cython tree builder?"
   ]
  },
  {
   "cell_type": "code",
   "execution_count": 17,
   "metadata": {},
   "outputs": [
    {
     "data": {
      "application/javascript": [
       "\n",
       "            setTimeout(function() {\n",
       "                var nbb_cell_id = 17;\n",
       "                var nbb_unformatted_code = \"from skimage.filters import gabor_kernel\\nfrom scipy import ndimage as ndi\";\n",
       "                var nbb_formatted_code = \"from skimage.filters import gabor_kernel\\nfrom scipy import ndimage as ndi\";\n",
       "                var nbb_cells = Jupyter.notebook.get_cells();\n",
       "                for (var i = 0; i < nbb_cells.length; ++i) {\n",
       "                    if (nbb_cells[i].input_prompt_number == nbb_cell_id) {\n",
       "                        if (nbb_cells[i].get_text() == nbb_unformatted_code) {\n",
       "                             nbb_cells[i].set_text(nbb_formatted_code);\n",
       "                        }\n",
       "                        break;\n",
       "                    }\n",
       "                }\n",
       "            }, 500);\n",
       "            "
      ],
      "text/plain": [
       "<IPython.core.display.Javascript object>"
      ]
     },
     "metadata": {},
     "output_type": "display_data"
    }
   ],
   "source": [
    "from skimage.filters import gabor_kernel\n",
    "from scipy import ndimage as ndi"
   ]
  },
  {
   "cell_type": "code",
   "execution_count": 25,
   "metadata": {},
   "outputs": [
    {
     "name": "stdout",
     "output_type": "stream",
     "text": [
      "(50, 20)\n",
      "(50, 5, 4)\n"
     ]
    },
    {
     "data": {
      "application/javascript": [
       "\n",
       "            setTimeout(function() {\n",
       "                var nbb_cell_id = 25;\n",
       "                var nbb_unformatted_code = \"X = np.random.normal(size=(n, height * d))\\ny = np.ones((n,))\\nprint(X.shape)\\n\\nsample_X = X.reshape(50, height, d)\\nprint(sample_X.shape)\";\n",
       "                var nbb_formatted_code = \"X = np.random.normal(size=(n, height * d))\\ny = np.ones((n,))\\nprint(X.shape)\\n\\nsample_X = X.reshape(50, height, d)\\nprint(sample_X.shape)\";\n",
       "                var nbb_cells = Jupyter.notebook.get_cells();\n",
       "                for (var i = 0; i < nbb_cells.length; ++i) {\n",
       "                    if (nbb_cells[i].input_prompt_number == nbb_cell_id) {\n",
       "                        if (nbb_cells[i].get_text() == nbb_unformatted_code) {\n",
       "                             nbb_cells[i].set_text(nbb_formatted_code);\n",
       "                        }\n",
       "                        break;\n",
       "                    }\n",
       "                }\n",
       "            }, 500);\n",
       "            "
      ],
      "text/plain": [
       "<IPython.core.display.Javascript object>"
      ]
     },
     "metadata": {},
     "output_type": "display_data"
    }
   ],
   "source": [
    "X = np.random.normal(size=(n, height * d))\n",
    "y = np.ones((n,))\n",
    "print(X.shape)\n",
    "\n",
    "sample_X = X.reshape(50, height, d)\n",
    "print(sample_X.shape)"
   ]
  },
  {
   "cell_type": "code",
   "execution_count": 46,
   "metadata": {},
   "outputs": [
    {
     "name": "stdout",
     "output_type": "stream",
     "text": [
      "(35, 35)\n"
     ]
    },
    {
     "data": {
      "application/javascript": [
       "\n",
       "            setTimeout(function() {\n",
       "                var nbb_cell_id = 46;\n",
       "                var nbb_unformatted_code = \"frequency = 0.2\\n\\nkernel = gabor_kernel(\\n    frequency=frequency,\\n    n_stds=3,\\n    bandwidth=0.5\\n    #                       sigma_x=1, sigma_y=1\\n)\\n\\nprint(kernel.shape)\";\n",
       "                var nbb_formatted_code = \"frequency = 0.2\\n\\nkernel = gabor_kernel(\\n    frequency=frequency,\\n    n_stds=3,\\n    bandwidth=0.5\\n    #                       sigma_x=1, sigma_y=1\\n)\\n\\nprint(kernel.shape)\";\n",
       "                var nbb_cells = Jupyter.notebook.get_cells();\n",
       "                for (var i = 0; i < nbb_cells.length; ++i) {\n",
       "                    if (nbb_cells[i].input_prompt_number == nbb_cell_id) {\n",
       "                        if (nbb_cells[i].get_text() == nbb_unformatted_code) {\n",
       "                             nbb_cells[i].set_text(nbb_formatted_code);\n",
       "                        }\n",
       "                        break;\n",
       "                    }\n",
       "                }\n",
       "            }, 500);\n",
       "            "
      ],
      "text/plain": [
       "<IPython.core.display.Javascript object>"
      ]
     },
     "metadata": {},
     "output_type": "display_data"
    }
   ],
   "source": [
    "frequency = 0.2\n",
    "\n",
    "kernel = gabor_kernel(\n",
    "    frequency=frequency,\n",
    "    n_stds=3,\n",
    "    bandwidth=0.5\n",
    "    #                       sigma_x=1, sigma_y=1\n",
    ")\n",
    "\n",
    "print(kernel.shape)"
   ]
  },
  {
   "cell_type": "code",
   "execution_count": 47,
   "metadata": {},
   "outputs": [
    {
     "data": {
      "text/plain": [
       "<AxesSubplot:>"
      ]
     },
     "execution_count": 47,
     "metadata": {},
     "output_type": "execute_result"
    },
    {
     "data": {
      "image/png": "[encoded data removed]",
      "text/plain": [
       "<Figure size 432x288 with 2 Axes>"
      ]
     },
     "metadata": {
      "needs_background": "light"
     },
     "output_type": "display_data"
    },
    {
     "data": {
      "application/javascript": [
       "\n",
       "            setTimeout(function() {\n",
       "                var nbb_cell_id = 47;\n",
       "                var nbb_unformatted_code = \"sns.heatmap(kernel.real)\";\n",
       "                var nbb_formatted_code = \"sns.heatmap(kernel.real)\";\n",
       "                var nbb_cells = Jupyter.notebook.get_cells();\n",
       "                for (var i = 0; i < nbb_cells.length; ++i) {\n",
       "                    if (nbb_cells[i].input_prompt_number == nbb_cell_id) {\n",
       "                        if (nbb_cells[i].get_text() == nbb_unformatted_code) {\n",
       "                             nbb_cells[i].set_text(nbb_formatted_code);\n",
       "                        }\n",
       "                        break;\n",
       "                    }\n",
       "                }\n",
       "            }, 500);\n",
       "            "
      ],
      "text/plain": [
       "<IPython.core.display.Javascript object>"
      ]
     },
     "metadata": {},
     "output_type": "display_data"
    }
   ],
   "source": [
    "sns.heatmap(kernel.real)"
   ]
  },
  {
   "cell_type": "code",
   "execution_count": 27,
   "metadata": {},
   "outputs": [
    {
     "name": "stdout",
     "output_type": "stream",
     "text": [
      "(5, 4)\n",
      "(5, 4)\n"
     ]
    },
    {
     "data": {
      "image/png": "[encoded data removed]",
      "text/plain": [
       "<Figure size 432x288 with 4 Axes>"
      ]
     },
     "metadata": {
      "needs_background": "light"
     },
     "output_type": "display_data"
    },
    {
     "data": {
      "application/javascript": [
       "\n",
       "            setTimeout(function() {\n",
       "                var nbb_cell_id = 27;\n",
       "                var nbb_unformatted_code = \"for x in sample_X:\\n    print(x.shape)\\n    filtered_real = ndi.convolve(x, np.real(kernel))\\n\\n    print(filtered_real.shape)\\n\\n    fig, axs = plt.subplots(1, 2)\\n    axs = axs.flat\\n    sns.heatmap(x, ax=axs[0])\\n    sns.heatmap(filtered_real, ax=axs[1])\\n    break\";\n",
       "                var nbb_formatted_code = \"for x in sample_X:\\n    print(x.shape)\\n    filtered_real = ndi.convolve(x, np.real(kernel))\\n\\n    print(filtered_real.shape)\\n\\n    fig, axs = plt.subplots(1, 2)\\n    axs = axs.flat\\n    sns.heatmap(x, ax=axs[0])\\n    sns.heatmap(filtered_real, ax=axs[1])\\n    break\";\n",
       "                var nbb_cells = Jupyter.notebook.get_cells();\n",
       "                for (var i = 0; i < nbb_cells.length; ++i) {\n",
       "                    if (nbb_cells[i].input_prompt_number == nbb_cell_id) {\n",
       "                        if (nbb_cells[i].get_text() == nbb_unformatted_code) {\n",
       "                             nbb_cells[i].set_text(nbb_formatted_code);\n",
       "                        }\n",
       "                        break;\n",
       "                    }\n",
       "                }\n",
       "            }, 500);\n",
       "            "
      ],
      "text/plain": [
       "<IPython.core.display.Javascript object>"
      ]
     },
     "metadata": {},
     "output_type": "display_data"
    }
   ],
   "source": [
    "for x in sample_X:\n",
    "    print(x.shape)\n",
    "    filtered_real = ndi.convolve(x, np.real(kernel))\n",
    "\n",
    "    print(filtered_real.shape)\n",
    "\n",
    "    fig, axs = plt.subplots(1, 2)\n",
    "    axs = axs.flat\n",
    "    sns.heatmap(x, ax=axs[0])\n",
    "    sns.heatmap(filtered_real, ax=axs[1])\n",
    "    break"
   ]
  },
  {
   "cell_type": "code",
   "execution_count": null,
   "metadata": {},
   "outputs": [],
   "source": []
  }
 ],
 "metadata": {
  "kernelspec": {
   "display_name": "sklearn",
   "language": "python",
   "name": "sklearn"
  },
  "language_info": {
   "codemirror_mode": {
    "name": "ipython",
    "version": 3
   },
   "file_extension": ".py",
   "mimetype": "text/x-python",
   "name": "python",
   "nbconvert_exporter": "python",
   "pygments_lexer": "ipython3",
   "version": "3.9.2"
  }
 },
 "nbformat": 4,
 "nbformat_minor": 4
}
