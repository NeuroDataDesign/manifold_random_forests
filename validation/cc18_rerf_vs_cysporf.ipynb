{
 "cells": [
  {
   "cell_type": "markdown",
   "id": "b11edb55-f95c-4972-a901-640d2820a874",
   "metadata": {},
   "source": [
    "# Run RERF C++ vs CySPORF Side By Side on CC-18 Dataset"
   ]
  },
  {
   "cell_type": "code",
   "execution_count": 1,
   "id": "d27de209-f445-4ca1-acb8-31ae16ba437f",
   "metadata": {},
   "outputs": [],
   "source": [
    "%load_ext lab_black"
   ]
  },
  {
   "cell_type": "code",
   "execution_count": 2,
   "id": "96b0d04d-cd41-4f83-ac09-bd16224e9279",
   "metadata": {},
   "outputs": [],
   "source": [
    "import sys\n",
    "import os\n",
    "from pathlib import Path\n",
    "import numpy as np\n",
    "import collections\n",
    "from tqdm import tqdm\n",
    "from pathlib import Path\n",
    "import time\n",
    "import logging\n",
    "import json\n",
    "from collections import defaultdict\n",
    "\n",
    "import pandas as pd\n",
    "\n",
    "import seaborn as sns\n",
    "import matplotlib as mpl\n",
    "import matplotlib.pyplot as plt\n",
    "\n",
    "sys.path.append(\"../\")\n",
    "\n",
    "from oblique_forests.sporf import ObliqueForestClassifier\n",
    "\n",
    "# from oblique_forests.ensemble import RandomForestClassifier\n",
    "from rerf.rerfClassifier import rerfClassifier\n",
    "\n",
    "import sklearn\n",
    "from sklearn.model_selection import train_test_split\n",
    "from sklearn.model_selection import cross_val_score\n",
    "\n",
    "from sklearn.ensemble import RandomForestClassifier\n",
    "from sklearn.calibration import CalibratedClassifierCV\n",
    "from sklearn.model_selection import StratifiedKFold\n",
    "from sklearn.pipeline import Pipeline\n",
    "from sklearn.compose import ColumnTransformer\n",
    "from sklearn.preprocessing import OneHotEncoder\n",
    "from sklearn.impute import SimpleImputer\n",
    "from sklearn.metrics import cohen_kappa_score\n",
    "\n",
    "import openml\n",
    "\n",
    "from joblib import Parallel, delayed\n",
    "\n",
    "from sklearn.calibration import CalibratedClassifierCV\n",
    "from sklearn.model_selection import StratifiedKFold\n",
    "from sklearn.pipeline import Pipeline\n",
    "from sklearn.compose import ColumnTransformer\n",
    "from sklearn.preprocessing import OneHotEncoder\n",
    "from sklearn.impute import SimpleImputer\n",
    "from sklearn.metrics import cohen_kappa_score\n",
    "\n",
    "%load_ext autoreload\n",
    "%autoreload 2"
   ]
  },
  {
   "cell_type": "code",
   "execution_count": 3,
   "id": "7526c348-061f-4de5-9ec0-999b19346533",
   "metadata": {},
   "outputs": [],
   "source": [
    "benchmark_suite = openml.study.get_suite(\"OpenML-CC18\")  # obtain the benchmark suite"
   ]
  },
  {
   "cell_type": "code",
   "execution_count": 4,
   "id": "f89906d9-8790-489d-b950-18921789d94d",
   "metadata": {},
   "outputs": [],
   "source": [
    "data_dir = Path(\"/home/adam2392/Downloads/\")\n",
    "data_dir = Path(\"/Users/adam2392/Dropbox/sporf_benchmarks/\")"
   ]
  },
  {
   "cell_type": "code",
   "execution_count": 5,
   "id": "239e9b24-a92c-446b-b981-c8e1c7fc7d55",
   "metadata": {},
   "outputs": [],
   "source": [
    "folder = data_dir / f\"cysporf_vs_c++/\"\n",
    "if not os.path.exists(folder):\n",
    "    os.makedirs(folder)"
   ]
  },
  {
   "cell_type": "code",
   "execution_count": 7,
   "id": "d5041a89-c4ed-4167-87c1-caf5a6ba6e91",
   "metadata": {},
   "outputs": [],
   "source": [
    "n_splits = 10\n",
    "random_state = 12345\n",
    "n_estimators = 500\n",
    "# max_features = \"log2\"\n",
    "max_features = None\n",
    "max_depth = \"sqrt\"\n",
    "feature_combinations = 1.5\n",
    "n_jobs = -1"
   ]
  },
  {
   "cell_type": "code",
   "execution_count": 8,
   "id": "79e5b80c-a317-4cfb-8855-52a5d385a0c6",
   "metadata": {},
   "outputs": [],
   "source": [
    "clfs = [\n",
    "    #     (\n",
    "    #         \"rerfsporf\",\n",
    "    #         rerfClassifier(\n",
    "    #             n_estimators=n_estimators,\n",
    "    #             max_features=max_features,\n",
    "    #             feature_combinations=feature_combinations,\n",
    "    #             n_jobs=n_jobs,\n",
    "    #             random_state=random_state,\n",
    "    #         ),\n",
    "    #     ),\n",
    "    (\n",
    "        \"cysporf\",\n",
    "        ObliqueForestClassifier(\n",
    "            n_estimators=n_estimators,\n",
    "            max_features=max_features,\n",
    "            feature_combinations=1.5,\n",
    "            n_jobs=n_jobs,\n",
    "            random_state=random_state,\n",
    "        ),\n",
    "    ),\n",
    "    (\n",
    "        \"rf\",\n",
    "        RandomForestClassifier(\n",
    "            n_estimators=n_estimators,\n",
    "            max_features=max_features,\n",
    "            n_jobs=n_jobs,\n",
    "            random_state=random_state,\n",
    "        ),\n",
    "    ),\n",
    "]"
   ]
  },
  {
   "cell_type": "markdown",
   "id": "578329a0-19a1-44b2-962a-9145acfdedda",
   "metadata": {},
   "source": [
    "# Setup Specific Task and Pipeline"
   ]
  },
  {
   "cell_type": "code",
   "execution_count": 14,
   "id": "34fc6302-718e-4fb4-a8e4-3c06eb65516e",
   "metadata": {
    "tags": []
   },
   "outputs": [],
   "source": [
    "task_id = None\n",
    "for t_id in benchmark_suite.tasks:\n",
    "    task = openml.tasks.get_task(t_id)  # download the OpenML task\n",
    "    task_name = task.get_dataset().name\n",
    "    task_id = t_id\n",
    "    break\n",
    "#     if task_name == \"climate-model-simulation-crashes\":\n",
    "#         task_id = t_id\n",
    "#         break"
   ]
  },
  {
   "cell_type": "code",
   "execution_count": 15,
   "id": "b9c2522f-ea85-4e26-a16a-17b4c217fe62",
   "metadata": {},
   "outputs": [
    {
     "name": "stdout",
     "output_type": "stream",
     "text": [
      "3 is for climate-model-simulation-crashes\n"
     ]
    }
   ],
   "source": [
    "print(f\"{task_id} is for climate-model-simulation-crashes\")"
   ]
  },
  {
   "cell_type": "code",
   "execution_count": 17,
   "id": "748e93c3-7847-4e8e-9e7d-dd73ca4b7a35",
   "metadata": {},
   "outputs": [
    {
     "name": "stdout",
     "output_type": "stream",
     "text": [
      "36\n",
      "36\n",
      "[0, 1, 2, 3, 4, 5, 6, 7, 8, 9, 10, 11, 12, 13, 14, 15, 16, 17, 18, 19, 20, 21, 22, 23, 24, 25, 26, 27, 28, 29, 30, 31, 32, 33, 34, 35]\n"
     ]
    }
   ],
   "source": [
    "# get the task\n",
    "task = openml.tasks.get_task(task_id)  # download the OpenML task\n",
    "\n",
    "# get the data\n",
    "X, y = task.get_X_and_y()\n",
    "n_samples, n_features = X.shape\n",
    "n_classes = len(np.unique(y))\n",
    "sample_sizes = len(y)\n",
    "\n",
    "# nominal indices\n",
    "nominal_indices = task.get_dataset().get_features_by_type(\"nominal\", [task.target_name])\n",
    "\n",
    "print(len(nominal_indices))\n",
    "print(n_features)\n",
    "print(nominal_indices)"
   ]
  },
  {
   "cell_type": "code",
   "execution_count": 85,
   "id": "495dd234-6f5b-402a-8833-154ed15a55fb",
   "metadata": {},
   "outputs": [],
   "source": [
    "cv = StratifiedKFold(n_splits=n_splits, shuffle=True, random_state=random_state)"
   ]
  },
  {
   "cell_type": "code",
   "execution_count": 86,
   "id": "3cbcec5f-bd42-43ee-a560-d033533bc270",
   "metadata": {},
   "outputs": [],
   "source": [
    "results_dict = defaultdict(list)\n",
    "\n",
    "# Check if existing experiments\n",
    "results_dict.update(\n",
    "    {\n",
    "        \"task\": task_name,\n",
    "        \"task_id\": task_id,\n",
    "        \"n_samples\": n_samples,\n",
    "        \"n_features\": n_features,\n",
    "        \"n_classes\": n_classes,\n",
    "        \"y\": y,\n",
    "        \"test_indices\": [],\n",
    "        \"n_estimators\": n_estimators,\n",
    "        \"n_splits\": n_splits,\n",
    "        \"nominal_features\": len(nominal_indices),\n",
    "        \"sample_sizes\": sample_sizes,\n",
    "    }\n",
    ")"
   ]
  },
  {
   "cell_type": "code",
   "execution_count": 87,
   "id": "062a8a90-d8db-461b-8cd5-147951b1346f",
   "metadata": {},
   "outputs": [
    {
     "name": "stdout",
     "output_type": "stream",
     "text": [
      "Features=[[[18]]], nominal=0 (After transforming=18)\n"
     ]
    }
   ],
   "source": [
    "# Get numeric indices first\n",
    "numeric_indices = np.delete(np.arange(X.shape[1]), nominal_indices)\n",
    "\n",
    "# Numeric Preprocessing\n",
    "numeric_transformer = SimpleImputer(strategy=\"median\")\n",
    "\n",
    "# Nominal preprocessing\n",
    "nominal_transformer = Pipeline(\n",
    "    steps=[\n",
    "        (\"imputer\", SimpleImputer(strategy=\"most_frequent\")),\n",
    "        (\"onehot\", OneHotEncoder(handle_unknown=\"ignore\", sparse=False)),\n",
    "    ]\n",
    ")\n",
    "transformers = []\n",
    "if len(numeric_indices) > 0:\n",
    "    transformers += [(\"numeric\", numeric_transformer, numeric_indices)]\n",
    "if len(nominal_indices) > 0:\n",
    "    transformers += [(\"nominal\", nominal_transformer, nominal_indices)]\n",
    "preprocessor = ColumnTransformer(transformers=transformers)\n",
    "\n",
    "_, n_features_fitted = preprocessor.fit_transform(X, y).shape\n",
    "results_dict[\"n_features_fitted\"] = n_features_fitted\n",
    "print(\n",
    "    f\"Features={n_features}, nominal={len(nominal_indices)} (After transforming={n_features_fitted})\"\n",
    ")"
   ]
  },
  {
   "cell_type": "markdown",
   "id": "51cbc703-47bd-4f3c-98c1-cdd1202d327b",
   "metadata": {},
   "source": [
    "# Run CV experiment with both classification models"
   ]
  },
  {
   "cell_type": "code",
   "execution_count": 88,
   "id": "2235a805-e129-4033-bb63-3fe252146ae1",
   "metadata": {},
   "outputs": [
    {
     "name": "stderr",
     "output_type": "stream",
     "text": [
      "k-fold: 100%|██████████| 10/10 [00:10<00:00,  1.01s/it]\n"
     ]
    }
   ],
   "source": [
    "fitted_clfs = defaultdict(list)\n",
    "idx = 0\n",
    "\n",
    "for train_index, test_index in tqdm(\n",
    "    cv.split(X, y), total=cv.get_n_splits(), desc=\"k-fold\"\n",
    "):\n",
    "    X_train, X_test = X[train_index], X[test_index]\n",
    "    y_train, y_test = y[train_index], y[test_index]\n",
    "    results_dict[\"test_indices\"].append(test_index)\n",
    "\n",
    "    for clf_name, clf in clfs:\n",
    "        pipeline = Pipeline(steps=[(\"Preprocessor\", preprocessor), (\"Estimator\", clf)])\n",
    "\n",
    "        start_time = time.time()\n",
    "        pipeline = pipeline.fit(X_train, y_train)\n",
    "        train_time = time.time() - start_time\n",
    "\n",
    "        # predict the probs of X test\n",
    "        y_proba = pipeline.predict_proba(X_test)\n",
    "        test_time = time.time() - (train_time + start_time)\n",
    "\n",
    "        results_dict[f\"{clf_name}_test_y_proba\"].append(y_proba)\n",
    "        results_dict[f\"{clf_name}_train_times\"].append(train_time)\n",
    "        results_dict[f\"{clf_name}_test_times\"].append(test_time)\n",
    "\n",
    "        fitted_clfs[clf_name].append(clf)\n",
    "    idx += 1"
   ]
  },
  {
   "cell_type": "code",
   "execution_count": 89,
   "id": "454efc6e-ec68-435b-b7d0-b8bf8eac3f38",
   "metadata": {},
   "outputs": [],
   "source": [
    "tasks = []\n",
    "n_samples = []\n",
    "n_classes = []\n",
    "n_features = []\n",
    "task_ids = []\n",
    "\n",
    "rerf_cohens = []\n",
    "sporf_cohens = []\n",
    "rf_cohens = []"
   ]
  },
  {
   "cell_type": "code",
   "execution_count": 90,
   "id": "8857d7fe-00d2-4f29-8da4-f3bfeb440c97",
   "metadata": {},
   "outputs": [],
   "source": [
    "result_dict = results_dict\n",
    "# number of stratified cross-validations\n",
    "n_splits = result_dict[\"n_splits\"]\n",
    "fold_test_inds = result_dict[\"test_indices\"]\n",
    "y = result_dict[\"y\"]\n",
    "task_name = result_dict[\"task\"]\n",
    "n_feature = result_dict[\"n_features\"]\n",
    "\n",
    "# extract metadata of benchmark experiment\n",
    "tasks.append(task_name)\n",
    "n_samples.append(result_dict[\"n_samples\"])\n",
    "n_classes.append(result_dict[\"n_classes\"])\n",
    "task_ids.append(result_dict[\"task_id\"])\n",
    "n_features.append(n_feature)\n",
    "\n",
    "# compute cohen kappa for both classifiers\n",
    "for clf in [\"rerfsporf\", \"cysporf\", \"rf\"]:\n",
    "    clf_cohens = []\n",
    "    fold_probas = result_dict[f\"{clf}_test_y_proba\"]\n",
    "\n",
    "    # compute statistic on each fold\n",
    "    for ifold in range(n_splits):\n",
    "        y_proba = fold_probas[ifold]\n",
    "        y_test = y[fold_test_inds[ifold]]\n",
    "        kappa_score = cohen_kappa_score(y_test, y_proba.argmax(1))\n",
    "        clf_cohens.append(kappa_score)\n",
    "\n",
    "    if clf == \"rerfsporf\":\n",
    "        rerf_cohens.append(clf_cohens)\n",
    "    elif clf == \"cysporf\":\n",
    "        sporf_cohens.append(clf_cohens)\n",
    "    elif clf == \"rf\":\n",
    "        rf_cohens.append(clf_cohens)"
   ]
  },
  {
   "cell_type": "code",
   "execution_count": 77,
   "id": "aff01207-44de-4776-b4c0-d90a0a775cf6",
   "metadata": {},
   "outputs": [],
   "source": [
    "rerf_clfs = fitted_clfs[\"rerfsporf\"]\n",
    "cy_clfs = fitted_clfs[\"cysporf\"]\n",
    "rf_clfs = fitted_clfs[\"rf\"]"
   ]
  },
  {
   "cell_type": "code",
   "execution_count": 78,
   "id": "43c21597-80c2-4dbb-a0d6-e1ef3bfc8d36",
   "metadata": {},
   "outputs": [
    {
     "name": "stdout",
     "output_type": "stream",
     "text": [
      "{'feature_combinations': 1.5, 'image_height': None, 'image_width': None, 'max_depth': None, 'max_features': 'log2', 'min_samples_split': 1, 'n_estimators': 500, 'n_jobs': -1, 'oob_score': False, 'patch_height_max': None, 'patch_height_min': 1, 'patch_width_max': None, 'patch_width_min': 1, 'projection_matrix': 'RerF', 'random_state': 12345}\n",
      "{'bootstrap': True, 'ccp_alpha': 0.0, 'class_weight': None, 'criterion': 'gini', 'feature_combinations': 1.5, 'max_depth': None, 'max_features': 'log2', 'max_leaf_nodes': None, 'max_samples': None, 'min_impurity_decrease': 0.0, 'min_impurity_split': None, 'min_samples_leaf': 1, 'min_samples_split': 2, 'min_weight_fraction_leaf': 0.0, 'n_estimators': 500, 'n_jobs': -1, 'oob_score': False, 'random_state': 12345, 'verbose': 0, 'warm_start': False}\n"
     ]
    }
   ],
   "source": [
    "for idx in range(n_splits):\n",
    "    cy_clf = cy_clfs[idx]\n",
    "    rerf_clf = rerf_clfs[idx]\n",
    "    rf_clf = rf_clfs[idx]\n",
    "\n",
    "    print(rerf_clf.get_params())\n",
    "    print(cy_clf.get_params())\n",
    "    break"
   ]
  },
  {
   "cell_type": "code",
   "execution_count": 79,
   "id": "1cf2da0e-6eb9-465e-8e57-395764e235fc",
   "metadata": {},
   "outputs": [
    {
     "data": {
      "text/plain": [
       "<AxesSubplot:ylabel='Count'>"
      ]
     },
     "execution_count": 79,
     "metadata": {},
     "output_type": "execute_result"
    },
    {
     "data": {
      "image/png": "[encoded data removed]",
      "text/plain": [
       "<Figure size 432x288 with 1 Axes>"
      ]
     },
     "metadata": {
      "needs_background": "light"
     },
     "output_type": "display_data"
    }
   ],
   "source": [
    "leaves = []\n",
    "capacity = []\n",
    "max_depths = []\n",
    "n_nodes = []\n",
    "\n",
    "for est in cy_clf.estimators_:\n",
    "    tree = est.tree_\n",
    "    leaves.append(tree.n_leaves)\n",
    "    capacity.append(tree.capacity)\n",
    "    max_depths.append(tree.max_depth)\n",
    "    n_nodes.append(tree.node_count)\n",
    "\n",
    "# sns.histplot(leaves)\n",
    "sns.histplot(n_nodes)"
   ]
  },
  {
   "cell_type": "code",
   "execution_count": 80,
   "id": "b62f8dfc-68ab-441e-ac57-1b6329de5e21",
   "metadata": {},
   "outputs": [
    {
     "data": {
      "text/plain": [
       "<AxesSubplot:ylabel='Count'>"
      ]
     },
     "execution_count": 80,
     "metadata": {},
     "output_type": "execute_result"
    },
    {
     "data": {
      "image/png": "[encoded data removed]",
      "text/plain": [
       "<Figure size 432x288 with 1 Axes>"
      ]
     },
     "metadata": {
      "needs_background": "light"
     },
     "output_type": "display_data"
    }
   ],
   "source": [
    "leaves = []\n",
    "capacity = []\n",
    "max_depths = []\n",
    "n_nodes = []\n",
    "\n",
    "for est in rf_clf.estimators_:\n",
    "    tree = est.tree_\n",
    "    leaves.append(tree.n_leaves)\n",
    "    capacity.append(tree.capacity)\n",
    "    max_depths.append(tree.max_depth)\n",
    "    n_nodes.append(tree.node_count)\n",
    "\n",
    "# sns.histplot(leaves)\n",
    "sns.histplot(n_nodes)"
   ]
  },
  {
   "cell_type": "code",
   "execution_count": 45,
   "id": "499baf7d-6ddf-4a20-946f-d062822a3437",
   "metadata": {},
   "outputs": [
    {
     "name": "stdout",
     "output_type": "stream",
     "text": [
      "None\n"
     ]
    }
   ],
   "source": [
    "print(cy_clf.estimators_[0].max)"
   ]
  },
  {
   "cell_type": "markdown",
   "id": "fe8010a2-a59d-4850-8c30-373b5d6eb15f",
   "metadata": {},
   "source": [
    "## Create DataFrames and Plots"
   ]
  },
  {
   "cell_type": "code",
   "execution_count": 91,
   "id": "da2feb5c-4c18-43e5-bf65-2818826e9eca",
   "metadata": {},
   "outputs": [
    {
     "name": "stdout",
     "output_type": "stream",
     "text": [
      "[[0.0, 0.0, 0.0, 0.0, 0.547486033519553, 0.0, 0.0, 0.3816793893129772, 0.6493506493506493, 0.3816793893129772]]\n",
      "[[0.0, 0.3121019108280255, 0.0, 0.3121019108280255, 0.547486033519553, 0.0, 0.0, 0.6493506493506493, 0.6493506493506493, 0.3816793893129772]]\n",
      "[[0.19402985074626866, 0.3121019108280255, -0.031847133757961776, 0.3121019108280255, 0.4626865671641791, 0.547486033519553, 0.3816793893129772, 0.5423728813559322, 0.6493506493506493, 0.5423728813559322]]\n"
     ]
    }
   ],
   "source": [
    "print(rerf_cohens)\n",
    "print(sporf_cohens)\n",
    "print(rf_cohens)"
   ]
  },
  {
   "cell_type": "code",
   "execution_count": 92,
   "id": "b4f88d19-e1d5-4045-a0b3-d3cd1670ba5d",
   "metadata": {},
   "outputs": [],
   "source": [
    "result_df = pd.DataFrame((tasks, n_samples, n_classes, task_ids, n_features)).T\n",
    "result_df.columns = [\"task\", \"n_samples\", \"n_classes\", \"task_id\", \"n_features\"]"
   ]
  },
  {
   "cell_type": "code",
   "execution_count": 93,
   "id": "7ff7dea4-12e2-43e3-bbab-9d2acdbbc68c",
   "metadata": {},
   "outputs": [
    {
     "name": "stdout",
     "output_type": "stream",
     "text": [
      "(2, 16)\n",
      "(1, 15)\n"
     ]
    }
   ],
   "source": [
    "rerf_df = pd.DataFrame(rerf_cohens)\n",
    "rerf_df[\"clf\"] = \"rerf\"\n",
    "rerf_df = pd.concat((rerf_df, result_df), axis=1)\n",
    "\n",
    "rf_df = pd.DataFrame(rf_cohens)\n",
    "rf_df[\"clf\"] = \"rf\"\n",
    "rf_df = pd.concat((rf_df, result_df), axis=1)\n",
    "\n",
    "sporf_df = pd.DataFrame(sporf_cohens)\n",
    "sporf_df[\"clf\"] = \"sporf\"\n",
    "sporf_df = pd.concat((sporf_df, result_df), axis=1)\n",
    "\n",
    "diff_arr = np.array(sporf_cohens) - np.array(rerf_cohens)\n",
    "diff_arr = np.array(sporf_cohens) - np.array(rf_cohens)\n",
    "diff_df = pd.DataFrame(diff_arr)\n",
    "diff_df = pd.concat((diff_df, result_df), axis=1)\n",
    "\n",
    "# now form the final dataframe\n",
    "data_df = pd.concat((rerf_df, sporf_df), axis=0)\n",
    "\n",
    "print(data_df.shape)\n",
    "print(diff_df.shape)"
   ]
  },
  {
   "cell_type": "code",
   "execution_count": 104,
   "id": "0c0dde98-9c31-4c81-82ff-0c2159ef316a",
   "metadata": {},
   "outputs": [
    {
     "name": "stderr",
     "output_type": "stream",
     "text": [
      "/Users/adam2392/miniforge3/envs/sklearn-dev/lib/python3.9/site-packages/seaborn/distributions.py:2557: FutureWarning: `distplot` is a deprecated function and will be removed in a future version. Please adapt your code to use either `displot` (a figure-level function with similar flexibility) or `histplot` (an axes-level function for histograms).\n",
      "  warnings.warn(msg, FutureWarning)\n",
      "/Users/adam2392/miniforge3/envs/sklearn-dev/lib/python3.9/site-packages/seaborn/distributions.py:2557: FutureWarning: `distplot` is a deprecated function and will be removed in a future version. Please adapt your code to use either `displot` (a figure-level function with similar flexibility) or `histplot` (an axes-level function for histograms).\n",
      "  warnings.warn(msg, FutureWarning)\n",
      "/Users/adam2392/miniforge3/envs/sklearn-dev/lib/python3.9/site-packages/seaborn/distributions.py:2557: FutureWarning: `distplot` is a deprecated function and will be removed in a future version. Please adapt your code to use either `displot` (a figure-level function with similar flexibility) or `histplot` (an axes-level function for histograms).\n",
      "  warnings.warn(msg, FutureWarning)\n"
     ]
    },
    {
     "data": {
      "text/plain": [
       "<matplotlib.legend.Legend at 0x14d2aef40>"
      ]
     },
     "execution_count": 104,
     "metadata": {},
     "output_type": "execute_result"
    },
    {
     "data": {
      "image/png": "[encoded data removed]",
      "text/plain": [
       "<Figure size 432x288 with 1 Axes>"
      ]
     },
     "metadata": {
      "needs_background": "light"
     },
     "output_type": "display_data"
    }
   ],
   "source": [
    "x = np.arange(n_splits)\n",
    "\n",
    "fig, ax = plt.subplots()\n",
    "sns.distplot(rerf_cohens, ax=ax, label=\"rerf\")\n",
    "sns.distplot(sporf_cohens, ax=ax, label=\"cysporf\")\n",
    "sns.distplot(rf_cohens, ax=ax, label=\"rf\")\n",
    "\n",
    "ax.legend()"
   ]
  },
  {
   "cell_type": "code",
   "execution_count": null,
   "id": "83f427ca-ac47-4ae6-b761-f4e4ad6b5133",
   "metadata": {},
   "outputs": [],
   "source": []
  },
  {
   "cell_type": "code",
   "execution_count": null,
   "id": "039bf160-742f-42df-a4e3-b4332db19712",
   "metadata": {},
   "outputs": [],
   "source": []
  }
 ],
 "metadata": {
  "kernelspec": {
   "display_name": "sklearn",
   "language": "python",
   "name": "sklearn"
  },
  "language_info": {
   "codemirror_mode": {
    "name": "ipython",
    "version": 3
   },
   "file_extension": ".py",
   "mimetype": "text/x-python",
   "name": "python",
   "nbconvert_exporter": "python",
   "pygments_lexer": "ipython3",
   "version": "3.9.4"
  }
 },
 "nbformat": 4,
 "nbformat_minor": 5
}
