{
 "cells": [
  {
   "cell_type": "markdown",
   "metadata": {},
   "source": [
    "# Analysis of Rerf-sporf, Py-sporf and Cythonized-sporf Performance\n",
    "\n",
    "Here, we are interested in looking at the runtime of each implementation of SPORF on a fixed classification task.\n",
    "\n",
    "Namely, we will utilize the orthant and sparse-parity tasks in the original SPORF paper."
   ]
  },
  {
   "cell_type": "code",
   "execution_count": 1,
   "metadata": {},
   "outputs": [],
   "source": [
    "%load_ext lab_black"
   ]
  },
  {
   "cell_type": "code",
   "execution_count": 3,
   "metadata": {},
   "outputs": [
    {
     "name": "stdout",
     "output_type": "stream",
     "text": [
      "The autoreload extension is already loaded. To reload it, use:\n",
      "  %reload_ext autoreload\n"
     ]
    }
   ],
   "source": [
    "import sys\n",
    "from pathlib import Path\n",
    "import numpy as np\n",
    "import collections\n",
    "\n",
    "from sklearn.ensemble import RandomForestClassifier as rfc\n",
    "\n",
    "sys.path.append(\"../\")\n",
    "\n",
    "from oblique_forests.sporf import (\n",
    "    ObliqueForestClassifier,\n",
    ")  # , PythonObliqueForestClassifier\n",
    "from rerf.rerfClassifier import rerfClassifier\n",
    "\n",
    "%load_ext autoreload\n",
    "%autoreload 2"
   ]
  },
  {
   "cell_type": "code",
   "execution_count": 4,
   "metadata": {},
   "outputs": [],
   "source": [
    "def load_data(n, data_path, exp_name):\n",
    "    \"\"\"Function to load in data as a function of sample size.\"\"\"\n",
    "    ftrain = data_path / f\"{exp_name}_train_{n}.npy\"\n",
    "    ftest = data_path / f\"{exp_name}_test.npy\"\n",
    "\n",
    "    dftrain = np.load(ftrain)\n",
    "    dftest = np.load(ftest)\n",
    "\n",
    "    X_train = dftrain[:, :-1]\n",
    "    y_train = dftrain[:, -1]\n",
    "\n",
    "    X_test = dftest[:, :-1]\n",
    "    y_test = dftest[:, -1]\n",
    "\n",
    "    return X_train, y_train, X_test, y_test"
   ]
  },
  {
   "cell_type": "code",
   "execution_count": 15,
   "metadata": {},
   "outputs": [],
   "source": [
    "def test_rf(n, reps, n_estimators, exp_name):\n",
    "    \"\"\"Test traditional RF classifier\"\"\"\n",
    "\n",
    "    preds = np.zeros((reps, 10000))\n",
    "    acc = np.zeros(reps)\n",
    "    for i in range(reps):\n",
    "\n",
    "        X_train, y_train, X_test, y_test = load_data(n, data_path, exp_name)\n",
    "\n",
    "        clf = rerfClassifier(\n",
    "            n_estimators=n_estimators, projection_matrix=\"Base\", n_jobs=8\n",
    "        )\n",
    "\n",
    "        clf.fit(X_train, y_train)\n",
    "\n",
    "        preds[i] = clf.predict(X_test)\n",
    "        acc[i] = np.sum(preds[i] == y_test) / len(y_test)\n",
    "\n",
    "    np.save(f\"output/rf_{exp_name}_preds_{n}.npy\", preds)\n",
    "    return acc\n",
    "\n",
    "\n",
    "def test_rerf(n, reps, n_estimators, feature_combinations, max_features, exp_name):\n",
    "    \"\"\"Test SPORF rerf implemnetation.\"\"\"\n",
    "    preds = np.zeros((reps, 10000))\n",
    "    acc = np.zeros(reps)\n",
    "    for i in range(reps):\n",
    "\n",
    "        X_train, y_train, X_test, y_test = load_data(n, data_path, exp_name)\n",
    "\n",
    "        clf = rerfClassifier(\n",
    "            n_estimators=n_estimators,\n",
    "            projection_matrix=\"RerF\",\n",
    "            feature_combinations=feature_combinations,\n",
    "            max_features=max_features,\n",
    "            n_jobs=8,\n",
    "        )\n",
    "\n",
    "        clf.fit(X_train, y_train)\n",
    "\n",
    "        preds[i] = clf.predict(X_test)\n",
    "        acc[i] = np.sum(preds[i] == y_test) / len(y_test)\n",
    "\n",
    "    np.save(f\"output/rerf_{exp_name}_preds_\" + str(n) + \".npy\", preds)\n",
    "    return acc\n",
    "\n",
    "\n",
    "def test_cython_of(n, reps, n_estimators, feature_combinations, max_features, exp_name):\n",
    "    \"\"\"Test SPORF rerf implemnetation.\"\"\"\n",
    "    preds = np.zeros((reps, 10000))\n",
    "    acc = np.zeros(reps)\n",
    "    for i in range(reps):\n",
    "\n",
    "        X_train, y_train, X_test, y_test = load_data(n, data_path, exp_name)\n",
    "\n",
    "        clf = ObliqueForestClassifier(\n",
    "            n_estimators=n_estimators,\n",
    "            feature_combinations=feature_combinations,\n",
    "            max_features=max_features,\n",
    "            n_jobs=8,\n",
    "        )\n",
    "\n",
    "        clf.fit(X_train, y_train)\n",
    "\n",
    "        preds[i] = clf.predict(X_test)\n",
    "        acc[i] = np.sum(preds[i] == y_test) / len(y_test)\n",
    "\n",
    "    np.save(f\"output/cythonof_{exp_name}_preds_\" + str(n) + \".npy\", preds)\n",
    "    return acc\n",
    "\n",
    "\n",
    "def test_python_of(n, reps, n_estimators, feature_combinations, max_features, exp_name):\n",
    "    \"\"\"Test PySporf.\"\"\"\n",
    "    preds = np.zeros((reps, 10000))\n",
    "    acc = np.zeros(reps)\n",
    "    for i in range(reps):\n",
    "\n",
    "        X_train, y_train, X_test, y_test = load_data(n, data_path, exp_name)\n",
    "\n",
    "        clf = PythonObliqueForestClassifier(\n",
    "            n_estimators=n_estimators,\n",
    "            feature_combinations=feature_combinations,\n",
    "            max_features=max_features,\n",
    "            n_jobs=8,\n",
    "        )\n",
    "\n",
    "        clf.fit(X_train, y_train)\n",
    "        preds[i] = clf.predict(X_test)\n",
    "        acc[i] = np.sum(preds[i] == y_test) / len(y_test)\n",
    "\n",
    "    np.save(f\"output/of_{exp_name}_preds_\" + str(n) + \".npy\", preds)\n",
    "    return acc"
   ]
  },
  {
   "cell_type": "code",
   "execution_count": 16,
   "metadata": {},
   "outputs": [],
   "source": [
    "data_path = Path(\"./data/\")"
   ]
  },
  {
   "cell_type": "code",
   "execution_count": 40,
   "metadata": {},
   "outputs": [],
   "source": [
    "# How many samples to train on\n",
    "n = 1000\n",
    "\n",
    "# How many repetitions\n",
    "reps = 3\n",
    "\n",
    "# experiment name\n",
    "exp_name = \"sparse_parity\"\n",
    "# exp_name = 'orthant'\n",
    "\n",
    "# Tree parameters\n",
    "n_estimators = 100\n",
    "feature_combinations = 2\n",
    "max_features = \"auto\""
   ]
  },
  {
   "cell_type": "markdown",
   "metadata": {},
   "source": [
    "# Test Classification Performance"
   ]
  },
  {
   "cell_type": "code",
   "execution_count": 18,
   "metadata": {
    "tags": []
   },
   "outputs": [],
   "source": [
    "# acc = test_python_of(n, reps, n_estimators, feature_combinations, max_features, exp_name)\n",
    "# print(acc)"
   ]
  },
  {
   "cell_type": "code",
   "execution_count": 41,
   "metadata": {
    "tags": []
   },
   "outputs": [
    {
     "name": "stdout",
     "output_type": "stream",
     "text": [
      "[0.7043 0.6796 0.6941]\n"
     ]
    }
   ],
   "source": [
    "acc = test_rerf(n, reps, n_estimators, feature_combinations, max_features, exp_name)\n",
    "print(acc)"
   ]
  },
  {
   "cell_type": "code",
   "execution_count": 42,
   "metadata": {},
   "outputs": [
    {
     "name": "stdout",
     "output_type": "stream",
     "text": [
      "[0.6396 0.5934 0.6273]\n"
     ]
    }
   ],
   "source": [
    "acc = test_rf(n, reps, n_estimators, exp_name)\n",
    "print(acc)"
   ]
  },
  {
   "cell_type": "code",
   "execution_count": 43,
   "metadata": {
    "tags": []
   },
   "outputs": [
    {
     "name": "stdout",
     "output_type": "stream",
     "text": [
      "[0.7191 0.673  0.6911]\n"
     ]
    }
   ],
   "source": [
    "acc = test_cython_of(\n",
    "    n, reps, n_estimators, feature_combinations, max_features, exp_name\n",
    ")\n",
    "print(acc)"
   ]
  },
  {
   "cell_type": "markdown",
   "metadata": {},
   "source": [
    "# Test Actual Runtime"
   ]
  },
  {
   "cell_type": "code",
   "execution_count": 22,
   "metadata": {},
   "outputs": [],
   "source": [
    "# keep track of a list of runtimes\n",
    "n_list = collections.defaultdict(list)"
   ]
  },
  {
   "cell_type": "code",
   "execution_count": 25,
   "metadata": {},
   "outputs": [],
   "source": [
    "clf = rfc(n_estimators=n_estimators, n_jobs=8)\n",
    "rerf_clf = rerfClassifier(n_estimators=n_estimators, projection_matrix=\"RerF\", n_jobs=8)\n",
    "# py_of_clf = PythonObliqueForestClassifier(\n",
    "#     n_estimators=n_estimators,\n",
    "#     feature_combinations=feature_combinations,\n",
    "#     max_features=max_features,\n",
    "#     n_jobs=8,\n",
    "# )\n",
    "cy_of_clf = ObliqueForestClassifier(\n",
    "    n_estimators=n_estimators,\n",
    "    feature_combinations=feature_combinations,\n",
    "    max_features=max_features,\n",
    "    n_jobs=8,\n",
    ")"
   ]
  },
  {
   "cell_type": "markdown",
   "metadata": {},
   "source": [
    "## 1000 sample size"
   ]
  },
  {
   "cell_type": "code",
   "execution_count": 26,
   "metadata": {},
   "outputs": [],
   "source": [
    "# run on higher sample size now\n",
    "# How many samples to train on\n",
    "n = 1000\n",
    "X_train, y_train, X_test, y_test = load_data(n, data_path, exp_name)"
   ]
  },
  {
   "cell_type": "code",
   "execution_count": 27,
   "metadata": {},
   "outputs": [
    {
     "name": "stdout",
     "output_type": "stream",
     "text": [
      "87.8 ms ± 7.58 ms per loop (mean ± std. dev. of 7 runs, 1 loop each)\n"
     ]
    }
   ],
   "source": [
    "time = %timeit -n 1 -o clf.fit(X_train, y_train)\n",
    "n_list[\"BaseRF\"].append(np.mean(time.timings))"
   ]
  },
  {
   "cell_type": "code",
   "execution_count": 28,
   "metadata": {},
   "outputs": [
    {
     "name": "stdout",
     "output_type": "stream",
     "text": [
      "39.2 ms ± 4.21 ms per loop (mean ± std. dev. of 7 runs, 1 loop each)\n"
     ]
    }
   ],
   "source": [
    "time = %timeit -n 1 -o rerf_clf.fit(X_train, y_train)\n",
    "n_list[\"ReRF-Sporf\"].append(np.mean(time.timings))"
   ]
  },
  {
   "cell_type": "code",
   "execution_count": 35,
   "metadata": {
    "tags": []
   },
   "outputs": [
    {
     "name": "stdout",
     "output_type": "stream",
     "text": [
      "19.4 s ± 319 ms per loop (mean ± std. dev. of 7 runs, 1 loop each)\n"
     ]
    }
   ],
   "source": [
    "time = %timeit -n 1 -o py_of_clf.fit(X_train, y_train)\n",
    "n_list[\"Py-Sporf\"].append(np.mean(time.timings))"
   ]
  },
  {
   "cell_type": "code",
   "execution_count": 29,
   "metadata": {},
   "outputs": [
    {
     "name": "stdout",
     "output_type": "stream",
     "text": [
      "124 ms ± 4.61 ms per loop (mean ± std. dev. of 7 runs, 1 loop each)\n"
     ]
    }
   ],
   "source": [
    "# with pointer arrays (old)\n",
    "time = %timeit -n 1 -o cy_of_clf.fit(X_train, y_train)\n",
    "n_list[\"Cy-Sporf\"].append(np.mean(time.timings))"
   ]
  },
  {
   "cell_type": "code",
   "execution_count": 15,
   "metadata": {},
   "outputs": [
    {
     "name": "stdout",
     "output_type": "stream",
     "text": [
      "209 ms ± 4.4 ms per loop (mean ± std. dev. of 7 runs, 1 loop each)\n"
     ]
    }
   ],
   "source": [
    "# with pointer arrays\n",
    "time = %timeit -n 1 -o cy_of_clf.fit(X_train, y_train)\n",
    "n_list[\"Cy-Sporf\"].append(np.mean(time.timings))"
   ]
  },
  {
   "cell_type": "code",
   "execution_count": 10,
   "metadata": {},
   "outputs": [
    {
     "name": "stdout",
     "output_type": "stream",
     "text": [
      "212 ms ± 9.02 ms per loop (mean ± std. dev. of 7 runs, 1 loop each)\n"
     ]
    }
   ],
   "source": [
    "# with std::vectors\n",
    "time = %timeit -n 1 -o cy_of_clf.fit(X_train, y_train)\n",
    "n_list[\"Cy-Sporf\"].append(np.mean(time.timings))"
   ]
  },
  {
   "cell_type": "markdown",
   "metadata": {},
   "source": [
    "## 5000 sample size"
   ]
  },
  {
   "cell_type": "code",
   "execution_count": 30,
   "metadata": {},
   "outputs": [],
   "source": [
    "# run on higher sample size now\n",
    "# How many samples to train on\n",
    "n = 5000"
   ]
  },
  {
   "cell_type": "code",
   "execution_count": 31,
   "metadata": {},
   "outputs": [],
   "source": [
    "X_train, y_train, X_test, y_test = load_data(n, data_path, exp_name)"
   ]
  },
  {
   "cell_type": "code",
   "execution_count": 32,
   "metadata": {},
   "outputs": [
    {
     "name": "stdout",
     "output_type": "stream",
     "text": [
      "245 ms ± 12.6 ms per loop (mean ± std. dev. of 7 runs, 1 loop each)\n"
     ]
    }
   ],
   "source": [
    "time = %timeit -n 1 -o clf.fit(X_train, y_train)\n",
    "n_list[\"BaseRF\"].append(np.mean(time.timings))"
   ]
  },
  {
   "cell_type": "code",
   "execution_count": 33,
   "metadata": {},
   "outputs": [
    {
     "name": "stdout",
     "output_type": "stream",
     "text": [
      "199 ms ± 7.27 ms per loop (mean ± std. dev. of 7 runs, 1 loop each)\n"
     ]
    }
   ],
   "source": [
    "time = %timeit -n 1 -o rerf_clf.fit(X_train, y_train)\n",
    "n_list[\"ReRF-Sporf\"].append(np.mean(time.timings))"
   ]
  },
  {
   "cell_type": "code",
   "execution_count": 34,
   "metadata": {},
   "outputs": [
    {
     "name": "stdout",
     "output_type": "stream",
     "text": [
      "508 ms ± 8.5 ms per loop (mean ± std. dev. of 7 runs, 1 loop each)\n"
     ]
    }
   ],
   "source": [
    "# with pointer arrays\n",
    "time = %timeit -n 1 -o cy_of_clf.fit(X_train, y_train)\n",
    "n_list[\"Cy-Sporf\"].append(np.mean(time.timings))"
   ]
  },
  {
   "cell_type": "code",
   "execution_count": 25,
   "metadata": {},
   "outputs": [
    {
     "name": "stdout",
     "output_type": "stream",
     "text": [
      "680 ms ± 6.55 ms per loop (mean ± std. dev. of 7 runs, 1 loop each)\n"
     ]
    }
   ],
   "source": [
    "# with pointer arrays \n",
    "time = %timeit -n 1 -o cy_of_clf.fit(X_train, y_train)\n",
    "n_list[\"Cy-Sporf\"].append(np.mean(time.timings))"
   ]
  },
  {
   "cell_type": "code",
   "execution_count": 13,
   "metadata": {},
   "outputs": [
    {
     "name": "stdout",
     "output_type": "stream",
     "text": [
      "579 ms ± 8.19 ms per loop (mean ± std. dev. of 7 runs, 1 loop each)\n"
     ]
    }
   ],
   "source": [
    "# with std::vectors\n",
    "time = %timeit -n 1 -o cy_of_clf.fit(X_train, y_train)\n",
    "n_list[\"Cy-Sporf\"].append(np.mean(time.timings))"
   ]
  },
  {
   "cell_type": "markdown",
   "metadata": {},
   "source": [
    "## 10000 sample size"
   ]
  },
  {
   "cell_type": "code",
   "execution_count": 35,
   "metadata": {},
   "outputs": [],
   "source": [
    "# run on higher sample size now\n",
    "# How many samples to train on\n",
    "n = 10000"
   ]
  },
  {
   "cell_type": "code",
   "execution_count": 36,
   "metadata": {},
   "outputs": [],
   "source": [
    "X_train, y_train, X_test, y_test = load_data(n, data_path, exp_name)"
   ]
  },
  {
   "cell_type": "code",
   "execution_count": 37,
   "metadata": {},
   "outputs": [
    {
     "name": "stdout",
     "output_type": "stream",
     "text": [
      "456 ms ± 11.2 ms per loop (mean ± std. dev. of 7 runs, 1 loop each)\n"
     ]
    }
   ],
   "source": [
    "time = %timeit -n 1 -o clf.fit(X_train, y_train)\n",
    "n_list[\"BaseRF\"].append(np.mean(time.timings))"
   ]
  },
  {
   "cell_type": "code",
   "execution_count": 38,
   "metadata": {},
   "outputs": [
    {
     "name": "stdout",
     "output_type": "stream",
     "text": [
      "407 ms ± 15.3 ms per loop (mean ± std. dev. of 7 runs, 1 loop each)\n"
     ]
    }
   ],
   "source": [
    "time = %timeit -n 1 -o rerf_clf.fit(X_train, y_train)\n",
    "n_list[\"ReRF-Sporf\"].append(np.mean(time.timings))"
   ]
  },
  {
   "cell_type": "code",
   "execution_count": 39,
   "metadata": {},
   "outputs": [
    {
     "name": "stdout",
     "output_type": "stream",
     "text": [
      "971 ms ± 13.3 ms per loop (mean ± std. dev. of 7 runs, 1 loop each)\n"
     ]
    }
   ],
   "source": [
    "# with pointer arrays\n",
    "time = %timeit -n 1 -o cy_of_clf.fit(X_train, y_train)\n",
    "n_list[\"Cy-Sporf\"].append(np.mean(time.timings))"
   ]
  },
  {
   "cell_type": "code",
   "execution_count": 32,
   "metadata": {},
   "outputs": [
    {
     "name": "stdout",
     "output_type": "stream",
     "text": [
      "1.18 s ± 12.9 ms per loop (mean ± std. dev. of 7 runs, 1 loop each)\n"
     ]
    }
   ],
   "source": [
    "# with pointer arrays\n",
    "time = %timeit -n 1 -o cy_of_clf.fit(X_train, y_train)\n",
    "n_list[\"Cy-Sporf\"].append(np.mean(time.timings))"
   ]
  },
  {
   "cell_type": "code",
   "execution_count": 16,
   "metadata": {},
   "outputs": [
    {
     "name": "stdout",
     "output_type": "stream",
     "text": [
      "1.04 s ± 15.8 ms per loop (mean ± std. dev. of 7 runs, 1 loop each)\n"
     ]
    }
   ],
   "source": [
    "# with pointer arrays (c++ std vector)\n",
    "time = %timeit -n 1 -o cy_of_clf.fit(X_train, y_train)\n",
    "n_list[\"Cy-Sporf\"].append(np.mean(time.timings))"
   ]
  },
  {
   "cell_type": "code",
   "execution_count": null,
   "metadata": {},
   "outputs": [],
   "source": []
  }
 ],
 "metadata": {
  "kernelspec": {
   "display_name": "sklearn",
   "language": "python",
   "name": "sklearn"
  },
  "language_info": {
   "codemirror_mode": {
    "name": "ipython",
    "version": 3
   },
   "file_extension": ".py",
   "mimetype": "text/x-python",
   "name": "python",
   "nbconvert_exporter": "python",
   "pygments_lexer": "ipython3",
   "version": "3.9.4"
  }
 },
 "nbformat": 4,
 "nbformat_minor": 4
}
