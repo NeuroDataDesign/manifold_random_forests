{
 "cells": [
  {
   "cell_type": "markdown",
   "metadata": {},
   "source": [
    "# Analysis of Rerf-sporf, Py-sporf and Cythonized-sporf Performance\n",
    "\n",
    "Here, we are interested in looking at the runtime of each implementation of SPORF on a fixed classification task.\n",
    "\n",
    "Namely, we will utilize the orthant and sparse-parity tasks in the original SPORF paper."
   ]
  },
  {
   "cell_type": "code",
   "execution_count": 1,
   "metadata": {},
   "outputs": [],
   "source": [
    "%load_ext lab_black"
   ]
  },
  {
   "cell_type": "code",
   "execution_count": 2,
   "metadata": {},
   "outputs": [],
   "source": [
    "import sys\n",
    "from pathlib import Path\n",
    "import numpy as np\n",
    "import collections\n",
    "\n",
    "# from sklearn.ensemble import RandomForestClassifier as rfc\n",
    "\n",
    "sys.path.append(\"../\")\n",
    "\n",
    "from oblique_forests.sporf import ObliqueForestClassifier, PythonObliqueForestClassifier\n",
    "from rerf.rerfClassifier import rerfClassifier\n",
    "\n",
    "%load_ext autoreload\n",
    "%autoreload 2"
   ]
  },
  {
   "cell_type": "code",
   "execution_count": 3,
   "metadata": {},
   "outputs": [],
   "source": [
    "def load_data(n, data_path, exp_name):\n",
    "    \"\"\"Function to load in data as a function of sample size.\"\"\"\n",
    "    ftrain = data_path / f\"{exp_name}_train_{n}.npy\"\n",
    "    ftest = data_path / f\"{exp_name}_test.npy\"\n",
    "\n",
    "    dftrain = np.load(ftrain)\n",
    "    dftest = np.load(ftest)\n",
    "\n",
    "    X_train = dftrain[:, :-1]\n",
    "    y_train = dftrain[:, -1]\n",
    "\n",
    "    X_test = dftest[:, :-1]\n",
    "    y_test = dftest[:, -1]\n",
    "\n",
    "    return X_train, y_train, X_test, y_test"
   ]
  },
  {
   "cell_type": "code",
   "execution_count": 4,
   "metadata": {},
   "outputs": [],
   "source": [
    "def test_rf(n, reps, n_estimators, exp_name):\n",
    "    \"\"\"Test traditional RF classifier\"\"\"\n",
    "\n",
    "    preds = np.zeros((reps, 10000))\n",
    "    acc = np.zeros(reps)\n",
    "    for i in range(reps):\n",
    "\n",
    "        X_train, y_train, X_test, y_test = load_data(n, data_path, exp_name)\n",
    "\n",
    "        clf = rerfClassifier(\n",
    "            n_estimators=n_estimators, projection_matrix=\"Base\", n_jobs=8\n",
    "        )\n",
    "\n",
    "        clf.fit(X_train, y_train)\n",
    "\n",
    "        preds[i] = clf.predict(X_test)\n",
    "        acc[i] = np.sum(preds[i] == y_test) / len(y_test)\n",
    "\n",
    "    np.save(f\"output_ali/rf_{exp_name}_preds_{n}.npy\", preds)\n",
    "    return acc\n",
    "\n",
    "\n",
    "def test_rerf(n, reps, n_estimators, feature_combinations, max_features, exp_name):\n",
    "    \"\"\"Test SPORF rerf implemnetation.\"\"\"\n",
    "    preds = np.zeros((reps, 10000))\n",
    "    acc = np.zeros(reps)\n",
    "    for i in range(reps):\n",
    "\n",
    "        X_train, y_train, X_test, y_test = load_data(n, data_path, exp_name)\n",
    "\n",
    "        clf = rerfClassifier(\n",
    "            n_estimators=n_estimators,\n",
    "            projection_matrix=\"RerF\",\n",
    "            feature_combinations=feature_combinations,\n",
    "            max_features=max_features,\n",
    "            n_jobs=8,\n",
    "        )\n",
    "\n",
    "        clf.fit(X_train, y_train)\n",
    "\n",
    "        preds[i] = clf.predict(X_test)\n",
    "        acc[i] = np.sum(preds[i] == y_test) / len(y_test)\n",
    "\n",
    "    np.save(f\"output_ali/rerf_{exp_name}_preds_\" + str(n) + \".npy\", preds)\n",
    "    return acc\n",
    "\n",
    "\n",
    "def test_cython_of(n, reps, n_estimators, feature_combinations, max_features, exp_name):\n",
    "    \"\"\"Test SPORF rerf implemnetation.\"\"\"\n",
    "    preds = np.zeros((reps, 10000))\n",
    "    acc = np.zeros(reps)\n",
    "    for i in range(reps):\n",
    "\n",
    "        X_train, y_train, X_test, y_test = load_data(n, data_path, exp_name)\n",
    "\n",
    "        clf = ObliqueForestClassifier(\n",
    "            n_estimators=n_estimators,\n",
    "            feature_combinations=feature_combinations,\n",
    "            max_features=max_features,\n",
    "            n_jobs=8,\n",
    "        )\n",
    "\n",
    "        clf.fit(X_train, y_train)\n",
    "\n",
    "        preds[i] = clf.predict(X_test)\n",
    "        acc[i] = np.sum(preds[i] == y_test) / len(y_test)\n",
    "\n",
    "    np.save(f\"output_ali/cythonof_{exp_name}_preds_\" + str(n) + \".npy\", preds)\n",
    "    return acc\n",
    "\n",
    "\n",
    "def test_python_of(n, reps, n_estimators, feature_combinations, max_features, exp_name):\n",
    "    \"\"\"Test PySporf.\"\"\"\n",
    "    preds = np.zeros((reps, 10000))\n",
    "    acc = np.zeros(reps)\n",
    "    for i in range(reps):\n",
    "\n",
    "        X_train, y_train, X_test, y_test = load_data(n, data_path, exp_name)\n",
    "\n",
    "        clf = PythonObliqueForestClassifier(\n",
    "            n_estimators=n_estimators,\n",
    "            feature_combinations=feature_combinations,\n",
    "            max_features=max_features,\n",
    "            n_jobs=8,\n",
    "        )\n",
    "\n",
    "        clf.fit(X_train, y_train)\n",
    "        preds[i] = clf.predict(X_test)\n",
    "        acc[i] = np.sum(preds[i] == y_test) / len(y_test)\n",
    "\n",
    "    np.save(f\"output_ali/of_{exp_name}_preds_\" + str(n) + \".npy\", preds)\n",
    "    return acc"
   ]
  },
  {
   "cell_type": "code",
   "execution_count": 5,
   "metadata": {},
   "outputs": [],
   "source": [
    "data_path = Path(\"./data/\")"
   ]
  },
  {
   "cell_type": "code",
   "execution_count": 6,
   "metadata": {},
   "outputs": [],
   "source": [
    "# How many samples to train on\n",
    "n = 1000\n",
    "\n",
    "# How many repetitions\n",
    "reps = 3\n",
    "\n",
    "# experiment name\n",
    "exp_name = \"sparse_parity\"\n",
    "# exp_name = 'orthant'\n",
    "\n",
    "# Tree parameters\n",
    "n_estimators = 100\n",
    "feature_combinations = 2\n",
    "max_features = 1.0"
   ]
  },
  {
   "cell_type": "markdown",
   "metadata": {},
   "source": [
    "# Test Classification Performance"
   ]
  },
  {
   "cell_type": "code",
   "execution_count": 7,
   "metadata": {
    "collapsed": true,
    "jupyter": {
     "outputs_hidden": true
    },
    "tags": []
   },
   "outputs": [
    {
     "ename": "KeyboardInterrupt",
     "evalue": "",
     "output_type": "error",
     "traceback": [
      "\u001b[0;31m---------------------------------------------------------------------------\u001b[0m",
      "\u001b[0;31mKeyboardInterrupt\u001b[0m                         Traceback (most recent call last)",
      "\u001b[0;32m<ipython-input-7-a456c201d90f>\u001b[0m in \u001b[0;36m<module>\u001b[0;34m\u001b[0m\n\u001b[0;32m----> 1\u001b[0;31m \u001b[0macc\u001b[0m \u001b[0;34m=\u001b[0m \u001b[0mtest_python_of\u001b[0m\u001b[0;34m(\u001b[0m\u001b[0mn\u001b[0m\u001b[0;34m,\u001b[0m \u001b[0mreps\u001b[0m\u001b[0;34m,\u001b[0m \u001b[0mn_estimators\u001b[0m\u001b[0;34m,\u001b[0m \u001b[0mfeature_combinations\u001b[0m\u001b[0;34m,\u001b[0m \u001b[0mmax_features\u001b[0m\u001b[0;34m,\u001b[0m \u001b[0mexp_name\u001b[0m\u001b[0;34m)\u001b[0m\u001b[0;34m\u001b[0m\u001b[0;34m\u001b[0m\u001b[0m\n\u001b[0m\u001b[1;32m      2\u001b[0m \u001b[0mprint\u001b[0m\u001b[0;34m(\u001b[0m\u001b[0macc\u001b[0m\u001b[0;34m)\u001b[0m\u001b[0;34m\u001b[0m\u001b[0;34m\u001b[0m\u001b[0m\n",
      "\u001b[0;32m<ipython-input-4-88b7e6dcfbe2>\u001b[0m in \u001b[0;36mtest_python_of\u001b[0;34m(n, reps, n_estimators, feature_combinations, max_features, exp_name)\u001b[0m\n\u001b[1;32m     85\u001b[0m         )\n\u001b[1;32m     86\u001b[0m \u001b[0;34m\u001b[0m\u001b[0m\n\u001b[0;32m---> 87\u001b[0;31m         \u001b[0mclf\u001b[0m\u001b[0;34m.\u001b[0m\u001b[0mfit\u001b[0m\u001b[0;34m(\u001b[0m\u001b[0mX_train\u001b[0m\u001b[0;34m,\u001b[0m \u001b[0my_train\u001b[0m\u001b[0;34m)\u001b[0m\u001b[0;34m\u001b[0m\u001b[0;34m\u001b[0m\u001b[0m\n\u001b[0m\u001b[1;32m     88\u001b[0m         \u001b[0mpreds\u001b[0m\u001b[0;34m[\u001b[0m\u001b[0mi\u001b[0m\u001b[0;34m]\u001b[0m \u001b[0;34m=\u001b[0m \u001b[0mclf\u001b[0m\u001b[0;34m.\u001b[0m\u001b[0mpredict\u001b[0m\u001b[0;34m(\u001b[0m\u001b[0mX_test\u001b[0m\u001b[0;34m)\u001b[0m\u001b[0;34m\u001b[0m\u001b[0;34m\u001b[0m\u001b[0m\n\u001b[1;32m     89\u001b[0m         \u001b[0macc\u001b[0m\u001b[0;34m[\u001b[0m\u001b[0mi\u001b[0m\u001b[0;34m]\u001b[0m \u001b[0;34m=\u001b[0m \u001b[0mnp\u001b[0m\u001b[0;34m.\u001b[0m\u001b[0msum\u001b[0m\u001b[0;34m(\u001b[0m\u001b[0mpreds\u001b[0m\u001b[0;34m[\u001b[0m\u001b[0mi\u001b[0m\u001b[0;34m]\u001b[0m \u001b[0;34m==\u001b[0m \u001b[0my_test\u001b[0m\u001b[0;34m)\u001b[0m \u001b[0;34m/\u001b[0m \u001b[0mlen\u001b[0m\u001b[0;34m(\u001b[0m\u001b[0my_test\u001b[0m\u001b[0;34m)\u001b[0m\u001b[0;34m\u001b[0m\u001b[0;34m\u001b[0m\u001b[0m\n",
      "\u001b[0;32m~/.local/lib/python3.8/site-packages/sklearn/ensemble/_forest.py\u001b[0m in \u001b[0;36mfit\u001b[0;34m(self, X, y, sample_weight)\u001b[0m\n\u001b[1;32m    384\u001b[0m             \u001b[0;31m# parallel_backend contexts set at a higher level,\u001b[0m\u001b[0;34m\u001b[0m\u001b[0;34m\u001b[0m\u001b[0;34m\u001b[0m\u001b[0m\n\u001b[1;32m    385\u001b[0m             \u001b[0;31m# since correctness does not rely on using threads.\u001b[0m\u001b[0;34m\u001b[0m\u001b[0;34m\u001b[0m\u001b[0;34m\u001b[0m\u001b[0m\n\u001b[0;32m--> 386\u001b[0;31m             trees = Parallel(n_jobs=self.n_jobs, verbose=self.verbose,\n\u001b[0m\u001b[1;32m    387\u001b[0m                              \u001b[0;34m**\u001b[0m\u001b[0m_joblib_parallel_args\u001b[0m\u001b[0;34m(\u001b[0m\u001b[0mprefer\u001b[0m\u001b[0;34m=\u001b[0m\u001b[0;34m'threads'\u001b[0m\u001b[0;34m)\u001b[0m\u001b[0;34m)\u001b[0m\u001b[0;34m(\u001b[0m\u001b[0;34m\u001b[0m\u001b[0;34m\u001b[0m\u001b[0m\n\u001b[1;32m    388\u001b[0m                 delayed(_parallel_build_trees)(\n",
      "\u001b[0;32m~/.local/lib/python3.8/site-packages/joblib/parallel.py\u001b[0m in \u001b[0;36m__call__\u001b[0;34m(self, iterable)\u001b[0m\n\u001b[1;32m   1040\u001b[0m \u001b[0;34m\u001b[0m\u001b[0m\n\u001b[1;32m   1041\u001b[0m             \u001b[0;32mwith\u001b[0m \u001b[0mself\u001b[0m\u001b[0;34m.\u001b[0m\u001b[0m_backend\u001b[0m\u001b[0;34m.\u001b[0m\u001b[0mretrieval_context\u001b[0m\u001b[0;34m(\u001b[0m\u001b[0;34m)\u001b[0m\u001b[0;34m:\u001b[0m\u001b[0;34m\u001b[0m\u001b[0;34m\u001b[0m\u001b[0m\n\u001b[0;32m-> 1042\u001b[0;31m                 \u001b[0mself\u001b[0m\u001b[0;34m.\u001b[0m\u001b[0mretrieve\u001b[0m\u001b[0;34m(\u001b[0m\u001b[0;34m)\u001b[0m\u001b[0;34m\u001b[0m\u001b[0;34m\u001b[0m\u001b[0m\n\u001b[0m\u001b[1;32m   1043\u001b[0m             \u001b[0;31m# Make sure that we get a last message telling us we are done\u001b[0m\u001b[0;34m\u001b[0m\u001b[0;34m\u001b[0m\u001b[0;34m\u001b[0m\u001b[0m\n\u001b[1;32m   1044\u001b[0m             \u001b[0melapsed_time\u001b[0m \u001b[0;34m=\u001b[0m \u001b[0mtime\u001b[0m\u001b[0;34m.\u001b[0m\u001b[0mtime\u001b[0m\u001b[0;34m(\u001b[0m\u001b[0;34m)\u001b[0m \u001b[0;34m-\u001b[0m \u001b[0mself\u001b[0m\u001b[0;34m.\u001b[0m\u001b[0m_start_time\u001b[0m\u001b[0;34m\u001b[0m\u001b[0;34m\u001b[0m\u001b[0m\n",
      "\u001b[0;32m~/.local/lib/python3.8/site-packages/joblib/parallel.py\u001b[0m in \u001b[0;36mretrieve\u001b[0;34m(self)\u001b[0m\n\u001b[1;32m    919\u001b[0m             \u001b[0;32mtry\u001b[0m\u001b[0;34m:\u001b[0m\u001b[0;34m\u001b[0m\u001b[0;34m\u001b[0m\u001b[0m\n\u001b[1;32m    920\u001b[0m                 \u001b[0;32mif\u001b[0m \u001b[0mgetattr\u001b[0m\u001b[0;34m(\u001b[0m\u001b[0mself\u001b[0m\u001b[0;34m.\u001b[0m\u001b[0m_backend\u001b[0m\u001b[0;34m,\u001b[0m \u001b[0;34m'supports_timeout'\u001b[0m\u001b[0;34m,\u001b[0m \u001b[0;32mFalse\u001b[0m\u001b[0;34m)\u001b[0m\u001b[0;34m:\u001b[0m\u001b[0;34m\u001b[0m\u001b[0;34m\u001b[0m\u001b[0m\n\u001b[0;32m--> 921\u001b[0;31m                     \u001b[0mself\u001b[0m\u001b[0;34m.\u001b[0m\u001b[0m_output\u001b[0m\u001b[0;34m.\u001b[0m\u001b[0mextend\u001b[0m\u001b[0;34m(\u001b[0m\u001b[0mjob\u001b[0m\u001b[0;34m.\u001b[0m\u001b[0mget\u001b[0m\u001b[0;34m(\u001b[0m\u001b[0mtimeout\u001b[0m\u001b[0;34m=\u001b[0m\u001b[0mself\u001b[0m\u001b[0;34m.\u001b[0m\u001b[0mtimeout\u001b[0m\u001b[0;34m)\u001b[0m\u001b[0;34m)\u001b[0m\u001b[0;34m\u001b[0m\u001b[0;34m\u001b[0m\u001b[0m\n\u001b[0m\u001b[1;32m    922\u001b[0m                 \u001b[0;32melse\u001b[0m\u001b[0;34m:\u001b[0m\u001b[0;34m\u001b[0m\u001b[0;34m\u001b[0m\u001b[0m\n\u001b[1;32m    923\u001b[0m                     \u001b[0mself\u001b[0m\u001b[0;34m.\u001b[0m\u001b[0m_output\u001b[0m\u001b[0;34m.\u001b[0m\u001b[0mextend\u001b[0m\u001b[0;34m(\u001b[0m\u001b[0mjob\u001b[0m\u001b[0;34m.\u001b[0m\u001b[0mget\u001b[0m\u001b[0;34m(\u001b[0m\u001b[0;34m)\u001b[0m\u001b[0;34m)\u001b[0m\u001b[0;34m\u001b[0m\u001b[0;34m\u001b[0m\u001b[0m\n",
      "\u001b[0;32m~/miniconda3/envs/sklearn-dev/lib/python3.8/multiprocessing/pool.py\u001b[0m in \u001b[0;36mget\u001b[0;34m(self, timeout)\u001b[0m\n\u001b[1;32m    763\u001b[0m \u001b[0;34m\u001b[0m\u001b[0m\n\u001b[1;32m    764\u001b[0m     \u001b[0;32mdef\u001b[0m \u001b[0mget\u001b[0m\u001b[0;34m(\u001b[0m\u001b[0mself\u001b[0m\u001b[0;34m,\u001b[0m \u001b[0mtimeout\u001b[0m\u001b[0;34m=\u001b[0m\u001b[0;32mNone\u001b[0m\u001b[0;34m)\u001b[0m\u001b[0;34m:\u001b[0m\u001b[0;34m\u001b[0m\u001b[0;34m\u001b[0m\u001b[0m\n\u001b[0;32m--> 765\u001b[0;31m         \u001b[0mself\u001b[0m\u001b[0;34m.\u001b[0m\u001b[0mwait\u001b[0m\u001b[0;34m(\u001b[0m\u001b[0mtimeout\u001b[0m\u001b[0;34m)\u001b[0m\u001b[0;34m\u001b[0m\u001b[0;34m\u001b[0m\u001b[0m\n\u001b[0m\u001b[1;32m    766\u001b[0m         \u001b[0;32mif\u001b[0m \u001b[0;32mnot\u001b[0m \u001b[0mself\u001b[0m\u001b[0;34m.\u001b[0m\u001b[0mready\u001b[0m\u001b[0;34m(\u001b[0m\u001b[0;34m)\u001b[0m\u001b[0;34m:\u001b[0m\u001b[0;34m\u001b[0m\u001b[0;34m\u001b[0m\u001b[0m\n\u001b[1;32m    767\u001b[0m             \u001b[0;32mraise\u001b[0m \u001b[0mTimeoutError\u001b[0m\u001b[0;34m\u001b[0m\u001b[0;34m\u001b[0m\u001b[0m\n",
      "\u001b[0;32m~/miniconda3/envs/sklearn-dev/lib/python3.8/multiprocessing/pool.py\u001b[0m in \u001b[0;36mwait\u001b[0;34m(self, timeout)\u001b[0m\n\u001b[1;32m    760\u001b[0m \u001b[0;34m\u001b[0m\u001b[0m\n\u001b[1;32m    761\u001b[0m     \u001b[0;32mdef\u001b[0m \u001b[0mwait\u001b[0m\u001b[0;34m(\u001b[0m\u001b[0mself\u001b[0m\u001b[0;34m,\u001b[0m \u001b[0mtimeout\u001b[0m\u001b[0;34m=\u001b[0m\u001b[0;32mNone\u001b[0m\u001b[0;34m)\u001b[0m\u001b[0;34m:\u001b[0m\u001b[0;34m\u001b[0m\u001b[0;34m\u001b[0m\u001b[0m\n\u001b[0;32m--> 762\u001b[0;31m         \u001b[0mself\u001b[0m\u001b[0;34m.\u001b[0m\u001b[0m_event\u001b[0m\u001b[0;34m.\u001b[0m\u001b[0mwait\u001b[0m\u001b[0;34m(\u001b[0m\u001b[0mtimeout\u001b[0m\u001b[0;34m)\u001b[0m\u001b[0;34m\u001b[0m\u001b[0;34m\u001b[0m\u001b[0m\n\u001b[0m\u001b[1;32m    763\u001b[0m \u001b[0;34m\u001b[0m\u001b[0m\n\u001b[1;32m    764\u001b[0m     \u001b[0;32mdef\u001b[0m \u001b[0mget\u001b[0m\u001b[0;34m(\u001b[0m\u001b[0mself\u001b[0m\u001b[0;34m,\u001b[0m \u001b[0mtimeout\u001b[0m\u001b[0;34m=\u001b[0m\u001b[0;32mNone\u001b[0m\u001b[0;34m)\u001b[0m\u001b[0;34m:\u001b[0m\u001b[0;34m\u001b[0m\u001b[0;34m\u001b[0m\u001b[0m\n",
      "\u001b[0;32m~/miniconda3/envs/sklearn-dev/lib/python3.8/threading.py\u001b[0m in \u001b[0;36mwait\u001b[0;34m(self, timeout)\u001b[0m\n\u001b[1;32m    556\u001b[0m             \u001b[0msignaled\u001b[0m \u001b[0;34m=\u001b[0m \u001b[0mself\u001b[0m\u001b[0;34m.\u001b[0m\u001b[0m_flag\u001b[0m\u001b[0;34m\u001b[0m\u001b[0;34m\u001b[0m\u001b[0m\n\u001b[1;32m    557\u001b[0m             \u001b[0;32mif\u001b[0m \u001b[0;32mnot\u001b[0m \u001b[0msignaled\u001b[0m\u001b[0;34m:\u001b[0m\u001b[0;34m\u001b[0m\u001b[0;34m\u001b[0m\u001b[0m\n\u001b[0;32m--> 558\u001b[0;31m                 \u001b[0msignaled\u001b[0m \u001b[0;34m=\u001b[0m \u001b[0mself\u001b[0m\u001b[0;34m.\u001b[0m\u001b[0m_cond\u001b[0m\u001b[0;34m.\u001b[0m\u001b[0mwait\u001b[0m\u001b[0;34m(\u001b[0m\u001b[0mtimeout\u001b[0m\u001b[0;34m)\u001b[0m\u001b[0;34m\u001b[0m\u001b[0;34m\u001b[0m\u001b[0m\n\u001b[0m\u001b[1;32m    559\u001b[0m             \u001b[0;32mreturn\u001b[0m \u001b[0msignaled\u001b[0m\u001b[0;34m\u001b[0m\u001b[0;34m\u001b[0m\u001b[0m\n\u001b[1;32m    560\u001b[0m \u001b[0;34m\u001b[0m\u001b[0m\n",
      "\u001b[0;32m~/miniconda3/envs/sklearn-dev/lib/python3.8/threading.py\u001b[0m in \u001b[0;36mwait\u001b[0;34m(self, timeout)\u001b[0m\n\u001b[1;32m    300\u001b[0m         \u001b[0;32mtry\u001b[0m\u001b[0;34m:\u001b[0m    \u001b[0;31m# restore state no matter what (e.g., KeyboardInterrupt)\u001b[0m\u001b[0;34m\u001b[0m\u001b[0;34m\u001b[0m\u001b[0m\n\u001b[1;32m    301\u001b[0m             \u001b[0;32mif\u001b[0m \u001b[0mtimeout\u001b[0m \u001b[0;32mis\u001b[0m \u001b[0;32mNone\u001b[0m\u001b[0;34m:\u001b[0m\u001b[0;34m\u001b[0m\u001b[0;34m\u001b[0m\u001b[0m\n\u001b[0;32m--> 302\u001b[0;31m                 \u001b[0mwaiter\u001b[0m\u001b[0;34m.\u001b[0m\u001b[0macquire\u001b[0m\u001b[0;34m(\u001b[0m\u001b[0;34m)\u001b[0m\u001b[0;34m\u001b[0m\u001b[0;34m\u001b[0m\u001b[0m\n\u001b[0m\u001b[1;32m    303\u001b[0m                 \u001b[0mgotit\u001b[0m \u001b[0;34m=\u001b[0m \u001b[0;32mTrue\u001b[0m\u001b[0;34m\u001b[0m\u001b[0;34m\u001b[0m\u001b[0m\n\u001b[1;32m    304\u001b[0m             \u001b[0;32melse\u001b[0m\u001b[0;34m:\u001b[0m\u001b[0;34m\u001b[0m\u001b[0;34m\u001b[0m\u001b[0m\n",
      "\u001b[0;31mKeyboardInterrupt\u001b[0m: "
     ]
    }
   ],
   "source": [
    "acc = test_python_of(n, reps, n_estimators, feature_combinations, max_features, exp_name)\n",
    "print(acc)"
   ]
  },
  {
   "cell_type": "code",
   "execution_count": 8,
   "metadata": {
    "collapsed": true,
    "jupyter": {
     "outputs_hidden": true
    },
    "tags": []
   },
   "outputs": [
    {
     "ename": "NameError",
     "evalue": "name 'rfc' is not defined",
     "output_type": "error",
     "traceback": [
      "\u001b[0;31m---------------------------------------------------------------------------\u001b[0m",
      "\u001b[0;31mNameError\u001b[0m                                 Traceback (most recent call last)",
      "\u001b[0;32m<ipython-input-8-396680a51911>\u001b[0m in \u001b[0;36m<module>\u001b[0;34m\u001b[0m\n\u001b[0;32m----> 1\u001b[0;31m \u001b[0macc\u001b[0m \u001b[0;34m=\u001b[0m \u001b[0mtest_rerf\u001b[0m\u001b[0;34m(\u001b[0m\u001b[0mn\u001b[0m\u001b[0;34m,\u001b[0m \u001b[0mreps\u001b[0m\u001b[0;34m,\u001b[0m \u001b[0mn_estimators\u001b[0m\u001b[0;34m,\u001b[0m \u001b[0mfeature_combinations\u001b[0m\u001b[0;34m,\u001b[0m \u001b[0mmax_features\u001b[0m\u001b[0;34m)\u001b[0m\u001b[0;34m\u001b[0m\u001b[0;34m\u001b[0m\u001b[0m\n\u001b[0m\u001b[1;32m      2\u001b[0m \u001b[0mprint\u001b[0m\u001b[0;34m(\u001b[0m\u001b[0macc\u001b[0m\u001b[0;34m)\u001b[0m\u001b[0;34m\u001b[0m\u001b[0;34m\u001b[0m\u001b[0m\n",
      "\u001b[0;32m<ipython-input-4-3cc225f89a6c>\u001b[0m in \u001b[0;36mtest_rerf\u001b[0;34m(n, reps, n_estimators, feature_combinations, max_features)\u001b[0m\n\u001b[1;32m     29\u001b[0m         \u001b[0mX_train\u001b[0m\u001b[0;34m,\u001b[0m \u001b[0my_train\u001b[0m\u001b[0;34m,\u001b[0m \u001b[0mX_test\u001b[0m\u001b[0;34m,\u001b[0m \u001b[0my_test\u001b[0m \u001b[0;34m=\u001b[0m \u001b[0mload_data\u001b[0m\u001b[0;34m(\u001b[0m\u001b[0mn\u001b[0m\u001b[0;34m,\u001b[0m \u001b[0mdata_path\u001b[0m\u001b[0;34m)\u001b[0m\u001b[0;34m\u001b[0m\u001b[0;34m\u001b[0m\u001b[0m\n\u001b[1;32m     30\u001b[0m \u001b[0;34m\u001b[0m\u001b[0m\n\u001b[0;32m---> 31\u001b[0;31m         clf = rfc(\n\u001b[0m\u001b[1;32m     32\u001b[0m             \u001b[0mn_estimators\u001b[0m\u001b[0;34m=\u001b[0m\u001b[0mn_estimators\u001b[0m\u001b[0;34m,\u001b[0m\u001b[0;34m\u001b[0m\u001b[0;34m\u001b[0m\u001b[0m\n\u001b[1;32m     33\u001b[0m             \u001b[0mprojection_matrix\u001b[0m\u001b[0;34m=\u001b[0m\u001b[0;34m\"RerF\"\u001b[0m\u001b[0;34m,\u001b[0m\u001b[0;34m\u001b[0m\u001b[0;34m\u001b[0m\u001b[0m\n",
      "\u001b[0;31mNameError\u001b[0m: name 'rfc' is not defined"
     ]
    }
   ],
   "source": [
    "acc = test_rerf(n, reps, n_estimators, feature_combinations, max_features, exp_name)\n",
    "print(acc)"
   ]
  },
  {
   "cell_type": "code",
   "execution_count": null,
   "metadata": {},
   "outputs": [],
   "source": [
    "acc = test_rf(n, reps, n_estimators, exp_name)\n",
    "print(acc)"
   ]
  },
  {
   "cell_type": "code",
   "execution_count": 19,
   "metadata": {
    "collapsed": true,
    "jupyter": {
     "outputs_hidden": true
    },
    "tags": []
   },
   "outputs": [
    {
     "name": "stdout",
     "output_type": "stream",
     "text": [
      "Inside build...\n",
      "finished resizing...\n",
      "splitter:  <oblique_forests.tree._oblique_splitter.ObliqueSplitter object at 0x7f73c0063be0>\n",
      "Splitter initialized...\n",
      "Got to nogil part.\n",
      "Inside build...\n",
      "finished resizing...\n",
      "splitter:  <oblique_forests.tree._oblique_splitter.ObliqueSplitter object at 0x7f74140644c0>\n",
      "Splitter initialized...\n",
      "Got to nogil part.\n",
      "Inside build...\n",
      "finished resizing...\n",
      "splitter:  <oblique_forests.tree._oblique_splitter.ObliqueSplitter object at 0x7f7408063e90>\n",
      "Splitter initialized...\n",
      "Got to nogil part.\n",
      "Inside build...\n",
      "finished resizing...\n",
      "splitter:  <oblique_forests.tree._oblique_splitter.ObliqueSplitter object at 0x7f741c064110>\n",
      "Splitter initialized...\n",
      "Got to nogil part.\n",
      "Inside build...\n",
      "finished resizing...\n",
      "splitter:  <oblique_forests.tree._oblique_splitter.ObliqueSplitter object at 0x7f73e80641a0>\n",
      "Splitter initialized...\n",
      "Got to nogil part.\n",
      "Inside build...\n",
      "finished resizing...\n",
      "splitter:  <oblique_forests.tree._oblique_splitter.ObliqueSplitter object at 0x7f744c064180>\n",
      "Splitter initialized...\n",
      "Got to nogil part.\n",
      "Inside build...\n",
      "finished resizing...\n",
      "splitter:  <oblique_forests.tree._oblique_splitter.ObliqueSplitter object at 0x7f7424064300>\n",
      "Splitter initialized...\n",
      "Got to nogil part.\n",
      "Inside build...\n",
      "finished resizing...\n",
      "splitter:  <oblique_forests.tree._oblique_splitter.ObliqueSplitter object at 0x7f7454064560>\n",
      "Splitter initialized...\n",
      "Got to nogil part.\n",
      "Inside build...\n",
      "finished resizing...\n",
      "splitter:  <oblique_forests.tree._oblique_splitter.ObliqueSplitter object at 0x7f7454064560>\n",
      "Splitter initialized...\n",
      "Got to nogil part.\n",
      "Inside build...\n",
      "finished resizing...\n",
      "splitter:  <oblique_forests.tree._oblique_splitter.ObliqueSplitter object at 0x7f744c064180>\n",
      "Splitter initialized...\n",
      "Got to nogil part.\n",
      "Inside build...\n",
      "finished resizing...\n",
      "splitter:  <oblique_forests.tree._oblique_splitter.ObliqueSplitter object at 0x7f7408063e90>\n",
      "Splitter initialized...\n",
      "Got to nogil part.\n",
      "Inside build...\n",
      "finished resizing...\n",
      "splitter:  <oblique_forests.tree._oblique_splitter.ObliqueSplitter object at 0x7f7424064300>\n",
      "Splitter initialized...\n",
      "Got to nogil part.\n",
      "Inside build...\n",
      "finished resizing...\n",
      "splitter:  <oblique_forests.tree._oblique_splitter.ObliqueSplitter object at 0x7f73c0063be0>\n",
      "Splitter initialized...\n",
      "Got to nogil part.\n",
      "Inside build...\n",
      "finished resizing...\n",
      "splitter:  <oblique_forests.tree._oblique_splitter.ObliqueSplitter object at 0x7f74140644c0>\n",
      "Splitter initialized...\n",
      "Got to nogil part.\n",
      "Inside build...\n",
      "finished resizing...\n",
      "splitter:  <oblique_forests.tree._oblique_splitter.ObliqueSplitter object at 0x7f741c064110>\n",
      "Splitter initialized...\n",
      "Got to nogil part.\n",
      "Inside build...\n",
      "finished resizing...\n",
      "splitter:  <oblique_forests.tree._oblique_splitter.ObliqueSplitter object at 0x7f73e80641a0>\n",
      "Splitter initialized...\n",
      "Got to nogil part.\n",
      "Inside build...\n",
      "finished resizing...\n",
      "splitter:  <oblique_forests.tree._oblique_splitter.ObliqueSplitter object at 0x7f744c064180>\n",
      "Splitter initialized...\n",
      "Got to nogil part.\n",
      "Inside build...\n",
      "finished resizing...\n",
      "splitter:  <oblique_forests.tree._oblique_splitter.ObliqueSplitter object at 0x7f7454064560>\n",
      "Splitter initialized...\n",
      "Got to nogil part.\n",
      "Inside build...\n",
      "finished resizing...\n",
      "splitter:  <oblique_forests.tree._oblique_splitter.ObliqueSplitter object at 0x7f7408063e90>\n",
      "Splitter initialized...\n",
      "Got to nogil part.\n",
      "Inside build...\n",
      "finished resizing...\n",
      "splitter:  <oblique_forests.tree._oblique_splitter.ObliqueSplitter object at 0x7f74140644c0>\n",
      "Splitter initialized...\n",
      "Got to nogil part.\n",
      "Inside build...\n",
      "finished resizing...\n",
      "splitter:  <oblique_forests.tree._oblique_splitter.ObliqueSplitter object at 0x7f7424064300>\n",
      "Splitter initialized...\n",
      "Got to nogil part.\n",
      "Inside build...\n",
      "finished resizing...\n",
      "splitter:  <oblique_forests.tree._oblique_splitter.ObliqueSplitter object at 0x7f73c0063be0>\n",
      "Splitter initialized...\n",
      "Got to nogil part.\n",
      "Inside build...\n",
      "finished resizing...\n",
      "splitter:  <oblique_forests.tree._oblique_splitter.ObliqueSplitter object at 0x7f73e80641a0>\n",
      "Splitter initialized...\n",
      "Got to nogil part.\n",
      "Inside build...\n",
      "finished resizing...\n",
      "splitter:  <oblique_forests.tree._oblique_splitter.ObliqueSplitter object at 0x7f741c064110>\n",
      "Splitter initialized...\n",
      "Got to nogil part.\n",
      "Inside build...\n",
      "finished resizing...\n",
      "splitter:  <oblique_forests.tree._oblique_splitter.ObliqueSplitter object at 0x7f7454064560>\n",
      "Splitter initialized...\n",
      "Got to nogil part.\n",
      "Inside build...\n",
      "finished resizing...\n",
      "splitter:  <oblique_forests.tree._oblique_splitter.ObliqueSplitter object at 0x7f744c064180>\n",
      "Splitter initialized...\n",
      "Got to nogil part.\n",
      "Inside build...\n",
      "finished resizing...\n",
      "splitter:  <oblique_forests.tree._oblique_splitter.ObliqueSplitter object at 0x7f7408063e90>\n",
      "Splitter initialized...\n",
      "Got to nogil part.\n",
      "Inside build...\n",
      "finished resizing...\n",
      "splitter:  <oblique_forests.tree._oblique_splitter.ObliqueSplitter object at 0x7f74140644c0>\n",
      "Splitter initialized...\n",
      "Got to nogil part.\n",
      "Inside build...\n",
      "finished resizing...\n",
      "splitter:  <oblique_forests.tree._oblique_splitter.ObliqueSplitter object at 0x7f73c0063be0>\n",
      "Splitter initialized...\n",
      "Got to nogil part.\n",
      "Inside build...\n",
      "finished resizing...\n",
      "splitter:  <oblique_forests.tree._oblique_splitter.ObliqueSplitter object at 0x7f73e80641a0>\n",
      "Splitter initialized...\n",
      "Got to nogil part.\n",
      "Inside build...\n",
      "finished resizing...\n",
      "splitter:  <oblique_forests.tree._oblique_splitter.ObliqueSplitter object at 0x7f7424064300>\n",
      "Splitter initialized...\n",
      "Got to nogil part.\n",
      "Inside build...\n",
      "finished resizing...\n",
      "splitter:  <oblique_forests.tree._oblique_splitter.ObliqueSplitter object at 0x7f744c064180>\n",
      "Splitter initialized...\n",
      "Got to nogil part.\n",
      "Inside build...\n",
      "finished resizing...\n",
      "splitter:  <oblique_forests.tree._oblique_splitter.ObliqueSplitter object at 0x7f7454064560>\n",
      "Splitter initialized...\n",
      "Got to nogil part.\n",
      "Inside build...\n",
      "finished resizing...\n",
      "splitter:  <oblique_forests.tree._oblique_splitter.ObliqueSplitter object at 0x7f741c064110>\n",
      "Splitter initialized...\n",
      "Got to nogil part.\n",
      "Inside build...\n",
      "finished resizing...\n",
      "splitter:  <oblique_forests.tree._oblique_splitter.ObliqueSplitter object at 0x7f74140644c0>\n",
      "Splitter initialized...\n",
      "Got to nogil part.\n",
      "Inside build...\n",
      "finished resizing...\n",
      "splitter:  <oblique_forests.tree._oblique_splitter.ObliqueSplitter object at 0x7f73c0063be0>\n",
      "Splitter initialized...\n",
      "Got to nogil part.\n",
      "Inside build...\n",
      "finished resizing...\n",
      "splitter:  <oblique_forests.tree._oblique_splitter.ObliqueSplitter object at 0x7f7408063e90>\n",
      "Splitter initialized...\n",
      "Got to nogil part.\n",
      "Inside build...\n",
      "finished resizing...\n",
      "splitter:  <oblique_forests.tree._oblique_splitter.ObliqueSplitter object at 0x7f73e80641a0>\n",
      "Splitter initialized...\n",
      "Got to nogil part.\n",
      "Inside build...\n",
      "finished resizing...\n",
      "splitter:  <oblique_forests.tree._oblique_splitter.ObliqueSplitter object at 0x7f7424064300>\n",
      "Splitter initialized...\n",
      "Got to nogil part.\n",
      "Inside build...\n",
      "finished resizing...\n",
      "splitter:  <oblique_forests.tree._oblique_splitter.ObliqueSplitter object at 0x7f7454064560>\n",
      "Splitter initialized...\n",
      "Got to nogil part.\n",
      "Inside build...\n",
      "finished resizing...\n",
      "splitter:  <oblique_forests.tree._oblique_splitter.ObliqueSplitter object at 0x7f741c064110>\n",
      "Splitter initialized...\n",
      "Got to nogil part.\n",
      "Inside build...\n",
      "finished resizing...\n",
      "splitter:  <oblique_forests.tree._oblique_splitter.ObliqueSplitter object at 0x7f74140644c0>\n",
      "Splitter initialized...\n",
      "Got to nogil part.\n",
      "Inside build...\n",
      "finished resizing...\n",
      "splitter:  <oblique_forests.tree._oblique_splitter.ObliqueSplitter object at 0x7f744c064180>\n",
      "Splitter initialized...\n",
      "Got to nogil part.\n",
      "Inside build...\n",
      "finished resizing...\n",
      "splitter:  <oblique_forests.tree._oblique_splitter.ObliqueSplitter object at 0x7f73c0063be0>\n",
      "Splitter initialized...\n",
      "Got to nogil part.\n",
      "Inside build...\n",
      "finished resizing...\n",
      "splitter:  <oblique_forests.tree._oblique_splitter.ObliqueSplitter object at 0x7f7408063e90>\n",
      "Splitter initialized...\n",
      "Got to nogil part.\n",
      "Inside build...\n",
      "finished resizing...\n",
      "splitter:  <oblique_forests.tree._oblique_splitter.ObliqueSplitter object at 0x7f73e80641a0>\n",
      "Splitter initialized...\n",
      "Got to nogil part.\n",
      "Inside build...\n",
      "finished resizing...\n",
      "splitter:  <oblique_forests.tree._oblique_splitter.ObliqueSplitter object at 0x7f7454064560>\n",
      "Splitter initialized...\n",
      "Got to nogil part.\n",
      "Inside build...\n",
      "finished resizing...\n",
      "splitter:  <oblique_forests.tree._oblique_splitter.ObliqueSplitter object at 0x7f7424064300>\n",
      "Splitter initialized...\n",
      "Got to nogil part.\n",
      "Inside build...\n",
      "finished resizing...\n",
      "splitter:  <oblique_forests.tree._oblique_splitter.ObliqueSplitter object at 0x7f74140644c0>\n",
      "Splitter initialized...\n",
      "Got to nogil part.\n",
      "Inside build...\n",
      "finished resizing...\n",
      "splitter:  <oblique_forests.tree._oblique_splitter.ObliqueSplitter object at 0x7f7408063e90>\n",
      "Splitter initialized...\n",
      "Got to nogil part.\n",
      "Inside build...\n",
      "finished resizing...\n",
      "splitter:  <oblique_forests.tree._oblique_splitter.ObliqueSplitter object at 0x7f741c064110>\n",
      "Splitter initialized...\n",
      "Got to nogil part.\n",
      "Inside build...\n",
      "finished resizing...\n",
      "splitter:  <oblique_forests.tree._oblique_splitter.ObliqueSplitter object at 0x7f73c0063be0>\n",
      "Splitter initialized...\n",
      "Got to nogil part.\n",
      "Inside build...\n",
      "finished resizing...\n",
      "splitter:  <oblique_forests.tree._oblique_splitter.ObliqueSplitter object at 0x7f73e80641a0>\n",
      "Splitter initialized...\n",
      "Got to nogil part.\n",
      "Inside build...\n",
      "finished resizing...\n",
      "splitter:  <oblique_forests.tree._oblique_splitter.ObliqueSplitter object at 0x7f744c064180>\n",
      "Splitter initialized...\n",
      "Got to nogil part.\n",
      "Inside build...\n",
      "finished resizing...\n",
      "splitter:  <oblique_forests.tree._oblique_splitter.ObliqueSplitter object at 0x7f7454064560>\n",
      "Splitter initialized...\n",
      "Got to nogil part.\n",
      "Inside build...\n",
      "finished resizing...\n",
      "splitter:  <oblique_forests.tree._oblique_splitter.ObliqueSplitter object at 0x7f7424064300>\n",
      "Splitter initialized...\n",
      "Got to nogil part.\n",
      "Inside build...\n",
      "finished resizing...\n",
      "splitter:  <oblique_forests.tree._oblique_splitter.ObliqueSplitter object at 0x7f74140644c0>\n",
      "Splitter initialized...\n",
      "Got to nogil part.\n",
      "Inside build...\n",
      "finished resizing...\n",
      "splitter:  <oblique_forests.tree._oblique_splitter.ObliqueSplitter object at 0x7f7408063e90>\n",
      "Splitter initialized...\n",
      "Got to nogil part.\n",
      "Inside build...\n",
      "finished resizing...\n",
      "splitter:  <oblique_forests.tree._oblique_splitter.ObliqueSplitter object at 0x7f73e80641a0>\n",
      "Splitter initialized...\n",
      "Got to nogil part.\n",
      "Inside build...\n",
      "finished resizing...\n",
      "splitter:  <oblique_forests.tree._oblique_splitter.ObliqueSplitter object at 0x7f744c064180>\n",
      "Splitter initialized...\n",
      "Got to nogil part.\n",
      "Inside build...\n",
      "finished resizing...\n",
      "splitter:  <oblique_forests.tree._oblique_splitter.ObliqueSplitter object at 0x7f7454064560>\n",
      "Splitter initialized...\n",
      "Got to nogil part.\n",
      "Inside build...\n",
      "finished resizing...\n",
      "splitter:  <oblique_forests.tree._oblique_splitter.ObliqueSplitter object at 0x7f741c064110>\n",
      "Splitter initialized...\n",
      "Got to nogil part.\n",
      "Inside build...\n",
      "finished resizing...\n",
      "splitter:  <oblique_forests.tree._oblique_splitter.ObliqueSplitter object at 0x7f7424064300>\n",
      "Splitter initialized...\n",
      "Got to nogil part.\n",
      "Inside build...\n",
      "finished resizing...\n",
      "splitter:  <oblique_forests.tree._oblique_splitter.ObliqueSplitter object at 0x7f73c0063be0>\n",
      "Splitter initialized...\n",
      "Got to nogil part.\n",
      "Inside build...\n",
      "finished resizing...\n",
      "splitter:  <oblique_forests.tree._oblique_splitter.ObliqueSplitter object at 0x7f74140644c0>\n",
      "Splitter initialized...\n",
      "Got to nogil part.\n",
      "Inside build...\n",
      "finished resizing...\n",
      "splitter:  <oblique_forests.tree._oblique_splitter.ObliqueSplitter object at 0x7f7408063e90>\n",
      "Splitter initialized...\n",
      "Got to nogil part.\n",
      "Inside build...\n",
      "finished resizing...\n",
      "splitter:  <oblique_forests.tree._oblique_splitter.ObliqueSplitter object at 0x7f73e80641a0>\n",
      "Splitter initialized...\n",
      "Got to nogil part.\n",
      "Inside build...\n",
      "finished resizing...\n",
      "splitter:  <oblique_forests.tree._oblique_splitter.ObliqueSplitter object at 0x7f7454064560>\n",
      "Splitter initialized...\n",
      "Got to nogil part.\n",
      "Inside build...\n",
      "finished resizing...\n",
      "splitter:  <oblique_forests.tree._oblique_splitter.ObliqueSplitter object at 0x7f741c064110>\n",
      "Splitter initialized...\n",
      "Got to nogil part.\n",
      "Inside build...\n",
      "finished resizing...\n",
      "splitter:  <oblique_forests.tree._oblique_splitter.ObliqueSplitter object at 0x7f744c064180>\n",
      "Splitter initialized...\n",
      "Got to nogil part.\n",
      "Inside build...\n",
      "finished resizing...\n",
      "splitter:  <oblique_forests.tree._oblique_splitter.ObliqueSplitter object at 0x7f73c0063be0>\n",
      "Splitter initialized...\n",
      "Got to nogil part.\n",
      "Inside build...\n",
      "finished resizing...\n",
      "splitter:  <oblique_forests.tree._oblique_splitter.ObliqueSplitter object at 0x7f7424064300>\n",
      "Splitter initialized...\n",
      "Got to nogil part.\n",
      "Inside build...\n",
      "finished resizing...\n",
      "splitter:  <oblique_forests.tree._oblique_splitter.ObliqueSplitter object at 0x7f7408063e90>\n",
      "Splitter initialized...\n",
      "Got to nogil part.\n",
      "Inside build...\n",
      "finished resizing...\n",
      "splitter:  <oblique_forests.tree._oblique_splitter.ObliqueSplitter object at 0x7f73e80641a0>\n",
      "Splitter initialized...\n",
      "Got to nogil part.\n",
      "Inside build...\n",
      "finished resizing...\n",
      "splitter:  <oblique_forests.tree._oblique_splitter.ObliqueSplitter object at 0x7f741c064110>\n",
      "Splitter initialized...\n",
      "Got to nogil part.\n",
      "Inside build...\n",
      "finished resizing...\n",
      "splitter:  <oblique_forests.tree._oblique_splitter.ObliqueSplitter object at 0x7f74140644c0>\n",
      "Splitter initialized...\n",
      "Got to nogil part.\n",
      "Inside build...\n",
      "finished resizing...\n",
      "splitter:  <oblique_forests.tree._oblique_splitter.ObliqueSplitter object at 0x7f73c0063be0>\n",
      "Splitter initialized...\n",
      "Got to nogil part.\n",
      "Inside build...\n",
      "finished resizing...\n",
      "splitter:  <oblique_forests.tree._oblique_splitter.ObliqueSplitter object at 0x7f7454064560>\n",
      "Splitter initialized...\n",
      "Got to nogil part.\n",
      "Inside build...\n",
      "finished resizing...\n",
      "splitter:  <oblique_forests.tree._oblique_splitter.ObliqueSplitter object at 0x7f73e80641a0>\n",
      "Splitter initialized...\n",
      "Got to nogil part.\n",
      "Inside build...\n",
      "finished resizing...\n",
      "splitter:  <oblique_forests.tree._oblique_splitter.ObliqueSplitter object at 0x7f7424064300>\n",
      "Splitter initialized...\n",
      "Got to nogil part.\n",
      "Inside build...\n",
      "finished resizing...\n",
      "splitter:  <oblique_forests.tree._oblique_splitter.ObliqueSplitter object at 0x7f7408063e90>\n",
      "Splitter initialized...\n",
      "Got to nogil part.\n",
      "Inside build...\n",
      "finished resizing...\n",
      "splitter:  <oblique_forests.tree._oblique_splitter.ObliqueSplitter object at 0x7f744c064180>\n",
      "Splitter initialized...\n",
      "Got to nogil part.\n",
      "Inside build...\n",
      "finished resizing...\n",
      "splitter:  <oblique_forests.tree._oblique_splitter.ObliqueSplitter object at 0x7f741c064110>\n",
      "Splitter initialized...\n",
      "Got to nogil part.\n",
      "Inside build...\n",
      "finished resizing...\n",
      "splitter:  <oblique_forests.tree._oblique_splitter.ObliqueSplitter object at 0x7f74140644c0>\n",
      "Splitter initialized...\n",
      "Got to nogil part.\n",
      "Inside build...\n",
      "finished resizing...\n",
      "splitter:  <oblique_forests.tree._oblique_splitter.ObliqueSplitter object at 0x7f73c0063be0>\n",
      "Splitter initialized...\n",
      "Got to nogil part.\n",
      "Inside build...\n",
      "finished resizing...\n",
      "splitter:  <oblique_forests.tree._oblique_splitter.ObliqueSplitter object at 0x7f7454064560>\n",
      "Splitter initialized...\n",
      "Got to nogil part.\n",
      "Inside build...\n",
      "finished resizing...\n",
      "splitter:  <oblique_forests.tree._oblique_splitter.ObliqueSplitter object at 0x7f7424064300>\n",
      "Splitter initialized...\n",
      "Got to nogil part.\n",
      "Inside build...\n",
      "finished resizing...\n",
      "splitter:  <oblique_forests.tree._oblique_splitter.ObliqueSplitter object at 0x7f73e80641a0>\n",
      "Splitter initialized...\n",
      "Got to nogil part.\n",
      "Inside build...\n",
      "finished resizing...\n",
      "splitter:  <oblique_forests.tree._oblique_splitter.ObliqueSplitter object at 0x7f744c064180>\n",
      "Splitter initialized...\n",
      "Got to nogil part.\n",
      "Inside build...\n",
      "finished resizing...\n",
      "splitter:  <oblique_forests.tree._oblique_splitter.ObliqueSplitter object at 0x7f7408063e90>\n",
      "Splitter initialized...\n",
      "Got to nogil part.\n",
      "Inside build...\n",
      "finished resizing...\n",
      "splitter:  <oblique_forests.tree._oblique_splitter.ObliqueSplitter object at 0x7f7454064560>\n",
      "Splitter initialized...\n",
      "Got to nogil part.\n",
      "Inside build...\n",
      "finished resizing...\n",
      "splitter:  <oblique_forests.tree._oblique_splitter.ObliqueSplitter object at 0x7f741c064110>\n",
      "Splitter initialized...\n",
      "Got to nogil part.\n",
      "Inside build...\n",
      "finished resizing...\n",
      "splitter:  <oblique_forests.tree._oblique_splitter.ObliqueSplitter object at 0x7f74140644c0>\n",
      "Splitter initialized...\n",
      "Got to nogil part.\n",
      "Inside build...\n",
      "finished resizing...\n",
      "splitter:  <oblique_forests.tree._oblique_splitter.ObliqueSplitter object at 0x7f73e80641a0>\n",
      "Splitter initialized...\n",
      "Got to nogil part.\n",
      "Inside build...\n",
      "finished resizing...\n",
      "splitter:  <oblique_forests.tree._oblique_splitter.ObliqueSplitter object at 0x7f7424064300>\n",
      "Splitter initialized...\n",
      "Got to nogil part.\n",
      "Inside build...\n",
      "finished resizing...\n",
      "splitter:  <oblique_forests.tree._oblique_splitter.ObliqueSplitter object at 0x7f73c0063be0>\n",
      "Splitter initialized...\n",
      "Got to nogil part.\n",
      "Inside build...\n",
      "finished resizing...\n",
      "splitter:  <oblique_forests.tree._oblique_splitter.ObliqueSplitter object at 0x7f7408063e90>\n",
      "Splitter initialized...\n",
      "Got to nogil part.\n",
      "Inside build...\n",
      "finished resizing...\n",
      "splitter:  <oblique_forests.tree._oblique_splitter.ObliqueSplitter object at 0x7f744c064180>\n",
      "Splitter initialized...\n",
      "Got to nogil part.\n",
      "Inside build...\n",
      "finished resizing...\n",
      "splitter:  <oblique_forests.tree._oblique_splitter.ObliqueSplitter object at 0x7f741c064110>\n",
      "Splitter initialized...\n",
      "Got to nogil part.\n",
      "Inside build...\n",
      "finished resizing...\n",
      "splitter:  <oblique_forests.tree._oblique_splitter.ObliqueSplitter object at 0x7f7454064560>\n",
      "Splitter initialized...\n",
      "Got to nogil part.\n"
     ]
    },
    {
     "ename": "ValueError",
     "evalue": "This DecisionTreeClassifier estimator requires y to be passed, but the target y is None.",
     "output_type": "error",
     "traceback": [
      "\u001b[0;31m---------------------------------------------------------------------------\u001b[0m",
      "\u001b[0;31mValueError\u001b[0m                                Traceback (most recent call last)",
      "\u001b[0;32m<ipython-input-19-18d7af928d47>\u001b[0m in \u001b[0;36m<module>\u001b[0;34m\u001b[0m\n\u001b[0;32m----> 1\u001b[0;31m \u001b[0macc\u001b[0m \u001b[0;34m=\u001b[0m \u001b[0mtest_cython_of\u001b[0m\u001b[0;34m(\u001b[0m\u001b[0mn\u001b[0m\u001b[0;34m,\u001b[0m \u001b[0mreps\u001b[0m\u001b[0;34m,\u001b[0m \u001b[0mn_estimators\u001b[0m\u001b[0;34m,\u001b[0m \u001b[0mfeature_combinations\u001b[0m\u001b[0;34m,\u001b[0m \u001b[0mmax_features\u001b[0m\u001b[0;34m,\u001b[0m \u001b[0mexp_name\u001b[0m\u001b[0;34m)\u001b[0m\u001b[0;34m\u001b[0m\u001b[0;34m\u001b[0m\u001b[0m\n\u001b[0m\u001b[1;32m      2\u001b[0m \u001b[0mprint\u001b[0m\u001b[0;34m(\u001b[0m\u001b[0macc\u001b[0m\u001b[0;34m)\u001b[0m\u001b[0;34m\u001b[0m\u001b[0;34m\u001b[0m\u001b[0m\n",
      "\u001b[0;32m<ipython-input-18-88b7e6dcfbe2>\u001b[0m in \u001b[0;36mtest_cython_of\u001b[0;34m(n, reps, n_estimators, feature_combinations, max_features, exp_name)\u001b[0m\n\u001b[1;32m     63\u001b[0m         \u001b[0mclf\u001b[0m\u001b[0;34m.\u001b[0m\u001b[0mfit\u001b[0m\u001b[0;34m(\u001b[0m\u001b[0mX_train\u001b[0m\u001b[0;34m,\u001b[0m \u001b[0my_train\u001b[0m\u001b[0;34m)\u001b[0m\u001b[0;34m\u001b[0m\u001b[0;34m\u001b[0m\u001b[0m\n\u001b[1;32m     64\u001b[0m \u001b[0;34m\u001b[0m\u001b[0m\n\u001b[0;32m---> 65\u001b[0;31m         \u001b[0mpreds\u001b[0m\u001b[0;34m[\u001b[0m\u001b[0mi\u001b[0m\u001b[0;34m]\u001b[0m \u001b[0;34m=\u001b[0m \u001b[0mclf\u001b[0m\u001b[0;34m.\u001b[0m\u001b[0mpredict\u001b[0m\u001b[0;34m(\u001b[0m\u001b[0mX_test\u001b[0m\u001b[0;34m)\u001b[0m\u001b[0;34m\u001b[0m\u001b[0;34m\u001b[0m\u001b[0m\n\u001b[0m\u001b[1;32m     66\u001b[0m         \u001b[0macc\u001b[0m\u001b[0;34m[\u001b[0m\u001b[0mi\u001b[0m\u001b[0;34m]\u001b[0m \u001b[0;34m=\u001b[0m \u001b[0mnp\u001b[0m\u001b[0;34m.\u001b[0m\u001b[0msum\u001b[0m\u001b[0;34m(\u001b[0m\u001b[0mpreds\u001b[0m\u001b[0;34m[\u001b[0m\u001b[0mi\u001b[0m\u001b[0;34m]\u001b[0m \u001b[0;34m==\u001b[0m \u001b[0my_test\u001b[0m\u001b[0;34m)\u001b[0m \u001b[0;34m/\u001b[0m \u001b[0mlen\u001b[0m\u001b[0;34m(\u001b[0m\u001b[0my_test\u001b[0m\u001b[0;34m)\u001b[0m\u001b[0;34m\u001b[0m\u001b[0;34m\u001b[0m\u001b[0m\n\u001b[1;32m     67\u001b[0m \u001b[0;34m\u001b[0m\u001b[0m\n",
      "\u001b[0;32m~/.local/lib/python3.8/site-packages/sklearn/ensemble/_forest.py\u001b[0m in \u001b[0;36mpredict\u001b[0;34m(self, X)\u001b[0m\n\u001b[1;32m    627\u001b[0m             \u001b[0mThe\u001b[0m \u001b[0mpredicted\u001b[0m \u001b[0mclasses\u001b[0m\u001b[0;34m.\u001b[0m\u001b[0;34m\u001b[0m\u001b[0;34m\u001b[0m\u001b[0m\n\u001b[1;32m    628\u001b[0m         \"\"\"\n\u001b[0;32m--> 629\u001b[0;31m         \u001b[0mproba\u001b[0m \u001b[0;34m=\u001b[0m \u001b[0mself\u001b[0m\u001b[0;34m.\u001b[0m\u001b[0mpredict_proba\u001b[0m\u001b[0;34m(\u001b[0m\u001b[0mX\u001b[0m\u001b[0;34m)\u001b[0m\u001b[0;34m\u001b[0m\u001b[0;34m\u001b[0m\u001b[0m\n\u001b[0m\u001b[1;32m    630\u001b[0m \u001b[0;34m\u001b[0m\u001b[0m\n\u001b[1;32m    631\u001b[0m         \u001b[0;32mif\u001b[0m \u001b[0mself\u001b[0m\u001b[0;34m.\u001b[0m\u001b[0mn_outputs_\u001b[0m \u001b[0;34m==\u001b[0m \u001b[0;36m1\u001b[0m\u001b[0;34m:\u001b[0m\u001b[0;34m\u001b[0m\u001b[0;34m\u001b[0m\u001b[0m\n",
      "\u001b[0;32m~/.local/lib/python3.8/site-packages/sklearn/ensemble/_forest.py\u001b[0m in \u001b[0;36mpredict_proba\u001b[0;34m(self, X)\u001b[0m\n\u001b[1;32m    671\u001b[0m         \u001b[0mcheck_is_fitted\u001b[0m\u001b[0;34m(\u001b[0m\u001b[0mself\u001b[0m\u001b[0;34m)\u001b[0m\u001b[0;34m\u001b[0m\u001b[0;34m\u001b[0m\u001b[0m\n\u001b[1;32m    672\u001b[0m         \u001b[0;31m# Check data\u001b[0m\u001b[0;34m\u001b[0m\u001b[0;34m\u001b[0m\u001b[0;34m\u001b[0m\u001b[0m\n\u001b[0;32m--> 673\u001b[0;31m         \u001b[0mX\u001b[0m \u001b[0;34m=\u001b[0m \u001b[0mself\u001b[0m\u001b[0;34m.\u001b[0m\u001b[0m_validate_X_predict\u001b[0m\u001b[0;34m(\u001b[0m\u001b[0mX\u001b[0m\u001b[0;34m)\u001b[0m\u001b[0;34m\u001b[0m\u001b[0;34m\u001b[0m\u001b[0m\n\u001b[0m\u001b[1;32m    674\u001b[0m \u001b[0;34m\u001b[0m\u001b[0m\n\u001b[1;32m    675\u001b[0m         \u001b[0;31m# Assign chunk of trees to jobs\u001b[0m\u001b[0;34m\u001b[0m\u001b[0;34m\u001b[0m\u001b[0;34m\u001b[0m\u001b[0m\n",
      "\u001b[0;32m~/.local/lib/python3.8/site-packages/sklearn/ensemble/_forest.py\u001b[0m in \u001b[0;36m_validate_X_predict\u001b[0;34m(self, X)\u001b[0m\n\u001b[1;32m    419\u001b[0m         \u001b[0mcheck_is_fitted\u001b[0m\u001b[0;34m(\u001b[0m\u001b[0mself\u001b[0m\u001b[0;34m)\u001b[0m\u001b[0;34m\u001b[0m\u001b[0;34m\u001b[0m\u001b[0m\n\u001b[1;32m    420\u001b[0m \u001b[0;34m\u001b[0m\u001b[0m\n\u001b[0;32m--> 421\u001b[0;31m         \u001b[0;32mreturn\u001b[0m \u001b[0mself\u001b[0m\u001b[0;34m.\u001b[0m\u001b[0mestimators_\u001b[0m\u001b[0;34m[\u001b[0m\u001b[0;36m0\u001b[0m\u001b[0;34m]\u001b[0m\u001b[0;34m.\u001b[0m\u001b[0m_validate_X_predict\u001b[0m\u001b[0;34m(\u001b[0m\u001b[0mX\u001b[0m\u001b[0;34m,\u001b[0m \u001b[0mcheck_input\u001b[0m\u001b[0;34m=\u001b[0m\u001b[0;32mTrue\u001b[0m\u001b[0;34m)\u001b[0m\u001b[0;34m\u001b[0m\u001b[0;34m\u001b[0m\u001b[0m\n\u001b[0m\u001b[1;32m    422\u001b[0m \u001b[0;34m\u001b[0m\u001b[0m\n\u001b[1;32m    423\u001b[0m     \u001b[0;34m@\u001b[0m\u001b[0mproperty\u001b[0m\u001b[0;34m\u001b[0m\u001b[0;34m\u001b[0m\u001b[0m\n",
      "\u001b[0;32m~/Documents/manifold_random_forests/oblique_forests/tree/_classes.py\u001b[0m in \u001b[0;36m_validate_X_predict\u001b[0;34m(self, X, check_input)\u001b[0m\n\u001b[1;32m    425\u001b[0m         \u001b[0;34m\"\"\"Validate the training data on predict (probabilities).\"\"\"\u001b[0m\u001b[0;34m\u001b[0m\u001b[0;34m\u001b[0m\u001b[0m\n\u001b[1;32m    426\u001b[0m         \u001b[0;32mif\u001b[0m \u001b[0mcheck_input\u001b[0m\u001b[0;34m:\u001b[0m\u001b[0;34m\u001b[0m\u001b[0;34m\u001b[0m\u001b[0m\n\u001b[0;32m--> 427\u001b[0;31m             X = self._validate_data(X, dtype=DTYPE, accept_sparse=\"csr\",\n\u001b[0m\u001b[1;32m    428\u001b[0m                                     reset=False)\n\u001b[1;32m    429\u001b[0m             if issparse(X) and (X.indices.dtype != np.intc or\n",
      "\u001b[0;32m~/.local/lib/python3.8/site-packages/sklearn/base.py\u001b[0m in \u001b[0;36m_validate_data\u001b[0;34m(self, X, y, reset, validate_separately, **check_params)\u001b[0m\n\u001b[1;32m    414\u001b[0m         \u001b[0;32mif\u001b[0m \u001b[0my\u001b[0m \u001b[0;32mis\u001b[0m \u001b[0;32mNone\u001b[0m\u001b[0;34m:\u001b[0m\u001b[0;34m\u001b[0m\u001b[0;34m\u001b[0m\u001b[0m\n\u001b[1;32m    415\u001b[0m             \u001b[0;32mif\u001b[0m \u001b[0mself\u001b[0m\u001b[0;34m.\u001b[0m\u001b[0m_get_tags\u001b[0m\u001b[0;34m(\u001b[0m\u001b[0;34m)\u001b[0m\u001b[0;34m[\u001b[0m\u001b[0;34m'requires_y'\u001b[0m\u001b[0;34m]\u001b[0m\u001b[0;34m:\u001b[0m\u001b[0;34m\u001b[0m\u001b[0;34m\u001b[0m\u001b[0m\n\u001b[0;32m--> 416\u001b[0;31m                 raise ValueError(\n\u001b[0m\u001b[1;32m    417\u001b[0m                     \u001b[0;34mf\"This {self.__class__.__name__} estimator \"\u001b[0m\u001b[0;34m\u001b[0m\u001b[0;34m\u001b[0m\u001b[0m\n\u001b[1;32m    418\u001b[0m                     \u001b[0;34mf\"requires y to be passed, but the target y is None.\"\u001b[0m\u001b[0;34m\u001b[0m\u001b[0;34m\u001b[0m\u001b[0m\n",
      "\u001b[0;31mValueError\u001b[0m: This DecisionTreeClassifier estimator requires y to be passed, but the target y is None."
     ]
    }
   ],
   "source": [
    "acc = test_cython_of(n, reps, n_estimators, feature_combinations, max_features, exp_name)\n",
    "print(acc)"
   ]
  },
  {
   "cell_type": "markdown",
   "metadata": {},
   "source": [
    "# Test Actual Runtime"
   ]
  },
  {
   "cell_type": "code",
   "execution_count": 7,
   "metadata": {},
   "outputs": [],
   "source": [
    "# keep track of a list of runtimes\n",
    "n_list = collections.defaultdict(list)"
   ]
  },
  {
   "cell_type": "code",
   "execution_count": 8,
   "metadata": {},
   "outputs": [],
   "source": [
    "clf = rerfClassifier(n_estimators=n_estimators, projection_matrix=\"Base\", n_jobs=8)\n",
    "rerf_clf = rerfClassifier(n_estimators=n_estimators, projection_matrix=\"RerF\", n_jobs=8)\n",
    "py_of_clf = PythonObliqueForestClassifier(\n",
    "    n_estimators=n_estimators,\n",
    "    feature_combinations=feature_combinations,\n",
    "    max_features=max_features,\n",
    "    n_jobs=8,\n",
    ")\n",
    "cy_of_clf = ObliqueForestClassifier(\n",
    "    n_estimators=n_estimators,\n",
    "    feature_combinations=feature_combinations,\n",
    "    max_features=max_features,\n",
    "    n_jobs=8,\n",
    ")"
   ]
  },
  {
   "cell_type": "markdown",
   "metadata": {},
   "source": [
    "## 1000 sample size"
   ]
  },
  {
   "cell_type": "code",
   "execution_count": 9,
   "metadata": {},
   "outputs": [],
   "source": [
    "# run on higher sample size now\n",
    "# How many samples to train on\n",
    "n = 1000\n",
    "X_train, y_train, X_test, y_test = load_data(n, data_path, exp_name)"
   ]
  },
  {
   "cell_type": "code",
   "execution_count": 12,
   "metadata": {},
   "outputs": [
    {
     "name": "stdout",
     "output_type": "stream",
     "text": [
      "32.5 ms ± 2.07 ms per loop (mean ± std. dev. of 7 runs, 1 loop each)\n"
     ]
    }
   ],
   "source": [
    "time = %timeit -n 1 -o clf.fit(X_train, y_train)\n",
    "n_list[\"BaseRF\"].append(np.mean(time.timings))"
   ]
  },
  {
   "cell_type": "code",
   "execution_count": 13,
   "metadata": {},
   "outputs": [
    {
     "name": "stdout",
     "output_type": "stream",
     "text": [
      "36.9 ms ± 1.67 ms per loop (mean ± std. dev. of 7 runs, 1 loop each)\n"
     ]
    }
   ],
   "source": [
    "time = %timeit -n 1 -o rerf_clf.fit(X_train, y_train)\n",
    "n_list[\"ReRF-Sporf\"].append(np.mean(time.timings))"
   ]
  },
  {
   "cell_type": "code",
   "execution_count": 35,
   "metadata": {
    "tags": []
   },
   "outputs": [
    {
     "name": "stdout",
     "output_type": "stream",
     "text": [
      "19.4 s ± 319 ms per loop (mean ± std. dev. of 7 runs, 1 loop each)\n"
     ]
    }
   ],
   "source": [
    "time = %timeit -n 1 -o py_of_clf.fit(X_train, y_train)\n",
    "n_list[\"Py-Sporf\"].append(np.mean(time.timings))"
   ]
  },
  {
   "cell_type": "code",
   "execution_count": 12,
   "metadata": {},
   "outputs": [
    {
     "name": "stdout",
     "output_type": "stream",
     "text": [
      "311 ms ± 14 ms per loop (mean ± std. dev. of 7 runs, 1 loop each)\n"
     ]
    }
   ],
   "source": [
    "# with pointer arrays (old)\n",
    "time = %timeit -n 1 -o cy_of_clf.fit(X_train, y_train)\n",
    "n_list[\"Cy-Sporf\"].append(np.mean(time.timings))"
   ]
  },
  {
   "cell_type": "code",
   "execution_count": 15,
   "metadata": {},
   "outputs": [
    {
     "name": "stdout",
     "output_type": "stream",
     "text": [
      "209 ms ± 4.4 ms per loop (mean ± std. dev. of 7 runs, 1 loop each)\n"
     ]
    }
   ],
   "source": [
    "# with pointer arrays\n",
    "time = %timeit -n 1 -o cy_of_clf.fit(X_train, y_train)\n",
    "n_list[\"Cy-Sporf\"].append(np.mean(time.timings))"
   ]
  },
  {
   "cell_type": "code",
   "execution_count": 10,
   "metadata": {},
   "outputs": [
    {
     "name": "stdout",
     "output_type": "stream",
     "text": [
      "212 ms ± 9.02 ms per loop (mean ± std. dev. of 7 runs, 1 loop each)\n"
     ]
    }
   ],
   "source": [
    "# with std::vectors\n",
    "time = %timeit -n 1 -o cy_of_clf.fit(X_train, y_train)\n",
    "n_list[\"Cy-Sporf\"].append(np.mean(time.timings))"
   ]
  },
  {
   "cell_type": "markdown",
   "metadata": {},
   "source": [
    "## 5000 sample size"
   ]
  },
  {
   "cell_type": "code",
   "execution_count": 11,
   "metadata": {},
   "outputs": [],
   "source": [
    "# run on higher sample size now\n",
    "# How many samples to train on\n",
    "n = 5000"
   ]
  },
  {
   "cell_type": "code",
   "execution_count": 12,
   "metadata": {},
   "outputs": [],
   "source": [
    "X_train, y_train, X_test, y_test = load_data(n, data_path, exp_name)"
   ]
  },
  {
   "cell_type": "code",
   "execution_count": 18,
   "metadata": {},
   "outputs": [
    {
     "name": "stdout",
     "output_type": "stream",
     "text": [
      "188 ms ± 12.8 ms per loop (mean ± std. dev. of 7 runs, 1 loop each)\n"
     ]
    }
   ],
   "source": [
    "time = %timeit -n 1 -o clf.fit(X_train, y_train)\n",
    "n_list[\"BaseRF\"].append(np.mean(time.timings))"
   ]
  },
  {
   "cell_type": "code",
   "execution_count": 19,
   "metadata": {},
   "outputs": [
    {
     "name": "stdout",
     "output_type": "stream",
     "text": [
      "178 ms ± 2.96 ms per loop (mean ± std. dev. of 7 runs, 1 loop each)\n"
     ]
    }
   ],
   "source": [
    "time = %timeit -n 1 -o rerf_clf.fit(X_train, y_train)\n",
    "n_list[\"ReRF-Sporf\"].append(np.mean(time.timings))"
   ]
  },
  {
   "cell_type": "code",
   "execution_count": 20,
   "metadata": {},
   "outputs": [
    {
     "name": "stdout",
     "output_type": "stream",
     "text": [
      "582 ms ± 10.8 ms per loop (mean ± std. dev. of 7 runs, 1 loop each)\n"
     ]
    }
   ],
   "source": [
    "# with pointer arrays\n",
    "time = %timeit -n 1 -o cy_of_clf.fit(X_train, y_train)\n",
    "n_list[\"Cy-Sporf\"].append(np.mean(time.timings))"
   ]
  },
  {
   "cell_type": "code",
   "execution_count": 25,
   "metadata": {},
   "outputs": [
    {
     "name": "stdout",
     "output_type": "stream",
     "text": [
      "680 ms ± 6.55 ms per loop (mean ± std. dev. of 7 runs, 1 loop each)\n"
     ]
    }
   ],
   "source": [
    "# with pointer arrays \n",
    "time = %timeit -n 1 -o cy_of_clf.fit(X_train, y_train)\n",
    "n_list[\"Cy-Sporf\"].append(np.mean(time.timings))"
   ]
  },
  {
   "cell_type": "code",
   "execution_count": 13,
   "metadata": {},
   "outputs": [
    {
     "name": "stdout",
     "output_type": "stream",
     "text": [
      "579 ms ± 8.19 ms per loop (mean ± std. dev. of 7 runs, 1 loop each)\n"
     ]
    }
   ],
   "source": [
    "# with std::vectors\n",
    "time = %timeit -n 1 -o cy_of_clf.fit(X_train, y_train)\n",
    "n_list[\"Cy-Sporf\"].append(np.mean(time.timings))"
   ]
  },
  {
   "cell_type": "markdown",
   "metadata": {},
   "source": [
    "## 10000 sample size"
   ]
  },
  {
   "cell_type": "code",
   "execution_count": 14,
   "metadata": {},
   "outputs": [],
   "source": [
    "# run on higher sample size now\n",
    "# How many samples to train on\n",
    "n = 10000"
   ]
  },
  {
   "cell_type": "code",
   "execution_count": 15,
   "metadata": {},
   "outputs": [],
   "source": [
    "X_train, y_train, X_test, y_test = load_data(n, data_path, exp_name)"
   ]
  },
  {
   "cell_type": "code",
   "execution_count": 23,
   "metadata": {},
   "outputs": [
    {
     "name": "stdout",
     "output_type": "stream",
     "text": [
      "371 ms ± 39.6 ms per loop (mean ± std. dev. of 7 runs, 1 loop each)\n"
     ]
    }
   ],
   "source": [
    "time = %timeit -n 1 -o clf.fit(X_train, y_train)\n",
    "n_list[\"BaseRF\"].append(np.mean(time.timings))"
   ]
  },
  {
   "cell_type": "code",
   "execution_count": 24,
   "metadata": {},
   "outputs": [
    {
     "name": "stdout",
     "output_type": "stream",
     "text": [
      "350 ms ± 7.61 ms per loop (mean ± std. dev. of 7 runs, 1 loop each)\n"
     ]
    }
   ],
   "source": [
    "time = %timeit -n 1 -o rerf_clf.fit(X_train, y_train)\n",
    "n_list[\"ReRF-Sporf\"].append(np.mean(time.timings))"
   ]
  },
  {
   "cell_type": "code",
   "execution_count": 25,
   "metadata": {},
   "outputs": [
    {
     "name": "stdout",
     "output_type": "stream",
     "text": [
      "1.04 s ± 20.2 ms per loop (mean ± std. dev. of 7 runs, 1 loop each)\n"
     ]
    }
   ],
   "source": [
    "# with pointer arrays\n",
    "time = %timeit -n 1 -o cy_of_clf.fit(X_train, y_train)\n",
    "n_list[\"Cy-Sporf\"].append(np.mean(time.timings))"
   ]
  },
  {
   "cell_type": "code",
   "execution_count": 32,
   "metadata": {},
   "outputs": [
    {
     "name": "stdout",
     "output_type": "stream",
     "text": [
      "1.18 s ± 12.9 ms per loop (mean ± std. dev. of 7 runs, 1 loop each)\n"
     ]
    }
   ],
   "source": [
    "# with pointer arrays\n",
    "time = %timeit -n 1 -o cy_of_clf.fit(X_train, y_train)\n",
    "n_list[\"Cy-Sporf\"].append(np.mean(time.timings))"
   ]
  },
  {
   "cell_type": "code",
   "execution_count": 16,
   "metadata": {},
   "outputs": [
    {
     "name": "stdout",
     "output_type": "stream",
     "text": [
      "1.04 s ± 15.8 ms per loop (mean ± std. dev. of 7 runs, 1 loop each)\n"
     ]
    }
   ],
   "source": [
    "# with pointer arrays (c++ std vector)\n",
    "time = %timeit -n 1 -o cy_of_clf.fit(X_train, y_train)\n",
    "n_list[\"Cy-Sporf\"].append(np.mean(time.timings))"
   ]
  },
  {
   "cell_type": "code",
   "execution_count": null,
   "metadata": {},
   "outputs": [],
   "source": []
  }
 ],
 "metadata": {
  "kernelspec": {
   "display_name": "Python [conda env:sklearn-dev] *",
   "language": "python",
   "name": "conda-env-sklearn-dev-py"
  },
  "language_info": {
   "codemirror_mode": {
    "name": "ipython",
    "version": 3
   },
   "file_extension": ".py",
   "mimetype": "text/x-python",
   "name": "python",
   "nbconvert_exporter": "python",
   "pygments_lexer": "ipython3",
   "version": "3.8.8"
  }
 },
 "nbformat": 4,
 "nbformat_minor": 4
}
